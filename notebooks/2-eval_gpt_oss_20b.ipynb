{
  "nbformat": 4,
  "nbformat_minor": 0,
  "metadata": {
    "colab": {
      "provenance": [],
      "gpuType": "A100",
      "include_colab_link": true
    },
    "kernelspec": {
      "name": "python3",
      "display_name": "Python 3"
    },
    "language_info": {
      "name": "python"
    },
    "accelerator": "GPU"
  },
  "cells": [
    {
      "cell_type": "markdown",
      "metadata": {
        "id": "view-in-github",
        "colab_type": "text"
      },
      "source": [
        "<a href=\"https://colab.research.google.com/github/christiejibaraki/CUREBench/blob/finetune-gpt-oss-20b/notebooks/3-finetune_gpt_oss_20b.ipynb\" target=\"_parent\"><img src=\"https://colab.research.google.com/assets/colab-badge.svg\" alt=\"Open In Colab\"/></a>"
      ]
    },
    {
      "cell_type": "markdown",
      "source": [
        "## Run CUREBench eval\n",
        "- run prediction\n",
        "- run eval"
      ],
      "metadata": {
        "id": "heZIt_VzT0JB"
      }
    },
    {
      "cell_type": "code",
      "source": [
        "!nvcc --version"
      ],
      "metadata": {
        "id": "tBz3IkJsT2Ee",
        "colab": {
          "base_uri": "https://localhost:8080/"
        },
        "outputId": "7637b4a3-955c-4140-956c-8b836407025c"
      },
      "execution_count": 1,
      "outputs": [
        {
          "output_type": "stream",
          "name": "stdout",
          "text": [
            "nvcc: NVIDIA (R) Cuda compiler driver\n",
            "Copyright (c) 2005-2024 NVIDIA Corporation\n",
            "Built on Thu_Jun__6_02:18:23_PDT_2024\n",
            "Cuda compilation tools, release 12.5, V12.5.82\n",
            "Build cuda_12.5.r12.5/compiler.34385749_0\n"
          ]
        }
      ]
    },
    {
      "cell_type": "code",
      "source": [
        "import os\n",
        "import sys\n",
        "import os.path"
      ],
      "metadata": {
        "id": "pKdMRSj2AIe5"
      },
      "execution_count": 2,
      "outputs": []
    },
    {
      "cell_type": "code",
      "source": [
        "os.environ['BNB_CUDA_VERSION'] = '125'\n",
        "os.environ['PYTORCH_CUDA_ALLOC_CONF'] = 'expandable_segments:True'"
      ],
      "metadata": {
        "id": "gsO29AFhALPD"
      },
      "execution_count": 3,
      "outputs": []
    },
    {
      "cell_type": "markdown",
      "source": [
        "## Setup\n",
        "- Clone forked CUREBench repo onto local `content` folder (this is not persistent)\n",
        "- Create virtual environment and install packages\n",
        "  - Package installation takes about **5 min** ⏰\n",
        "- Add virtual environment's site-packages to notebook's system path"
      ],
      "metadata": {
        "id": "nVBGcBUGAPRT"
      }
    },
    {
      "cell_type": "code",
      "source": [
        "!git clone -b finetune-gpt-oss-20b https://github.com/christiejibaraki/CUREBench.git"
      ],
      "metadata": {
        "colab": {
          "base_uri": "https://localhost:8080/"
        },
        "id": "hWQg8HLHARKo",
        "outputId": "56096946-e3e9-4ca3-fe11-83a6ac6e9750"
      },
      "execution_count": 7,
      "outputs": [
        {
          "output_type": "stream",
          "name": "stdout",
          "text": [
            "Cloning into 'CUREBench'...\n",
            "remote: Enumerating objects: 248, done.\u001b[K\n",
            "remote: Counting objects: 100% (159/159), done.\u001b[K\n",
            "remote: Compressing objects: 100% (115/115), done.\u001b[K\n",
            "remote: Total 248 (delta 92), reused 87 (delta 44), pack-reused 89 (from 2)\u001b[K\n",
            "Receiving objects: 100% (248/248), 3.01 MiB | 27.81 MiB/s, done.\n",
            "Resolving deltas: 100% (121/121), done.\n"
          ]
        }
      ]
    },
    {
      "cell_type": "code",
      "source": [
        "%cd CUREBench"
      ],
      "metadata": {
        "colab": {
          "base_uri": "https://localhost:8080/"
        },
        "id": "vSxna_C1AWEy",
        "outputId": "e5eb57ab-8411-4b91-ba5e-3066db307329"
      },
      "execution_count": 8,
      "outputs": [
        {
          "output_type": "stream",
          "name": "stdout",
          "text": [
            "/content/CUREBench\n"
          ]
        }
      ]
    },
    {
      "cell_type": "code",
      "source": [
        "!git pull"
      ],
      "metadata": {
        "colab": {
          "base_uri": "https://localhost:8080/"
        },
        "id": "doxA-xFfAaVr",
        "outputId": "759fab34-7042-433a-d7eb-b702aef49520"
      },
      "execution_count": 9,
      "outputs": [
        {
          "output_type": "stream",
          "name": "stdout",
          "text": [
            "Already up to date.\n"
          ]
        }
      ]
    },
    {
      "cell_type": "code",
      "source": [
        "!pip install virtualenv"
      ],
      "metadata": {
        "colab": {
          "base_uri": "https://localhost:8080/"
        },
        "id": "6LJ9doypAbmE",
        "outputId": "c5000bc3-392e-4df7-e5f2-e7282e54ee4f"
      },
      "execution_count": 10,
      "outputs": [
        {
          "output_type": "stream",
          "name": "stdout",
          "text": [
            "Collecting virtualenv\n",
            "  Downloading virtualenv-20.35.3-py3-none-any.whl.metadata (4.6 kB)\n",
            "Collecting distlib<1,>=0.3.7 (from virtualenv)\n",
            "  Downloading distlib-0.4.0-py2.py3-none-any.whl.metadata (5.2 kB)\n",
            "Requirement already satisfied: filelock<4,>=3.12.2 in /usr/local/lib/python3.12/dist-packages (from virtualenv) (3.20.0)\n",
            "Requirement already satisfied: platformdirs<5,>=3.9.1 in /usr/local/lib/python3.12/dist-packages (from virtualenv) (4.5.0)\n",
            "Downloading virtualenv-20.35.3-py3-none-any.whl (6.0 MB)\n",
            "\u001b[?25l   \u001b[90m━━━━━━━━━━━━━━━━━━━━━━━━━━━━━━━━━━━━━━━━\u001b[0m \u001b[32m0.0/6.0 MB\u001b[0m \u001b[31m?\u001b[0m eta \u001b[36m-:--:--\u001b[0m\r\u001b[2K   \u001b[91m━━━━━━━━━━━━━━━━━━━━━━━━━━━━━━━━━━━━━━━\u001b[0m\u001b[91m╸\u001b[0m \u001b[32m6.0/6.0 MB\u001b[0m \u001b[31m221.7 MB/s\u001b[0m eta \u001b[36m0:00:01\u001b[0m\r\u001b[2K   \u001b[90m━━━━━━━━━━━━━━━━━━━━━━━━━━━━━━━━━━━━━━━━\u001b[0m \u001b[32m6.0/6.0 MB\u001b[0m \u001b[31m131.0 MB/s\u001b[0m eta \u001b[36m0:00:00\u001b[0m\n",
            "\u001b[?25hDownloading distlib-0.4.0-py2.py3-none-any.whl (469 kB)\n",
            "\u001b[?25l   \u001b[90m━━━━━━━━━━━━━━━━━━━━━━━━━━━━━━━━━━━━━━━━\u001b[0m \u001b[32m0.0/469.0 kB\u001b[0m \u001b[31m?\u001b[0m eta \u001b[36m-:--:--\u001b[0m\r\u001b[2K   \u001b[90m━━━━━━━━━━━━━━━━━━━━━━━━━━━━━━━━━━━━━━━━\u001b[0m \u001b[32m469.0/469.0 kB\u001b[0m \u001b[31m47.2 MB/s\u001b[0m eta \u001b[36m0:00:00\u001b[0m\n",
            "\u001b[?25hInstalling collected packages: distlib, virtualenv\n",
            "Successfully installed distlib-0.4.0 virtualenv-20.35.3\n"
          ]
        }
      ]
    },
    {
      "cell_type": "code",
      "source": [
        "!virtualenv env"
      ],
      "metadata": {
        "colab": {
          "base_uri": "https://localhost:8080/"
        },
        "id": "LQBzzKJ0Ad15",
        "outputId": "a4d6bc5b-da60-46d1-af24-d759baaa4f9d"
      },
      "execution_count": 11,
      "outputs": [
        {
          "output_type": "stream",
          "name": "stdout",
          "text": [
            "created virtual environment CPython3.12.12.final.0-64 in 240ms\n",
            "  creator CPython3Posix(dest=/content/CUREBench/env, clear=False, no_vcs_ignore=False, global=False)\n",
            "  seeder FromAppData(download=False, pip=bundle, via=copy, app_data_dir=/root/.local/share/virtualenv)\n",
            "    added seed packages: pip==25.2\n",
            "  activators BashActivator,CShellActivator,FishActivator,NushellActivator,PowerShellActivator,PythonActivator\n"
          ]
        }
      ]
    },
    {
      "cell_type": "code",
      "source": [
        "!./env/bin/pip list"
      ],
      "metadata": {
        "colab": {
          "base_uri": "https://localhost:8080/"
        },
        "id": "0HzYjETJAiuQ",
        "outputId": "b2eeacd1-da05-460c-b748-668ca93fe0aa"
      },
      "execution_count": 12,
      "outputs": [
        {
          "output_type": "stream",
          "name": "stdout",
          "text": [
            "Package Version\n",
            "------- -------\n",
            "pip     25.2\n"
          ]
        }
      ]
    },
    {
      "cell_type": "code",
      "source": [
        "!./env/bin/pip install -r requirements.txt"
      ],
      "metadata": {
        "id": "j-LWrnGuAlLS",
        "outputId": "b2d5d2f6-a3f0-42fb-bfd2-2801be409c97",
        "colab": {
          "base_uri": "https://localhost:8080/"
        }
      },
      "execution_count": 13,
      "outputs": [
        {
          "output_type": "stream",
          "name": "stdout",
          "text": [
            "Collecting accelerate==1.10.1 (from -r requirements.txt (line 1))\n",
            "  Downloading accelerate-1.10.1-py3-none-any.whl.metadata (19 kB)\n",
            "Collecting acres==0.5.0 (from -r requirements.txt (line 2))\n",
            "  Downloading acres-0.5.0-py3-none-any.whl.metadata (6.2 kB)\n",
            "Collecting admet_ai==1.2.0 (from -r requirements.txt (line 3))\n",
            "  Downloading admet_ai-1.2.0.tar.gz (16.9 MB)\n",
            "\u001b[2K     \u001b[90m━━━━━━━━━━━━━━━━━━━━━━━━━━━━━━━━━━━━━━━━\u001b[0m \u001b[32m16.9/16.9 MB\u001b[0m \u001b[31m170.6 MB/s\u001b[0m  \u001b[33m0:00:00\u001b[0m\n",
            "\u001b[?25h  Installing build dependencies ... \u001b[?25l\u001b[?25hdone\n",
            "  Getting requirements to build wheel ... \u001b[?25l\u001b[?25hdone\n",
            "  Preparing metadata (pyproject.toml) ... \u001b[?25l\u001b[?25hdone\n",
            "Collecting aiohappyeyeballs==2.6.1 (from -r requirements.txt (line 4))\n",
            "  Downloading aiohappyeyeballs-2.6.1-py3-none-any.whl.metadata (5.9 kB)\n",
            "Collecting aiohttp==3.13.0 (from -r requirements.txt (line 5))\n",
            "  Downloading aiohttp-3.13.0-cp312-cp312-manylinux2014_x86_64.manylinux_2_17_x86_64.manylinux_2_28_x86_64.whl.metadata (8.1 kB)\n",
            "Collecting aiosignal==1.4.0 (from -r requirements.txt (line 6))\n",
            "  Downloading aiosignal-1.4.0-py3-none-any.whl.metadata (3.7 kB)\n",
            "Collecting alabaster==1.0.0 (from -r requirements.txt (line 7))\n",
            "  Downloading alabaster-1.0.0-py3-none-any.whl.metadata (2.8 kB)\n",
            "Collecting annotated-types==0.7.0 (from -r requirements.txt (line 8))\n",
            "  Downloading annotated_types-0.7.0-py3-none-any.whl.metadata (15 kB)\n",
            "Collecting anyio==4.11.0 (from -r requirements.txt (line 9))\n",
            "  Downloading anyio-4.11.0-py3-none-any.whl.metadata (4.1 kB)\n",
            "Collecting attrs==25.4.0 (from -r requirements.txt (line 10))\n",
            "  Downloading attrs-25.4.0-py3-none-any.whl.metadata (10 kB)\n",
            "Collecting Authlib==1.6.5 (from -r requirements.txt (line 11))\n",
            "  Downloading authlib-1.6.5-py2.py3-none-any.whl.metadata (9.8 kB)\n",
            "Collecting azure-ai-documentintelligence==1.0.2 (from -r requirements.txt (line 12))\n",
            "  Downloading azure_ai_documentintelligence-1.0.2-py3-none-any.whl.metadata (53 kB)\n",
            "Collecting azure-core==1.36.0 (from -r requirements.txt (line 13))\n",
            "  Downloading azure_core-1.36.0-py3-none-any.whl.metadata (47 kB)\n",
            "Collecting azure-identity==1.25.1 (from -r requirements.txt (line 14))\n",
            "  Downloading azure_identity-1.25.1-py3-none-any.whl.metadata (88 kB)\n",
            "Collecting babel==2.17.0 (from -r requirements.txt (line 15))\n",
            "  Downloading babel-2.17.0-py3-none-any.whl.metadata (2.0 kB)\n",
            "Collecting beautifulsoup4==4.14.2 (from -r requirements.txt (line 16))\n",
            "  Downloading beautifulsoup4-4.14.2-py3-none-any.whl.metadata (3.8 kB)\n",
            "Collecting bitsandbytes==0.48.1 (from -r requirements.txt (line 17))\n",
            "  Downloading bitsandbytes-0.48.1-py3-none-manylinux_2_24_x86_64.whl.metadata (10 kB)\n",
            "Collecting blinker==1.9.0 (from -r requirements.txt (line 18))\n",
            "  Downloading blinker-1.9.0-py3-none-any.whl.metadata (1.6 kB)\n",
            "Collecting cachetools==6.2.1 (from -r requirements.txt (line 19))\n",
            "  Downloading cachetools-6.2.1-py3-none-any.whl.metadata (5.5 kB)\n",
            "Collecting certifi==2025.10.5 (from -r requirements.txt (line 20))\n",
            "  Downloading certifi-2025.10.5-py3-none-any.whl.metadata (2.5 kB)\n",
            "Collecting cffi==2.0.0 (from -r requirements.txt (line 21))\n",
            "  Downloading cffi-2.0.0-cp312-cp312-manylinux2014_x86_64.manylinux_2_17_x86_64.whl.metadata (2.6 kB)\n",
            "Collecting charset-normalizer==3.4.4 (from -r requirements.txt (line 22))\n",
            "  Downloading charset_normalizer-3.4.4-cp312-cp312-manylinux2014_x86_64.manylinux_2_17_x86_64.manylinux_2_28_x86_64.whl.metadata (37 kB)\n",
            "Collecting chemfunc==1.0.12 (from -r requirements.txt (line 23))\n",
            "  Downloading chemfunc-1.0.12-py3-none-any.whl.metadata (7.7 kB)\n",
            "Collecting chemprop==1.6.1 (from -r requirements.txt (line 24))\n",
            "  Downloading chemprop-1.6.1-py3-none-any.whl.metadata (67 kB)\n",
            "Collecting ci-info==0.3.0 (from -r requirements.txt (line 25))\n",
            "  Downloading ci_info-0.3.0-py3-none-any.whl.metadata (6.1 kB)\n",
            "Collecting click==8.3.0 (from -r requirements.txt (line 26))\n",
            "  Downloading click-8.3.0-py3-none-any.whl.metadata (2.6 kB)\n",
            "Collecting cloudpickle==3.1.1 (from -r requirements.txt (line 27))\n",
            "  Downloading cloudpickle-3.1.1-py3-none-any.whl.metadata (7.1 kB)\n",
            "Collecting cobble==0.1.4 (from -r requirements.txt (line 28))\n",
            "  Downloading cobble-0.1.4-py3-none-any.whl.metadata (2.7 kB)\n",
            "Collecting coloredlogs==15.0.1 (from -r requirements.txt (line 29))\n",
            "  Downloading coloredlogs-15.0.1-py2.py3-none-any.whl.metadata (12 kB)\n",
            "Collecting configobj==5.0.9 (from -r requirements.txt (line 30))\n",
            "  Downloading configobj-5.0.9-py2.py3-none-any.whl.metadata (3.2 kB)\n",
            "Collecting configparser==7.2.0 (from -r requirements.txt (line 31))\n",
            "  Downloading configparser-7.2.0-py3-none-any.whl.metadata (5.5 kB)\n",
            "Collecting contourpy==1.3.3 (from -r requirements.txt (line 32))\n",
            "  Downloading contourpy-1.3.3-cp312-cp312-manylinux_2_27_x86_64.manylinux_2_28_x86_64.whl.metadata (5.5 kB)\n",
            "Collecting cryptography==46.0.3 (from -r requirements.txt (line 33))\n",
            "  Downloading cryptography-46.0.3-cp311-abi3-manylinux_2_34_x86_64.whl.metadata (5.7 kB)\n",
            "Collecting cycler==0.12.1 (from -r requirements.txt (line 34))\n",
            "  Downloading cycler-0.12.1-py3-none-any.whl.metadata (3.8 kB)\n",
            "Collecting cyclopts==3.24.0 (from -r requirements.txt (line 35))\n",
            "  Downloading cyclopts-3.24.0-py3-none-any.whl.metadata (11 kB)\n",
            "Collecting defusedxml==0.7.1 (from -r requirements.txt (line 36))\n",
            "  Downloading defusedxml-0.7.1-py2.py3-none-any.whl.metadata (32 kB)\n",
            "Collecting descriptastorus==2.8.0 (from -r requirements.txt (line 37))\n",
            "  Downloading descriptastorus-2.8.0-py3-none-any.whl.metadata (364 bytes)\n",
            "Collecting distro==1.9.0 (from -r requirements.txt (line 38))\n",
            "  Downloading distro-1.9.0-py3-none-any.whl.metadata (6.8 kB)\n",
            "Collecting dnspython==2.8.0 (from -r requirements.txt (line 39))\n",
            "  Downloading dnspython-2.8.0-py3-none-any.whl.metadata (5.7 kB)\n",
            "Collecting docstring_parser==0.17.0 (from -r requirements.txt (line 40))\n",
            "  Downloading docstring_parser-0.17.0-py3-none-any.whl.metadata (3.5 kB)\n",
            "Collecting docutils==0.21.2 (from -r requirements.txt (line 41))\n",
            "  Downloading docutils-0.21.2-py3-none-any.whl.metadata (2.8 kB)\n",
            "Collecting email-validator==2.3.0 (from -r requirements.txt (line 42))\n",
            "  Downloading email_validator-2.3.0-py3-none-any.whl.metadata (26 kB)\n",
            "Collecting epam-indigo==1.36.0 (from -r requirements.txt (line 43))\n",
            "  Downloading epam_indigo-1.36.0-py3-none-manylinux1_x86_64.whl.metadata (2.0 kB)\n",
            "Collecting et_xmlfile==2.0.0 (from -r requirements.txt (line 44))\n",
            "  Downloading et_xmlfile-2.0.0-py3-none-any.whl.metadata (2.7 kB)\n",
            "Collecting etelemetry==0.3.1 (from -r requirements.txt (line 45))\n",
            "  Downloading etelemetry-0.3.1-py3-none-any.whl.metadata (3.2 kB)\n",
            "Collecting exceptiongroup==1.3.0 (from -r requirements.txt (line 46))\n",
            "  Downloading exceptiongroup-1.3.0-py3-none-any.whl.metadata (6.7 kB)\n",
            "Collecting faiss-cpu==1.12.0 (from -r requirements.txt (line 47))\n",
            "  Downloading faiss_cpu-1.12.0-cp312-cp312-manylinux_2_27_x86_64.manylinux_2_28_x86_64.whl.metadata (5.1 kB)\n",
            "Collecting fastapi==0.119.0 (from -r requirements.txt (line 48))\n",
            "  Downloading fastapi-0.119.0-py3-none-any.whl.metadata (28 kB)\n",
            "Collecting fastmcp==2.12.4 (from -r requirements.txt (line 49))\n",
            "  Downloading fastmcp-2.12.4-py3-none-any.whl.metadata (19 kB)\n",
            "Collecting filelock==3.20.0 (from -r requirements.txt (line 50))\n",
            "  Downloading filelock-3.20.0-py3-none-any.whl.metadata (2.1 kB)\n",
            "Collecting fitz==0.0.1.dev2 (from -r requirements.txt (line 51))\n",
            "  Downloading fitz-0.0.1.dev2-py2.py3-none-any.whl.metadata (816 bytes)\n",
            "Collecting Flask==3.1.2 (from -r requirements.txt (line 52))\n",
            "  Downloading flask-3.1.2-py3-none-any.whl.metadata (3.2 kB)\n",
            "Collecting flatbuffers==25.9.23 (from -r requirements.txt (line 53))\n",
            "  Downloading flatbuffers-25.9.23-py2.py3-none-any.whl.metadata (875 bytes)\n",
            "Collecting fonttools==4.60.1 (from -r requirements.txt (line 54))\n",
            "  Downloading fonttools-4.60.1-cp312-cp312-manylinux1_x86_64.manylinux2014_x86_64.manylinux_2_17_x86_64.manylinux_2_5_x86_64.whl.metadata (112 kB)\n",
            "Collecting frozenlist==1.8.0 (from -r requirements.txt (line 55))\n",
            "  Downloading frozenlist-1.8.0-cp312-cp312-manylinux1_x86_64.manylinux_2_28_x86_64.manylinux_2_5_x86_64.whl.metadata (20 kB)\n",
            "Collecting fsspec==2025.9.0 (from -r requirements.txt (line 56))\n",
            "  Downloading fsspec-2025.9.0-py3-none-any.whl.metadata (10 kB)\n",
            "Collecting future==1.0.0 (from -r requirements.txt (line 57))\n",
            "  Downloading future-1.0.0-py3-none-any.whl.metadata (4.0 kB)\n",
            "Collecting google-ai-generativelanguage==0.6.15 (from -r requirements.txt (line 58))\n",
            "  Downloading google_ai_generativelanguage-0.6.15-py3-none-any.whl.metadata (5.7 kB)\n",
            "Collecting google-api-core==2.26.0 (from -r requirements.txt (line 59))\n",
            "  Downloading google_api_core-2.26.0-py3-none-any.whl.metadata (3.2 kB)\n",
            "Collecting google-api-python-client==2.184.0 (from -r requirements.txt (line 60))\n",
            "  Downloading google_api_python_client-2.184.0-py3-none-any.whl.metadata (7.0 kB)\n",
            "Collecting google-auth==2.41.1 (from -r requirements.txt (line 61))\n",
            "  Downloading google_auth-2.41.1-py2.py3-none-any.whl.metadata (6.6 kB)\n",
            "Collecting google-auth-httplib2==0.2.0 (from -r requirements.txt (line 62))\n",
            "  Downloading google_auth_httplib2-0.2.0-py2.py3-none-any.whl.metadata (2.2 kB)\n",
            "Collecting google-genai==1.45.0 (from -r requirements.txt (line 63))\n",
            "  Downloading google_genai-1.45.0-py3-none-any.whl.metadata (45 kB)\n",
            "Collecting google-generativeai==0.8.5 (from -r requirements.txt (line 64))\n",
            "  Downloading google_generativeai-0.8.5-py3-none-any.whl.metadata (3.9 kB)\n",
            "Collecting googleapis-common-protos==1.70.0 (from -r requirements.txt (line 65))\n",
            "  Downloading googleapis_common_protos-1.70.0-py3-none-any.whl.metadata (9.3 kB)\n",
            "Collecting graphql-core==3.2.6 (from -r requirements.txt (line 66))\n",
            "  Downloading graphql_core-3.2.6-py3-none-any.whl.metadata (11 kB)\n",
            "Collecting greenlet==3.2.4 (from -r requirements.txt (line 67))\n",
            "  Downloading greenlet-3.2.4-cp312-cp312-manylinux_2_24_x86_64.manylinux_2_28_x86_64.whl.metadata (4.1 kB)\n",
            "Collecting grpcio==1.75.1 (from -r requirements.txt (line 68))\n",
            "  Downloading grpcio-1.75.1-cp312-cp312-manylinux2014_x86_64.manylinux_2_17_x86_64.whl.metadata (3.7 kB)\n",
            "Collecting grpcio-status==1.71.2 (from -r requirements.txt (line 69))\n",
            "  Downloading grpcio_status-1.71.2-py3-none-any.whl.metadata (1.1 kB)\n",
            "Collecting h11==0.16.0 (from -r requirements.txt (line 70))\n",
            "  Downloading h11-0.16.0-py3-none-any.whl.metadata (8.3 kB)\n",
            "Collecting hf-xet==1.1.10 (from -r requirements.txt (line 71))\n",
            "  Downloading hf_xet-1.1.10-cp37-abi3-manylinux_2_17_x86_64.manylinux2014_x86_64.whl.metadata (4.7 kB)\n",
            "Collecting httpcore==1.0.9 (from -r requirements.txt (line 72))\n",
            "  Downloading httpcore-1.0.9-py3-none-any.whl.metadata (21 kB)\n",
            "Collecting httplib2==0.31.0 (from -r requirements.txt (line 73))\n",
            "  Downloading httplib2-0.31.0-py3-none-any.whl.metadata (2.2 kB)\n",
            "Collecting httpx==0.28.1 (from -r requirements.txt (line 74))\n",
            "  Downloading httpx-0.28.1-py3-none-any.whl.metadata (7.1 kB)\n",
            "Collecting httpx-sse==0.4.3 (from -r requirements.txt (line 75))\n",
            "  Downloading httpx_sse-0.4.3-py3-none-any.whl.metadata (9.7 kB)\n",
            "Collecting huggingface-hub==0.35.3 (from -r requirements.txt (line 76))\n",
            "  Downloading huggingface_hub-0.35.3-py3-none-any.whl.metadata (14 kB)\n",
            "Collecting humanfriendly==10.0 (from -r requirements.txt (line 77))\n",
            "  Downloading humanfriendly-10.0-py2.py3-none-any.whl.metadata (9.2 kB)\n",
            "Collecting hyperopt==0.2.7 (from -r requirements.txt (line 78))\n",
            "  Downloading hyperopt-0.2.7-py2.py3-none-any.whl.metadata (1.7 kB)\n",
            "Collecting idna==3.11 (from -r requirements.txt (line 79))\n",
            "  Downloading idna-3.11-py3-none-any.whl.metadata (8.4 kB)\n",
            "Collecting imagesize==1.4.1 (from -r requirements.txt (line 80))\n",
            "  Downloading imagesize-1.4.1-py2.py3-none-any.whl.metadata (1.5 kB)\n",
            "Collecting isodate==0.7.2 (from -r requirements.txt (line 81))\n",
            "  Downloading isodate-0.7.2-py3-none-any.whl.metadata (11 kB)\n",
            "Collecting itsdangerous==2.2.0 (from -r requirements.txt (line 82))\n",
            "  Downloading itsdangerous-2.2.0-py3-none-any.whl.metadata (1.9 kB)\n",
            "Collecting Jinja2==3.1.6 (from -r requirements.txt (line 83))\n",
            "  Downloading jinja2-3.1.6-py3-none-any.whl.metadata (2.9 kB)\n",
            "Collecting jiter==0.11.0 (from -r requirements.txt (line 84))\n",
            "  Downloading jiter-0.11.0-cp312-cp312-manylinux_2_17_x86_64.manylinux2014_x86_64.whl.metadata (5.2 kB)\n",
            "Collecting joblib==1.5.2 (from -r requirements.txt (line 85))\n",
            "  Downloading joblib-1.5.2-py3-none-any.whl.metadata (5.6 kB)\n",
            "Collecting jsonschema==4.25.1 (from -r requirements.txt (line 86))\n",
            "  Downloading jsonschema-4.25.1-py3-none-any.whl.metadata (7.6 kB)\n",
            "Collecting jsonschema-path==0.3.4 (from -r requirements.txt (line 87))\n",
            "  Downloading jsonschema_path-0.3.4-py3-none-any.whl.metadata (4.3 kB)\n",
            "Collecting jsonschema-specifications==2025.9.1 (from -r requirements.txt (line 88))\n",
            "  Downloading jsonschema_specifications-2025.9.1-py3-none-any.whl.metadata (2.9 kB)\n",
            "Collecting kernels==0.10.4 (from -r requirements.txt (line 89))\n",
            "  Downloading kernels-0.10.4-py3-none-any.whl.metadata (3.3 kB)\n",
            "Collecting kiwisolver==1.4.9 (from -r requirements.txt (line 90))\n",
            "  Downloading kiwisolver-1.4.9-cp312-cp312-manylinux2014_x86_64.manylinux_2_17_x86_64.whl.metadata (6.3 kB)\n",
            "Collecting lazy-object-proxy==1.12.0 (from -r requirements.txt (line 91))\n",
            "  Downloading lazy_object_proxy-1.12.0-cp312-cp312-manylinux1_x86_64.manylinux_2_28_x86_64.manylinux_2_5_x86_64.whl.metadata (5.1 kB)\n",
            "Collecting looseversion==1.3.0 (from -r requirements.txt (line 92))\n",
            "  Downloading looseversion-1.3.0-py2.py3-none-any.whl.metadata (4.6 kB)\n",
            "Collecting lxml==6.0.2 (from -r requirements.txt (line 93))\n",
            "  Downloading lxml-6.0.2-cp312-cp312-manylinux_2_26_x86_64.manylinux_2_28_x86_64.whl.metadata (3.6 kB)\n",
            "Collecting magika==0.6.2 (from -r requirements.txt (line 94))\n",
            "  Downloading magika-0.6.2-py3-none-manylinux_2_28_x86_64.whl.metadata (15 kB)\n",
            "Collecting mammoth==1.10.0 (from -r requirements.txt (line 95))\n",
            "  Downloading mammoth-1.10.0-py2.py3-none-any.whl.metadata (25 kB)\n",
            "Collecting markdown-it-py==4.0.0 (from -r requirements.txt (line 96))\n",
            "  Downloading markdown_it_py-4.0.0-py3-none-any.whl.metadata (7.3 kB)\n",
            "Collecting markdownify==1.2.0 (from -r requirements.txt (line 97))\n",
            "  Downloading markdownify-1.2.0-py3-none-any.whl.metadata (9.9 kB)\n",
            "Collecting markitdown==0.1.3 (from -r requirements.txt (line 98))\n",
            "  Downloading markitdown-0.1.3-py3-none-any.whl.metadata (4.0 kB)\n",
            "Collecting MarkupSafe==3.0.3 (from -r requirements.txt (line 99))\n",
            "  Downloading markupsafe-3.0.3-cp312-cp312-manylinux2014_x86_64.manylinux_2_17_x86_64.manylinux_2_28_x86_64.whl.metadata (2.7 kB)\n",
            "Collecting matplotlib==3.10.7 (from -r requirements.txt (line 100))\n",
            "  Downloading matplotlib-3.10.7-cp312-cp312-manylinux2014_x86_64.manylinux_2_17_x86_64.whl.metadata (11 kB)\n",
            "Collecting mcp==1.17.0 (from -r requirements.txt (line 101))\n",
            "  Downloading mcp-1.17.0-py3-none-any.whl.metadata (80 kB)\n",
            "Collecting mdurl==0.1.2 (from -r requirements.txt (line 102))\n",
            "  Downloading mdurl-0.1.2-py3-none-any.whl.metadata (1.6 kB)\n",
            "Collecting more-itertools==10.8.0 (from -r requirements.txt (line 103))\n",
            "  Downloading more_itertools-10.8.0-py3-none-any.whl.metadata (39 kB)\n",
            "Collecting mpmath==1.3.0 (from -r requirements.txt (line 104))\n",
            "  Downloading mpmath-1.3.0-py3-none-any.whl.metadata (8.6 kB)\n",
            "Collecting msal==1.34.0 (from -r requirements.txt (line 105))\n",
            "  Downloading msal-1.34.0-py3-none-any.whl.metadata (11 kB)\n",
            "Collecting msal-extensions==1.3.1 (from -r requirements.txt (line 106))\n",
            "  Downloading msal_extensions-1.3.1-py3-none-any.whl.metadata (7.8 kB)\n",
            "Collecting multidict==6.7.0 (from -r requirements.txt (line 107))\n",
            "  Downloading multidict-6.7.0-cp312-cp312-manylinux2014_x86_64.manylinux_2_17_x86_64.manylinux_2_28_x86_64.whl.metadata (5.3 kB)\n",
            "Collecting mypy_extensions==1.1.0 (from -r requirements.txt (line 108))\n",
            "  Downloading mypy_extensions-1.1.0-py3-none-any.whl.metadata (1.1 kB)\n",
            "Collecting nest-asyncio==1.6.0 (from -r requirements.txt (line 109))\n",
            "  Downloading nest_asyncio-1.6.0-py3-none-any.whl.metadata (2.8 kB)\n",
            "Collecting networkx==3.5 (from -r requirements.txt (line 110))\n",
            "  Downloading networkx-3.5-py3-none-any.whl.metadata (6.3 kB)\n",
            "Collecting nibabel==5.3.2 (from -r requirements.txt (line 111))\n",
            "  Downloading nibabel-5.3.2-py3-none-any.whl.metadata (9.1 kB)\n",
            "Collecting nipype==1.10.0 (from -r requirements.txt (line 112))\n",
            "  Downloading nipype-1.10.0-py3-none-any.whl.metadata (7.1 kB)\n",
            "Collecting numpy==2.3.4 (from -r requirements.txt (line 113))\n",
            "  Downloading numpy-2.3.4-cp312-cp312-manylinux_2_27_x86_64.manylinux_2_28_x86_64.whl.metadata (62 kB)\n",
            "Collecting nvidia-cublas-cu12==12.8.4.1 (from -r requirements.txt (line 114))\n",
            "  Downloading nvidia_cublas_cu12-12.8.4.1-py3-none-manylinux_2_27_x86_64.whl.metadata (1.7 kB)\n",
            "Collecting nvidia-cuda-cupti-cu12==12.8.90 (from -r requirements.txt (line 115))\n",
            "  Downloading nvidia_cuda_cupti_cu12-12.8.90-py3-none-manylinux2014_x86_64.manylinux_2_17_x86_64.whl.metadata (1.7 kB)\n",
            "Collecting nvidia-cuda-nvrtc-cu12==12.8.93 (from -r requirements.txt (line 116))\n",
            "  Downloading nvidia_cuda_nvrtc_cu12-12.8.93-py3-none-manylinux2010_x86_64.manylinux_2_12_x86_64.whl.metadata (1.7 kB)\n",
            "Collecting nvidia-cuda-runtime-cu12==12.8.90 (from -r requirements.txt (line 117))\n",
            "  Downloading nvidia_cuda_runtime_cu12-12.8.90-py3-none-manylinux2014_x86_64.manylinux_2_17_x86_64.whl.metadata (1.7 kB)\n",
            "Collecting nvidia-cudnn-cu12==9.10.2.21 (from -r requirements.txt (line 118))\n",
            "  Downloading nvidia_cudnn_cu12-9.10.2.21-py3-none-manylinux_2_27_x86_64.whl.metadata (1.8 kB)\n",
            "Collecting nvidia-cufft-cu12==11.3.3.83 (from -r requirements.txt (line 119))\n",
            "  Downloading nvidia_cufft_cu12-11.3.3.83-py3-none-manylinux2014_x86_64.manylinux_2_17_x86_64.whl.metadata (1.7 kB)\n",
            "Collecting nvidia-cufile-cu12==1.13.1.3 (from -r requirements.txt (line 120))\n",
            "  Downloading nvidia_cufile_cu12-1.13.1.3-py3-none-manylinux2014_x86_64.manylinux_2_17_x86_64.whl.metadata (1.7 kB)\n",
            "Collecting nvidia-curand-cu12==10.3.9.90 (from -r requirements.txt (line 121))\n",
            "  Downloading nvidia_curand_cu12-10.3.9.90-py3-none-manylinux_2_27_x86_64.whl.metadata (1.7 kB)\n",
            "Collecting nvidia-cusolver-cu12==11.7.3.90 (from -r requirements.txt (line 122))\n",
            "  Downloading nvidia_cusolver_cu12-11.7.3.90-py3-none-manylinux_2_27_x86_64.whl.metadata (1.8 kB)\n",
            "Collecting nvidia-cusparse-cu12==12.5.8.93 (from -r requirements.txt (line 123))\n",
            "  Downloading nvidia_cusparse_cu12-12.5.8.93-py3-none-manylinux2014_x86_64.manylinux_2_17_x86_64.whl.metadata (1.8 kB)\n",
            "Collecting nvidia-cusparselt-cu12==0.7.1 (from -r requirements.txt (line 124))\n",
            "  Downloading nvidia_cusparselt_cu12-0.7.1-py3-none-manylinux2014_x86_64.whl.metadata (7.0 kB)\n",
            "Collecting nvidia-nccl-cu12==2.27.5 (from -r requirements.txt (line 125))\n",
            "  Downloading nvidia_nccl_cu12-2.27.5-py3-none-manylinux2014_x86_64.manylinux_2_17_x86_64.whl.metadata (2.0 kB)\n",
            "Collecting nvidia-nvjitlink-cu12==12.8.93 (from -r requirements.txt (line 126))\n",
            "  Downloading nvidia_nvjitlink_cu12-12.8.93-py3-none-manylinux2010_x86_64.manylinux_2_12_x86_64.whl.metadata (1.7 kB)\n",
            "Collecting nvidia-nvshmem-cu12==3.3.20 (from -r requirements.txt (line 127))\n",
            "  Downloading nvidia_nvshmem_cu12-3.3.20-py3-none-manylinux2014_x86_64.manylinux_2_17_x86_64.whl.metadata (2.1 kB)\n",
            "Collecting nvidia-nvtx-cu12==12.8.90 (from -r requirements.txt (line 128))\n",
            "  Downloading nvidia_nvtx_cu12-12.8.90-py3-none-manylinux2014_x86_64.manylinux_2_17_x86_64.whl.metadata (1.8 kB)\n",
            "Collecting olefile==0.47 (from -r requirements.txt (line 129))\n",
            "  Downloading olefile-0.47-py2.py3-none-any.whl.metadata (9.7 kB)\n",
            "Collecting onnxruntime==1.23.1 (from -r requirements.txt (line 130))\n",
            "  Downloading onnxruntime-1.23.1-cp312-cp312-manylinux_2_27_x86_64.manylinux_2_28_x86_64.whl.metadata (5.0 kB)\n",
            "Collecting openai==2.4.0 (from -r requirements.txt (line 131))\n",
            "  Downloading openai-2.4.0-py3-none-any.whl.metadata (29 kB)\n",
            "Collecting openai-harmony==0.0.4 (from -r requirements.txt (line 132))\n",
            "  Downloading openai_harmony-0.0.4-cp38-abi3-manylinux_2_17_x86_64.manylinux2014_x86_64.whl.metadata (8.0 kB)\n",
            "Collecting openapi-core==0.19.5 (from -r requirements.txt (line 133))\n",
            "  Downloading openapi_core-0.19.5-py3-none-any.whl.metadata (6.6 kB)\n",
            "Collecting openapi-pydantic==0.5.1 (from -r requirements.txt (line 134))\n",
            "  Downloading openapi_pydantic-0.5.1-py3-none-any.whl.metadata (10 kB)\n",
            "Collecting openapi-schema-validator==0.6.3 (from -r requirements.txt (line 135))\n",
            "  Downloading openapi_schema_validator-0.6.3-py3-none-any.whl.metadata (5.4 kB)\n",
            "Collecting openapi-spec-validator==0.7.2 (from -r requirements.txt (line 136))\n",
            "  Downloading openapi_spec_validator-0.7.2-py3-none-any.whl.metadata (5.7 kB)\n",
            "Collecting openpyxl==3.1.5 (from -r requirements.txt (line 137))\n",
            "  Downloading openpyxl-3.1.5-py2.py3-none-any.whl.metadata (2.5 kB)\n",
            "Collecting packaging==25.0 (from -r requirements.txt (line 138))\n",
            "  Downloading packaging-25.0-py3-none-any.whl.metadata (3.3 kB)\n",
            "Collecting pandas==2.3.3 (from -r requirements.txt (line 139))\n",
            "  Downloading pandas-2.3.3-cp312-cp312-manylinux_2_24_x86_64.manylinux_2_28_x86_64.whl.metadata (91 kB)\n",
            "Collecting pandas_flavor==0.7.0 (from -r requirements.txt (line 140))\n",
            "  Downloading pandas_flavor-0.7.0-py3-none-any.whl.metadata (6.7 kB)\n",
            "Collecting parse==1.20.2 (from -r requirements.txt (line 141))\n",
            "  Downloading parse-1.20.2-py2.py3-none-any.whl.metadata (22 kB)\n",
            "Collecting pathable==0.4.4 (from -r requirements.txt (line 142))\n",
            "  Downloading pathable-0.4.4-py3-none-any.whl.metadata (1.8 kB)\n",
            "Collecting pathlib==1.0.1 (from -r requirements.txt (line 143))\n",
            "  Downloading pathlib-1.0.1-py3-none-any.whl.metadata (5.1 kB)\n",
            "Collecting pdfminer.six==20250506 (from -r requirements.txt (line 144))\n",
            "  Downloading pdfminer_six-20250506-py3-none-any.whl.metadata (4.2 kB)\n",
            "Collecting pdfplumber==0.11.7 (from -r requirements.txt (line 145))\n",
            "  Downloading pdfplumber-0.11.7-py3-none-any.whl.metadata (42 kB)\n",
            "Collecting pillow==12.0.0 (from -r requirements.txt (line 146))\n",
            "  Downloading pillow-12.0.0-cp312-cp312-manylinux_2_27_x86_64.manylinux_2_28_x86_64.whl.metadata (8.8 kB)\n",
            "Collecting playwright==1.55.0 (from -r requirements.txt (line 147))\n",
            "  Downloading playwright-1.55.0-py3-none-manylinux1_x86_64.whl.metadata (3.5 kB)\n",
            "Collecting propcache==0.4.1 (from -r requirements.txt (line 148))\n",
            "  Downloading propcache-0.4.1-cp312-cp312-manylinux2014_x86_64.manylinux_2_17_x86_64.manylinux_2_28_x86_64.whl.metadata (13 kB)\n",
            "Collecting proto-plus==1.26.1 (from -r requirements.txt (line 149))\n",
            "  Downloading proto_plus-1.26.1-py3-none-any.whl.metadata (2.2 kB)\n",
            "Collecting protobuf==5.29.5 (from -r requirements.txt (line 150))\n",
            "  Downloading protobuf-5.29.5-cp38-abi3-manylinux2014_x86_64.whl.metadata (592 bytes)\n",
            "Collecting prov==2.1.1 (from -r requirements.txt (line 151))\n",
            "  Downloading prov-2.1.1-py3-none-any.whl.metadata (3.7 kB)\n",
            "Collecting psutil==7.1.0 (from -r requirements.txt (line 152))\n",
            "  Downloading psutil-7.1.0-cp36-abi3-manylinux_2_12_x86_64.manylinux2010_x86_64.manylinux_2_17_x86_64.manylinux2014_x86_64.whl.metadata (23 kB)\n",
            "Collecting puremagic==1.30 (from -r requirements.txt (line 153))\n",
            "  Downloading puremagic-1.30-py3-none-any.whl.metadata (5.8 kB)\n",
            "Collecting py4j==0.10.9.9 (from -r requirements.txt (line 154))\n",
            "  Downloading py4j-0.10.9.9-py2.py3-none-any.whl.metadata (1.3 kB)\n",
            "Collecting pyasn1==0.6.1 (from -r requirements.txt (line 155))\n",
            "  Downloading pyasn1-0.6.1-py3-none-any.whl.metadata (8.4 kB)\n",
            "Collecting pyasn1_modules==0.4.2 (from -r requirements.txt (line 156))\n",
            "  Downloading pyasn1_modules-0.4.2-py3-none-any.whl.metadata (3.5 kB)\n",
            "Collecting pycparser==2.23 (from -r requirements.txt (line 157))\n",
            "  Downloading pycparser-2.23-py3-none-any.whl.metadata (993 bytes)\n",
            "Collecting pydantic==2.12.2 (from -r requirements.txt (line 158))\n",
            "  Downloading pydantic-2.12.2-py3-none-any.whl.metadata (85 kB)\n",
            "Collecting pydantic-settings==2.11.0 (from -r requirements.txt (line 159))\n",
            "  Downloading pydantic_settings-2.11.0-py3-none-any.whl.metadata (3.4 kB)\n",
            "Collecting pydantic_core==2.41.4 (from -r requirements.txt (line 160))\n",
            "  Downloading pydantic_core-2.41.4-cp312-cp312-manylinux_2_17_x86_64.manylinux2014_x86_64.whl.metadata (7.3 kB)\n",
            "Collecting pydot==4.0.1 (from -r requirements.txt (line 161))\n",
            "  Downloading pydot-4.0.1-py3-none-any.whl.metadata (11 kB)\n",
            "Collecting pydub==0.25.1 (from -r requirements.txt (line 162))\n",
            "  Downloading pydub-0.25.1-py2.py3-none-any.whl.metadata (1.4 kB)\n",
            "Collecting pyee==13.0.0 (from -r requirements.txt (line 163))\n",
            "  Downloading pyee-13.0.0-py3-none-any.whl.metadata (2.9 kB)\n",
            "Collecting Pygments==2.19.2 (from -r requirements.txt (line 164))\n",
            "  Downloading pygments-2.19.2-py3-none-any.whl.metadata (2.5 kB)\n",
            "Collecting PyJWT==2.10.1 (from -r requirements.txt (line 165))\n",
            "  Downloading PyJWT-2.10.1-py3-none-any.whl.metadata (4.0 kB)\n",
            "Collecting pyparsing==3.2.5 (from -r requirements.txt (line 166))\n",
            "  Downloading pyparsing-3.2.5-py3-none-any.whl.metadata (5.0 kB)\n",
            "Collecting pypdfium2==4.30.0 (from -r requirements.txt (line 167))\n",
            "  Downloading pypdfium2-4.30.0-py3-none-manylinux_2_17_x86_64.manylinux2014_x86_64.whl.metadata (48 kB)\n",
            "Collecting pyperclip==1.11.0 (from -r requirements.txt (line 168))\n",
            "  Downloading pyperclip-1.11.0-py3-none-any.whl.metadata (2.4 kB)\n",
            "Collecting python-dateutil==2.9.0.post0 (from -r requirements.txt (line 169))\n",
            "  Downloading python_dateutil-2.9.0.post0-py2.py3-none-any.whl.metadata (8.4 kB)\n",
            "Collecting python-dotenv==1.1.1 (from -r requirements.txt (line 170))\n",
            "  Downloading python_dotenv-1.1.1-py3-none-any.whl.metadata (24 kB)\n",
            "Collecting python-multipart==0.0.20 (from -r requirements.txt (line 171))\n",
            "  Downloading python_multipart-0.0.20-py3-none-any.whl.metadata (1.8 kB)\n",
            "Collecting python-pptx==1.0.2 (from -r requirements.txt (line 172))\n",
            "  Downloading python_pptx-1.0.2-py3-none-any.whl.metadata (2.5 kB)\n",
            "Collecting pytz==2025.2 (from -r requirements.txt (line 173))\n",
            "  Downloading pytz-2025.2-py2.py3-none-any.whl.metadata (22 kB)\n",
            "Collecting pyxnat==1.6.3 (from -r requirements.txt (line 174))\n",
            "  Downloading pyxnat-1.6.3-py3-none-any.whl.metadata (5.4 kB)\n",
            "Collecting PyYAML==6.0.3 (from -r requirements.txt (line 175))\n",
            "  Downloading pyyaml-6.0.3-cp312-cp312-manylinux2014_x86_64.manylinux_2_17_x86_64.manylinux_2_28_x86_64.whl.metadata (2.4 kB)\n",
            "Collecting rcsb-api==1.4.2 (from -r requirements.txt (line 176))\n",
            "  Downloading rcsb_api-1.4.2.tar.gz (567 kB)\n",
            "\u001b[2K     \u001b[90m━━━━━━━━━━━━━━━━━━━━━━━━━━━━━━━━━━━━━━━━\u001b[0m \u001b[32m567.4/567.4 kB\u001b[0m \u001b[31m31.2 MB/s\u001b[0m  \u001b[33m0:00:00\u001b[0m\n",
            "\u001b[?25h  Installing build dependencies ... \u001b[?25l\u001b[?25hdone\n",
            "  Getting requirements to build wheel ... \u001b[?25l\u001b[?25hdone\n",
            "  Preparing metadata (pyproject.toml) ... \u001b[?25l\u001b[?25hdone\n",
            "Collecting rdflib==7.2.1 (from -r requirements.txt (line 177))\n",
            "  Downloading rdflib-7.2.1-py3-none-any.whl.metadata (11 kB)\n",
            "Collecting rdkit==2025.9.1 (from -r requirements.txt (line 178))\n",
            "  Downloading rdkit-2025.9.1-cp312-cp312-manylinux_2_28_x86_64.whl.metadata (4.1 kB)\n",
            "Collecting referencing==0.36.2 (from -r requirements.txt (line 179))\n",
            "  Downloading referencing-0.36.2-py3-none-any.whl.metadata (2.8 kB)\n",
            "Collecting regex==2025.9.18 (from -r requirements.txt (line 180))\n",
            "  Downloading regex-2025.9.18-cp312-cp312-manylinux2014_x86_64.manylinux_2_17_x86_64.manylinux_2_28_x86_64.whl.metadata (40 kB)\n",
            "Collecting requests==2.32.5 (from -r requirements.txt (line 181))\n",
            "  Downloading requests-2.32.5-py3-none-any.whl.metadata (4.9 kB)\n",
            "Collecting rfc3339-validator==0.1.4 (from -r requirements.txt (line 182))\n",
            "  Downloading rfc3339_validator-0.1.4-py2.py3-none-any.whl.metadata (1.5 kB)\n",
            "Collecting rich==14.2.0 (from -r requirements.txt (line 183))\n",
            "  Downloading rich-14.2.0-py3-none-any.whl.metadata (18 kB)\n",
            "Collecting rich-rst==1.3.2 (from -r requirements.txt (line 184))\n",
            "  Downloading rich_rst-1.3.2-py3-none-any.whl.metadata (6.1 kB)\n",
            "Collecting roman-numerals-py==3.1.0 (from -r requirements.txt (line 185))\n",
            "  Downloading roman_numerals_py-3.1.0-py3-none-any.whl.metadata (3.6 kB)\n",
            "Collecting rpds-py==0.27.1 (from -r requirements.txt (line 186))\n",
            "  Downloading rpds_py-0.27.1-cp312-cp312-manylinux_2_17_x86_64.manylinux2014_x86_64.whl.metadata (4.2 kB)\n",
            "Collecting rsa==4.9.1 (from -r requirements.txt (line 187))\n",
            "  Downloading rsa-4.9.1-py3-none-any.whl.metadata (5.6 kB)\n",
            "Collecting rustworkx==0.17.1 (from -r requirements.txt (line 188))\n",
            "  Downloading rustworkx-0.17.1-cp39-abi3-manylinux_2_17_x86_64.manylinux2014_x86_64.whl.metadata (10 kB)\n",
            "Collecting safetensors==0.6.2 (from -r requirements.txt (line 189))\n",
            "  Downloading safetensors-0.6.2-cp38-abi3-manylinux_2_17_x86_64.manylinux2014_x86_64.whl.metadata (4.1 kB)\n",
            "Collecting scikit-learn==1.7.2 (from -r requirements.txt (line 190))\n",
            "  Downloading scikit_learn-1.7.2-cp312-cp312-manylinux2014_x86_64.manylinux_2_17_x86_64.whl.metadata (11 kB)\n",
            "Collecting scipy==1.16.2 (from -r requirements.txt (line 191))\n",
            "  Downloading scipy-1.16.2-cp312-cp312-manylinux2014_x86_64.manylinux_2_17_x86_64.whl.metadata (62 kB)\n",
            "Collecting sentence-transformers==5.1.1 (from -r requirements.txt (line 192))\n",
            "  Downloading sentence_transformers-5.1.1-py3-none-any.whl.metadata (16 kB)\n",
            "Collecting setuptools==80.9.0 (from -r requirements.txt (line 193))\n",
            "  Using cached setuptools-80.9.0-py3-none-any.whl.metadata (6.6 kB)\n",
            "Collecting shellingham==1.5.4 (from -r requirements.txt (line 194))\n",
            "  Downloading shellingham-1.5.4-py2.py3-none-any.whl.metadata (3.5 kB)\n",
            "Collecting simplejson==3.20.2 (from -r requirements.txt (line 195))\n",
            "  Downloading simplejson-3.20.2-cp312-cp312-manylinux_2_5_x86_64.manylinux1_x86_64.manylinux_2_17_x86_64.manylinux2014_x86_64.whl.metadata (3.2 kB)\n",
            "Collecting six==1.17.0 (from -r requirements.txt (line 196))\n",
            "  Downloading six-1.17.0-py2.py3-none-any.whl.metadata (1.7 kB)\n",
            "Collecting sniffio==1.3.1 (from -r requirements.txt (line 197))\n",
            "  Downloading sniffio-1.3.1-py3-none-any.whl.metadata (3.9 kB)\n",
            "Collecting snowballstemmer==3.0.1 (from -r requirements.txt (line 198))\n",
            "  Downloading snowballstemmer-3.0.1-py3-none-any.whl.metadata (7.9 kB)\n",
            "Collecting soupsieve==2.8 (from -r requirements.txt (line 199))\n",
            "  Downloading soupsieve-2.8-py3-none-any.whl.metadata (4.6 kB)\n",
            "Collecting SpeechRecognition==3.14.3 (from -r requirements.txt (line 200))\n",
            "  Downloading speechrecognition-3.14.3-py3-none-any.whl.metadata (30 kB)\n",
            "Collecting Sphinx==8.2.3 (from -r requirements.txt (line 201))\n",
            "  Downloading sphinx-8.2.3-py3-none-any.whl.metadata (7.0 kB)\n",
            "Collecting sphinxcontrib-applehelp==2.0.0 (from -r requirements.txt (line 202))\n",
            "  Downloading sphinxcontrib_applehelp-2.0.0-py3-none-any.whl.metadata (2.3 kB)\n",
            "Collecting sphinxcontrib-devhelp==2.0.0 (from -r requirements.txt (line 203))\n",
            "  Downloading sphinxcontrib_devhelp-2.0.0-py3-none-any.whl.metadata (2.3 kB)\n",
            "Collecting sphinxcontrib-htmlhelp==2.1.0 (from -r requirements.txt (line 204))\n",
            "  Downloading sphinxcontrib_htmlhelp-2.1.0-py3-none-any.whl.metadata (2.3 kB)\n",
            "Collecting sphinxcontrib-jsmath==1.0.1 (from -r requirements.txt (line 205))\n",
            "  Downloading sphinxcontrib_jsmath-1.0.1-py2.py3-none-any.whl.metadata (1.4 kB)\n",
            "Collecting sphinxcontrib-qthelp==2.0.0 (from -r requirements.txt (line 206))\n",
            "  Downloading sphinxcontrib_qthelp-2.0.0-py3-none-any.whl.metadata (2.3 kB)\n",
            "Collecting sphinxcontrib-serializinghtml==2.0.0 (from -r requirements.txt (line 207))\n",
            "  Downloading sphinxcontrib_serializinghtml-2.0.0-py3-none-any.whl.metadata (2.4 kB)\n",
            "Collecting sse-starlette==3.0.2 (from -r requirements.txt (line 208))\n",
            "  Downloading sse_starlette-3.0.2-py3-none-any.whl.metadata (11 kB)\n",
            "Collecting starlette==0.48.0 (from -r requirements.txt (line 209))\n",
            "  Downloading starlette-0.48.0-py3-none-any.whl.metadata (6.3 kB)\n",
            "Collecting sympy==1.14.0 (from -r requirements.txt (line 210))\n",
            "  Downloading sympy-1.14.0-py3-none-any.whl.metadata (12 kB)\n",
            "Collecting tenacity==9.1.2 (from -r requirements.txt (line 211))\n",
            "  Downloading tenacity-9.1.2-py3-none-any.whl.metadata (1.2 kB)\n",
            "Collecting tensorboardX==2.6.4 (from -r requirements.txt (line 212))\n",
            "  Downloading tensorboardx-2.6.4-py3-none-any.whl.metadata (6.2 kB)\n",
            "Collecting threadpoolctl==3.6.0 (from -r requirements.txt (line 213))\n",
            "  Downloading threadpoolctl-3.6.0-py3-none-any.whl.metadata (13 kB)\n",
            "Collecting tokenizers==0.22.1 (from -r requirements.txt (line 214))\n",
            "  Downloading tokenizers-0.22.1-cp39-abi3-manylinux_2_17_x86_64.manylinux2014_x86_64.whl.metadata (6.8 kB)\n",
            "Collecting tooluniverse==1.0.9.1 (from -r requirements.txt (line 215))\n",
            "  Downloading tooluniverse-1.0.9.1-py3-none-any.whl.metadata (21 kB)\n",
            "Collecting torch==2.9.0 (from -r requirements.txt (line 216))\n",
            "  Downloading torch-2.9.0-cp312-cp312-manylinux_2_28_x86_64.whl.metadata (30 kB)\n",
            "Collecting tqdm==4.67.1 (from -r requirements.txt (line 217))\n",
            "  Downloading tqdm-4.67.1-py3-none-any.whl.metadata (57 kB)\n",
            "Collecting traits==7.0.2 (from -r requirements.txt (line 218))\n",
            "  Downloading traits-7.0.2-cp312-cp312-manylinux_2_5_x86_64.manylinux1_x86_64.manylinux_2_17_x86_64.manylinux2014_x86_64.whl.metadata (4.8 kB)\n",
            "Collecting transformers==4.57.1 (from -r requirements.txt (line 219))\n",
            "  Downloading transformers-4.57.1-py3-none-any.whl.metadata (43 kB)\n",
            "Collecting triton==3.5.0 (from -r requirements.txt (line 220))\n",
            "  Downloading triton-3.5.0-cp312-cp312-manylinux_2_27_x86_64.manylinux_2_28_x86_64.whl.metadata (1.7 kB)\n",
            "Collecting typed-argument-parser==1.11.0 (from -r requirements.txt (line 221))\n",
            "  Downloading typed_argument_parser-1.11.0-py3-none-any.whl.metadata (31 kB)\n",
            "Collecting typer==0.19.2 (from -r requirements.txt (line 222))\n",
            "  Downloading typer-0.19.2-py3-none-any.whl.metadata (16 kB)\n",
            "Collecting typing-inspect==0.9.0 (from -r requirements.txt (line 223))\n",
            "  Downloading typing_inspect-0.9.0-py3-none-any.whl.metadata (1.5 kB)\n",
            "Collecting typing-inspection==0.4.2 (from -r requirements.txt (line 224))\n",
            "  Downloading typing_inspection-0.4.2-py3-none-any.whl.metadata (2.6 kB)\n",
            "Collecting typing_extensions==4.15.0 (from -r requirements.txt (line 225))\n",
            "  Downloading typing_extensions-4.15.0-py3-none-any.whl.metadata (3.3 kB)\n",
            "Collecting tzdata==2025.2 (from -r requirements.txt (line 226))\n",
            "  Downloading tzdata-2025.2-py2.py3-none-any.whl.metadata (1.4 kB)\n",
            "Collecting uritemplate==4.2.0 (from -r requirements.txt (line 227))\n",
            "  Downloading uritemplate-4.2.0-py3-none-any.whl.metadata (2.6 kB)\n",
            "Collecting urllib3==2.5.0 (from -r requirements.txt (line 228))\n",
            "  Downloading urllib3-2.5.0-py3-none-any.whl.metadata (6.5 kB)\n",
            "Collecting uvicorn==0.37.0 (from -r requirements.txt (line 229))\n",
            "  Downloading uvicorn-0.37.0-py3-none-any.whl.metadata (6.6 kB)\n",
            "Collecting websockets==15.0.1 (from -r requirements.txt (line 230))\n",
            "  Downloading websockets-15.0.1-cp312-cp312-manylinux_2_5_x86_64.manylinux1_x86_64.manylinux_2_17_x86_64.manylinux2014_x86_64.whl.metadata (6.8 kB)\n",
            "Collecting Werkzeug==3.1.1 (from -r requirements.txt (line 231))\n",
            "  Downloading werkzeug-3.1.1-py3-none-any.whl.metadata (3.7 kB)\n",
            "Collecting xarray==2025.10.1 (from -r requirements.txt (line 232))\n",
            "  Downloading xarray-2025.10.1-py3-none-any.whl.metadata (12 kB)\n",
            "Collecting xlrd==2.0.2 (from -r requirements.txt (line 233))\n",
            "  Downloading xlrd-2.0.2-py2.py3-none-any.whl.metadata (3.5 kB)\n",
            "Collecting xlsxwriter==3.2.9 (from -r requirements.txt (line 234))\n",
            "  Downloading xlsxwriter-3.2.9-py3-none-any.whl.metadata (2.7 kB)\n",
            "Collecting xmltodict==1.0.2 (from -r requirements.txt (line 235))\n",
            "  Downloading xmltodict-1.0.2-py3-none-any.whl.metadata (15 kB)\n",
            "Collecting yarl==1.22.0 (from -r requirements.txt (line 236))\n",
            "  Downloading yarl-1.22.0-cp312-cp312-manylinux2014_x86_64.manylinux_2_17_x86_64.manylinux_2_28_x86_64.whl.metadata (75 kB)\n",
            "Collecting youtube-transcript-api==1.0.3 (from -r requirements.txt (line 237))\n",
            "  Downloading youtube_transcript_api-1.0.3-py3-none-any.whl.metadata (23 kB)\n",
            "Downloading accelerate-1.10.1-py3-none-any.whl (374 kB)\n",
            "Downloading numpy-2.3.4-cp312-cp312-manylinux_2_27_x86_64.manylinux_2_28_x86_64.whl (16.6 MB)\n",
            "\u001b[2K   \u001b[90m━━━━━━━━━━━━━━━━━━━━━━━━━━━━━━━━━━━━━━━━\u001b[0m \u001b[32m16.6/16.6 MB\u001b[0m \u001b[31m229.2 MB/s\u001b[0m  \u001b[33m0:00:00\u001b[0m\n",
            "\u001b[?25hDownloading acres-0.5.0-py3-none-any.whl (12 kB)\n",
            "Downloading aiohappyeyeballs-2.6.1-py3-none-any.whl (15 kB)\n",
            "Downloading aiohttp-3.13.0-cp312-cp312-manylinux2014_x86_64.manylinux_2_17_x86_64.manylinux_2_28_x86_64.whl (1.8 MB)\n",
            "\u001b[2K   \u001b[90m━━━━━━━━━━━━━━━━━━━━━━━━━━━━━━━━━━━━━━━━\u001b[0m \u001b[32m1.8/1.8 MB\u001b[0m \u001b[31m99.8 MB/s\u001b[0m  \u001b[33m0:00:00\u001b[0m\n",
            "\u001b[?25hDownloading multidict-6.7.0-cp312-cp312-manylinux2014_x86_64.manylinux_2_17_x86_64.manylinux_2_28_x86_64.whl (256 kB)\n",
            "Downloading yarl-1.22.0-cp312-cp312-manylinux2014_x86_64.manylinux_2_17_x86_64.manylinux_2_28_x86_64.whl (377 kB)\n",
            "Downloading aiosignal-1.4.0-py3-none-any.whl (7.5 kB)\n",
            "Downloading alabaster-1.0.0-py3-none-any.whl (13 kB)\n",
            "Downloading annotated_types-0.7.0-py3-none-any.whl (13 kB)\n",
            "Downloading anyio-4.11.0-py3-none-any.whl (109 kB)\n",
            "Downloading attrs-25.4.0-py3-none-any.whl (67 kB)\n",
            "Downloading authlib-1.6.5-py2.py3-none-any.whl (243 kB)\n",
            "Downloading azure_ai_documentintelligence-1.0.2-py3-none-any.whl (106 kB)\n",
            "Downloading azure_core-1.36.0-py3-none-any.whl (213 kB)\n",
            "Downloading azure_identity-1.25.1-py3-none-any.whl (191 kB)\n",
            "Downloading babel-2.17.0-py3-none-any.whl (10.2 MB)\n",
            "\u001b[2K   \u001b[90m━━━━━━━━━━━━━━━━━━━━━━━━━━━━━━━━━━━━━━━━\u001b[0m \u001b[32m10.2/10.2 MB\u001b[0m \u001b[31m184.0 MB/s\u001b[0m  \u001b[33m0:00:00\u001b[0m\n",
            "\u001b[?25hDownloading beautifulsoup4-4.14.2-py3-none-any.whl (106 kB)\n",
            "Downloading bitsandbytes-0.48.1-py3-none-manylinux_2_24_x86_64.whl (60.1 MB)\n",
            "\u001b[2K   \u001b[90m━━━━━━━━━━━━━━━━━━━━━━━━━━━━━━━━━━━━━━━━\u001b[0m \u001b[32m60.1/60.1 MB\u001b[0m \u001b[31m126.2 MB/s\u001b[0m  \u001b[33m0:00:00\u001b[0m\n",
            "\u001b[?25hDownloading torch-2.9.0-cp312-cp312-manylinux_2_28_x86_64.whl (899.7 MB)\n",
            "\u001b[2K   \u001b[90m━━━━━━━━━━━━━━━━━━━━━━━━━━━━━━━━━━━━━━━━\u001b[0m \u001b[32m899.7/899.7 MB\u001b[0m \u001b[31m25.1 MB/s\u001b[0m  \u001b[33m0:00:13\u001b[0m\n",
            "\u001b[?25hDownloading blinker-1.9.0-py3-none-any.whl (8.5 kB)\n",
            "Downloading cachetools-6.2.1-py3-none-any.whl (11 kB)\n",
            "Downloading certifi-2025.10.5-py3-none-any.whl (163 kB)\n",
            "Downloading cffi-2.0.0-cp312-cp312-manylinux2014_x86_64.manylinux_2_17_x86_64.whl (219 kB)\n",
            "Downloading charset_normalizer-3.4.4-cp312-cp312-manylinux2014_x86_64.manylinux_2_17_x86_64.manylinux_2_28_x86_64.whl (153 kB)\n",
            "Downloading chemfunc-1.0.12-py3-none-any.whl (31 kB)\n",
            "Downloading chemprop-1.6.1-py3-none-any.whl (166 kB)\n",
            "Downloading ci_info-0.3.0-py3-none-any.whl (7.8 kB)\n",
            "Downloading click-8.3.0-py3-none-any.whl (107 kB)\n",
            "Downloading cloudpickle-3.1.1-py3-none-any.whl (20 kB)\n",
            "Downloading cobble-0.1.4-py3-none-any.whl (4.0 kB)\n",
            "Downloading coloredlogs-15.0.1-py2.py3-none-any.whl (46 kB)\n",
            "Downloading configobj-5.0.9-py2.py3-none-any.whl (35 kB)\n",
            "Downloading configparser-7.2.0-py3-none-any.whl (17 kB)\n",
            "Downloading contourpy-1.3.3-cp312-cp312-manylinux_2_27_x86_64.manylinux_2_28_x86_64.whl (362 kB)\n",
            "Downloading cryptography-46.0.3-cp311-abi3-manylinux_2_34_x86_64.whl (4.5 MB)\n",
            "\u001b[2K   \u001b[90m━━━━━━━━━━━━━━━━━━━━━━━━━━━━━━━━━━━━━━━━\u001b[0m \u001b[32m4.5/4.5 MB\u001b[0m \u001b[31m175.3 MB/s\u001b[0m  \u001b[33m0:00:00\u001b[0m\n",
            "\u001b[?25hDownloading cycler-0.12.1-py3-none-any.whl (8.3 kB)\n",
            "Downloading cyclopts-3.24.0-py3-none-any.whl (86 kB)\n",
            "Downloading rich_rst-1.3.2-py3-none-any.whl (12 kB)\n",
            "Downloading defusedxml-0.7.1-py2.py3-none-any.whl (25 kB)\n",
            "Downloading descriptastorus-2.8.0-py3-none-any.whl (2.1 MB)\n",
            "\u001b[2K   \u001b[90m━━━━━━━━━━━━━━━━━━━━━━━━━━━━━━━━━━━━━━━━\u001b[0m \u001b[32m2.1/2.1 MB\u001b[0m \u001b[31m118.6 MB/s\u001b[0m  \u001b[33m0:00:00\u001b[0m\n",
            "\u001b[?25hDownloading distro-1.9.0-py3-none-any.whl (20 kB)\n",
            "Downloading dnspython-2.8.0-py3-none-any.whl (331 kB)\n",
            "Downloading docstring_parser-0.17.0-py3-none-any.whl (36 kB)\n",
            "Downloading docutils-0.21.2-py3-none-any.whl (587 kB)\n",
            "\u001b[2K   \u001b[90m━━━━━━━━━━━━━━━━━━━━━━━━━━━━━━━━━━━━━━━━\u001b[0m \u001b[32m587.4/587.4 kB\u001b[0m \u001b[31m33.3 MB/s\u001b[0m  \u001b[33m0:00:00\u001b[0m\n",
            "\u001b[?25hDownloading email_validator-2.3.0-py3-none-any.whl (35 kB)\n",
            "Downloading epam_indigo-1.36.0-py3-none-manylinux1_x86_64.whl (8.9 MB)\n",
            "\u001b[2K   \u001b[90m━━━━━━━━━━━━━━━━━━━━━━━━━━━━━━━━━━━━━━━━\u001b[0m \u001b[32m8.9/8.9 MB\u001b[0m \u001b[31m29.5 MB/s\u001b[0m  \u001b[33m0:00:00\u001b[0m\n",
            "\u001b[?25hDownloading et_xmlfile-2.0.0-py3-none-any.whl (18 kB)\n",
            "Downloading etelemetry-0.3.1-py3-none-any.whl (6.4 kB)\n",
            "Downloading exceptiongroup-1.3.0-py3-none-any.whl (16 kB)\n",
            "Downloading faiss_cpu-1.12.0-cp312-cp312-manylinux_2_27_x86_64.manylinux_2_28_x86_64.whl (31.4 MB)\n",
            "\u001b[2K   \u001b[90m━━━━━━━━━━━━━━━━━━━━━━━━━━━━━━━━━━━━━━━━\u001b[0m \u001b[32m31.4/31.4 MB\u001b[0m \u001b[31m163.8 MB/s\u001b[0m  \u001b[33m0:00:00\u001b[0m\n",
            "\u001b[?25hDownloading fastapi-0.119.0-py3-none-any.whl (107 kB)\n",
            "Downloading pydantic-2.12.2-py3-none-any.whl (460 kB)\n",
            "Downloading starlette-0.48.0-py3-none-any.whl (73 kB)\n",
            "Downloading fastmcp-2.12.4-py3-none-any.whl (329 kB)\n",
            "Downloading mcp-1.17.0-py3-none-any.whl (167 kB)\n",
            "Downloading filelock-3.20.0-py3-none-any.whl (16 kB)\n",
            "Downloading fitz-0.0.1.dev2-py2.py3-none-any.whl (20 kB)\n",
            "Downloading flask-3.1.2-py3-none-any.whl (103 kB)\n",
            "Downloading flatbuffers-25.9.23-py2.py3-none-any.whl (30 kB)\n",
            "Downloading fonttools-4.60.1-cp312-cp312-manylinux1_x86_64.manylinux2014_x86_64.manylinux_2_17_x86_64.manylinux_2_5_x86_64.whl (4.9 MB)\n",
            "\u001b[2K   \u001b[90m━━━━━━━━━━━━━━━━━━━━━━━━━━━━━━━━━━━━━━━━\u001b[0m \u001b[32m4.9/4.9 MB\u001b[0m \u001b[31m130.3 MB/s\u001b[0m  \u001b[33m0:00:00\u001b[0m\n",
            "\u001b[?25hDownloading frozenlist-1.8.0-cp312-cp312-manylinux1_x86_64.manylinux_2_28_x86_64.manylinux_2_5_x86_64.whl (242 kB)\n",
            "Downloading fsspec-2025.9.0-py3-none-any.whl (199 kB)\n",
            "Downloading future-1.0.0-py3-none-any.whl (491 kB)\n",
            "Downloading google_ai_generativelanguage-0.6.15-py3-none-any.whl (1.3 MB)\n",
            "\u001b[2K   \u001b[90m━━━━━━━━━━━━━━━━━━━━━━━━━━━━━━━━━━━━━━━━\u001b[0m \u001b[32m1.3/1.3 MB\u001b[0m \u001b[31m93.1 MB/s\u001b[0m  \u001b[33m0:00:00\u001b[0m\n",
            "\u001b[?25hDownloading google_api_core-2.26.0-py3-none-any.whl (162 kB)\n",
            "Downloading google_auth-2.41.1-py2.py3-none-any.whl (221 kB)\n",
            "Downloading googleapis_common_protos-1.70.0-py3-none-any.whl (294 kB)\n",
            "Downloading proto_plus-1.26.1-py3-none-any.whl (50 kB)\n",
            "Downloading protobuf-5.29.5-cp38-abi3-manylinux2014_x86_64.whl (319 kB)\n",
            "Downloading requests-2.32.5-py3-none-any.whl (64 kB)\n",
            "Downloading idna-3.11-py3-none-any.whl (71 kB)\n",
            "Downloading rsa-4.9.1-py3-none-any.whl (34 kB)\n",
            "Downloading urllib3-2.5.0-py3-none-any.whl (129 kB)\n",
            "Downloading google_api_python_client-2.184.0-py3-none-any.whl (14.3 MB)\n",
            "\u001b[2K   \u001b[90m━━━━━━━━━━━━━━━━━━━━━━━━━━━━━━━━━━━━━━━━\u001b[0m \u001b[32m14.3/14.3 MB\u001b[0m \u001b[31m192.1 MB/s\u001b[0m  \u001b[33m0:00:00\u001b[0m\n",
            "\u001b[?25hDownloading google_auth_httplib2-0.2.0-py2.py3-none-any.whl (9.3 kB)\n",
            "Downloading httplib2-0.31.0-py3-none-any.whl (91 kB)\n",
            "Downloading pyparsing-3.2.5-py3-none-any.whl (113 kB)\n",
            "Downloading uritemplate-4.2.0-py3-none-any.whl (11 kB)\n",
            "Downloading google_genai-1.45.0-py3-none-any.whl (238 kB)\n",
            "Downloading httpx-0.28.1-py3-none-any.whl (73 kB)\n",
            "Downloading httpcore-1.0.9-py3-none-any.whl (78 kB)\n",
            "Downloading tenacity-9.1.2-py3-none-any.whl (28 kB)\n",
            "Downloading typing_extensions-4.15.0-py3-none-any.whl (44 kB)\n",
            "Downloading websockets-15.0.1-cp312-cp312-manylinux_2_5_x86_64.manylinux1_x86_64.manylinux_2_17_x86_64.manylinux2014_x86_64.whl (182 kB)\n",
            "Downloading google_generativeai-0.8.5-py3-none-any.whl (155 kB)\n",
            "Downloading graphql_core-3.2.6-py3-none-any.whl (203 kB)\n",
            "Downloading greenlet-3.2.4-cp312-cp312-manylinux_2_24_x86_64.manylinux_2_28_x86_64.whl (607 kB)\n",
            "\u001b[2K   \u001b[90m━━━━━━━━━━━━━━━━━━━━━━━━━━━━━━━━━━━━━━━━\u001b[0m \u001b[32m607.6/607.6 kB\u001b[0m \u001b[31m38.6 MB/s\u001b[0m  \u001b[33m0:00:00\u001b[0m\n",
            "\u001b[?25hDownloading grpcio-1.75.1-cp312-cp312-manylinux2014_x86_64.manylinux_2_17_x86_64.whl (6.4 MB)\n",
            "\u001b[2K   \u001b[90m━━━━━━━━━━━━━━━━━━━━━━━━━━━━━━━━━━━━━━━━\u001b[0m \u001b[32m6.4/6.4 MB\u001b[0m \u001b[31m164.2 MB/s\u001b[0m  \u001b[33m0:00:00\u001b[0m\n",
            "\u001b[?25hDownloading grpcio_status-1.71.2-py3-none-any.whl (14 kB)\n",
            "Downloading h11-0.16.0-py3-none-any.whl (37 kB)\n",
            "Downloading hf_xet-1.1.10-cp37-abi3-manylinux_2_17_x86_64.manylinux2014_x86_64.whl (3.2 MB)\n",
            "\u001b[2K   \u001b[90m━━━━━━━━━━━━━━━━━━━━━━━━━━━━━━━━━━━━━━━━\u001b[0m \u001b[32m3.2/3.2 MB\u001b[0m \u001b[31m81.6 MB/s\u001b[0m  \u001b[33m0:00:00\u001b[0m\n",
            "\u001b[?25hDownloading httpx_sse-0.4.3-py3-none-any.whl (9.0 kB)\n",
            "Downloading huggingface_hub-0.35.3-py3-none-any.whl (564 kB)\n",
            "\u001b[2K   \u001b[90m━━━━━━━━━━━━━━━━━━━━━━━━━━━━━━━━━━━━━━━━\u001b[0m \u001b[32m564.3/564.3 kB\u001b[0m \u001b[31m33.9 MB/s\u001b[0m  \u001b[33m0:00:00\u001b[0m\n",
            "\u001b[?25hDownloading humanfriendly-10.0-py2.py3-none-any.whl (86 kB)\n",
            "Downloading hyperopt-0.2.7-py2.py3-none-any.whl (1.6 MB)\n",
            "\u001b[2K   \u001b[90m━━━━━━━━━━━━━━━━━━━━━━━━━━━━━━━━━━━━━━━━\u001b[0m \u001b[32m1.6/1.6 MB\u001b[0m \u001b[31m97.9 MB/s\u001b[0m  \u001b[33m0:00:00\u001b[0m\n",
            "\u001b[?25hDownloading imagesize-1.4.1-py2.py3-none-any.whl (8.8 kB)\n",
            "Downloading isodate-0.7.2-py3-none-any.whl (22 kB)\n",
            "Downloading itsdangerous-2.2.0-py3-none-any.whl (16 kB)\n",
            "Downloading jinja2-3.1.6-py3-none-any.whl (134 kB)\n",
            "Downloading jiter-0.11.0-cp312-cp312-manylinux_2_17_x86_64.manylinux2014_x86_64.whl (347 kB)\n",
            "Downloading joblib-1.5.2-py3-none-any.whl (308 kB)\n",
            "Downloading jsonschema-4.25.1-py3-none-any.whl (90 kB)\n",
            "Downloading jsonschema_path-0.3.4-py3-none-any.whl (14 kB)\n",
            "Downloading pathable-0.4.4-py3-none-any.whl (9.6 kB)\n",
            "Downloading referencing-0.36.2-py3-none-any.whl (26 kB)\n",
            "Downloading jsonschema_specifications-2025.9.1-py3-none-any.whl (18 kB)\n",
            "Downloading kernels-0.10.4-py3-none-any.whl (40 kB)\n",
            "Downloading kiwisolver-1.4.9-cp312-cp312-manylinux2014_x86_64.manylinux_2_17_x86_64.whl (1.5 MB)\n",
            "\u001b[2K   \u001b[90m━━━━━━━━━━━━━━━━━━━━━━━━━━━━━━━━━━━━━━━━\u001b[0m \u001b[32m1.5/1.5 MB\u001b[0m \u001b[31m77.7 MB/s\u001b[0m  \u001b[33m0:00:00\u001b[0m\n",
            "\u001b[?25hDownloading lazy_object_proxy-1.12.0-cp312-cp312-manylinux1_x86_64.manylinux_2_28_x86_64.manylinux_2_5_x86_64.whl (71 kB)\n",
            "Downloading looseversion-1.3.0-py2.py3-none-any.whl (8.2 kB)\n",
            "Downloading lxml-6.0.2-cp312-cp312-manylinux_2_26_x86_64.manylinux_2_28_x86_64.whl (5.3 MB)\n",
            "\u001b[2K   \u001b[90m━━━━━━━━━━━━━━━━━━━━━━━━━━━━━━━━━━━━━━━━\u001b[0m \u001b[32m5.3/5.3 MB\u001b[0m \u001b[31m187.4 MB/s\u001b[0m  \u001b[33m0:00:00\u001b[0m\n",
            "\u001b[?25hDownloading magika-0.6.2-py3-none-manylinux_2_28_x86_64.whl (15.1 MB)\n",
            "\u001b[2K   \u001b[90m━━━━━━━━━━━━━━━━━━━━━━━━━━━━━━━━━━━━━━━━\u001b[0m \u001b[32m15.1/15.1 MB\u001b[0m \u001b[31m135.9 MB/s\u001b[0m  \u001b[33m0:00:00\u001b[0m\n",
            "\u001b[?25hDownloading mammoth-1.10.0-py2.py3-none-any.whl (53 kB)\n",
            "Downloading markdown_it_py-4.0.0-py3-none-any.whl (87 kB)\n",
            "Downloading mdurl-0.1.2-py3-none-any.whl (10.0 kB)\n",
            "Downloading markdownify-1.2.0-py3-none-any.whl (15 kB)\n",
            "Downloading six-1.17.0-py2.py3-none-any.whl (11 kB)\n",
            "Downloading markitdown-0.1.3-py3-none-any.whl (58 kB)\n",
            "Downloading markupsafe-3.0.3-cp312-cp312-manylinux2014_x86_64.manylinux_2_17_x86_64.manylinux_2_28_x86_64.whl (22 kB)\n",
            "Downloading matplotlib-3.10.7-cp312-cp312-manylinux2014_x86_64.manylinux_2_17_x86_64.whl (8.7 MB)\n",
            "\u001b[2K   \u001b[90m━━━━━━━━━━━━━━━━━━━━━━━━━━━━━━━━━━━━━━━━\u001b[0m \u001b[32m8.7/8.7 MB\u001b[0m \u001b[31m161.7 MB/s\u001b[0m  \u001b[33m0:00:00\u001b[0m\n",
            "\u001b[?25hDownloading more_itertools-10.8.0-py3-none-any.whl (69 kB)\n",
            "Downloading mpmath-1.3.0-py3-none-any.whl (536 kB)\n",
            "\u001b[2K   \u001b[90m━━━━━━━━━━━━━━━━━━━━━━━━━━━━━━━━━━━━━━━━\u001b[0m \u001b[32m536.2/536.2 kB\u001b[0m \u001b[31m30.4 MB/s\u001b[0m  \u001b[33m0:00:00\u001b[0m\n",
            "\u001b[?25hDownloading msal-1.34.0-py3-none-any.whl (116 kB)\n",
            "Downloading PyJWT-2.10.1-py3-none-any.whl (22 kB)\n",
            "Downloading msal_extensions-1.3.1-py3-none-any.whl (20 kB)\n",
            "Downloading mypy_extensions-1.1.0-py3-none-any.whl (5.0 kB)\n",
            "Downloading nest_asyncio-1.6.0-py3-none-any.whl (5.2 kB)\n",
            "Downloading networkx-3.5-py3-none-any.whl (2.0 MB)\n",
            "\u001b[2K   \u001b[90m━━━━━━━━━━━━━━━━━━━━━━━━━━━━━━━━━━━━━━━━\u001b[0m \u001b[32m2.0/2.0 MB\u001b[0m \u001b[31m121.2 MB/s\u001b[0m  \u001b[33m0:00:00\u001b[0m\n",
            "\u001b[?25hDownloading nibabel-5.3.2-py3-none-any.whl (3.3 MB)\n",
            "\u001b[2K   \u001b[90m━━━━━━━━━━━━━━━━━━━━━━━━━━━━━━━━━━━━━━━━\u001b[0m \u001b[32m3.3/3.3 MB\u001b[0m \u001b[31m170.4 MB/s\u001b[0m  \u001b[33m0:00:00\u001b[0m\n",
            "\u001b[?25hDownloading nipype-1.10.0-py3-none-any.whl (3.2 MB)\n",
            "\u001b[2K   \u001b[90m━━━━━━━━━━━━━━━━━━━━━━━━━━━━━━━━━━━━━━━━\u001b[0m \u001b[32m3.2/3.2 MB\u001b[0m \u001b[31m149.7 MB/s\u001b[0m  \u001b[33m0:00:00\u001b[0m\n",
            "\u001b[?25hDownloading nvidia_cublas_cu12-12.8.4.1-py3-none-manylinux_2_27_x86_64.whl (594.3 MB)\n",
            "\u001b[2K   \u001b[90m━━━━━━━━━━━━━━━━━━━━━━━━━━━━━━━━━━━━━━━━\u001b[0m \u001b[32m594.3/594.3 MB\u001b[0m \u001b[31m33.4 MB/s\u001b[0m  \u001b[33m0:00:08\u001b[0m\n",
            "\u001b[?25hDownloading nvidia_cuda_cupti_cu12-12.8.90-py3-none-manylinux2014_x86_64.manylinux_2_17_x86_64.whl (10.2 MB)\n",
            "\u001b[2K   \u001b[90m━━━━━━━━━━━━━━━━━━━━━━━━━━━━━━━━━━━━━━━━\u001b[0m \u001b[32m10.2/10.2 MB\u001b[0m \u001b[31m144.0 MB/s\u001b[0m  \u001b[33m0:00:00\u001b[0m\n",
            "\u001b[?25hDownloading nvidia_cuda_nvrtc_cu12-12.8.93-py3-none-manylinux2010_x86_64.manylinux_2_12_x86_64.whl (88.0 MB)\n",
            "\u001b[2K   \u001b[90m━━━━━━━━━━━━━━━━━━━━━━━━━━━━━━━━━━━━━━━━\u001b[0m \u001b[32m88.0/88.0 MB\u001b[0m \u001b[31m126.2 MB/s\u001b[0m  \u001b[33m0:00:00\u001b[0m\n",
            "\u001b[?25hDownloading nvidia_cuda_runtime_cu12-12.8.90-py3-none-manylinux2014_x86_64.manylinux_2_17_x86_64.whl (954 kB)\n",
            "\u001b[2K   \u001b[90m━━━━━━━━━━━━━━━━━━━━━━━━━━━━━━━━━━━━━━━━\u001b[0m \u001b[32m954.8/954.8 kB\u001b[0m \u001b[31m68.0 MB/s\u001b[0m  \u001b[33m0:00:00\u001b[0m\n",
            "\u001b[?25hDownloading nvidia_cudnn_cu12-9.10.2.21-py3-none-manylinux_2_27_x86_64.whl (706.8 MB)\n",
            "\u001b[2K   \u001b[90m━━━━━━━━━━━━━━━━━━━━━━━━━━━━━━━━━━━━━━━━\u001b[0m \u001b[32m706.8/706.8 MB\u001b[0m \u001b[31m31.1 MB/s\u001b[0m  \u001b[33m0:00:09\u001b[0m\n",
            "\u001b[?25hDownloading nvidia_cufft_cu12-11.3.3.83-py3-none-manylinux2014_x86_64.manylinux_2_17_x86_64.whl (193.1 MB)\n",
            "\u001b[2K   \u001b[90m━━━━━━━━━━━━━━━━━━━━━━━━━━━━━━━━━━━━━━━━\u001b[0m \u001b[32m193.1/193.1 MB\u001b[0m \u001b[31m126.4 MB/s\u001b[0m  \u001b[33m0:00:01\u001b[0m\n",
            "\u001b[?25hDownloading nvidia_cufile_cu12-1.13.1.3-py3-none-manylinux2014_x86_64.manylinux_2_17_x86_64.whl (1.2 MB)\n",
            "\u001b[2K   \u001b[90m━━━━━━━━━━━━━━━━━━━━━━━━━━━━━━━━━━━━━━━━\u001b[0m \u001b[32m1.2/1.2 MB\u001b[0m \u001b[31m86.3 MB/s\u001b[0m  \u001b[33m0:00:00\u001b[0m\n",
            "\u001b[?25hDownloading nvidia_curand_cu12-10.3.9.90-py3-none-manylinux_2_27_x86_64.whl (63.6 MB)\n",
            "\u001b[2K   \u001b[90m━━━━━━━━━━━━━━━━━━━━━━━━━━━━━━━━━━━━━━━━\u001b[0m \u001b[32m63.6/63.6 MB\u001b[0m \u001b[31m143.3 MB/s\u001b[0m  \u001b[33m0:00:00\u001b[0m\n",
            "\u001b[?25hDownloading nvidia_cusolver_cu12-11.7.3.90-py3-none-manylinux_2_27_x86_64.whl (267.5 MB)\n",
            "\u001b[2K   \u001b[90m━━━━━━━━━━━━━━━━━━━━━━━━━━━━━━━━━━━━━━━━\u001b[0m \u001b[32m267.5/267.5 MB\u001b[0m \u001b[31m52.6 MB/s\u001b[0m  \u001b[33m0:00:04\u001b[0m\n",
            "\u001b[?25hDownloading nvidia_cusparse_cu12-12.5.8.93-py3-none-manylinux2014_x86_64.manylinux_2_17_x86_64.whl (288.2 MB)\n",
            "\u001b[2K   \u001b[90m━━━━━━━━━━━━━━━━━━━━━━━━━━━━━━━━━━━━━━━━\u001b[0m \u001b[32m288.2/288.2 MB\u001b[0m \u001b[31m70.5 MB/s\u001b[0m  \u001b[33m0:00:03\u001b[0m\n",
            "\u001b[?25hDownloading nvidia_cusparselt_cu12-0.7.1-py3-none-manylinux2014_x86_64.whl (287.2 MB)\n",
            "\u001b[2K   \u001b[90m━━━━━━━━━━━━━━━━━━━━━━━━━━━━━━━━━━━━━━━━\u001b[0m \u001b[32m287.2/287.2 MB\u001b[0m \u001b[31m62.9 MB/s\u001b[0m  \u001b[33m0:00:04\u001b[0m\n",
            "\u001b[?25hDownloading nvidia_nccl_cu12-2.27.5-py3-none-manylinux2014_x86_64.manylinux_2_17_x86_64.whl (322.3 MB)\n",
            "\u001b[2K   \u001b[90m━━━━━━━━━━━━━━━━━━━━━━━━━━━━━━━━━━━━━━━━\u001b[0m \u001b[32m322.3/322.3 MB\u001b[0m \u001b[31m54.6 MB/s\u001b[0m  \u001b[33m0:00:05\u001b[0m\n",
            "\u001b[?25hDownloading nvidia_nvjitlink_cu12-12.8.93-py3-none-manylinux2010_x86_64.manylinux_2_12_x86_64.whl (39.3 MB)\n",
            "\u001b[2K   \u001b[90m━━━━━━━━━━━━━━━━━━━━━━━━━━━━━━━━━━━━━━━━\u001b[0m \u001b[32m39.3/39.3 MB\u001b[0m \u001b[31m145.5 MB/s\u001b[0m  \u001b[33m0:00:00\u001b[0m\n",
            "\u001b[?25hDownloading nvidia_nvshmem_cu12-3.3.20-py3-none-manylinux2014_x86_64.manylinux_2_17_x86_64.whl (124.7 MB)\n",
            "\u001b[2K   \u001b[90m━━━━━━━━━━━━━━━━━━━━━━━━━━━━━━━━━━━━━━━━\u001b[0m \u001b[32m124.7/124.7 MB\u001b[0m \u001b[31m136.2 MB/s\u001b[0m  \u001b[33m0:00:00\u001b[0m\n",
            "\u001b[?25hDownloading nvidia_nvtx_cu12-12.8.90-py3-none-manylinux2014_x86_64.manylinux_2_17_x86_64.whl (89 kB)\n",
            "Downloading olefile-0.47-py2.py3-none-any.whl (114 kB)\n",
            "Downloading onnxruntime-1.23.1-cp312-cp312-manylinux_2_27_x86_64.manylinux_2_28_x86_64.whl (17.4 MB)\n",
            "\u001b[2K   \u001b[90m━━━━━━━━━━━━━━━━━━━━━━━━━━━━━━━━━━━━━━━━\u001b[0m \u001b[32m17.4/17.4 MB\u001b[0m \u001b[31m52.2 MB/s\u001b[0m  \u001b[33m0:00:00\u001b[0m\n",
            "\u001b[?25hDownloading openai-2.4.0-py3-none-any.whl (1.0 MB)\n",
            "\u001b[2K   \u001b[90m━━━━━━━━━━━━━━━━━━━━━━━━━━━━━━━━━━━━━━━━\u001b[0m \u001b[32m1.0/1.0 MB\u001b[0m \u001b[31m72.8 MB/s\u001b[0m  \u001b[33m0:00:00\u001b[0m\n",
            "\u001b[?25hDownloading openai_harmony-0.0.4-cp38-abi3-manylinux_2_17_x86_64.manylinux2014_x86_64.whl (3.0 MB)\n",
            "\u001b[2K   \u001b[90m━━━━━━━━━━━━━━━━━━━━━━━━━━━━━━━━━━━━━━━━\u001b[0m \u001b[32m3.0/3.0 MB\u001b[0m \u001b[31m142.9 MB/s\u001b[0m  \u001b[33m0:00:00\u001b[0m\n",
            "\u001b[?25hDownloading openapi_core-0.19.5-py3-none-any.whl (106 kB)\n",
            "Downloading openapi_schema_validator-0.6.3-py3-none-any.whl (8.8 kB)\n",
            "Downloading openapi_spec_validator-0.7.2-py3-none-any.whl (39 kB)\n",
            "Downloading werkzeug-3.1.1-py3-none-any.whl (224 kB)\n",
            "Downloading openapi_pydantic-0.5.1-py3-none-any.whl (96 kB)\n",
            "Downloading openpyxl-3.1.5-py2.py3-none-any.whl (250 kB)\n",
            "Downloading packaging-25.0-py3-none-any.whl (66 kB)\n",
            "Downloading pandas-2.3.3-cp312-cp312-manylinux_2_24_x86_64.manylinux_2_28_x86_64.whl (12.4 MB)\n",
            "\u001b[2K   \u001b[90m━━━━━━━━━━━━━━━━━━━━━━━━━━━━━━━━━━━━━━━━\u001b[0m \u001b[32m12.4/12.4 MB\u001b[0m \u001b[31m227.8 MB/s\u001b[0m  \u001b[33m0:00:00\u001b[0m\n",
            "\u001b[?25hDownloading pandas_flavor-0.7.0-py3-none-any.whl (8.4 kB)\n",
            "Downloading parse-1.20.2-py2.py3-none-any.whl (20 kB)\n",
            "Downloading pathlib-1.0.1-py3-none-any.whl (14 kB)\n",
            "Downloading pdfminer_six-20250506-py3-none-any.whl (5.6 MB)\n",
            "\u001b[2K   \u001b[90m━━━━━━━━━━━━━━━━━━━━━━━━━━━━━━━━━━━━━━━━\u001b[0m \u001b[32m5.6/5.6 MB\u001b[0m \u001b[31m143.8 MB/s\u001b[0m  \u001b[33m0:00:00\u001b[0m\n",
            "\u001b[?25hDownloading pdfplumber-0.11.7-py3-none-any.whl (60 kB)\n",
            "Downloading pillow-12.0.0-cp312-cp312-manylinux_2_27_x86_64.manylinux_2_28_x86_64.whl (7.0 MB)\n",
            "\u001b[2K   \u001b[90m━━━━━━━━━━━━━━━━━━━━━━━━━━━━━━━━━━━━━━━━\u001b[0m \u001b[32m7.0/7.0 MB\u001b[0m \u001b[31m188.3 MB/s\u001b[0m  \u001b[33m0:00:00\u001b[0m\n",
            "\u001b[?25hDownloading playwright-1.55.0-py3-none-manylinux1_x86_64.whl (45.9 MB)\n",
            "\u001b[2K   \u001b[90m━━━━━━━━━━━━━━━━━━━━━━━━━━━━━━━━━━━━━━━━\u001b[0m \u001b[32m45.9/45.9 MB\u001b[0m \u001b[31m153.2 MB/s\u001b[0m  \u001b[33m0:00:00\u001b[0m\n",
            "\u001b[?25hDownloading pyee-13.0.0-py3-none-any.whl (15 kB)\n",
            "Downloading propcache-0.4.1-cp312-cp312-manylinux2014_x86_64.manylinux_2_17_x86_64.manylinux_2_28_x86_64.whl (221 kB)\n",
            "Downloading prov-2.1.1-py3-none-any.whl (425 kB)\n",
            "Downloading psutil-7.1.0-cp36-abi3-manylinux_2_12_x86_64.manylinux2010_x86_64.manylinux_2_17_x86_64.manylinux2014_x86_64.whl (291 kB)\n",
            "Downloading puremagic-1.30-py3-none-any.whl (43 kB)\n",
            "Downloading py4j-0.10.9.9-py2.py3-none-any.whl (203 kB)\n",
            "Downloading pyasn1-0.6.1-py3-none-any.whl (83 kB)\n",
            "Downloading pyasn1_modules-0.4.2-py3-none-any.whl (181 kB)\n",
            "Downloading pycparser-2.23-py3-none-any.whl (118 kB)\n",
            "Downloading pydantic_settings-2.11.0-py3-none-any.whl (48 kB)\n",
            "Downloading pydantic_core-2.41.4-cp312-cp312-manylinux_2_17_x86_64.manylinux2014_x86_64.whl (2.1 MB)\n",
            "\u001b[2K   \u001b[90m━━━━━━━━━━━━━━━━━━━━━━━━━━━━━━━━━━━━━━━━\u001b[0m \u001b[32m2.1/2.1 MB\u001b[0m \u001b[31m117.1 MB/s\u001b[0m  \u001b[33m0:00:00\u001b[0m\n",
            "\u001b[?25hDownloading pydot-4.0.1-py3-none-any.whl (37 kB)\n",
            "Downloading pydub-0.25.1-py2.py3-none-any.whl (32 kB)\n",
            "Downloading pygments-2.19.2-py3-none-any.whl (1.2 MB)\n",
            "\u001b[2K   \u001b[90m━━━━━━━━━━━━━━━━━━━━━━━━━━━━━━━━━━━━━━━━\u001b[0m \u001b[32m1.2/1.2 MB\u001b[0m \u001b[31m80.5 MB/s\u001b[0m  \u001b[33m0:00:00\u001b[0m\n",
            "\u001b[?25hDownloading pypdfium2-4.30.0-py3-none-manylinux_2_17_x86_64.manylinux2014_x86_64.whl (2.8 MB)\n",
            "\u001b[2K   \u001b[90m━━━━━━━━━━━━━━━━━━━━━━━━━━━━━━━━━━━━━━━━\u001b[0m \u001b[32m2.8/2.8 MB\u001b[0m \u001b[31m114.2 MB/s\u001b[0m  \u001b[33m0:00:00\u001b[0m\n",
            "\u001b[?25hDownloading pyperclip-1.11.0-py3-none-any.whl (11 kB)\n",
            "Downloading python_dateutil-2.9.0.post0-py2.py3-none-any.whl (229 kB)\n",
            "Downloading python_dotenv-1.1.1-py3-none-any.whl (20 kB)\n",
            "Downloading python_multipart-0.0.20-py3-none-any.whl (24 kB)\n",
            "Downloading python_pptx-1.0.2-py3-none-any.whl (472 kB)\n",
            "Downloading pytz-2025.2-py2.py3-none-any.whl (509 kB)\n",
            "Downloading pyxnat-1.6.3-py3-none-any.whl (95 kB)\n",
            "Downloading pyyaml-6.0.3-cp312-cp312-manylinux2014_x86_64.manylinux_2_17_x86_64.manylinux_2_28_x86_64.whl (807 kB)\n",
            "\u001b[2K   \u001b[90m━━━━━━━━━━━━━━━━━━━━━━━━━━━━━━━━━━━━━━━━\u001b[0m \u001b[32m807.9/807.9 kB\u001b[0m \u001b[31m58.4 MB/s\u001b[0m  \u001b[33m0:00:00\u001b[0m\n",
            "\u001b[?25hDownloading rdflib-7.2.1-py3-none-any.whl (565 kB)\n",
            "\u001b[2K   \u001b[90m━━━━━━━━━━━━━━━━━━━━━━━━━━━━━━━━━━━━━━━━\u001b[0m \u001b[32m565.4/565.4 kB\u001b[0m \u001b[31m31.6 MB/s\u001b[0m  \u001b[33m0:00:00\u001b[0m\n",
            "\u001b[?25hDownloading rdkit-2025.9.1-cp312-cp312-manylinux_2_28_x86_64.whl (36.2 MB)\n",
            "\u001b[2K   \u001b[90m━━━━━━━━━━━━━━━━━━━━━━━━━━━━━━━━━━━━━━━━\u001b[0m \u001b[32m36.2/36.2 MB\u001b[0m \u001b[31m176.4 MB/s\u001b[0m  \u001b[33m0:00:00\u001b[0m\n",
            "\u001b[?25hDownloading regex-2025.9.18-cp312-cp312-manylinux2014_x86_64.manylinux_2_17_x86_64.manylinux_2_28_x86_64.whl (802 kB)\n",
            "\u001b[2K   \u001b[90m━━━━━━━━━━━━━━━━━━━━━━━━━━━━━━━━━━━━━━━━\u001b[0m \u001b[32m802.0/802.0 kB\u001b[0m \u001b[31m54.0 MB/s\u001b[0m  \u001b[33m0:00:00\u001b[0m\n",
            "\u001b[?25hDownloading rfc3339_validator-0.1.4-py2.py3-none-any.whl (3.5 kB)\n",
            "Downloading rich-14.2.0-py3-none-any.whl (243 kB)\n",
            "Downloading roman_numerals_py-3.1.0-py3-none-any.whl (7.7 kB)\n",
            "Downloading rpds_py-0.27.1-cp312-cp312-manylinux_2_17_x86_64.manylinux2014_x86_64.whl (386 kB)\n",
            "Downloading rustworkx-0.17.1-cp39-abi3-manylinux_2_17_x86_64.manylinux2014_x86_64.whl (2.2 MB)\n",
            "\u001b[2K   \u001b[90m━━━━━━━━━━━━━━━━━━━━━━━━━━━━━━━━━━━━━━━━\u001b[0m \u001b[32m2.2/2.2 MB\u001b[0m \u001b[31m127.7 MB/s\u001b[0m  \u001b[33m0:00:00\u001b[0m\n",
            "\u001b[?25hDownloading safetensors-0.6.2-cp38-abi3-manylinux_2_17_x86_64.manylinux2014_x86_64.whl (485 kB)\n",
            "Downloading scikit_learn-1.7.2-cp312-cp312-manylinux2014_x86_64.manylinux_2_17_x86_64.whl (9.5 MB)\n",
            "\u001b[2K   \u001b[90m━━━━━━━━━━━━━━━━━━━━━━━━━━━━━━━━━━━━━━━━\u001b[0m \u001b[32m9.5/9.5 MB\u001b[0m \u001b[31m157.4 MB/s\u001b[0m  \u001b[33m0:00:00\u001b[0m\n",
            "\u001b[?25hDownloading scipy-1.16.2-cp312-cp312-manylinux2014_x86_64.manylinux_2_17_x86_64.whl (35.7 MB)\n",
            "\u001b[2K   \u001b[90m━━━━━━━━━━━━━━━━━━━━━━━━━━━━━━━━━━━━━━━━\u001b[0m \u001b[32m35.7/35.7 MB\u001b[0m \u001b[31m161.1 MB/s\u001b[0m  \u001b[33m0:00:00\u001b[0m\n",
            "\u001b[?25hDownloading sentence_transformers-5.1.1-py3-none-any.whl (486 kB)\n",
            "Downloading transformers-4.57.1-py3-none-any.whl (12.0 MB)\n",
            "\u001b[2K   \u001b[90m━━━━━━━━━━━━━━━━━━━━━━━━━━━━━━━━━━━━━━━━\u001b[0m \u001b[32m12.0/12.0 MB\u001b[0m \u001b[31m184.3 MB/s\u001b[0m  \u001b[33m0:00:00\u001b[0m\n",
            "\u001b[?25hDownloading tokenizers-0.22.1-cp39-abi3-manylinux_2_17_x86_64.manylinux2014_x86_64.whl (3.3 MB)\n",
            "\u001b[2K   \u001b[90m━━━━━━━━━━━━━━━━━━━━━━━━━━━━━━━━━━━━━━━━\u001b[0m \u001b[32m3.3/3.3 MB\u001b[0m \u001b[31m137.1 MB/s\u001b[0m  \u001b[33m0:00:00\u001b[0m\n",
            "\u001b[?25hUsing cached setuptools-80.9.0-py3-none-any.whl (1.2 MB)\n",
            "Downloading shellingham-1.5.4-py2.py3-none-any.whl (9.8 kB)\n",
            "Downloading simplejson-3.20.2-cp312-cp312-manylinux_2_5_x86_64.manylinux1_x86_64.manylinux_2_17_x86_64.manylinux2014_x86_64.whl (152 kB)\n",
            "Downloading sniffio-1.3.1-py3-none-any.whl (10 kB)\n",
            "Downloading snowballstemmer-3.0.1-py3-none-any.whl (103 kB)\n",
            "Downloading soupsieve-2.8-py3-none-any.whl (36 kB)\n",
            "Downloading speechrecognition-3.14.3-py3-none-any.whl (32.9 MB)\n",
            "\u001b[2K   \u001b[90m━━━━━━━━━━━━━━━━━━━━━━━━━━━━━━━━━━━━━━━━\u001b[0m \u001b[32m32.9/32.9 MB\u001b[0m \u001b[31m186.0 MB/s\u001b[0m  \u001b[33m0:00:00\u001b[0m\n",
            "\u001b[?25hDownloading sphinx-8.2.3-py3-none-any.whl (3.6 MB)\n",
            "\u001b[2K   \u001b[90m━━━━━━━━━━━━━━━━━━━━━━━━━━━━━━━━━━━━━━━━\u001b[0m \u001b[32m3.6/3.6 MB\u001b[0m \u001b[31m138.0 MB/s\u001b[0m  \u001b[33m0:00:00\u001b[0m\n",
            "\u001b[?25hDownloading sphinxcontrib_applehelp-2.0.0-py3-none-any.whl (119 kB)\n",
            "Downloading sphinxcontrib_devhelp-2.0.0-py3-none-any.whl (82 kB)\n",
            "Downloading sphinxcontrib_htmlhelp-2.1.0-py3-none-any.whl (98 kB)\n",
            "Downloading sphinxcontrib_jsmath-1.0.1-py2.py3-none-any.whl (5.1 kB)\n",
            "Downloading sphinxcontrib_qthelp-2.0.0-py3-none-any.whl (88 kB)\n",
            "Downloading sphinxcontrib_serializinghtml-2.0.0-py3-none-any.whl (92 kB)\n",
            "Downloading sse_starlette-3.0.2-py3-none-any.whl (11 kB)\n",
            "Downloading sympy-1.14.0-py3-none-any.whl (6.3 MB)\n",
            "\u001b[2K   \u001b[90m━━━━━━━━━━━━━━━━━━━━━━━━━━━━━━━━━━━━━━━━\u001b[0m \u001b[32m6.3/6.3 MB\u001b[0m \u001b[31m201.3 MB/s\u001b[0m  \u001b[33m0:00:00\u001b[0m\n",
            "\u001b[?25hDownloading tensorboardx-2.6.4-py3-none-any.whl (87 kB)\n",
            "Downloading threadpoolctl-3.6.0-py3-none-any.whl (18 kB)\n",
            "Downloading tooluniverse-1.0.9.1-py3-none-any.whl (2.5 MB)\n",
            "\u001b[2K   \u001b[90m━━━━━━━━━━━━━━━━━━━━━━━━━━━━━━━━━━━━━━━━\u001b[0m \u001b[32m2.5/2.5 MB\u001b[0m \u001b[31m109.5 MB/s\u001b[0m  \u001b[33m0:00:00\u001b[0m\n",
            "\u001b[?25hDownloading tqdm-4.67.1-py3-none-any.whl (78 kB)\n",
            "Downloading traits-7.0.2-cp312-cp312-manylinux_2_5_x86_64.manylinux1_x86_64.manylinux_2_17_x86_64.manylinux2014_x86_64.whl (5.1 MB)\n",
            "\u001b[2K   \u001b[90m━━━━━━━━━━━━━━━━━━━━━━━━━━━━━━━━━━━━━━━━\u001b[0m \u001b[32m5.1/5.1 MB\u001b[0m \u001b[31m96.4 MB/s\u001b[0m  \u001b[33m0:00:00\u001b[0m\n",
            "\u001b[?25hDownloading triton-3.5.0-cp312-cp312-manylinux_2_27_x86_64.manylinux_2_28_x86_64.whl (170.5 MB)\n",
            "\u001b[2K   \u001b[90m━━━━━━━━━━━━━━━━━━━━━━━━━━━━━━━━━━━━━━━━\u001b[0m \u001b[32m170.5/170.5 MB\u001b[0m \u001b[31m52.6 MB/s\u001b[0m  \u001b[33m0:00:03\u001b[0m\n",
            "\u001b[?25hDownloading typed_argument_parser-1.11.0-py3-none-any.whl (30 kB)\n",
            "Downloading typer-0.19.2-py3-none-any.whl (46 kB)\n",
            "Downloading typing_inspect-0.9.0-py3-none-any.whl (8.8 kB)\n",
            "Downloading typing_inspection-0.4.2-py3-none-any.whl (14 kB)\n",
            "Downloading tzdata-2025.2-py2.py3-none-any.whl (347 kB)\n",
            "Downloading uvicorn-0.37.0-py3-none-any.whl (67 kB)\n",
            "Downloading xarray-2025.10.1-py3-none-any.whl (1.4 MB)\n",
            "\u001b[2K   \u001b[90m━━━━━━━━━━━━━━━━━━━━━━━━━━━━━━━━━━━━━━━━\u001b[0m \u001b[32m1.4/1.4 MB\u001b[0m \u001b[31m92.9 MB/s\u001b[0m  \u001b[33m0:00:00\u001b[0m\n",
            "\u001b[?25hDownloading xlrd-2.0.2-py2.py3-none-any.whl (96 kB)\n",
            "Downloading xlsxwriter-3.2.9-py3-none-any.whl (175 kB)\n",
            "Downloading xmltodict-1.0.2-py3-none-any.whl (13 kB)\n",
            "Downloading youtube_transcript_api-1.0.3-py3-none-any.whl (2.2 MB)\n",
            "\u001b[2K   \u001b[90m━━━━━━━━━━━━━━━━━━━━━━━━━━━━━━━━━━━━━━━━\u001b[0m \u001b[32m2.2/2.2 MB\u001b[0m \u001b[31m122.1 MB/s\u001b[0m  \u001b[33m0:00:00\u001b[0m\n",
            "\u001b[?25hBuilding wheels for collected packages: admet_ai, rcsb-api\n",
            "  Building wheel for admet_ai (pyproject.toml) ... \u001b[?25l\u001b[?25hdone\n",
            "  Created wheel for admet_ai: filename=admet_ai-1.2.0-py3-none-any.whl size=16957144 sha256=7d15c96efd9d3a32c36168e7b2f5b7ea1e1517cfabbc277b3c03b5e4766316e3\n",
            "  Stored in directory: /root/.cache/pip/wheels/cf/37/8f/00c555d98afc3986920302f812dadb6e7f0acba9fa827d0e88\n",
            "  Building wheel for rcsb-api (pyproject.toml) ... \u001b[?25l\u001b[?25hdone\n",
            "  Created wheel for rcsb-api: filename=rcsb_api-1.4.2-py3-none-any.whl size=574359 sha256=43b7053e947890be4821f58bb80f287a1472f5c7578a87cd4a28af5339046e87\n",
            "  Stored in directory: /root/.cache/pip/wheels/6b/4f/c3/4968a10119d500005599e1a2bd86fd671f9a10cf016d8a74b2\n",
            "Successfully built admet_ai rcsb-api\n",
            "Installing collected packages: pytz, pyperclip, pydub, py4j, puremagic, pathlib, parse, nvidia-cusparselt-cu12, mpmath, looseversion, flatbuffers, xmltodict, xlsxwriter, xlrd, websockets, urllib3, uritemplate, tzdata, typing_extensions, triton, traits, tqdm, threadpoolctl, tenacity, sympy, sphinxcontrib-serializinghtml, sphinxcontrib-qthelp, sphinxcontrib-jsmath, sphinxcontrib-htmlhelp, sphinxcontrib-devhelp, sphinxcontrib-applehelp, soupsieve, snowballstemmer, sniffio, six, simplejson, shellingham, setuptools, safetensors, rpds-py, roman-numerals-py, regex, PyYAML, python-multipart, python-dotenv, pypdfium2, pyparsing, PyJWT, Pygments, pycparser, pyasn1, psutil, protobuf, propcache, pillow, pathable, packaging, olefile, nvidia-nvtx-cu12, nvidia-nvshmem-cu12, nvidia-nvjitlink-cu12, nvidia-nccl-cu12, nvidia-curand-cu12, nvidia-cufile-cu12, nvidia-cuda-runtime-cu12, nvidia-cuda-nvrtc-cu12, nvidia-cuda-cupti-cu12, nvidia-cublas-cu12, numpy, networkx, nest-asyncio, mypy_extensions, multidict, more-itertools, mdurl, MarkupSafe, lxml, lazy-object-proxy, kiwisolver, joblib, jiter, itsdangerous, isodate, imagesize, idna, humanfriendly, httpx-sse, hf-xet, h11, greenlet, graphql-core, future, fsspec, frozenlist, fonttools, filelock, et_xmlfile, epam-indigo, docutils, docstring_parser, dnspython, distro, defusedxml, cycler, configparser, configobj, cobble, cloudpickle, click, ci-info, charset-normalizer, certifi, cachetools, blinker, babel, attrs, annotated-types, alabaster, aiohappyeyeballs, acres, yarl, Werkzeug, uvicorn, typing-inspection, typing-inspect, tensorboardX, SpeechRecognition, scipy, rustworkx, rsa, rfc3339-validator, requests, referencing, rdkit, rdflib, python-pptx, python-dateutil, pyee, pydot, pydantic_core, pyasn1_modules, proto-plus, openpyxl, nvidia-cusparse-cu12, nvidia-cufft-cu12, nvidia-cudnn-cu12, nibabel, markdown-it-py, mammoth, Jinja2, httplib2, httpcore, grpcio, googleapis-common-protos, faiss-cpu, exceptiongroup, email-validator, contourpy, coloredlogs, cffi, beautifulsoup4, anyio, aiosignal, youtube-transcript-api, typed-argument-parser, starlette, sse-starlette, Sphinx, scikit-learn, rich, pyxnat, pydantic, prov, playwright, pandas, onnxruntime, nvidia-cusolver-cu12, matplotlib, markdownify, jsonschema-specifications, jsonschema-path, hyperopt, huggingface-hub, httpx, grpcio-status, google-auth, Flask, etelemetry, cryptography, azure-core, aiohttp, xarray, typer, torch, tokenizers, rich-rst, rcsb-api, pydantic-settings, pdfminer.six, openapi-pydantic, openai-harmony, openai, nipype, magika, kernels, jsonschema, google-genai, google-auth-httplib2, google-api-core, fastapi, azure-ai-documentintelligence, Authlib, transformers, pdfplumber, pandas_flavor, openapi-schema-validator, msal, mcp, markitdown, google-api-python-client, fitz, cyclopts, bitsandbytes, accelerate, sentence-transformers, openapi-spec-validator, msal-extensions, google-ai-generativelanguage, descriptastorus, chemprop, openapi-core, google-generativeai, chemfunc, azure-identity, fastmcp, admet_ai, tooluniverse\n",
            "\u001b[2K   \u001b[90m━━━━━━━━━━━━━━━━━━━━━━━━━━━━━━━━━━━━━━━━\u001b[0m \u001b[32m237/237\u001b[0m [tooluniverse]\n",
            "\u001b[1A\u001b[2KSuccessfully installed Authlib-1.6.5 Flask-3.1.2 Jinja2-3.1.6 MarkupSafe-3.0.3 PyJWT-2.10.1 PyYAML-6.0.3 Pygments-2.19.2 SpeechRecognition-3.14.3 Sphinx-8.2.3 Werkzeug-3.1.1 accelerate-1.10.1 acres-0.5.0 admet_ai-1.2.0 aiohappyeyeballs-2.6.1 aiohttp-3.13.0 aiosignal-1.4.0 alabaster-1.0.0 annotated-types-0.7.0 anyio-4.11.0 attrs-25.4.0 azure-ai-documentintelligence-1.0.2 azure-core-1.36.0 azure-identity-1.25.1 babel-2.17.0 beautifulsoup4-4.14.2 bitsandbytes-0.48.1 blinker-1.9.0 cachetools-6.2.1 certifi-2025.10.5 cffi-2.0.0 charset-normalizer-3.4.4 chemfunc-1.0.12 chemprop-1.6.1 ci-info-0.3.0 click-8.3.0 cloudpickle-3.1.1 cobble-0.1.4 coloredlogs-15.0.1 configobj-5.0.9 configparser-7.2.0 contourpy-1.3.3 cryptography-46.0.3 cycler-0.12.1 cyclopts-3.24.0 defusedxml-0.7.1 descriptastorus-2.8.0 distro-1.9.0 dnspython-2.8.0 docstring_parser-0.17.0 docutils-0.21.2 email-validator-2.3.0 epam-indigo-1.36.0 et_xmlfile-2.0.0 etelemetry-0.3.1 exceptiongroup-1.3.0 faiss-cpu-1.12.0 fastapi-0.119.0 fastmcp-2.12.4 filelock-3.20.0 fitz-0.0.1.dev2 flatbuffers-25.9.23 fonttools-4.60.1 frozenlist-1.8.0 fsspec-2025.9.0 future-1.0.0 google-ai-generativelanguage-0.6.15 google-api-core-2.26.0 google-api-python-client-2.184.0 google-auth-2.41.1 google-auth-httplib2-0.2.0 google-genai-1.45.0 google-generativeai-0.8.5 googleapis-common-protos-1.70.0 graphql-core-3.2.6 greenlet-3.2.4 grpcio-1.75.1 grpcio-status-1.71.2 h11-0.16.0 hf-xet-1.1.10 httpcore-1.0.9 httplib2-0.31.0 httpx-0.28.1 httpx-sse-0.4.3 huggingface-hub-0.35.3 humanfriendly-10.0 hyperopt-0.2.7 idna-3.11 imagesize-1.4.1 isodate-0.7.2 itsdangerous-2.2.0 jiter-0.11.0 joblib-1.5.2 jsonschema-4.25.1 jsonschema-path-0.3.4 jsonschema-specifications-2025.9.1 kernels-0.10.4 kiwisolver-1.4.9 lazy-object-proxy-1.12.0 looseversion-1.3.0 lxml-6.0.2 magika-0.6.2 mammoth-1.10.0 markdown-it-py-4.0.0 markdownify-1.2.0 markitdown-0.1.3 matplotlib-3.10.7 mcp-1.17.0 mdurl-0.1.2 more-itertools-10.8.0 mpmath-1.3.0 msal-1.34.0 msal-extensions-1.3.1 multidict-6.7.0 mypy_extensions-1.1.0 nest-asyncio-1.6.0 networkx-3.5 nibabel-5.3.2 nipype-1.10.0 numpy-2.3.4 nvidia-cublas-cu12-12.8.4.1 nvidia-cuda-cupti-cu12-12.8.90 nvidia-cuda-nvrtc-cu12-12.8.93 nvidia-cuda-runtime-cu12-12.8.90 nvidia-cudnn-cu12-9.10.2.21 nvidia-cufft-cu12-11.3.3.83 nvidia-cufile-cu12-1.13.1.3 nvidia-curand-cu12-10.3.9.90 nvidia-cusolver-cu12-11.7.3.90 nvidia-cusparse-cu12-12.5.8.93 nvidia-cusparselt-cu12-0.7.1 nvidia-nccl-cu12-2.27.5 nvidia-nvjitlink-cu12-12.8.93 nvidia-nvshmem-cu12-3.3.20 nvidia-nvtx-cu12-12.8.90 olefile-0.47 onnxruntime-1.23.1 openai-2.4.0 openai-harmony-0.0.4 openapi-core-0.19.5 openapi-pydantic-0.5.1 openapi-schema-validator-0.6.3 openapi-spec-validator-0.7.2 openpyxl-3.1.5 packaging-25.0 pandas-2.3.3 pandas_flavor-0.7.0 parse-1.20.2 pathable-0.4.4 pathlib-1.0.1 pdfminer.six-20250506 pdfplumber-0.11.7 pillow-12.0.0 playwright-1.55.0 propcache-0.4.1 proto-plus-1.26.1 protobuf-5.29.5 prov-2.1.1 psutil-7.1.0 puremagic-1.30 py4j-0.10.9.9 pyasn1-0.6.1 pyasn1_modules-0.4.2 pycparser-2.23 pydantic-2.12.2 pydantic-settings-2.11.0 pydantic_core-2.41.4 pydot-4.0.1 pydub-0.25.1 pyee-13.0.0 pyparsing-3.2.5 pypdfium2-4.30.0 pyperclip-1.11.0 python-dateutil-2.9.0.post0 python-dotenv-1.1.1 python-multipart-0.0.20 python-pptx-1.0.2 pytz-2025.2 pyxnat-1.6.3 rcsb-api-1.4.2 rdflib-7.2.1 rdkit-2025.9.1 referencing-0.36.2 regex-2025.9.18 requests-2.32.5 rfc3339-validator-0.1.4 rich-14.2.0 rich-rst-1.3.2 roman-numerals-py-3.1.0 rpds-py-0.27.1 rsa-4.9.1 rustworkx-0.17.1 safetensors-0.6.2 scikit-learn-1.7.2 scipy-1.16.2 sentence-transformers-5.1.1 setuptools-80.9.0 shellingham-1.5.4 simplejson-3.20.2 six-1.17.0 sniffio-1.3.1 snowballstemmer-3.0.1 soupsieve-2.8 sphinxcontrib-applehelp-2.0.0 sphinxcontrib-devhelp-2.0.0 sphinxcontrib-htmlhelp-2.1.0 sphinxcontrib-jsmath-1.0.1 sphinxcontrib-qthelp-2.0.0 sphinxcontrib-serializinghtml-2.0.0 sse-starlette-3.0.2 starlette-0.48.0 sympy-1.14.0 tenacity-9.1.2 tensorboardX-2.6.4 threadpoolctl-3.6.0 tokenizers-0.22.1 tooluniverse-1.0.9.1 torch-2.9.0 tqdm-4.67.1 traits-7.0.2 transformers-4.57.1 triton-3.5.0 typed-argument-parser-1.11.0 typer-0.19.2 typing-inspect-0.9.0 typing-inspection-0.4.2 typing_extensions-4.15.0 tzdata-2025.2 uritemplate-4.2.0 urllib3-2.5.0 uvicorn-0.37.0 websockets-15.0.1 xarray-2025.10.1 xlrd-2.0.2 xlsxwriter-3.2.9 xmltodict-1.0.2 yarl-1.22.0 youtube-transcript-api-1.0.3\n"
          ]
        }
      ]
    },
    {
      "cell_type": "code",
      "source": [
        "env_path = './env/lib/python3.12/site-packages'\n",
        "sys.path.append(env_path)"
      ],
      "metadata": {
        "id": "-ZUMoBzSGNhR"
      },
      "execution_count": null,
      "outputs": []
    },
    {
      "cell_type": "markdown",
      "source": [
        "### read config"
      ],
      "metadata": {
        "id": "BdFwkAnUBsrm"
      }
    },
    {
      "cell_type": "code",
      "source": [
        "import json"
      ],
      "metadata": {
        "id": "gO5GecuxCZKw"
      },
      "execution_count": null,
      "outputs": []
    },
    {
      "cell_type": "code",
      "source": [
        "config_path= \"metadata_config_val.json\"\n",
        "config = json.load(open(config_path, 'r')) if config_path else {}\n",
        "if 'dataset' in config:\n",
        "    dataset_config = config['dataset']\n",
        "    dataset_name = dataset_config.get('dataset_name', 'treatment')\n",
        "print(f\"\\nconfig file: {config_path}\\ncontents:\\n{dataset_config}\")\n",
        "dataset_path = dataset_config.get(\"dataset_path\")"
      ],
      "metadata": {
        "colab": {
          "base_uri": "https://localhost:8080/"
        },
        "id": "2pqfpQoAB_46",
        "outputId": "91ca21cc-d566-4346-c147-50c694566242"
      },
      "execution_count": null,
      "outputs": [
        {
          "output_type": "stream",
          "name": "stdout",
          "text": [
            "\n",
            "config file: metadata_config_val.json\n",
            "contents:\n",
            "{'dataset_name': 'cure_bench_phase1_val', 'dataset_path': 'resources/curebench_valset_pharse1.jsonl', 'description': 'CureBench 2025 val questions'}\n"
          ]
        }
      ]
    },
    {
      "cell_type": "code",
      "source": [
        "config"
      ],
      "metadata": {
        "id": "XECZZtaYFDhQ",
        "outputId": "1f3065c0-7d52-48c3-9876-a35f1b587f98",
        "colab": {
          "base_uri": "https://localhost:8080/"
        }
      },
      "execution_count": null,
      "outputs": [
        {
          "output_type": "execute_result",
          "data": {
            "text/plain": [
              "{'metadata': {'model_name': 'gpt-oss-20b',\n",
              "  'model_type': 'Open weight model',\n",
              "  'track': 'internal_reasoning',\n",
              "  'base_model_type': 'Open weight model',\n",
              "  'base_model_name': 'gpt-oss-20b',\n",
              "  'dataset': 'cure_bench_phase1_val',\n",
              "  'additional_info': 'Submission using configuration file'},\n",
              " 'dataset': {'dataset_name': 'cure_bench_phase1_val',\n",
              "  'dataset_path': 'resources/curebench_valset_pharse1.jsonl',\n",
              "  'description': 'CureBench 2025 val questions'},\n",
              " 'output_dir': 'competition_test_results'}"
            ]
          },
          "metadata": {},
          "execution_count": 15
        }
      ]
    },
    {
      "cell_type": "markdown",
      "source": [
        "### load model with competition kit"
      ],
      "metadata": {
        "id": "kywdaMoPFHQ1"
      }
    },
    {
      "cell_type": "code",
      "source": [
        "from core.eval_framework import CompetitionKit, load_and_merge_config, create_metadata_parser"
      ],
      "metadata": {
        "id": "251v6MTuCtQq"
      },
      "execution_count": null,
      "outputs": []
    },
    {
      "cell_type": "code",
      "source": [
        "model_name = \"gpt-oss-20b\" # config['metadata']['model_name']\n",
        "print(f\"model name: {model_name}\")\n",
        "model_class = 'auto'"
      ],
      "metadata": {
        "id": "-VvZr31OFKhB",
        "outputId": "e185a8f2-d179-4670-8985-2b9fae6bc7eb",
        "colab": {
          "base_uri": "https://localhost:8080/"
        }
      },
      "execution_count": null,
      "outputs": [
        {
          "output_type": "stream",
          "name": "stdout",
          "text": [
            "model name: gpt-oss-20b\n"
          ]
        }
      ]
    },
    {
      "cell_type": "code",
      "source": [
        "kit = CompetitionKit(config_path=config_path)"
      ],
      "metadata": {
        "id": "buqnu50VCrYC"
      },
      "execution_count": null,
      "outputs": []
    },
    {
      "cell_type": "code",
      "source": [
        "print(f\"Loading model: {model_name}\")\n",
        "kit.load_model(model_name, model_class)"
      ],
      "metadata": {
        "id": "Ci3AiBCDDlwN"
      },
      "execution_count": null,
      "outputs": []
    },
    {
      "cell_type": "code",
      "source": [
        "kit.model.system_identity"
      ],
      "metadata": {
        "id": "24Ataw5zcTZb",
        "outputId": "650385a6-839d-4672-eefe-c3a5230d6a4a",
        "colab": {
          "base_uri": "https://localhost:8080/",
          "height": 122
        }
      },
      "execution_count": null,
      "outputs": [
        {
          "output_type": "execute_result",
          "data": {
            "text/plain": [
              "'\\nYou are an expert medical assistant specializing in answering questions.\\n\\n**Your communication MUST strictly adhere to the Harmony channels:**\\n1.  **analysis:** Use this for all internal Chain-of-Thought (CoT), clinical reasoning, and factual processing. This content is for internal use only.\\n2.  **final:** Use this channel for the final output intended for the user.\\n\\n**Output Rule is Conditional:**\\n* **If the input is a Multiple-Choice Question (MCQ):** Your output MUST be a single, valid JSON object containing only the selected answer letter.\\n    * **Format:** `{\"answer\": \"<LETTER>\"}` (e.g., `{\"answer\": \"A\"}`)\\n* **If the input is an Open-Ended Question:** Your output MUST be a detailed, coherent narrative response.\\n\\n**Instruction:** Generate a complete response. The final output must use the \\'final\\' channel and adhere to the conditional format rule.'"
            ],
            "application/vnd.google.colaboratory.intrinsic+json": {
              "type": "string"
            }
          },
          "metadata": {},
          "execution_count": 20
        }
      ]
    },
    {
      "cell_type": "code",
      "source": [
        "kit.list_datasets()"
      ],
      "metadata": {
        "id": "XIf4IdZHFpMM",
        "outputId": "840d85f3-b88c-4d8a-8228-9001a132e60d",
        "colab": {
          "base_uri": "https://localhost:8080/"
        }
      },
      "execution_count": null,
      "outputs": [
        {
          "output_type": "stream",
          "name": "stdout",
          "text": [
            "Available Datasets:\n",
            "--------------------------------------------------\n",
            "  cure_bench_phase1_val: CureBench 2025 val questions\n"
          ]
        }
      ]
    },
    {
      "cell_type": "markdown",
      "source": [
        "### run model with evaluate\n",
        "- takes about 23 seconds to do one example on L4 gpu"
      ],
      "metadata": {
        "id": "K_FwnViSvhgU"
      }
    },
    {
      "cell_type": "code",
      "source": [
        "subset_size = 3\n",
        "print(f\"Running evaluation on dataset: {dataset_name} (subset-size={subset_size})\")\n",
        "results = kit.evaluate(dataset_name, subset_size=subset_size)"
      ],
      "metadata": {
        "id": "AunwZYpdMLv8",
        "outputId": "c6dc248b-72fc-4f73-d244-6b4c7fec726c",
        "colab": {
          "base_uri": "https://localhost:8080/"
        }
      },
      "execution_count": null,
      "outputs": [
        {
          "output_type": "stream",
          "name": "stdout",
          "text": [
            "Running evaluation on dataset: cure_bench_phase1_val (subset-size=3)\n",
            "dataset_path: resources/curebench_valset_pharse1.jsonl\n",
            "CureBenchDataset initialized with 459 examples\n"
          ]
        },
        {
          "output_type": "stream",
          "name": "stderr",
          "text": [
            "\rEvaluating:   0%|          | 0/3 [00:00<?, ?it/s]"
          ]
        },
        {
          "output_type": "stream",
          "name": "stdout",
          "text": [
            "stopping criteria: []\n"
          ]
        },
        {
          "output_type": "stream",
          "name": "stderr",
          "text": [
            "WARNING:root:[Harmony parse error] Unknown role: Assistant - Using raw decode fallback\n",
            "Evaluating:  33%|███▎      | 1/3 [00:31<01:02, 31.48s/it]"
          ]
        },
        {
          "output_type": "stream",
          "name": "stdout",
          "text": [
            "expected_answer: A\n",
            "stopping criteria: []\n"
          ]
        },
        {
          "output_type": "stream",
          "name": "stderr",
          "text": [
            "WARNING:root:[Harmony parse error] Unexpected token 200007 while expecting start token 200006 - Using raw decode fallback\n"
          ]
        },
        {
          "output_type": "stream",
          "name": "stdout",
          "text": [
            "stopping criteria: []\n"
          ]
        },
        {
          "output_type": "stream",
          "name": "stderr",
          "text": [
            "WARNING:root:[Harmony parse error] Unexpected token 200007 while expecting start token 200006 - Using raw decode fallback\n",
            "Evaluating:  67%|██████▋   | 2/3 [01:36<00:51, 51.10s/it]"
          ]
        },
        {
          "output_type": "stream",
          "name": "stdout",
          "text": [
            "expected_answer: B\n",
            "stopping criteria: []\n"
          ]
        },
        {
          "output_type": "stream",
          "name": "stderr",
          "text": [
            "WARNING:root:[Harmony parse error] Unexpected token 200007 while expecting start token 200006 - Using raw decode fallback\n"
          ]
        },
        {
          "output_type": "stream",
          "name": "stdout",
          "text": [
            "stopping criteria: []\n"
          ]
        },
        {
          "output_type": "stream",
          "name": "stderr",
          "text": [
            "Evaluating: 100%|██████████| 3/3 [02:19<00:00, 46.47s/it]"
          ]
        },
        {
          "output_type": "stream",
          "name": "stdout",
          "text": [
            "expected_answer: B\n"
          ]
        },
        {
          "output_type": "stream",
          "name": "stderr",
          "text": [
            "\n"
          ]
        }
      ]
    },
    {
      "cell_type": "code",
      "source": [
        "results"
      ],
      "metadata": {
        "id": "oogBQLm_M2ST",
        "outputId": "3b50c452-b278-4b78-a2a3-ac14be946a63",
        "colab": {
          "base_uri": "https://localhost:8080/"
        }
      },
      "execution_count": null,
      "outputs": [
        {
          "output_type": "execute_result",
          "data": {
            "text/plain": [
              "EvaluationResult(dataset_name='cure_bench_phase1_val', model_name='gpt-oss-20b', accuracy=1.0, correct_predictions=3, total_examples=3, predictions=[{'choice': 'A', 'open_ended_answer': '{\"answer\": \"A\"}'}, {'choice': 'B', 'open_ended_answer': 'analysisOpen ended; need explanation of steps: seek immediate care, call emergency services, administer epinephrine, etc. Also inform provider, stop infusion, monitor vitals, possible antihistamines/ steroids. Mention reporting adverse event.AssistantfinalWhen someone develops signs that point toward a serious hypersensitivity reaction—such as sudden swelling around the face or throat, difficulty breathing, wheezing, hives spreading over large areas of skin, chest tightness, rapid heartbeat, dizziness, fainting, or any other symptoms suggesting angioedema or anaphylaxis—they should act immediately:\\n\\n| Step | Action |\\n|------|--------|\\n| **Stop the drug** | If you’re still on the IV line, have your healthcare team halt the administration right away. |\\n| **Call Emergency Services / Go to ER** | In most countries dialing “911” (or local equivalent) will get help fast enough to treat life‑threatening allergies before it becomes critical. Even mild but rapidly progressing symptoms warrant urgent evaluation. |\\n> •\\u202fAnaphylactic shock can progress within minutes – time matters! |\\n\\n### Immediate treatment once EMS arrives:\\n1. **Epinephrine auto‐injector (if available)**  \\n   - Administer intramuscularly into the thigh (adult dose 0.3–0.5 mg). Repeat at 15‑30 minute intervals until stabilized.  \\n\\n2. **Airway support & oxygen**  \\n   – Secure airway if needed; provide high‑flow supplemental O₂.  \\n\\n3. **Intravenous access** with isotonic fluids → helps counter hypotension.  \\n\\n4. **Antihistamine therapy** (H₁/H₂ blockers such as diphenhydramine + ranitidine/hydroxyzine).  \\n\\n5. **Corticosteroids** (IV methylprednisolone or hydrocortisone) reduce late-phase inflammation.  \\n\\n6. **Continuous monitoring** of heart rate, blood pressure, SpO₂, respiratory effort.  \\n\\n7. **Prepare for advanced interventions** (intubation, vasopressors) if patient deteriorates despite initial measures.  \\n\\n---\\n\\n## After Stabilization\\n\\nOnce acute crisis resolves:\\n\\n1.\\xa0**Document everything** — onset timing relative to fosaprevant intake, symptom progression, doses given, vital changes, labs, imaging results.  \\n\\n| Documentation Item | Why It Matters |\\n|---------------------|---------------|\\n| Exact start/end times of reaction | Helps determine causality window. |'}, {'choice': 'B', 'open_ended_answer': 'analysisOpen ended => provide explanation.AssistantfinalWhen the dose‑indicator light or display on your\\u202fSti\\xadolto\\xa0Respimat® inhaler turns off or shows “0,” it means that no full doses remain available from that device. Here’s what you should do:\\n\\n| Step | Action |\\n|------|--------|\\n| **Check the label/label sticker** | Verify whether the unit has been used up completely; sometimes the indicator may show zero while there might still be one partial spray left. If unsure, treat as empty. |\\n| **Do not attempt further dosing with the same inhaler** | Using a depleted device can lead to inaccurate medication delivery and potential harm. |\\n> • **Replace the inhaler immediately** – obtain a new prefilled cartridge of Stio\\xadlto Respirat®. |\\n\\n### Why replacement matters  \\n• **Dose accuracy** – Each Actuation delivers exactly two puffs per actuation cycle when fully charged. A partially emptied reservoir will give fewer than the prescribed number of actuations. <br>\\n• **Safety & efficacy** – Incomplete drug release could worsen asthma control or cause side effects due to overuse of rescue medications.  \\n\\n### Practical tips for managing replacements  \\n1. **Keep spare cartridges handy**—especially during travel or busy periods.<br>\\n2. **Label each new inhaler clearly** so patients know which ones have already been opened but aren’t yet exhausted.<br>\\n\\n3. **Dispose properly** – Once the dose‐indication reads zero, discard according to local regulations for pharmaceutical waste.  \\n\\n---\\n\\n#### Quick reference checklist:\\n- [ ] Dose indicator = 0 → consider inhaler empty.  \\n- [x] Do NOT continue using it.  \\n+ Replace with fresh cartridge ASAP.  \\n– Dispose old inhaler safely.'}], reasoning_traces=[[{'role': 'assistant', 'content': 'analysisWe need choose correct option that is a drug brand used for acne. Options list generic names? A salicylic acid topical treatments like Neutrogena Acne Foaming Wash etc but not brand; B minoxidil hair growth; C ketoconazole antifungal; D fluocinonid steroid. So none brand names except maybe salicyclic acid product called Clean & Clear or ... But among options which one commonly treated acne? Salicyic acid yes as over-the-counter agent. So pick A. Provide {\"answer\":\"A\"}Assistantfinal{  \\n  \"answer\": \"\\\\\"A\\\\\"\"  \\n}'}], [{'role': 'assistant', 'content': 'analysisOpen ended; need explanation of steps: seek immediate care, call emergency services, administer epinephrine, etc. Also inform provider, stop infusion, monitor vitals, possible antihistamines/ steroids. Mention reporting adverse event.AssistantfinalWhen someone develops signs that point toward a serious hypersensitivity reaction—such as sudden swelling around the face or throat, difficulty breathing, wheezing, hives spreading over large areas of skin, chest tightness, rapid heartbeat, dizziness, fainting, or any other symptoms suggesting angioedema or anaphylaxis—they should act immediately:\\n\\n| Step | Action |\\n|------|--------|\\n| **Stop the drug** | If you’re still on the IV line, have your healthcare team halt the administration right away. |\\n| **Call Emergency Services / Go to ER** | In most countries dialing “911” (or local equivalent) will get help fast enough to treat life‑threatening allergies before it becomes critical. Even mild but rapidly progressing symptoms warrant urgent evaluation. |\\n> •\\u202fAnaphylactic shock can progress within minutes – time matters! |\\n\\n### Immediate treatment once EMS arrives:\\n1. **Epinephrine auto‐injector (if available)**  \\n   - Administer intramuscularly into the thigh (adult dose 0.3–0.5 mg). Repeat at 15‑30 minute intervals until stabilized.  \\n\\n2. **Airway support & oxygen**  \\n   – Secure airway if needed; provide high‑flow supplemental O₂.  \\n\\n3. **Intravenous access** with isotonic fluids → helps counter hypotension.  \\n\\n4. **Antihistamine therapy** (H₁/H₂ blockers such as diphenhydramine + ranitidine/hydroxyzine).  \\n\\n5. **Corticosteroids** (IV methylprednisolone or hydrocortisone) reduce late-phase inflammation.  \\n\\n6. **Continuous monitoring** of heart rate, blood pressure, SpO₂, respiratory effort.  \\n\\n7. **Prepare for advanced interventions** (intubation, vasopressors) if patient deteriorates despite initial measures.  \\n\\n---\\n\\n## After Stabilization\\n\\nOnce acute crisis resolves:\\n\\n1.\\xa0**Document everything** — onset timing relative to fosaprevant intake, symptom progression, doses given, vital changes, labs, imaging results.  \\n\\n| Documentation Item | Why It Matters |\\n|---------------------|---------------|\\n| Exact start/end times of reaction | Helps determine causality window. |'}, {'role': 'assistant', 'content': 'analysisWe choose B.Assistantfinal{\"answer\":\"B\"}nary? No. So we keep original. Good. Let\\'s produce final.'}], [{'role': 'assistant', 'content': 'analysisOpen ended => provide explanation.AssistantfinalWhen the dose‑indicator light or display on your\\u202fSti\\xadolto\\xa0Respimat® inhaler turns off or shows “0,” it means that no full doses remain available from that device. Here’s what you should do:\\n\\n| Step | Action |\\n|------|--------|\\n| **Check the label/label sticker** | Verify whether the unit has been used up completely; sometimes the indicator may show zero while there might still be one partial spray left. If unsure, treat as empty. |\\n| **Do not attempt further dosing with the same inhaler** | Using a depleted device can lead to inaccurate medication delivery and potential harm. |\\n> • **Replace the inhaler immediately** – obtain a new prefilled cartridge of Stio\\xadlto Respirat®. |\\n\\n### Why replacement matters  \\n• **Dose accuracy** – Each Actuation delivers exactly two puffs per actuation cycle when fully charged. A partially emptied reservoir will give fewer than the prescribed number of actuations. <br>\\n• **Safety & efficacy** – Incomplete drug release could worsen asthma control or cause side effects due to overuse of rescue medications.  \\n\\n### Practical tips for managing replacements  \\n1. **Keep spare cartridges handy**—especially during travel or busy periods.<br>\\n2. **Label each new inhaler clearly** so patients know which ones have already been opened but aren’t yet exhausted.<br>\\n\\n3. **Dispose properly** – Once the dose‐indication reads zero, discard according to local regulations for pharmaceutical waste.  \\n\\n---\\n\\n#### Quick reference checklist:\\n- [ ] Dose indicator = 0 → consider inhaler empty.  \\n- [x] Do NOT continue using it.  \\n+ Replace with fresh cartridge ASAP.  \\n– Dispose old inhaler safely.'}, {'role': <Role.ASSISTANT: 'assistant'>, 'name': None, 'content': [{'type': 'text', 'text': 'We need choose correct MCQ answer based on given options. Agent says replace inhaler -> that\\'s B. So produce {\"answer\":\"B\"}'}], 'channel': 'analysis'}]], details=None)"
            ]
          },
          "metadata": {},
          "execution_count": 23
        }
      ]
    },
    {
      "cell_type": "markdown",
      "source": [
        "### run model manually"
      ],
      "metadata": {
        "id": "iSapw-Hkvk1d"
      }
    },
    {
      "cell_type": "code",
      "source": [
        "import pandas as pd\n",
        "from typing import Dict, List\n",
        "from torch.utils.data import DataLoader\n",
        "from dataset_utils import build_dataset\n",
        "from core.eval_framework import GPTOSS20BModel\n",
        "from openai_harmony import load_harmony_encoding"
      ],
      "metadata": {
        "id": "eQggp7Tyy9em"
      },
      "execution_count": null,
      "outputs": []
    },
    {
      "cell_type": "code",
      "source": [
        "def load_dataset_by_config(config_path):\n",
        "  # load config file to get dataset info\n",
        "  config = json.load(open(config_path, 'r')) if config_path else {}\n",
        "  if 'dataset' in config:\n",
        "      dataset_config = config['dataset']\n",
        "      dataset_name = dataset_config.get('dataset_name', 'treatment')\n",
        "  print(f\"\\nconfig file: {config_path}\\ncontents:\\n{dataset_config}\")\n",
        "  dataset_path = dataset_config.get(\"dataset_path\")\n",
        "\n",
        "  # build dataset\n",
        "  dataset = build_dataset(\n",
        "        dataset_config.get(\"dataset_path\"),\n",
        "    )\n",
        "  dataloader = DataLoader(dataset, batch_size=1, shuffle=False)\n",
        "  dataset_list = []\n",
        "\n",
        "  for batch in dataloader:\n",
        "      question_type = batch[0][0]\n",
        "\n",
        "      if question_type == \"multi_choice\":\n",
        "          dataset_list.append({\n",
        "              \"question_type\": batch[0][0],\n",
        "              \"id\": batch[1][0],\n",
        "              \"question\": batch[2][0],\n",
        "              \"answer\": batch[3][0],\n",
        "          })\n",
        "      elif question_type == \"open_ended_multi_choice\":\n",
        "          dataset_list.append({\n",
        "              \"question_type\": batch[0][0],\n",
        "              \"id\": batch[1][0],\n",
        "              \"question\": batch[2][0],\n",
        "              \"answer\": batch[3][0],\n",
        "              \"meta_question\": batch[4][0],\n",
        "          })\n",
        "      elif question_type == \"open_ended\":\n",
        "          dataset_list.append({\n",
        "              \"question_type\": batch[0][0],\n",
        "              \"id\": batch[1][0],\n",
        "              \"question\": batch[2][0],\n",
        "              \"answer\": batch[3][0],\n",
        "          })\n",
        "  return dataset_list"
      ],
      "metadata": {
        "id": "P9qxYT2WvrDM"
      },
      "execution_count": null,
      "outputs": []
    },
    {
      "cell_type": "code",
      "source": [
        "val_data_config_path= \"metadata_config_val.json\"\n",
        "val_data_list = load_dataset_by_config(val_data_config_path)"
      ],
      "metadata": {
        "id": "UmI4azpfyw8_",
        "outputId": "b4af2d33-324a-45bd-b4a9-d351036aa783",
        "colab": {
          "base_uri": "https://localhost:8080/"
        }
      },
      "execution_count": null,
      "outputs": [
        {
          "output_type": "stream",
          "name": "stdout",
          "text": [
            "\n",
            "config file: metadata_config_val.json\n",
            "contents:\n",
            "{'dataset_name': 'cure_bench_phase1_val', 'dataset_path': 'resources/curebench_valset_pharse1.jsonl', 'description': 'CureBench 2025 val questions'}\n",
            "dataset_path: resources/curebench_valset_pharse1.jsonl\n",
            "CureBenchDataset initialized with 459 examples\n"
          ]
        }
      ]
    },
    {
      "cell_type": "code",
      "source": [
        "dataset = val_data_list[:10]"
      ],
      "metadata": {
        "id": "HTQWJ4Jyy_x4"
      },
      "execution_count": null,
      "outputs": []
    },
    {
      "cell_type": "code",
      "source": [
        "dataset"
      ],
      "metadata": {
        "id": "BbFxmOdqzfml",
        "outputId": "035743df-75db-47c0-c814-0ecea624009e",
        "colab": {
          "base_uri": "https://localhost:8080/"
        }
      },
      "execution_count": null,
      "outputs": [
        {
          "output_type": "execute_result",
          "data": {
            "text/plain": [
              "[{'question_type': 'multi_choice',\n",
              "  'id': 'U9PHZ83RKYV8',\n",
              "  'question': 'Which drug brand name is associated with the treatment of acne?\\nA: Salicylic Acid\\nB: Minoxidil\\nC: Ketoconazole\\nD: Fluocinonide',\n",
              "  'answer': 'A'},\n",
              " {'question_type': 'open_ended_multi_choice',\n",
              "  'id': 'vIGwm8qguXYi',\n",
              "  'question': 'What should patients do if they experience severe allergic reactions during or after receiving fosaprepitant for injection?',\n",
              "  'answer': 'B',\n",
              "  'meta_question': \"The following is a multiple choice question about medicine and the agent's open-ended answer to the question. Convert the agent's answer to the final answer format using the corresponding option label, e.g., 'A', 'B', 'C', 'D', 'E' or 'None'. \\n\\nQuestion: What should patients do if they experience severe allergic reactions during or after receiving fosaprepitant for injection?\\nA: Wait for the symptoms to resolve on their own.\\nB: Inform their healthcare provider immediately and seek emergency medical care.\\nC: Stop chemotherapy treatment permanently.\\nD: Take over-the-counter antihistamines.\\n\\n\"},\n",
              " {'question_type': 'open_ended_multi_choice',\n",
              "  'id': 'GlpDnJvMaWbs',\n",
              "  'question': 'What should you do if the dose indicator on Stiolto Respimat reaches 0?',\n",
              "  'answer': 'B',\n",
              "  'meta_question': \"The following is a multiple choice question about medicine and the agent's open-ended answer to the question. Convert the agent's answer to the final answer format using the corresponding option label, e.g., 'A', 'B', 'C', 'D', 'E' or 'None'. \\n\\nQuestion: What should you do if the dose indicator on Stiolto Respimat reaches 0?\\nA: Continue using the inhaler until the cartridge is empty.\\nB: Prepare and use a new Stiolto Respimat inhaler.\\nC: Turn the clear base to reset the dose indicator.\\nD: Clean the mouthpiece and continue using the inhaler.\\n\\n\"},\n",
              " {'question_type': 'open_ended_multi_choice',\n",
              "  'id': 'WfWiWK0yULaX',\n",
              "  'question': 'Which of the following conditions is a contraindication for the use of Gadavist?',\n",
              "  'answer': 'B',\n",
              "  'meta_question': \"The following is a multiple choice question about medicine and the agent's open-ended answer to the question. Convert the agent's answer to the final answer format using the corresponding option label, e.g., 'A', 'B', 'C', 'D', 'E' or 'None'. \\n\\nQuestion: Which of the following conditions is a contraindication for the use of Gadavist?\\nA: Mild hypersensitivity reactions to Gadavist\\nB: History of severe hypersensitivity reactions to Gadavist\\nC: Renal impairment\\nD: Liver dysfunction\\n\\n\"},\n",
              " {'question_type': 'multi_choice',\n",
              "  'id': 'wzkMQ7uHtlLs',\n",
              "  'question': 'What is the primary consideration for lactating mothers using Albuterol Sulfate HFA?\\nA: It is contraindicated during lactation.\\nB: Plasma levels of albuterol are low, and effects on breastfed children are likely minimal.\\nC: It significantly reduces milk production.\\nD: It should only be used in emergencies.',\n",
              "  'answer': 'B'},\n",
              " {'question_type': 'multi_choice',\n",
              "  'id': 'hcZukKMtrRZ7',\n",
              "  'question': \"What is the minimum SPF value recommended for sunscreens to reduce the risk of skin cancer and early aging, as per the guidelines for the sunscreen branded as '70%'?\\nA: 5\\nB: 10\\nC: 15\\nD: 30\",\n",
              "  'answer': 'C'},\n",
              " {'question_type': 'multi_choice',\n",
              "  'id': 'cRbl2ruD1WMZ',\n",
              "  'question': \"Which of the following is NOT an indicated use for 'up and up ibuprofen'?\\nA: Relief of occasional sleeplessness\\nB: Relief of minor aches and pains\\nC: Treatment of chronic pain conditions\\nD: Helping users stay asleep\",\n",
              "  'answer': 'C'},\n",
              " {'question_type': 'open_ended_multi_choice',\n",
              "  'id': 'dlKfnTKdPf9G',\n",
              "  'question': 'What should a patient do if they experience severe allergic reactions while taking PERTZYE?',\n",
              "  'answer': 'B',\n",
              "  'meta_question': \"The following is a multiple choice question about medicine and the agent's open-ended answer to the question. Convert the agent's answer to the final answer format using the corresponding option label, e.g., 'A', 'B', 'C', 'D', 'E' or 'None'. \\n\\nQuestion: What should a patient do if they experience severe allergic reactions while taking PERTZYE?\\nA: Continue taking the medication and monitor symptoms\\nB: Stop taking PERTZYE and seek emergency treatment immediately\\nC: Reduce the dose and consult their doctor\\nD: Take an over-the-counter antihistamine\\n\\n\"},\n",
              " {'question_type': 'open_ended_multi_choice',\n",
              "  'id': 'rYhpGH3kQW8P',\n",
              "  'question': 'What is the recommended action if a patient’s serum potassium level reaches 6.0 mEq/L while on Inspra therapy?',\n",
              "  'answer': 'B',\n",
              "  'meta_question': \"The following is a multiple choice question about medicine and the agent's open-ended answer to the question. Convert the agent's answer to the final answer format using the corresponding option label, e.g., 'A', 'B', 'C', 'D', 'E' or 'None'. \\n\\nQuestion: What is the recommended action if a patient’s serum potassium level reaches 6.0 mEq/L while on Inspra therapy?\\nA: Reduce the dose to 25 mg every other day\\nB: Withhold Inspra therapy\\nC: Continue the current dose\\nD: Increase the dose to 50 mg once daily\\n\\n\"},\n",
              " {'question_type': 'open_ended_multi_choice',\n",
              "  'id': 'ZFU0wbRPwuMG',\n",
              "  'question': 'What precaution should be taken for patients with a history of allergic disorders before administering Gadavist?',\n",
              "  'answer': 'C',\n",
              "  'meta_question': \"The following is a multiple choice question about medicine and the agent's open-ended answer to the question. Convert the agent's answer to the final answer format using the corresponding option label, e.g., 'A', 'B', 'C', 'D', 'E' or 'None'. \\n\\nQuestion: What precaution should be taken for patients with a history of allergic disorders before administering Gadavist?\\nA: Administer Gadavist in a diluted form\\nB: Avoid Gadavist administration entirely\\nC: Assess the patient’s history of reactions to contrast media and ensure trained personnel are available for resuscitation\\nD: Perform hemodialysis immediately after administration\\n\\n\"}]"
            ]
          },
          "metadata": {},
          "execution_count": 15
        }
      ]
    },
    {
      "cell_type": "code",
      "source": [
        "example = dataset[3]\n",
        "print(example)"
      ],
      "metadata": {
        "id": "IEWvl_g5zhkv",
        "outputId": "5d4f95ce-8c22-4337-fb68-a4d4e4e48b89",
        "colab": {
          "base_uri": "https://localhost:8080/"
        }
      },
      "execution_count": null,
      "outputs": [
        {
          "output_type": "stream",
          "name": "stdout",
          "text": [
            "{'question_type': 'open_ended_multi_choice', 'id': 'WfWiWK0yULaX', 'question': 'Which of the following conditions is a contraindication for the use of Gadavist?', 'answer': 'B', 'meta_question': \"The following is a multiple choice question about medicine and the agent's open-ended answer to the question. Convert the agent's answer to the final answer format using the corresponding option label, e.g., 'A', 'B', 'C', 'D', 'E' or 'None'. \\n\\nQuestion: Which of the following conditions is a contraindication for the use of Gadavist?\\nA: Mild hypersensitivity reactions to Gadavist\\nB: History of severe hypersensitivity reactions to Gadavist\\nC: Renal impairment\\nD: Liver dysfunction\\n\\n\"}\n"
          ]
        }
      ]
    },
    {
      "cell_type": "code",
      "source": [
        "question = example[\"question\"]\n",
        "question_type = example[\"question_type\"]"
      ],
      "metadata": {
        "id": "ESBzddyLz0f2"
      },
      "execution_count": null,
      "outputs": []
    },
    {
      "cell_type": "code",
      "source": [
        "# Format prompt\n",
        "if question_type == \"multi_choice\":\n",
        "    prompt = f\"The following is a multiple choice question about medicine. Answer with a valid json containing the letter corresponding to the correct answer.\\n\\nQuestion: {question}\\n\\nAnswer:\"\n",
        "elif question_type == \"open_ended_multi_choice\" or question_type == \"open_ended\":\n",
        "    prompt = f\"The following is an open-ended question about medicine. Provide a comprehensive answer.\\n\\nQuestion: {question}\\n\\nAnswer:\""
      ],
      "metadata": {
        "id": "wRD2Ls3B0Ofm"
      },
      "execution_count": null,
      "outputs": []
    },
    {
      "cell_type": "code",
      "source": [
        "print(f\"prompt: {prompt}\")"
      ],
      "metadata": {
        "id": "ixUNZP7V0V1M",
        "outputId": "5ad0262b-ad81-4c52-d2b2-e83ed55050e0",
        "colab": {
          "base_uri": "https://localhost:8080/"
        }
      },
      "execution_count": null,
      "outputs": [
        {
          "output_type": "stream",
          "name": "stdout",
          "text": [
            "prompt: The following is an open-ended question about medicine. Provide a comprehensive answer.\n",
            "\n",
            "Question: Which of the following conditions is a contraindication for the use of Gadavist?\n",
            "\n",
            "Answer:\n"
          ]
        }
      ]
    },
    {
      "cell_type": "code",
      "source": [
        "system_identity = \"\"\"\n",
        "You are an expert medical assistant specializing in answering questions.\n",
        "\n",
        "**Your communication MUST strictly adhere to the Harmony channels:**\n",
        "1.  **analysis:** Use this for all internal Chain-of-Thought (CoT), clinical reasoning, and factual processing. This content is for internal use only.\n",
        "2.  **final:** Use this channel for the final output intended for the user.\n",
        "\n",
        "**Output Rule is Conditional:**\n",
        "* **If the input is a Multiple-Choice Question (MCQ):** Your output MUST be a single, valid JSON object containing only the selected answer letter.\n",
        "    * **Format:** `{\"answer\": \"<LETTER>\"}` (e.g., `{\"answer\": \"A\"}`)\n",
        "* **If the input is an Open-Ended Question:** Your output MUST be a detailed, coherent narrative response.\n",
        "\n",
        "**Instruction:** Generate a complete response. The final output must use the 'final' channel and adhere to the conditional format rule.\"\"\""
      ],
      "metadata": {
        "id": "XLfcWWJcFHcd"
      },
      "execution_count": null,
      "outputs": []
    },
    {
      "cell_type": "code",
      "source": [
        "# model = kit.model\n",
        "model = GPTOSS20BModel(\"openai/gpt-oss-20b\", reasoning_lvl=\"low\", quantization=\"auto\",\n",
        "                       system_identity=system_identity)\n",
        "model.load()"
      ],
      "metadata": {
        "id": "NadmrXfvAvPr"
      },
      "execution_count": null,
      "outputs": []
    },
    {
      "cell_type": "code",
      "source": [
        "# Pass this list to the stop_tokens argument\n",
        "stop_sequences = [\n",
        "    # 1. Stops the loop of internal reasoning tags\n",
        "    \"assistantfinal\",\n",
        "\n",
        "    # 2. Stops the common repetitive noise (often necessary)\n",
        "    \"analysisdone.\"\n",
        "]"
      ],
      "metadata": {
        "id": "Ogi8AeJXLC35"
      },
      "execution_count": null,
      "outputs": []
    },
    {
      "cell_type": "code",
      "source": [
        "response, reasoning_trace = model.inference(prompt,\n",
        "    stop_strings=stop_sequences )"
      ],
      "metadata": {
        "id": "vNHPBTgR0b4p"
      },
      "execution_count": null,
      "outputs": []
    },
    {
      "cell_type": "code",
      "source": [
        "response"
      ],
      "metadata": {
        "id": "dVa15M5m1AWK",
        "outputId": "6b942954-42a0-4ca3-e694-a3b60ae0e396",
        "colab": {
          "base_uri": "https://localhost:8080/",
          "height": 140
        }
      },
      "execution_count": null,
      "outputs": [
        {
          "output_type": "execute_result",
          "data": {
            "text/plain": [
              "'**Gadavist (gadobutrol)** is a gadolinium‑based contrast agent commonly used for magnetic resonance imaging (MRI) of the brain and spine. The safety of Gadavist, like all gadolinium‑based contrast agents, is contingent upon adequate renal clearance. **Severe or advanced renal impairment is the principal contraindication** because it predisposes patients to the rare but serious condition known as **Nephrogenic Systemic Fibrosis (NSF)** and increases the risk of gadolinium deposition.\\n\\nKey points:\\n\\n| Condition | Why it’s a contraindication for Gadavist | Typical guidelines |\\n|-----------|------------------------------------------|--------------------|\\n| **Severe chronic kidney disease (CKD Stage 4–5)** – eGFR < 30\\u202fmL/min/1.73\\u202fm² or requiring dialysis | Reduced elimination of gadobutrol → higher risk of NSF and gadolinium‑related toxicity | Avoid unless essential; if needed, use the lowest effective dose and consider alternative imaging modalities |\\n| **Acute kidney injury (AKI)** | Similar to CKD Stage 4–5; temporary renal impairment can lead to rapid accumulation | Similar avoidance approach |\\n| **Kidney transplant recipients on immunosuppressants** | Impaired renal function and concomitant immunosuppression heighten NSF risk | Use alternatives if possible |\\n| **Patients with uncontrolled hypertension or significant heart failure** | While not absolute contraindications, they necessitate careful assessment of volume status and potential renal perfusion issues | Monitor closely |\\n| **Pregnancy (especially second and third trimester)** | Limited data; gadolinium crosses the placenta and can potentially affect fetal development | Generally avoid unless benefit outweighs risk |\\n\\n**Bottom line:** If a patient has reduced kidney function (eGFR < 30\\u202fmL/min/1.73\\u202fm²) or is on dialysis, use of Gadavist is contraindicated unless no other viable imaging options exist. In such cases, clinicians should consider non‑contrast imaging, alternative contrast agents with a better safety profile in renal dysfunction, or deferring the study until renal function improves.'"
            ],
            "application/vnd.google.colaboratory.intrinsic+json": {
              "type": "string"
            }
          },
          "metadata": {},
          "execution_count": 50
        }
      ]
    },
    {
      "cell_type": "code",
      "source": [
        "reasoning_trace"
      ],
      "metadata": {
        "id": "zNQlMICf1Fgl",
        "outputId": "e4585745-b979-46d0-d359-87bd39cb37d4",
        "colab": {
          "base_uri": "https://localhost:8080/"
        }
      },
      "execution_count": null,
      "outputs": [
        {
          "output_type": "execute_result",
          "data": {
            "text/plain": [
              "[{'role': <Role.ASSISTANT: 'assistant'>,\n",
              "  'name': None,\n",
              "  'content': [{'type': 'text',\n",
              "    'text': 'Answer is open-ended? They phrased \"Which of the following conditions is a contraindication for the use of Gadavist?\" But no options given. Likely expecting mention kidney disease (renal impairment). So provide narrative.'}],\n",
              "  'channel': 'analysis'},\n",
              " {'role': <Role.ASSISTANT: 'assistant'>,\n",
              "  'name': None,\n",
              "  'content': [{'type': 'text',\n",
              "    'text': '**Gadavist (gadobutrol)** is a gadolinium‑based contrast agent commonly used for magnetic resonance imaging (MRI) of the brain and spine. The safety of Gadavist, like all gadolinium‑based contrast agents, is contingent upon adequate renal clearance. **Severe or advanced renal impairment is the principal contraindication** because it predisposes patients to the rare but serious condition known as **Nephrogenic Systemic Fibrosis (NSF)** and increases the risk of gadolinium deposition.\\n\\nKey points:\\n\\n| Condition | Why it’s a contraindication for Gadavist | Typical guidelines |\\n|-----------|------------------------------------------|--------------------|\\n| **Severe chronic kidney disease (CKD Stage 4–5)** – eGFR < 30\\u202fmL/min/1.73\\u202fm² or requiring dialysis | Reduced elimination of gadobutrol → higher risk of NSF and gadolinium‑related toxicity | Avoid unless essential; if needed, use the lowest effective dose and consider alternative imaging modalities |\\n| **Acute kidney injury (AKI)** | Similar to CKD Stage 4–5; temporary renal impairment can lead to rapid accumulation | Similar avoidance approach |\\n| **Kidney transplant recipients on immunosuppressants** | Impaired renal function and concomitant immunosuppression heighten NSF risk | Use alternatives if possible |\\n| **Patients with uncontrolled hypertension or significant heart failure** | While not absolute contraindications, they necessitate careful assessment of volume status and potential renal perfusion issues | Monitor closely |\\n| **Pregnancy (especially second and third trimester)** | Limited data; gadolinium crosses the placenta and can potentially affect fetal development | Generally avoid unless benefit outweighs risk |\\n\\n**Bottom line:** If a patient has reduced kidney function (eGFR < 30\\u202fmL/min/1.73\\u202fm²) or is on dialysis, use of Gadavist is contraindicated unless no other viable imaging options exist. In such cases, clinicians should consider non‑contrast imaging, alternative contrast agents with a better safety profile in renal dysfunction, or deferring the study until renal function improves.'}],\n",
              "  'channel': 'final'}]"
            ]
          },
          "metadata": {},
          "execution_count": 51
        }
      ]
    },
    {
      "cell_type": "code",
      "source": [
        "print(model.system_identity)"
      ],
      "metadata": {
        "id": "UM-kHuIB2e1r",
        "outputId": "012a7854-b609-4209-97f3-89d87b41c43c",
        "colab": {
          "base_uri": "https://localhost:8080/"
        }
      },
      "execution_count": null,
      "outputs": [
        {
          "output_type": "stream",
          "name": "stdout",
          "text": [
            "\n",
            "You are an expert medical assistant specializing in answering questions.\n",
            "\n",
            "**Your communication MUST strictly adhere to the Harmony channels:**\n",
            "1.  **analysis:** Use this for all internal Chain-of-Thought (CoT), clinical reasoning, and factual processing. This content is for internal use only.\n",
            "2.  **final:** Use this channel for the final output intended for the user.\n",
            "\n",
            "**Output Rule is Conditional:**\n",
            "* **If the input is a Multiple-Choice Question (MCQ):** Your output MUST be a single, valid JSON object containing only the selected answer letter.\n",
            "    * **Format:** `{\"answer\": \"<LETTER>\"}` (e.g., `{\"answer\": \"A\"}`)\n",
            "* **If the input is an Open-Ended Question:** Your output MUST be a detailed, coherent narrative response.\n",
            "\n",
            "**Instruction:** Generate a complete response. The final output must use the 'final' channel and adhere to the conditional format rule.\n"
          ]
        }
      ]
    },
    {
      "cell_type": "markdown",
      "source": [
        "### write submission to file"
      ],
      "metadata": {
        "id": "VCB14R21vtWB"
      }
    },
    {
      "cell_type": "code",
      "source": [
        "# Generate submission with metadata from config/args\n",
        "print(\"Generating submission with metadata...\")\n",
        "submission_path = kit.save_submission_with_metadata(\n",
        "    results=[results],\n",
        "    filename=\"submission.csv\",\n",
        "    config_path=config_path,\n",
        "    args=\"\"\n",
        ")\n",
        "\n",
        "print(f\"\\n✅ Evaluation completed successfully!\")\n",
        "print(f\"📊 Accuracy: {results.accuracy:.2%} ({results.correct_predictions}/{results.total_examples})\")\n",
        "print(f\"📄 Submission saved to: {submission_path}\")\n",
        "\n",
        "# # Show metadata summary if verbose\n",
        "# final_metadata = kit.get_metadata(getattr(args, 'config', None), args)\n",
        "# print(\"\\n📋 Final metadata:\")\n",
        "# for key, value in final_metadata.items():\n",
        "#     print(f\"  {key}: {value}\")\n"
      ],
      "metadata": {
        "id": "sinqBSkUTD2o"
      },
      "execution_count": null,
      "outputs": []
    },
    {
      "cell_type": "markdown",
      "source": [
        "### stopping criteria"
      ],
      "metadata": {
        "id": "MjkKTtPheKnf"
      }
    },
    {
      "cell_type": "code",
      "source": [
        "from transformers import StoppingCriteria, StoppingCriteriaList"
      ],
      "metadata": {
        "id": "QuhMQV4NeMmW"
      },
      "execution_count": null,
      "outputs": []
    },
    {
      "cell_type": "code",
      "source": [
        "stopping_criteria = StoppingCriteriaList()"
      ],
      "metadata": {
        "id": "ztazK9ZYeZc0"
      },
      "execution_count": null,
      "outputs": []
    },
    {
      "cell_type": "code",
      "source": [
        "StoppingCriteria"
      ],
      "metadata": {
        "id": "wivcHxkPeaWA",
        "outputId": "56a4fe60-cbdc-41e4-cb2e-19634aa7a0c1",
        "colab": {
          "base_uri": "https://localhost:8080/",
          "height": 203
        }
      },
      "execution_count": null,
      "outputs": [
        {
          "output_type": "execute_result",
          "data": {
            "text/plain": [
              "transformers.generation.stopping_criteria.StoppingCriteria"
            ],
            "text/html": [
              "<div style=\"max-width:800px; border: 1px solid var(--colab-border-color);\"><style>\n",
              "      pre.function-repr-contents {\n",
              "        overflow-x: auto;\n",
              "        padding: 8px 12px;\n",
              "        max-height: 500px;\n",
              "      }\n",
              "\n",
              "      pre.function-repr-contents.function-repr-contents-collapsed {\n",
              "        cursor: pointer;\n",
              "        max-height: 100px;\n",
              "      }\n",
              "    </style>\n",
              "    <pre style=\"white-space: initial; background:\n",
              "         var(--colab-secondary-surface-color); padding: 8px 12px;\n",
              "         border-bottom: 1px solid var(--colab-border-color);\"><b>transformers.generation.stopping_criteria.StoppingCriteria</b><br/>def __call__(input_ids: torch.LongTensor, scores: torch.FloatTensor, **kwargs) -&gt; torch.BoolTensor</pre><pre class=\"function-repr-contents function-repr-contents-collapsed\" style=\"\"><a class=\"filepath\" style=\"display:none\" href=\"#\">/usr/local/lib/python3.12/dist-packages/transformers/generation/stopping_criteria.py</a>Abstract base class for all stopping criteria that can be applied during generation.\n",
              "\n",
              "If your stopping criteria depends on the `scores` input, make sure you pass `return_dict_in_generate=True,\n",
              "output_scores=True` to `generate`.</pre>\n",
              "      <script>\n",
              "      if (google.colab.kernel.accessAllowed && google.colab.files && google.colab.files.view) {\n",
              "        for (const element of document.querySelectorAll('.filepath')) {\n",
              "          element.style.display = 'block'\n",
              "          element.onclick = (event) => {\n",
              "            event.preventDefault();\n",
              "            event.stopPropagation();\n",
              "            google.colab.files.view(element.textContent, 47);\n",
              "          };\n",
              "        }\n",
              "      }\n",
              "      for (const element of document.querySelectorAll('.function-repr-contents')) {\n",
              "        element.onclick = (event) => {\n",
              "          event.preventDefault();\n",
              "          event.stopPropagation();\n",
              "          element.classList.toggle('function-repr-contents-collapsed');\n",
              "        };\n",
              "      }\n",
              "      </script>\n",
              "      </div>"
            ]
          },
          "metadata": {},
          "execution_count": 22
        }
      ]
    },
    {
      "cell_type": "code",
      "source": [
        "stopping_criteria"
      ],
      "metadata": {
        "id": "9lzkNUo2eunv",
        "outputId": "e1b3e168-aec1-421e-881d-12a0e3f44a33",
        "colab": {
          "base_uri": "https://localhost:8080/"
        }
      },
      "execution_count": null,
      "outputs": [
        {
          "output_type": "execute_result",
          "data": {
            "text/plain": [
              "[]"
            ]
          },
          "metadata": {},
          "execution_count": 23
        }
      ]
    },
    {
      "cell_type": "code",
      "source": [
        "kit.model.enc"
      ],
      "metadata": {
        "id": "P-IXY2NUfRbN",
        "outputId": "0f56f97e-d94e-4611-8d12-81ad73ad1488",
        "colab": {
          "base_uri": "https://localhost:8080/"
        }
      },
      "execution_count": null,
      "outputs": [
        {
          "output_type": "execute_result",
          "data": {
            "text/plain": [
              "<openai_harmony.HarmonyEncoding at 0x78ef742ad280>"
            ]
          },
          "metadata": {},
          "execution_count": 24
        }
      ]
    }
  ]
}