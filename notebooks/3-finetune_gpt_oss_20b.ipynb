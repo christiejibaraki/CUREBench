{
  "nbformat": 4,
  "nbformat_minor": 0,
  "metadata": {
    "colab": {
      "provenance": [],
      "gpuType": "L4",
      "include_colab_link": true
    },
    "kernelspec": {
      "name": "python3",
      "display_name": "Python 3"
    },
    "language_info": {
      "name": "python"
    },
    "accelerator": "GPU"
  },
  "cells": [
    {
      "cell_type": "markdown",
      "metadata": {
        "id": "view-in-github",
        "colab_type": "text"
      },
      "source": [
        "<a href=\"https://colab.research.google.com/github/christiejibaraki/CUREBench/blob/main/notebooks/2-eval_gpt_oss_20b.ipynb\" target=\"_parent\"><img src=\"https://colab.research.google.com/assets/colab-badge.svg\" alt=\"Open In Colab\"/></a>"
      ]
    },
    {
      "cell_type": "markdown",
      "source": [
        "## Run CUREBench eval\n",
        "- run prediction\n",
        "- run eval"
      ],
      "metadata": {
        "id": "heZIt_VzT0JB"
      }
    },
    {
      "cell_type": "code",
      "source": [
        "!nvcc --version"
      ],
      "metadata": {
        "id": "tBz3IkJsT2Ee",
        "colab": {
          "base_uri": "https://localhost:8080/"
        },
        "outputId": "b142ca66-2036-4538-ffbd-3f822211ccc3"
      },
      "execution_count": 1,
      "outputs": [
        {
          "output_type": "stream",
          "name": "stdout",
          "text": [
            "nvcc: NVIDIA (R) Cuda compiler driver\n",
            "Copyright (c) 2005-2024 NVIDIA Corporation\n",
            "Built on Thu_Jun__6_02:18:23_PDT_2024\n",
            "Cuda compilation tools, release 12.5, V12.5.82\n",
            "Build cuda_12.5.r12.5/compiler.34385749_0\n"
          ]
        }
      ]
    },
    {
      "cell_type": "code",
      "source": [
        "import os\n",
        "import sys\n",
        "import os.path"
      ],
      "metadata": {
        "id": "pKdMRSj2AIe5"
      },
      "execution_count": 2,
      "outputs": []
    },
    {
      "cell_type": "code",
      "source": [
        "os.environ['BNB_CUDA_VERSION'] = '125'\n",
        "os.environ['PYTORCH_CUDA_ALLOC_CONF'] = 'expandable_segments:True'"
      ],
      "metadata": {
        "id": "gsO29AFhALPD"
      },
      "execution_count": 3,
      "outputs": []
    },
    {
      "cell_type": "markdown",
      "source": [
        "## Setup\n",
        "- Clone forked CUREBench repo onto local `content` folder (this is not persistent)\n",
        "- Create virtual environment and install packages\n",
        "  - Package installation takes about **5 min** ⏰\n",
        "- Add virtual environment's site-packages to notebook's system path"
      ],
      "metadata": {
        "id": "nVBGcBUGAPRT"
      }
    },
    {
      "cell_type": "code",
      "source": [
        "!git clone https://github.com/christiejibaraki/CUREBench.git"
      ],
      "metadata": {
        "colab": {
          "base_uri": "https://localhost:8080/"
        },
        "id": "hWQg8HLHARKo",
        "outputId": "baaee6f4-20da-4443-e9f5-aeb2aef8e9f6"
      },
      "execution_count": 4,
      "outputs": [
        {
          "output_type": "stream",
          "name": "stdout",
          "text": [
            "Cloning into 'CUREBench'...\n",
            "remote: Enumerating objects: 215, done.\u001b[K\n",
            "remote: Counting objects: 100% (126/126), done.\u001b[K\n",
            "remote: Compressing objects: 100% (94/94), done.\u001b[K\n",
            "remote: Total 215 (delta 73), reused 61 (delta 32), pack-reused 89 (from 2)\u001b[K\n",
            "Receiving objects: 100% (215/215), 3.00 MiB | 8.45 MiB/s, done.\n",
            "Resolving deltas: 100% (102/102), done.\n"
          ]
        }
      ]
    },
    {
      "cell_type": "code",
      "source": [
        "%cd CUREBench"
      ],
      "metadata": {
        "colab": {
          "base_uri": "https://localhost:8080/"
        },
        "id": "vSxna_C1AWEy",
        "outputId": "18db70f0-5104-4b9c-b45a-b6a37527b7f0"
      },
      "execution_count": 5,
      "outputs": [
        {
          "output_type": "stream",
          "name": "stdout",
          "text": [
            "/content/CUREBench\n"
          ]
        }
      ]
    },
    {
      "cell_type": "code",
      "source": [
        "!git pull"
      ],
      "metadata": {
        "colab": {
          "base_uri": "https://localhost:8080/"
        },
        "id": "doxA-xFfAaVr",
        "outputId": "bbd53c0f-4e3c-40ec-d684-05d9958ee133"
      },
      "execution_count": 6,
      "outputs": [
        {
          "output_type": "stream",
          "name": "stdout",
          "text": [
            "Already up to date.\n"
          ]
        }
      ]
    },
    {
      "cell_type": "code",
      "source": [
        "!pip install virtualenv"
      ],
      "metadata": {
        "colab": {
          "base_uri": "https://localhost:8080/"
        },
        "id": "6LJ9doypAbmE",
        "outputId": "857668a0-fd68-4008-93a7-a92b855bdfd8"
      },
      "execution_count": 8,
      "outputs": [
        {
          "output_type": "stream",
          "name": "stdout",
          "text": [
            "Collecting virtualenv\n",
            "  Downloading virtualenv-20.35.3-py3-none-any.whl.metadata (4.6 kB)\n",
            "Collecting distlib<1,>=0.3.7 (from virtualenv)\n",
            "  Downloading distlib-0.4.0-py2.py3-none-any.whl.metadata (5.2 kB)\n",
            "Requirement already satisfied: filelock<4,>=3.12.2 in /usr/local/lib/python3.12/dist-packages (from virtualenv) (3.20.0)\n",
            "Requirement already satisfied: platformdirs<5,>=3.9.1 in /usr/local/lib/python3.12/dist-packages (from virtualenv) (4.5.0)\n",
            "Downloading virtualenv-20.35.3-py3-none-any.whl (6.0 MB)\n",
            "\u001b[2K   \u001b[90m━━━━━━━━━━━━━━━━━━━━━━━━━━━━━━━━━━━━━━━━\u001b[0m \u001b[32m6.0/6.0 MB\u001b[0m \u001b[31m81.5 MB/s\u001b[0m eta \u001b[36m0:00:00\u001b[0m\n",
            "\u001b[?25hDownloading distlib-0.4.0-py2.py3-none-any.whl (469 kB)\n",
            "\u001b[2K   \u001b[90m━━━━━━━━━━━━━━━━━━━━━━━━━━━━━━━━━━━━━━━━\u001b[0m \u001b[32m469.0/469.0 kB\u001b[0m \u001b[31m49.4 MB/s\u001b[0m eta \u001b[36m0:00:00\u001b[0m\n",
            "\u001b[?25hInstalling collected packages: distlib, virtualenv\n",
            "Successfully installed distlib-0.4.0 virtualenv-20.35.3\n"
          ]
        }
      ]
    },
    {
      "cell_type": "code",
      "source": [
        "!virtualenv env"
      ],
      "metadata": {
        "colab": {
          "base_uri": "https://localhost:8080/"
        },
        "id": "LQBzzKJ0Ad15",
        "outputId": "7d404d78-4468-4309-f162-c0a5fd23c048"
      },
      "execution_count": 9,
      "outputs": [
        {
          "output_type": "stream",
          "name": "stdout",
          "text": [
            "created virtual environment CPython3.12.12.final.0-64 in 246ms\n",
            "  creator CPython3Posix(dest=/content/CUREBench/env, clear=False, no_vcs_ignore=False, global=False)\n",
            "  seeder FromAppData(download=False, pip=bundle, via=copy, app_data_dir=/root/.local/share/virtualenv)\n",
            "    added seed packages: pip==25.2\n",
            "  activators BashActivator,CShellActivator,FishActivator,NushellActivator,PowerShellActivator,PythonActivator\n"
          ]
        }
      ]
    },
    {
      "cell_type": "code",
      "source": [
        "!./env/bin/pip list"
      ],
      "metadata": {
        "colab": {
          "base_uri": "https://localhost:8080/"
        },
        "id": "0HzYjETJAiuQ",
        "outputId": "2e571991-3be2-402a-c938-b3cf04b19c12"
      },
      "execution_count": 10,
      "outputs": [
        {
          "output_type": "stream",
          "name": "stdout",
          "text": [
            "Package Version\n",
            "------- -------\n",
            "pip     25.2\n"
          ]
        }
      ]
    },
    {
      "cell_type": "code",
      "source": [
        "!./env/bin/pip install -r requirements.txt"
      ],
      "metadata": {
        "id": "j-LWrnGuAlLS"
      },
      "execution_count": null,
      "outputs": []
    },
    {
      "cell_type": "code",
      "source": [
        "env_path = './env/lib/python3.12/site-packages'\n",
        "sys.path.append(env_path)"
      ],
      "metadata": {
        "id": "-ZUMoBzSGNhR"
      },
      "execution_count": 12,
      "outputs": []
    },
    {
      "cell_type": "markdown",
      "source": [
        "### read config"
      ],
      "metadata": {
        "id": "BdFwkAnUBsrm"
      }
    },
    {
      "cell_type": "code",
      "source": [
        "import json"
      ],
      "metadata": {
        "id": "gO5GecuxCZKw"
      },
      "execution_count": 13,
      "outputs": []
    },
    {
      "cell_type": "code",
      "source": [
        "config_path= \"metadata_config_val.json\"\n",
        "config = json.load(open(config_path, 'r')) if config_path else {}\n",
        "if 'dataset' in config:\n",
        "    dataset_config = config['dataset']\n",
        "    dataset_name = dataset_config.get('dataset_name', 'treatment')\n",
        "print(f\"\\nconfig file: {config_path}\\ncontents:\\n{dataset_config}\")\n",
        "dataset_path = dataset_config.get(\"dataset_path\")"
      ],
      "metadata": {
        "colab": {
          "base_uri": "https://localhost:8080/"
        },
        "id": "2pqfpQoAB_46",
        "outputId": "91ca21cc-d566-4346-c147-50c694566242"
      },
      "execution_count": 14,
      "outputs": [
        {
          "output_type": "stream",
          "name": "stdout",
          "text": [
            "\n",
            "config file: metadata_config_val.json\n",
            "contents:\n",
            "{'dataset_name': 'cure_bench_phase1_val', 'dataset_path': 'resources/curebench_valset_pharse1.jsonl', 'description': 'CureBench 2025 val questions'}\n"
          ]
        }
      ]
    },
    {
      "cell_type": "code",
      "source": [
        "config"
      ],
      "metadata": {
        "id": "XECZZtaYFDhQ",
        "outputId": "1f3065c0-7d52-48c3-9876-a35f1b587f98",
        "colab": {
          "base_uri": "https://localhost:8080/"
        }
      },
      "execution_count": 15,
      "outputs": [
        {
          "output_type": "execute_result",
          "data": {
            "text/plain": [
              "{'metadata': {'model_name': 'gpt-oss-20b',\n",
              "  'model_type': 'Open weight model',\n",
              "  'track': 'internal_reasoning',\n",
              "  'base_model_type': 'Open weight model',\n",
              "  'base_model_name': 'gpt-oss-20b',\n",
              "  'dataset': 'cure_bench_phase1_val',\n",
              "  'additional_info': 'Submission using configuration file'},\n",
              " 'dataset': {'dataset_name': 'cure_bench_phase1_val',\n",
              "  'dataset_path': 'resources/curebench_valset_pharse1.jsonl',\n",
              "  'description': 'CureBench 2025 val questions'},\n",
              " 'output_dir': 'competition_test_results'}"
            ]
          },
          "metadata": {},
          "execution_count": 15
        }
      ]
    },
    {
      "cell_type": "markdown",
      "source": [
        "### load model with competition kit"
      ],
      "metadata": {
        "id": "kywdaMoPFHQ1"
      }
    },
    {
      "cell_type": "code",
      "source": [
        "from core.eval_framework import CompetitionKit, load_and_merge_config, create_metadata_parser"
      ],
      "metadata": {
        "id": "251v6MTuCtQq"
      },
      "execution_count": 16,
      "outputs": []
    },
    {
      "cell_type": "code",
      "source": [
        "model_name = \"gpt-oss-20b\" # config['metadata']['model_name']\n",
        "print(f\"model name: {model_name}\")\n",
        "model_class = 'auto'"
      ],
      "metadata": {
        "id": "-VvZr31OFKhB",
        "outputId": "e185a8f2-d179-4670-8985-2b9fae6bc7eb",
        "colab": {
          "base_uri": "https://localhost:8080/"
        }
      },
      "execution_count": 17,
      "outputs": [
        {
          "output_type": "stream",
          "name": "stdout",
          "text": [
            "model name: gpt-oss-20b\n"
          ]
        }
      ]
    },
    {
      "cell_type": "code",
      "source": [
        "kit = CompetitionKit(config_path=config_path)"
      ],
      "metadata": {
        "id": "buqnu50VCrYC"
      },
      "execution_count": 18,
      "outputs": []
    },
    {
      "cell_type": "code",
      "source": [
        "print(f\"Loading model: {model_name}\")\n",
        "kit.load_model(model_name, model_class)"
      ],
      "metadata": {
        "id": "Ci3AiBCDDlwN"
      },
      "execution_count": null,
      "outputs": []
    },
    {
      "cell_type": "code",
      "source": [
        "kit.model.system_identity"
      ],
      "metadata": {
        "id": "24Ataw5zcTZb",
        "outputId": "650385a6-839d-4672-eefe-c3a5230d6a4a",
        "colab": {
          "base_uri": "https://localhost:8080/",
          "height": 122
        }
      },
      "execution_count": 20,
      "outputs": [
        {
          "output_type": "execute_result",
          "data": {
            "text/plain": [
              "'\\nYou are an expert medical assistant specializing in answering questions.\\n\\n**Your communication MUST strictly adhere to the Harmony channels:**\\n1.  **analysis:** Use this for all internal Chain-of-Thought (CoT), clinical reasoning, and factual processing. This content is for internal use only.\\n2.  **final:** Use this channel for the final output intended for the user.\\n\\n**Output Rule is Conditional:**\\n* **If the input is a Multiple-Choice Question (MCQ):** Your output MUST be a single, valid JSON object containing only the selected answer letter.\\n    * **Format:** `{\"answer\": \"<LETTER>\"}` (e.g., `{\"answer\": \"A\"}`)\\n* **If the input is an Open-Ended Question:** Your output MUST be a detailed, coherent narrative response.\\n\\n**Instruction:** Generate a complete response. The final output must use the \\'final\\' channel and adhere to the conditional format rule.'"
            ],
            "application/vnd.google.colaboratory.intrinsic+json": {
              "type": "string"
            }
          },
          "metadata": {},
          "execution_count": 20
        }
      ]
    },
    {
      "cell_type": "code",
      "source": [
        "kit.list_datasets()"
      ],
      "metadata": {
        "id": "XIf4IdZHFpMM",
        "outputId": "840d85f3-b88c-4d8a-8228-9001a132e60d",
        "colab": {
          "base_uri": "https://localhost:8080/"
        }
      },
      "execution_count": 21,
      "outputs": [
        {
          "output_type": "stream",
          "name": "stdout",
          "text": [
            "Available Datasets:\n",
            "--------------------------------------------------\n",
            "  cure_bench_phase1_val: CureBench 2025 val questions\n"
          ]
        }
      ]
    },
    {
      "cell_type": "markdown",
      "source": [
        "### run model with evaluate\n",
        "- takes about 23 seconds to do one example on L4 gpu"
      ],
      "metadata": {
        "id": "K_FwnViSvhgU"
      }
    },
    {
      "cell_type": "code",
      "source": [
        "subset_size = 3\n",
        "print(f\"Running evaluation on dataset: {dataset_name} (subset-size={subset_size})\")\n",
        "results = kit.evaluate(dataset_name, subset_size=subset_size)"
      ],
      "metadata": {
        "id": "AunwZYpdMLv8",
        "outputId": "c6dc248b-72fc-4f73-d244-6b4c7fec726c",
        "colab": {
          "base_uri": "https://localhost:8080/"
        }
      },
      "execution_count": 22,
      "outputs": [
        {
          "output_type": "stream",
          "name": "stdout",
          "text": [
            "Running evaluation on dataset: cure_bench_phase1_val (subset-size=3)\n",
            "dataset_path: resources/curebench_valset_pharse1.jsonl\n",
            "CureBenchDataset initialized with 459 examples\n"
          ]
        },
        {
          "output_type": "stream",
          "name": "stderr",
          "text": [
            "\rEvaluating:   0%|          | 0/3 [00:00<?, ?it/s]"
          ]
        },
        {
          "output_type": "stream",
          "name": "stdout",
          "text": [
            "stopping criteria: []\n"
          ]
        },
        {
          "output_type": "stream",
          "name": "stderr",
          "text": [
            "WARNING:root:[Harmony parse error] Unknown role: Assistant - Using raw decode fallback\n",
            "Evaluating:  33%|███▎      | 1/3 [00:31<01:02, 31.48s/it]"
          ]
        },
        {
          "output_type": "stream",
          "name": "stdout",
          "text": [
            "expected_answer: A\n",
            "stopping criteria: []\n"
          ]
        },
        {
          "output_type": "stream",
          "name": "stderr",
          "text": [
            "WARNING:root:[Harmony parse error] Unexpected token 200007 while expecting start token 200006 - Using raw decode fallback\n"
          ]
        },
        {
          "output_type": "stream",
          "name": "stdout",
          "text": [
            "stopping criteria: []\n"
          ]
        },
        {
          "output_type": "stream",
          "name": "stderr",
          "text": [
            "WARNING:root:[Harmony parse error] Unexpected token 200007 while expecting start token 200006 - Using raw decode fallback\n",
            "Evaluating:  67%|██████▋   | 2/3 [01:36<00:51, 51.10s/it]"
          ]
        },
        {
          "output_type": "stream",
          "name": "stdout",
          "text": [
            "expected_answer: B\n",
            "stopping criteria: []\n"
          ]
        },
        {
          "output_type": "stream",
          "name": "stderr",
          "text": [
            "WARNING:root:[Harmony parse error] Unexpected token 200007 while expecting start token 200006 - Using raw decode fallback\n"
          ]
        },
        {
          "output_type": "stream",
          "name": "stdout",
          "text": [
            "stopping criteria: []\n"
          ]
        },
        {
          "output_type": "stream",
          "name": "stderr",
          "text": [
            "Evaluating: 100%|██████████| 3/3 [02:19<00:00, 46.47s/it]"
          ]
        },
        {
          "output_type": "stream",
          "name": "stdout",
          "text": [
            "expected_answer: B\n"
          ]
        },
        {
          "output_type": "stream",
          "name": "stderr",
          "text": [
            "\n"
          ]
        }
      ]
    },
    {
      "cell_type": "code",
      "source": [
        "results"
      ],
      "metadata": {
        "id": "oogBQLm_M2ST",
        "outputId": "3b50c452-b278-4b78-a2a3-ac14be946a63",
        "colab": {
          "base_uri": "https://localhost:8080/"
        }
      },
      "execution_count": 23,
      "outputs": [
        {
          "output_type": "execute_result",
          "data": {
            "text/plain": [
              "EvaluationResult(dataset_name='cure_bench_phase1_val', model_name='gpt-oss-20b', accuracy=1.0, correct_predictions=3, total_examples=3, predictions=[{'choice': 'A', 'open_ended_answer': '{\"answer\": \"A\"}'}, {'choice': 'B', 'open_ended_answer': 'analysisOpen ended; need explanation of steps: seek immediate care, call emergency services, administer epinephrine, etc. Also inform provider, stop infusion, monitor vitals, possible antihistamines/ steroids. Mention reporting adverse event.AssistantfinalWhen someone develops signs that point toward a serious hypersensitivity reaction—such as sudden swelling around the face or throat, difficulty breathing, wheezing, hives spreading over large areas of skin, chest tightness, rapid heartbeat, dizziness, fainting, or any other symptoms suggesting angioedema or anaphylaxis—they should act immediately:\\n\\n| Step | Action |\\n|------|--------|\\n| **Stop the drug** | If you’re still on the IV line, have your healthcare team halt the administration right away. |\\n| **Call Emergency Services / Go to ER** | In most countries dialing “911” (or local equivalent) will get help fast enough to treat life‑threatening allergies before it becomes critical. Even mild but rapidly progressing symptoms warrant urgent evaluation. |\\n> •\\u202fAnaphylactic shock can progress within minutes – time matters! |\\n\\n### Immediate treatment once EMS arrives:\\n1. **Epinephrine auto‐injector (if available)**  \\n   - Administer intramuscularly into the thigh (adult dose 0.3–0.5 mg). Repeat at 15‑30 minute intervals until stabilized.  \\n\\n2. **Airway support & oxygen**  \\n   – Secure airway if needed; provide high‑flow supplemental O₂.  \\n\\n3. **Intravenous access** with isotonic fluids → helps counter hypotension.  \\n\\n4. **Antihistamine therapy** (H₁/H₂ blockers such as diphenhydramine + ranitidine/hydroxyzine).  \\n\\n5. **Corticosteroids** (IV methylprednisolone or hydrocortisone) reduce late-phase inflammation.  \\n\\n6. **Continuous monitoring** of heart rate, blood pressure, SpO₂, respiratory effort.  \\n\\n7. **Prepare for advanced interventions** (intubation, vasopressors) if patient deteriorates despite initial measures.  \\n\\n---\\n\\n## After Stabilization\\n\\nOnce acute crisis resolves:\\n\\n1.\\xa0**Document everything** — onset timing relative to fosaprevant intake, symptom progression, doses given, vital changes, labs, imaging results.  \\n\\n| Documentation Item | Why It Matters |\\n|---------------------|---------------|\\n| Exact start/end times of reaction | Helps determine causality window. |'}, {'choice': 'B', 'open_ended_answer': 'analysisOpen ended => provide explanation.AssistantfinalWhen the dose‑indicator light or display on your\\u202fSti\\xadolto\\xa0Respimat® inhaler turns off or shows “0,” it means that no full doses remain available from that device. Here’s what you should do:\\n\\n| Step | Action |\\n|------|--------|\\n| **Check the label/label sticker** | Verify whether the unit has been used up completely; sometimes the indicator may show zero while there might still be one partial spray left. If unsure, treat as empty. |\\n| **Do not attempt further dosing with the same inhaler** | Using a depleted device can lead to inaccurate medication delivery and potential harm. |\\n> • **Replace the inhaler immediately** – obtain a new prefilled cartridge of Stio\\xadlto Respirat®. |\\n\\n### Why replacement matters  \\n• **Dose accuracy** – Each Actuation delivers exactly two puffs per actuation cycle when fully charged. A partially emptied reservoir will give fewer than the prescribed number of actuations. <br>\\n• **Safety & efficacy** – Incomplete drug release could worsen asthma control or cause side effects due to overuse of rescue medications.  \\n\\n### Practical tips for managing replacements  \\n1. **Keep spare cartridges handy**—especially during travel or busy periods.<br>\\n2. **Label each new inhaler clearly** so patients know which ones have already been opened but aren’t yet exhausted.<br>\\n\\n3. **Dispose properly** – Once the dose‐indication reads zero, discard according to local regulations for pharmaceutical waste.  \\n\\n---\\n\\n#### Quick reference checklist:\\n- [ ] Dose indicator = 0 → consider inhaler empty.  \\n- [x] Do NOT continue using it.  \\n+ Replace with fresh cartridge ASAP.  \\n– Dispose old inhaler safely.'}], reasoning_traces=[[{'role': 'assistant', 'content': 'analysisWe need choose correct option that is a drug brand used for acne. Options list generic names? A salicylic acid topical treatments like Neutrogena Acne Foaming Wash etc but not brand; B minoxidil hair growth; C ketoconazole antifungal; D fluocinonid steroid. So none brand names except maybe salicyclic acid product called Clean & Clear or ... But among options which one commonly treated acne? Salicyic acid yes as over-the-counter agent. So pick A. Provide {\"answer\":\"A\"}Assistantfinal{  \\n  \"answer\": \"\\\\\"A\\\\\"\"  \\n}'}], [{'role': 'assistant', 'content': 'analysisOpen ended; need explanation of steps: seek immediate care, call emergency services, administer epinephrine, etc. Also inform provider, stop infusion, monitor vitals, possible antihistamines/ steroids. Mention reporting adverse event.AssistantfinalWhen someone develops signs that point toward a serious hypersensitivity reaction—such as sudden swelling around the face or throat, difficulty breathing, wheezing, hives spreading over large areas of skin, chest tightness, rapid heartbeat, dizziness, fainting, or any other symptoms suggesting angioedema or anaphylaxis—they should act immediately:\\n\\n| Step | Action |\\n|------|--------|\\n| **Stop the drug** | If you’re still on the IV line, have your healthcare team halt the administration right away. |\\n| **Call Emergency Services / Go to ER** | In most countries dialing “911” (or local equivalent) will get help fast enough to treat life‑threatening allergies before it becomes critical. Even mild but rapidly progressing symptoms warrant urgent evaluation. |\\n> •\\u202fAnaphylactic shock can progress within minutes – time matters! |\\n\\n### Immediate treatment once EMS arrives:\\n1. **Epinephrine auto‐injector (if available)**  \\n   - Administer intramuscularly into the thigh (adult dose 0.3–0.5 mg). Repeat at 15‑30 minute intervals until stabilized.  \\n\\n2. **Airway support & oxygen**  \\n   – Secure airway if needed; provide high‑flow supplemental O₂.  \\n\\n3. **Intravenous access** with isotonic fluids → helps counter hypotension.  \\n\\n4. **Antihistamine therapy** (H₁/H₂ blockers such as diphenhydramine + ranitidine/hydroxyzine).  \\n\\n5. **Corticosteroids** (IV methylprednisolone or hydrocortisone) reduce late-phase inflammation.  \\n\\n6. **Continuous monitoring** of heart rate, blood pressure, SpO₂, respiratory effort.  \\n\\n7. **Prepare for advanced interventions** (intubation, vasopressors) if patient deteriorates despite initial measures.  \\n\\n---\\n\\n## After Stabilization\\n\\nOnce acute crisis resolves:\\n\\n1.\\xa0**Document everything** — onset timing relative to fosaprevant intake, symptom progression, doses given, vital changes, labs, imaging results.  \\n\\n| Documentation Item | Why It Matters |\\n|---------------------|---------------|\\n| Exact start/end times of reaction | Helps determine causality window. |'}, {'role': 'assistant', 'content': 'analysisWe choose B.Assistantfinal{\"answer\":\"B\"}nary? No. So we keep original. Good. Let\\'s produce final.'}], [{'role': 'assistant', 'content': 'analysisOpen ended => provide explanation.AssistantfinalWhen the dose‑indicator light or display on your\\u202fSti\\xadolto\\xa0Respimat® inhaler turns off or shows “0,” it means that no full doses remain available from that device. Here’s what you should do:\\n\\n| Step | Action |\\n|------|--------|\\n| **Check the label/label sticker** | Verify whether the unit has been used up completely; sometimes the indicator may show zero while there might still be one partial spray left. If unsure, treat as empty. |\\n| **Do not attempt further dosing with the same inhaler** | Using a depleted device can lead to inaccurate medication delivery and potential harm. |\\n> • **Replace the inhaler immediately** – obtain a new prefilled cartridge of Stio\\xadlto Respirat®. |\\n\\n### Why replacement matters  \\n• **Dose accuracy** – Each Actuation delivers exactly two puffs per actuation cycle when fully charged. A partially emptied reservoir will give fewer than the prescribed number of actuations. <br>\\n• **Safety & efficacy** – Incomplete drug release could worsen asthma control or cause side effects due to overuse of rescue medications.  \\n\\n### Practical tips for managing replacements  \\n1. **Keep spare cartridges handy**—especially during travel or busy periods.<br>\\n2. **Label each new inhaler clearly** so patients know which ones have already been opened but aren’t yet exhausted.<br>\\n\\n3. **Dispose properly** – Once the dose‐indication reads zero, discard according to local regulations for pharmaceutical waste.  \\n\\n---\\n\\n#### Quick reference checklist:\\n- [ ] Dose indicator = 0 → consider inhaler empty.  \\n- [x] Do NOT continue using it.  \\n+ Replace with fresh cartridge ASAP.  \\n– Dispose old inhaler safely.'}, {'role': <Role.ASSISTANT: 'assistant'>, 'name': None, 'content': [{'type': 'text', 'text': 'We need choose correct MCQ answer based on given options. Agent says replace inhaler -> that\\'s B. So produce {\"answer\":\"B\"}'}], 'channel': 'analysis'}]], details=None)"
            ]
          },
          "metadata": {},
          "execution_count": 23
        }
      ]
    },
    {
      "cell_type": "markdown",
      "source": [
        "### run model manually"
      ],
      "metadata": {
        "id": "iSapw-Hkvk1d"
      }
    },
    {
      "cell_type": "code",
      "source": [
        "import pandas as pd\n",
        "from typing import Dict, List\n",
        "from torch.utils.data import DataLoader\n",
        "from dataset_utils import build_dataset\n",
        "from core.eval_framework import GPTOSS20BModel\n",
        "from openai_harmony import load_harmony_encoding"
      ],
      "metadata": {
        "id": "eQggp7Tyy9em"
      },
      "execution_count": null,
      "outputs": []
    },
    {
      "cell_type": "code",
      "source": [
        "def load_dataset_by_config(config_path):\n",
        "  # load config file to get dataset info\n",
        "  config = json.load(open(config_path, 'r')) if config_path else {}\n",
        "  if 'dataset' in config:\n",
        "      dataset_config = config['dataset']\n",
        "      dataset_name = dataset_config.get('dataset_name', 'treatment')\n",
        "  print(f\"\\nconfig file: {config_path}\\ncontents:\\n{dataset_config}\")\n",
        "  dataset_path = dataset_config.get(\"dataset_path\")\n",
        "\n",
        "  # build dataset\n",
        "  dataset = build_dataset(\n",
        "        dataset_config.get(\"dataset_path\"),\n",
        "    )\n",
        "  dataloader = DataLoader(dataset, batch_size=1, shuffle=False)\n",
        "  dataset_list = []\n",
        "\n",
        "  for batch in dataloader:\n",
        "      question_type = batch[0][0]\n",
        "\n",
        "      if question_type == \"multi_choice\":\n",
        "          dataset_list.append({\n",
        "              \"question_type\": batch[0][0],\n",
        "              \"id\": batch[1][0],\n",
        "              \"question\": batch[2][0],\n",
        "              \"answer\": batch[3][0],\n",
        "          })\n",
        "      elif question_type == \"open_ended_multi_choice\":\n",
        "          dataset_list.append({\n",
        "              \"question_type\": batch[0][0],\n",
        "              \"id\": batch[1][0],\n",
        "              \"question\": batch[2][0],\n",
        "              \"answer\": batch[3][0],\n",
        "              \"meta_question\": batch[4][0],\n",
        "          })\n",
        "      elif question_type == \"open_ended\":\n",
        "          dataset_list.append({\n",
        "              \"question_type\": batch[0][0],\n",
        "              \"id\": batch[1][0],\n",
        "              \"question\": batch[2][0],\n",
        "              \"answer\": batch[3][0],\n",
        "          })\n",
        "  return dataset_list"
      ],
      "metadata": {
        "id": "P9qxYT2WvrDM"
      },
      "execution_count": null,
      "outputs": []
    },
    {
      "cell_type": "code",
      "source": [
        "val_data_config_path= \"metadata_config_val.json\"\n",
        "val_data_list = load_dataset_by_config(val_data_config_path)"
      ],
      "metadata": {
        "id": "UmI4azpfyw8_",
        "outputId": "b4af2d33-324a-45bd-b4a9-d351036aa783",
        "colab": {
          "base_uri": "https://localhost:8080/"
        }
      },
      "execution_count": null,
      "outputs": [
        {
          "output_type": "stream",
          "name": "stdout",
          "text": [
            "\n",
            "config file: metadata_config_val.json\n",
            "contents:\n",
            "{'dataset_name': 'cure_bench_phase1_val', 'dataset_path': 'resources/curebench_valset_pharse1.jsonl', 'description': 'CureBench 2025 val questions'}\n",
            "dataset_path: resources/curebench_valset_pharse1.jsonl\n",
            "CureBenchDataset initialized with 459 examples\n"
          ]
        }
      ]
    },
    {
      "cell_type": "code",
      "source": [
        "dataset = val_data_list[:10]"
      ],
      "metadata": {
        "id": "HTQWJ4Jyy_x4"
      },
      "execution_count": null,
      "outputs": []
    },
    {
      "cell_type": "code",
      "source": [
        "dataset"
      ],
      "metadata": {
        "id": "BbFxmOdqzfml",
        "outputId": "035743df-75db-47c0-c814-0ecea624009e",
        "colab": {
          "base_uri": "https://localhost:8080/"
        }
      },
      "execution_count": null,
      "outputs": [
        {
          "output_type": "execute_result",
          "data": {
            "text/plain": [
              "[{'question_type': 'multi_choice',\n",
              "  'id': 'U9PHZ83RKYV8',\n",
              "  'question': 'Which drug brand name is associated with the treatment of acne?\\nA: Salicylic Acid\\nB: Minoxidil\\nC: Ketoconazole\\nD: Fluocinonide',\n",
              "  'answer': 'A'},\n",
              " {'question_type': 'open_ended_multi_choice',\n",
              "  'id': 'vIGwm8qguXYi',\n",
              "  'question': 'What should patients do if they experience severe allergic reactions during or after receiving fosaprepitant for injection?',\n",
              "  'answer': 'B',\n",
              "  'meta_question': \"The following is a multiple choice question about medicine and the agent's open-ended answer to the question. Convert the agent's answer to the final answer format using the corresponding option label, e.g., 'A', 'B', 'C', 'D', 'E' or 'None'. \\n\\nQuestion: What should patients do if they experience severe allergic reactions during or after receiving fosaprepitant for injection?\\nA: Wait for the symptoms to resolve on their own.\\nB: Inform their healthcare provider immediately and seek emergency medical care.\\nC: Stop chemotherapy treatment permanently.\\nD: Take over-the-counter antihistamines.\\n\\n\"},\n",
              " {'question_type': 'open_ended_multi_choice',\n",
              "  'id': 'GlpDnJvMaWbs',\n",
              "  'question': 'What should you do if the dose indicator on Stiolto Respimat reaches 0?',\n",
              "  'answer': 'B',\n",
              "  'meta_question': \"The following is a multiple choice question about medicine and the agent's open-ended answer to the question. Convert the agent's answer to the final answer format using the corresponding option label, e.g., 'A', 'B', 'C', 'D', 'E' or 'None'. \\n\\nQuestion: What should you do if the dose indicator on Stiolto Respimat reaches 0?\\nA: Continue using the inhaler until the cartridge is empty.\\nB: Prepare and use a new Stiolto Respimat inhaler.\\nC: Turn the clear base to reset the dose indicator.\\nD: Clean the mouthpiece and continue using the inhaler.\\n\\n\"},\n",
              " {'question_type': 'open_ended_multi_choice',\n",
              "  'id': 'WfWiWK0yULaX',\n",
              "  'question': 'Which of the following conditions is a contraindication for the use of Gadavist?',\n",
              "  'answer': 'B',\n",
              "  'meta_question': \"The following is a multiple choice question about medicine and the agent's open-ended answer to the question. Convert the agent's answer to the final answer format using the corresponding option label, e.g., 'A', 'B', 'C', 'D', 'E' or 'None'. \\n\\nQuestion: Which of the following conditions is a contraindication for the use of Gadavist?\\nA: Mild hypersensitivity reactions to Gadavist\\nB: History of severe hypersensitivity reactions to Gadavist\\nC: Renal impairment\\nD: Liver dysfunction\\n\\n\"},\n",
              " {'question_type': 'multi_choice',\n",
              "  'id': 'wzkMQ7uHtlLs',\n",
              "  'question': 'What is the primary consideration for lactating mothers using Albuterol Sulfate HFA?\\nA: It is contraindicated during lactation.\\nB: Plasma levels of albuterol are low, and effects on breastfed children are likely minimal.\\nC: It significantly reduces milk production.\\nD: It should only be used in emergencies.',\n",
              "  'answer': 'B'},\n",
              " {'question_type': 'multi_choice',\n",
              "  'id': 'hcZukKMtrRZ7',\n",
              "  'question': \"What is the minimum SPF value recommended for sunscreens to reduce the risk of skin cancer and early aging, as per the guidelines for the sunscreen branded as '70%'?\\nA: 5\\nB: 10\\nC: 15\\nD: 30\",\n",
              "  'answer': 'C'},\n",
              " {'question_type': 'multi_choice',\n",
              "  'id': 'cRbl2ruD1WMZ',\n",
              "  'question': \"Which of the following is NOT an indicated use for 'up and up ibuprofen'?\\nA: Relief of occasional sleeplessness\\nB: Relief of minor aches and pains\\nC: Treatment of chronic pain conditions\\nD: Helping users stay asleep\",\n",
              "  'answer': 'C'},\n",
              " {'question_type': 'open_ended_multi_choice',\n",
              "  'id': 'dlKfnTKdPf9G',\n",
              "  'question': 'What should a patient do if they experience severe allergic reactions while taking PERTZYE?',\n",
              "  'answer': 'B',\n",
              "  'meta_question': \"The following is a multiple choice question about medicine and the agent's open-ended answer to the question. Convert the agent's answer to the final answer format using the corresponding option label, e.g., 'A', 'B', 'C', 'D', 'E' or 'None'. \\n\\nQuestion: What should a patient do if they experience severe allergic reactions while taking PERTZYE?\\nA: Continue taking the medication and monitor symptoms\\nB: Stop taking PERTZYE and seek emergency treatment immediately\\nC: Reduce the dose and consult their doctor\\nD: Take an over-the-counter antihistamine\\n\\n\"},\n",
              " {'question_type': 'open_ended_multi_choice',\n",
              "  'id': 'rYhpGH3kQW8P',\n",
              "  'question': 'What is the recommended action if a patient’s serum potassium level reaches 6.0 mEq/L while on Inspra therapy?',\n",
              "  'answer': 'B',\n",
              "  'meta_question': \"The following is a multiple choice question about medicine and the agent's open-ended answer to the question. Convert the agent's answer to the final answer format using the corresponding option label, e.g., 'A', 'B', 'C', 'D', 'E' or 'None'. \\n\\nQuestion: What is the recommended action if a patient’s serum potassium level reaches 6.0 mEq/L while on Inspra therapy?\\nA: Reduce the dose to 25 mg every other day\\nB: Withhold Inspra therapy\\nC: Continue the current dose\\nD: Increase the dose to 50 mg once daily\\n\\n\"},\n",
              " {'question_type': 'open_ended_multi_choice',\n",
              "  'id': 'ZFU0wbRPwuMG',\n",
              "  'question': 'What precaution should be taken for patients with a history of allergic disorders before administering Gadavist?',\n",
              "  'answer': 'C',\n",
              "  'meta_question': \"The following is a multiple choice question about medicine and the agent's open-ended answer to the question. Convert the agent's answer to the final answer format using the corresponding option label, e.g., 'A', 'B', 'C', 'D', 'E' or 'None'. \\n\\nQuestion: What precaution should be taken for patients with a history of allergic disorders before administering Gadavist?\\nA: Administer Gadavist in a diluted form\\nB: Avoid Gadavist administration entirely\\nC: Assess the patient’s history of reactions to contrast media and ensure trained personnel are available for resuscitation\\nD: Perform hemodialysis immediately after administration\\n\\n\"}]"
            ]
          },
          "metadata": {},
          "execution_count": 15
        }
      ]
    },
    {
      "cell_type": "code",
      "source": [
        "example = dataset[3]\n",
        "print(example)"
      ],
      "metadata": {
        "id": "IEWvl_g5zhkv",
        "outputId": "5d4f95ce-8c22-4337-fb68-a4d4e4e48b89",
        "colab": {
          "base_uri": "https://localhost:8080/"
        }
      },
      "execution_count": null,
      "outputs": [
        {
          "output_type": "stream",
          "name": "stdout",
          "text": [
            "{'question_type': 'open_ended_multi_choice', 'id': 'WfWiWK0yULaX', 'question': 'Which of the following conditions is a contraindication for the use of Gadavist?', 'answer': 'B', 'meta_question': \"The following is a multiple choice question about medicine and the agent's open-ended answer to the question. Convert the agent's answer to the final answer format using the corresponding option label, e.g., 'A', 'B', 'C', 'D', 'E' or 'None'. \\n\\nQuestion: Which of the following conditions is a contraindication for the use of Gadavist?\\nA: Mild hypersensitivity reactions to Gadavist\\nB: History of severe hypersensitivity reactions to Gadavist\\nC: Renal impairment\\nD: Liver dysfunction\\n\\n\"}\n"
          ]
        }
      ]
    },
    {
      "cell_type": "code",
      "source": [
        "question = example[\"question\"]\n",
        "question_type = example[\"question_type\"]"
      ],
      "metadata": {
        "id": "ESBzddyLz0f2"
      },
      "execution_count": null,
      "outputs": []
    },
    {
      "cell_type": "code",
      "source": [
        "# Format prompt\n",
        "if question_type == \"multi_choice\":\n",
        "    prompt = f\"The following is a multiple choice question about medicine. Answer with a valid json containing the letter corresponding to the correct answer.\\n\\nQuestion: {question}\\n\\nAnswer:\"\n",
        "elif question_type == \"open_ended_multi_choice\" or question_type == \"open_ended\":\n",
        "    prompt = f\"The following is an open-ended question about medicine. Provide a comprehensive answer.\\n\\nQuestion: {question}\\n\\nAnswer:\""
      ],
      "metadata": {
        "id": "wRD2Ls3B0Ofm"
      },
      "execution_count": null,
      "outputs": []
    },
    {
      "cell_type": "code",
      "source": [
        "print(f\"prompt: {prompt}\")"
      ],
      "metadata": {
        "id": "ixUNZP7V0V1M",
        "outputId": "5ad0262b-ad81-4c52-d2b2-e83ed55050e0",
        "colab": {
          "base_uri": "https://localhost:8080/"
        }
      },
      "execution_count": null,
      "outputs": [
        {
          "output_type": "stream",
          "name": "stdout",
          "text": [
            "prompt: The following is an open-ended question about medicine. Provide a comprehensive answer.\n",
            "\n",
            "Question: Which of the following conditions is a contraindication for the use of Gadavist?\n",
            "\n",
            "Answer:\n"
          ]
        }
      ]
    },
    {
      "cell_type": "code",
      "source": [
        "system_identity = \"\"\"\n",
        "You are an expert medical assistant specializing in answering questions.\n",
        "\n",
        "**Your communication MUST strictly adhere to the Harmony channels:**\n",
        "1.  **analysis:** Use this for all internal Chain-of-Thought (CoT), clinical reasoning, and factual processing. This content is for internal use only.\n",
        "2.  **final:** Use this channel for the final output intended for the user.\n",
        "\n",
        "**Output Rule is Conditional:**\n",
        "* **If the input is a Multiple-Choice Question (MCQ):** Your output MUST be a single, valid JSON object containing only the selected answer letter.\n",
        "    * **Format:** `{\"answer\": \"<LETTER>\"}` (e.g., `{\"answer\": \"A\"}`)\n",
        "* **If the input is an Open-Ended Question:** Your output MUST be a detailed, coherent narrative response.\n",
        "\n",
        "**Instruction:** Generate a complete response. The final output must use the 'final' channel and adhere to the conditional format rule.\"\"\""
      ],
      "metadata": {
        "id": "XLfcWWJcFHcd"
      },
      "execution_count": null,
      "outputs": []
    },
    {
      "cell_type": "code",
      "source": [
        "# model = kit.model\n",
        "model = GPTOSS20BModel(\"openai/gpt-oss-20b\", reasoning_lvl=\"low\", quantization=\"auto\",\n",
        "                       system_identity=system_identity)\n",
        "model.load()"
      ],
      "metadata": {
        "id": "NadmrXfvAvPr"
      },
      "execution_count": null,
      "outputs": []
    },
    {
      "cell_type": "code",
      "source": [
        "# Pass this list to the stop_tokens argument\n",
        "stop_sequences = [\n",
        "    # 1. Stops the loop of internal reasoning tags\n",
        "    \"assistantfinal\",\n",
        "\n",
        "    # 2. Stops the common repetitive noise (often necessary)\n",
        "    \"analysisdone.\"\n",
        "]"
      ],
      "metadata": {
        "id": "Ogi8AeJXLC35"
      },
      "execution_count": null,
      "outputs": []
    },
    {
      "cell_type": "code",
      "source": [
        "response, reasoning_trace = model.inference(prompt,\n",
        "    stop_strings=stop_sequences )"
      ],
      "metadata": {
        "id": "vNHPBTgR0b4p"
      },
      "execution_count": null,
      "outputs": []
    },
    {
      "cell_type": "code",
      "source": [
        "response"
      ],
      "metadata": {
        "id": "dVa15M5m1AWK",
        "outputId": "6b942954-42a0-4ca3-e694-a3b60ae0e396",
        "colab": {
          "base_uri": "https://localhost:8080/",
          "height": 140
        }
      },
      "execution_count": null,
      "outputs": [
        {
          "output_type": "execute_result",
          "data": {
            "text/plain": [
              "'**Gadavist (gadobutrol)** is a gadolinium‑based contrast agent commonly used for magnetic resonance imaging (MRI) of the brain and spine. The safety of Gadavist, like all gadolinium‑based contrast agents, is contingent upon adequate renal clearance. **Severe or advanced renal impairment is the principal contraindication** because it predisposes patients to the rare but serious condition known as **Nephrogenic Systemic Fibrosis (NSF)** and increases the risk of gadolinium deposition.\\n\\nKey points:\\n\\n| Condition | Why it’s a contraindication for Gadavist | Typical guidelines |\\n|-----------|------------------------------------------|--------------------|\\n| **Severe chronic kidney disease (CKD Stage 4–5)** – eGFR < 30\\u202fmL/min/1.73\\u202fm² or requiring dialysis | Reduced elimination of gadobutrol → higher risk of NSF and gadolinium‑related toxicity | Avoid unless essential; if needed, use the lowest effective dose and consider alternative imaging modalities |\\n| **Acute kidney injury (AKI)** | Similar to CKD Stage 4–5; temporary renal impairment can lead to rapid accumulation | Similar avoidance approach |\\n| **Kidney transplant recipients on immunosuppressants** | Impaired renal function and concomitant immunosuppression heighten NSF risk | Use alternatives if possible |\\n| **Patients with uncontrolled hypertension or significant heart failure** | While not absolute contraindications, they necessitate careful assessment of volume status and potential renal perfusion issues | Monitor closely |\\n| **Pregnancy (especially second and third trimester)** | Limited data; gadolinium crosses the placenta and can potentially affect fetal development | Generally avoid unless benefit outweighs risk |\\n\\n**Bottom line:** If a patient has reduced kidney function (eGFR < 30\\u202fmL/min/1.73\\u202fm²) or is on dialysis, use of Gadavist is contraindicated unless no other viable imaging options exist. In such cases, clinicians should consider non‑contrast imaging, alternative contrast agents with a better safety profile in renal dysfunction, or deferring the study until renal function improves.'"
            ],
            "application/vnd.google.colaboratory.intrinsic+json": {
              "type": "string"
            }
          },
          "metadata": {},
          "execution_count": 50
        }
      ]
    },
    {
      "cell_type": "code",
      "source": [
        "reasoning_trace"
      ],
      "metadata": {
        "id": "zNQlMICf1Fgl",
        "outputId": "e4585745-b979-46d0-d359-87bd39cb37d4",
        "colab": {
          "base_uri": "https://localhost:8080/"
        }
      },
      "execution_count": null,
      "outputs": [
        {
          "output_type": "execute_result",
          "data": {
            "text/plain": [
              "[{'role': <Role.ASSISTANT: 'assistant'>,\n",
              "  'name': None,\n",
              "  'content': [{'type': 'text',\n",
              "    'text': 'Answer is open-ended? They phrased \"Which of the following conditions is a contraindication for the use of Gadavist?\" But no options given. Likely expecting mention kidney disease (renal impairment). So provide narrative.'}],\n",
              "  'channel': 'analysis'},\n",
              " {'role': <Role.ASSISTANT: 'assistant'>,\n",
              "  'name': None,\n",
              "  'content': [{'type': 'text',\n",
              "    'text': '**Gadavist (gadobutrol)** is a gadolinium‑based contrast agent commonly used for magnetic resonance imaging (MRI) of the brain and spine. The safety of Gadavist, like all gadolinium‑based contrast agents, is contingent upon adequate renal clearance. **Severe or advanced renal impairment is the principal contraindication** because it predisposes patients to the rare but serious condition known as **Nephrogenic Systemic Fibrosis (NSF)** and increases the risk of gadolinium deposition.\\n\\nKey points:\\n\\n| Condition | Why it’s a contraindication for Gadavist | Typical guidelines |\\n|-----------|------------------------------------------|--------------------|\\n| **Severe chronic kidney disease (CKD Stage 4–5)** – eGFR < 30\\u202fmL/min/1.73\\u202fm² or requiring dialysis | Reduced elimination of gadobutrol → higher risk of NSF and gadolinium‑related toxicity | Avoid unless essential; if needed, use the lowest effective dose and consider alternative imaging modalities |\\n| **Acute kidney injury (AKI)** | Similar to CKD Stage 4–5; temporary renal impairment can lead to rapid accumulation | Similar avoidance approach |\\n| **Kidney transplant recipients on immunosuppressants** | Impaired renal function and concomitant immunosuppression heighten NSF risk | Use alternatives if possible |\\n| **Patients with uncontrolled hypertension or significant heart failure** | While not absolute contraindications, they necessitate careful assessment of volume status and potential renal perfusion issues | Monitor closely |\\n| **Pregnancy (especially second and third trimester)** | Limited data; gadolinium crosses the placenta and can potentially affect fetal development | Generally avoid unless benefit outweighs risk |\\n\\n**Bottom line:** If a patient has reduced kidney function (eGFR < 30\\u202fmL/min/1.73\\u202fm²) or is on dialysis, use of Gadavist is contraindicated unless no other viable imaging options exist. In such cases, clinicians should consider non‑contrast imaging, alternative contrast agents with a better safety profile in renal dysfunction, or deferring the study until renal function improves.'}],\n",
              "  'channel': 'final'}]"
            ]
          },
          "metadata": {},
          "execution_count": 51
        }
      ]
    },
    {
      "cell_type": "code",
      "source": [
        "print(model.system_identity)"
      ],
      "metadata": {
        "id": "UM-kHuIB2e1r",
        "outputId": "012a7854-b609-4209-97f3-89d87b41c43c",
        "colab": {
          "base_uri": "https://localhost:8080/"
        }
      },
      "execution_count": null,
      "outputs": [
        {
          "output_type": "stream",
          "name": "stdout",
          "text": [
            "\n",
            "You are an expert medical assistant specializing in answering questions.\n",
            "\n",
            "**Your communication MUST strictly adhere to the Harmony channels:**\n",
            "1.  **analysis:** Use this for all internal Chain-of-Thought (CoT), clinical reasoning, and factual processing. This content is for internal use only.\n",
            "2.  **final:** Use this channel for the final output intended for the user.\n",
            "\n",
            "**Output Rule is Conditional:**\n",
            "* **If the input is a Multiple-Choice Question (MCQ):** Your output MUST be a single, valid JSON object containing only the selected answer letter.\n",
            "    * **Format:** `{\"answer\": \"<LETTER>\"}` (e.g., `{\"answer\": \"A\"}`)\n",
            "* **If the input is an Open-Ended Question:** Your output MUST be a detailed, coherent narrative response.\n",
            "\n",
            "**Instruction:** Generate a complete response. The final output must use the 'final' channel and adhere to the conditional format rule.\n"
          ]
        }
      ]
    },
    {
      "cell_type": "markdown",
      "source": [
        "### write submission to file"
      ],
      "metadata": {
        "id": "VCB14R21vtWB"
      }
    },
    {
      "cell_type": "code",
      "source": [
        "# Generate submission with metadata from config/args\n",
        "print(\"Generating submission with metadata...\")\n",
        "submission_path = kit.save_submission_with_metadata(\n",
        "    results=[results],\n",
        "    filename=\"submission.csv\",\n",
        "    config_path=config_path,\n",
        "    args=\"\"\n",
        ")\n",
        "\n",
        "print(f\"\\n✅ Evaluation completed successfully!\")\n",
        "print(f\"📊 Accuracy: {results.accuracy:.2%} ({results.correct_predictions}/{results.total_examples})\")\n",
        "print(f\"📄 Submission saved to: {submission_path}\")\n",
        "\n",
        "# # Show metadata summary if verbose\n",
        "# final_metadata = kit.get_metadata(getattr(args, 'config', None), args)\n",
        "# print(\"\\n📋 Final metadata:\")\n",
        "# for key, value in final_metadata.items():\n",
        "#     print(f\"  {key}: {value}\")\n"
      ],
      "metadata": {
        "id": "sinqBSkUTD2o"
      },
      "execution_count": null,
      "outputs": []
    },
    {
      "cell_type": "markdown",
      "source": [
        "### stopping criteria"
      ],
      "metadata": {
        "id": "MjkKTtPheKnf"
      }
    },
    {
      "cell_type": "code",
      "source": [
        "from transformers import StoppingCriteria, StoppingCriteriaList"
      ],
      "metadata": {
        "id": "QuhMQV4NeMmW"
      },
      "execution_count": null,
      "outputs": []
    },
    {
      "cell_type": "code",
      "source": [
        "stopping_criteria = StoppingCriteriaList()"
      ],
      "metadata": {
        "id": "ztazK9ZYeZc0"
      },
      "execution_count": null,
      "outputs": []
    },
    {
      "cell_type": "code",
      "source": [
        "StoppingCriteria"
      ],
      "metadata": {
        "id": "wivcHxkPeaWA",
        "outputId": "56a4fe60-cbdc-41e4-cb2e-19634aa7a0c1",
        "colab": {
          "base_uri": "https://localhost:8080/",
          "height": 203
        }
      },
      "execution_count": null,
      "outputs": [
        {
          "output_type": "execute_result",
          "data": {
            "text/plain": [
              "transformers.generation.stopping_criteria.StoppingCriteria"
            ],
            "text/html": [
              "<div style=\"max-width:800px; border: 1px solid var(--colab-border-color);\"><style>\n",
              "      pre.function-repr-contents {\n",
              "        overflow-x: auto;\n",
              "        padding: 8px 12px;\n",
              "        max-height: 500px;\n",
              "      }\n",
              "\n",
              "      pre.function-repr-contents.function-repr-contents-collapsed {\n",
              "        cursor: pointer;\n",
              "        max-height: 100px;\n",
              "      }\n",
              "    </style>\n",
              "    <pre style=\"white-space: initial; background:\n",
              "         var(--colab-secondary-surface-color); padding: 8px 12px;\n",
              "         border-bottom: 1px solid var(--colab-border-color);\"><b>transformers.generation.stopping_criteria.StoppingCriteria</b><br/>def __call__(input_ids: torch.LongTensor, scores: torch.FloatTensor, **kwargs) -&gt; torch.BoolTensor</pre><pre class=\"function-repr-contents function-repr-contents-collapsed\" style=\"\"><a class=\"filepath\" style=\"display:none\" href=\"#\">/usr/local/lib/python3.12/dist-packages/transformers/generation/stopping_criteria.py</a>Abstract base class for all stopping criteria that can be applied during generation.\n",
              "\n",
              "If your stopping criteria depends on the `scores` input, make sure you pass `return_dict_in_generate=True,\n",
              "output_scores=True` to `generate`.</pre>\n",
              "      <script>\n",
              "      if (google.colab.kernel.accessAllowed && google.colab.files && google.colab.files.view) {\n",
              "        for (const element of document.querySelectorAll('.filepath')) {\n",
              "          element.style.display = 'block'\n",
              "          element.onclick = (event) => {\n",
              "            event.preventDefault();\n",
              "            event.stopPropagation();\n",
              "            google.colab.files.view(element.textContent, 47);\n",
              "          };\n",
              "        }\n",
              "      }\n",
              "      for (const element of document.querySelectorAll('.function-repr-contents')) {\n",
              "        element.onclick = (event) => {\n",
              "          event.preventDefault();\n",
              "          event.stopPropagation();\n",
              "          element.classList.toggle('function-repr-contents-collapsed');\n",
              "        };\n",
              "      }\n",
              "      </script>\n",
              "      </div>"
            ]
          },
          "metadata": {},
          "execution_count": 22
        }
      ]
    },
    {
      "cell_type": "code",
      "source": [
        "stopping_criteria"
      ],
      "metadata": {
        "id": "9lzkNUo2eunv",
        "outputId": "e1b3e168-aec1-421e-881d-12a0e3f44a33",
        "colab": {
          "base_uri": "https://localhost:8080/"
        }
      },
      "execution_count": null,
      "outputs": [
        {
          "output_type": "execute_result",
          "data": {
            "text/plain": [
              "[]"
            ]
          },
          "metadata": {},
          "execution_count": 23
        }
      ]
    },
    {
      "cell_type": "code",
      "source": [
        "kit.model.enc"
      ],
      "metadata": {
        "id": "P-IXY2NUfRbN",
        "outputId": "0f56f97e-d94e-4611-8d12-81ad73ad1488",
        "colab": {
          "base_uri": "https://localhost:8080/"
        }
      },
      "execution_count": null,
      "outputs": [
        {
          "output_type": "execute_result",
          "data": {
            "text/plain": [
              "<openai_harmony.HarmonyEncoding at 0x78ef742ad280>"
            ]
          },
          "metadata": {},
          "execution_count": 24
        }
      ]
    }
  ]
}