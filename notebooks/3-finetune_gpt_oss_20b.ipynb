{
  "nbformat": 4,
  "nbformat_minor": 0,
  "metadata": {
    "colab": {
      "provenance": [],
      "gpuType": "A100",
      "include_colab_link": true
    },
    "kernelspec": {
      "name": "python3",
      "display_name": "Python 3"
    },
    "language_info": {
      "name": "python"
    },
    "accelerator": "GPU",
    "widgets": {
      "application/vnd.jupyter.widget-state+json": {
        "541e3f2dbece4764b3dc7d754a97f6fc": {
          "model_module": "@jupyter-widgets/controls",
          "model_name": "HBoxModel",
          "model_module_version": "1.5.0",
          "state": {
            "_dom_classes": [],
            "_model_module": "@jupyter-widgets/controls",
            "_model_module_version": "1.5.0",
            "_model_name": "HBoxModel",
            "_view_count": null,
            "_view_module": "@jupyter-widgets/controls",
            "_view_module_version": "1.5.0",
            "_view_name": "HBoxView",
            "box_style": "",
            "children": [
              "IPY_MODEL_b2c8d016afab48b3941969ded4df0709",
              "IPY_MODEL_537a519ed5df4f0f8a24c21c4014cc97",
              "IPY_MODEL_7893a0abd3e544dfabb00f9b0ada8183"
            ],
            "layout": "IPY_MODEL_9034c2e0c3b949ad97d57b94e96277ec"
          }
        },
        "b2c8d016afab48b3941969ded4df0709": {
          "model_module": "@jupyter-widgets/controls",
          "model_name": "HTMLModel",
          "model_module_version": "1.5.0",
          "state": {
            "_dom_classes": [],
            "_model_module": "@jupyter-widgets/controls",
            "_model_module_version": "1.5.0",
            "_model_name": "HTMLModel",
            "_view_count": null,
            "_view_module": "@jupyter-widgets/controls",
            "_view_module_version": "1.5.0",
            "_view_name": "HTMLView",
            "description": "",
            "description_tooltip": null,
            "layout": "IPY_MODEL_e2369db7161843b1831ef6f031f2ef36",
            "placeholder": "​",
            "style": "IPY_MODEL_03cd7d65d3d74488ab593661829981b7",
            "value": "Loading checkpoint shards: 100%"
          }
        },
        "537a519ed5df4f0f8a24c21c4014cc97": {
          "model_module": "@jupyter-widgets/controls",
          "model_name": "FloatProgressModel",
          "model_module_version": "1.5.0",
          "state": {
            "_dom_classes": [],
            "_model_module": "@jupyter-widgets/controls",
            "_model_module_version": "1.5.0",
            "_model_name": "FloatProgressModel",
            "_view_count": null,
            "_view_module": "@jupyter-widgets/controls",
            "_view_module_version": "1.5.0",
            "_view_name": "ProgressView",
            "bar_style": "success",
            "description": "",
            "description_tooltip": null,
            "layout": "IPY_MODEL_6872ddc84cb64fff9bbb32afd51f8902",
            "max": 3,
            "min": 0,
            "orientation": "horizontal",
            "style": "IPY_MODEL_3788858fe95d4d8082ebe7ed690dcc49",
            "value": 3
          }
        },
        "7893a0abd3e544dfabb00f9b0ada8183": {
          "model_module": "@jupyter-widgets/controls",
          "model_name": "HTMLModel",
          "model_module_version": "1.5.0",
          "state": {
            "_dom_classes": [],
            "_model_module": "@jupyter-widgets/controls",
            "_model_module_version": "1.5.0",
            "_model_name": "HTMLModel",
            "_view_count": null,
            "_view_module": "@jupyter-widgets/controls",
            "_view_module_version": "1.5.0",
            "_view_name": "HTMLView",
            "description": "",
            "description_tooltip": null,
            "layout": "IPY_MODEL_6ded09f4832f4a8bbdc5556d6acc44ae",
            "placeholder": "​",
            "style": "IPY_MODEL_8dbc1228d95545fbadaabb341a33bd4f",
            "value": " 3/3 [00:07&lt;00:00,  2.41s/it]"
          }
        },
        "9034c2e0c3b949ad97d57b94e96277ec": {
          "model_module": "@jupyter-widgets/base",
          "model_name": "LayoutModel",
          "model_module_version": "1.2.0",
          "state": {
            "_model_module": "@jupyter-widgets/base",
            "_model_module_version": "1.2.0",
            "_model_name": "LayoutModel",
            "_view_count": null,
            "_view_module": "@jupyter-widgets/base",
            "_view_module_version": "1.2.0",
            "_view_name": "LayoutView",
            "align_content": null,
            "align_items": null,
            "align_self": null,
            "border": null,
            "bottom": null,
            "display": null,
            "flex": null,
            "flex_flow": null,
            "grid_area": null,
            "grid_auto_columns": null,
            "grid_auto_flow": null,
            "grid_auto_rows": null,
            "grid_column": null,
            "grid_gap": null,
            "grid_row": null,
            "grid_template_areas": null,
            "grid_template_columns": null,
            "grid_template_rows": null,
            "height": null,
            "justify_content": null,
            "justify_items": null,
            "left": null,
            "margin": null,
            "max_height": null,
            "max_width": null,
            "min_height": null,
            "min_width": null,
            "object_fit": null,
            "object_position": null,
            "order": null,
            "overflow": null,
            "overflow_x": null,
            "overflow_y": null,
            "padding": null,
            "right": null,
            "top": null,
            "visibility": null,
            "width": null
          }
        },
        "e2369db7161843b1831ef6f031f2ef36": {
          "model_module": "@jupyter-widgets/base",
          "model_name": "LayoutModel",
          "model_module_version": "1.2.0",
          "state": {
            "_model_module": "@jupyter-widgets/base",
            "_model_module_version": "1.2.0",
            "_model_name": "LayoutModel",
            "_view_count": null,
            "_view_module": "@jupyter-widgets/base",
            "_view_module_version": "1.2.0",
            "_view_name": "LayoutView",
            "align_content": null,
            "align_items": null,
            "align_self": null,
            "border": null,
            "bottom": null,
            "display": null,
            "flex": null,
            "flex_flow": null,
            "grid_area": null,
            "grid_auto_columns": null,
            "grid_auto_flow": null,
            "grid_auto_rows": null,
            "grid_column": null,
            "grid_gap": null,
            "grid_row": null,
            "grid_template_areas": null,
            "grid_template_columns": null,
            "grid_template_rows": null,
            "height": null,
            "justify_content": null,
            "justify_items": null,
            "left": null,
            "margin": null,
            "max_height": null,
            "max_width": null,
            "min_height": null,
            "min_width": null,
            "object_fit": null,
            "object_position": null,
            "order": null,
            "overflow": null,
            "overflow_x": null,
            "overflow_y": null,
            "padding": null,
            "right": null,
            "top": null,
            "visibility": null,
            "width": null
          }
        },
        "03cd7d65d3d74488ab593661829981b7": {
          "model_module": "@jupyter-widgets/controls",
          "model_name": "DescriptionStyleModel",
          "model_module_version": "1.5.0",
          "state": {
            "_model_module": "@jupyter-widgets/controls",
            "_model_module_version": "1.5.0",
            "_model_name": "DescriptionStyleModel",
            "_view_count": null,
            "_view_module": "@jupyter-widgets/base",
            "_view_module_version": "1.2.0",
            "_view_name": "StyleView",
            "description_width": ""
          }
        },
        "6872ddc84cb64fff9bbb32afd51f8902": {
          "model_module": "@jupyter-widgets/base",
          "model_name": "LayoutModel",
          "model_module_version": "1.2.0",
          "state": {
            "_model_module": "@jupyter-widgets/base",
            "_model_module_version": "1.2.0",
            "_model_name": "LayoutModel",
            "_view_count": null,
            "_view_module": "@jupyter-widgets/base",
            "_view_module_version": "1.2.0",
            "_view_name": "LayoutView",
            "align_content": null,
            "align_items": null,
            "align_self": null,
            "border": null,
            "bottom": null,
            "display": null,
            "flex": null,
            "flex_flow": null,
            "grid_area": null,
            "grid_auto_columns": null,
            "grid_auto_flow": null,
            "grid_auto_rows": null,
            "grid_column": null,
            "grid_gap": null,
            "grid_row": null,
            "grid_template_areas": null,
            "grid_template_columns": null,
            "grid_template_rows": null,
            "height": null,
            "justify_content": null,
            "justify_items": null,
            "left": null,
            "margin": null,
            "max_height": null,
            "max_width": null,
            "min_height": null,
            "min_width": null,
            "object_fit": null,
            "object_position": null,
            "order": null,
            "overflow": null,
            "overflow_x": null,
            "overflow_y": null,
            "padding": null,
            "right": null,
            "top": null,
            "visibility": null,
            "width": null
          }
        },
        "3788858fe95d4d8082ebe7ed690dcc49": {
          "model_module": "@jupyter-widgets/controls",
          "model_name": "ProgressStyleModel",
          "model_module_version": "1.5.0",
          "state": {
            "_model_module": "@jupyter-widgets/controls",
            "_model_module_version": "1.5.0",
            "_model_name": "ProgressStyleModel",
            "_view_count": null,
            "_view_module": "@jupyter-widgets/base",
            "_view_module_version": "1.2.0",
            "_view_name": "StyleView",
            "bar_color": null,
            "description_width": ""
          }
        },
        "6ded09f4832f4a8bbdc5556d6acc44ae": {
          "model_module": "@jupyter-widgets/base",
          "model_name": "LayoutModel",
          "model_module_version": "1.2.0",
          "state": {
            "_model_module": "@jupyter-widgets/base",
            "_model_module_version": "1.2.0",
            "_model_name": "LayoutModel",
            "_view_count": null,
            "_view_module": "@jupyter-widgets/base",
            "_view_module_version": "1.2.0",
            "_view_name": "LayoutView",
            "align_content": null,
            "align_items": null,
            "align_self": null,
            "border": null,
            "bottom": null,
            "display": null,
            "flex": null,
            "flex_flow": null,
            "grid_area": null,
            "grid_auto_columns": null,
            "grid_auto_flow": null,
            "grid_auto_rows": null,
            "grid_column": null,
            "grid_gap": null,
            "grid_row": null,
            "grid_template_areas": null,
            "grid_template_columns": null,
            "grid_template_rows": null,
            "height": null,
            "justify_content": null,
            "justify_items": null,
            "left": null,
            "margin": null,
            "max_height": null,
            "max_width": null,
            "min_height": null,
            "min_width": null,
            "object_fit": null,
            "object_position": null,
            "order": null,
            "overflow": null,
            "overflow_x": null,
            "overflow_y": null,
            "padding": null,
            "right": null,
            "top": null,
            "visibility": null,
            "width": null
          }
        },
        "8dbc1228d95545fbadaabb341a33bd4f": {
          "model_module": "@jupyter-widgets/controls",
          "model_name": "DescriptionStyleModel",
          "model_module_version": "1.5.0",
          "state": {
            "_model_module": "@jupyter-widgets/controls",
            "_model_module_version": "1.5.0",
            "_model_name": "DescriptionStyleModel",
            "_view_count": null,
            "_view_module": "@jupyter-widgets/base",
            "_view_module_version": "1.2.0",
            "_view_name": "StyleView",
            "description_width": ""
          }
        },
        "5a6985effe8f47a68b1176b051b50f14": {
          "model_module": "@jupyter-widgets/controls",
          "model_name": "HBoxModel",
          "model_module_version": "1.5.0",
          "state": {
            "_dom_classes": [],
            "_model_module": "@jupyter-widgets/controls",
            "_model_module_version": "1.5.0",
            "_model_name": "HBoxModel",
            "_view_count": null,
            "_view_module": "@jupyter-widgets/controls",
            "_view_module_version": "1.5.0",
            "_view_name": "HBoxView",
            "box_style": "",
            "children": [
              "IPY_MODEL_c309a10360a5486ca0109d0fd4ac6074",
              "IPY_MODEL_ef403691d92946b4997d17e82ee63aa6",
              "IPY_MODEL_e0c188076a2a43868f84ec19f21d3c2c"
            ],
            "layout": "IPY_MODEL_524c2debc1c5440b9975ec46581ea2fc"
          }
        },
        "c309a10360a5486ca0109d0fd4ac6074": {
          "model_module": "@jupyter-widgets/controls",
          "model_name": "HTMLModel",
          "model_module_version": "1.5.0",
          "state": {
            "_dom_classes": [],
            "_model_module": "@jupyter-widgets/controls",
            "_model_module_version": "1.5.0",
            "_model_name": "HTMLModel",
            "_view_count": null,
            "_view_module": "@jupyter-widgets/controls",
            "_view_module_version": "1.5.0",
            "_view_name": "HTMLView",
            "description": "",
            "description_tooltip": null,
            "layout": "IPY_MODEL_626079cb446d48ce893f0735033d070a",
            "placeholder": "​",
            "style": "IPY_MODEL_bfb8742375624142820a2c057692f70b",
            "value": "Tokenizing train dataset: 100%"
          }
        },
        "ef403691d92946b4997d17e82ee63aa6": {
          "model_module": "@jupyter-widgets/controls",
          "model_name": "FloatProgressModel",
          "model_module_version": "1.5.0",
          "state": {
            "_dom_classes": [],
            "_model_module": "@jupyter-widgets/controls",
            "_model_module_version": "1.5.0",
            "_model_name": "FloatProgressModel",
            "_view_count": null,
            "_view_module": "@jupyter-widgets/controls",
            "_view_module_version": "1.5.0",
            "_view_name": "ProgressView",
            "bar_style": "success",
            "description": "",
            "description_tooltip": null,
            "layout": "IPY_MODEL_4f4a3e04fb154d6a85d312f9a64f7ee2",
            "max": 19704,
            "min": 0,
            "orientation": "horizontal",
            "style": "IPY_MODEL_98534baeff194af7bb78da29d5366f4e",
            "value": 19704
          }
        },
        "e0c188076a2a43868f84ec19f21d3c2c": {
          "model_module": "@jupyter-widgets/controls",
          "model_name": "HTMLModel",
          "model_module_version": "1.5.0",
          "state": {
            "_dom_classes": [],
            "_model_module": "@jupyter-widgets/controls",
            "_model_module_version": "1.5.0",
            "_model_name": "HTMLModel",
            "_view_count": null,
            "_view_module": "@jupyter-widgets/controls",
            "_view_module_version": "1.5.0",
            "_view_name": "HTMLView",
            "description": "",
            "description_tooltip": null,
            "layout": "IPY_MODEL_502dd34b65fe4e83a5d7cd4bd0cac467",
            "placeholder": "​",
            "style": "IPY_MODEL_b545276ef2dd4f838c495e7414268042",
            "value": " 19704/19704 [00:52&lt;00:00, 320.40 examples/s]"
          }
        },
        "524c2debc1c5440b9975ec46581ea2fc": {
          "model_module": "@jupyter-widgets/base",
          "model_name": "LayoutModel",
          "model_module_version": "1.2.0",
          "state": {
            "_model_module": "@jupyter-widgets/base",
            "_model_module_version": "1.2.0",
            "_model_name": "LayoutModel",
            "_view_count": null,
            "_view_module": "@jupyter-widgets/base",
            "_view_module_version": "1.2.0",
            "_view_name": "LayoutView",
            "align_content": null,
            "align_items": null,
            "align_self": null,
            "border": null,
            "bottom": null,
            "display": null,
            "flex": null,
            "flex_flow": null,
            "grid_area": null,
            "grid_auto_columns": null,
            "grid_auto_flow": null,
            "grid_auto_rows": null,
            "grid_column": null,
            "grid_gap": null,
            "grid_row": null,
            "grid_template_areas": null,
            "grid_template_columns": null,
            "grid_template_rows": null,
            "height": null,
            "justify_content": null,
            "justify_items": null,
            "left": null,
            "margin": null,
            "max_height": null,
            "max_width": null,
            "min_height": null,
            "min_width": null,
            "object_fit": null,
            "object_position": null,
            "order": null,
            "overflow": null,
            "overflow_x": null,
            "overflow_y": null,
            "padding": null,
            "right": null,
            "top": null,
            "visibility": null,
            "width": null
          }
        },
        "626079cb446d48ce893f0735033d070a": {
          "model_module": "@jupyter-widgets/base",
          "model_name": "LayoutModel",
          "model_module_version": "1.2.0",
          "state": {
            "_model_module": "@jupyter-widgets/base",
            "_model_module_version": "1.2.0",
            "_model_name": "LayoutModel",
            "_view_count": null,
            "_view_module": "@jupyter-widgets/base",
            "_view_module_version": "1.2.0",
            "_view_name": "LayoutView",
            "align_content": null,
            "align_items": null,
            "align_self": null,
            "border": null,
            "bottom": null,
            "display": null,
            "flex": null,
            "flex_flow": null,
            "grid_area": null,
            "grid_auto_columns": null,
            "grid_auto_flow": null,
            "grid_auto_rows": null,
            "grid_column": null,
            "grid_gap": null,
            "grid_row": null,
            "grid_template_areas": null,
            "grid_template_columns": null,
            "grid_template_rows": null,
            "height": null,
            "justify_content": null,
            "justify_items": null,
            "left": null,
            "margin": null,
            "max_height": null,
            "max_width": null,
            "min_height": null,
            "min_width": null,
            "object_fit": null,
            "object_position": null,
            "order": null,
            "overflow": null,
            "overflow_x": null,
            "overflow_y": null,
            "padding": null,
            "right": null,
            "top": null,
            "visibility": null,
            "width": null
          }
        },
        "bfb8742375624142820a2c057692f70b": {
          "model_module": "@jupyter-widgets/controls",
          "model_name": "DescriptionStyleModel",
          "model_module_version": "1.5.0",
          "state": {
            "_model_module": "@jupyter-widgets/controls",
            "_model_module_version": "1.5.0",
            "_model_name": "DescriptionStyleModel",
            "_view_count": null,
            "_view_module": "@jupyter-widgets/base",
            "_view_module_version": "1.2.0",
            "_view_name": "StyleView",
            "description_width": ""
          }
        },
        "4f4a3e04fb154d6a85d312f9a64f7ee2": {
          "model_module": "@jupyter-widgets/base",
          "model_name": "LayoutModel",
          "model_module_version": "1.2.0",
          "state": {
            "_model_module": "@jupyter-widgets/base",
            "_model_module_version": "1.2.0",
            "_model_name": "LayoutModel",
            "_view_count": null,
            "_view_module": "@jupyter-widgets/base",
            "_view_module_version": "1.2.0",
            "_view_name": "LayoutView",
            "align_content": null,
            "align_items": null,
            "align_self": null,
            "border": null,
            "bottom": null,
            "display": null,
            "flex": null,
            "flex_flow": null,
            "grid_area": null,
            "grid_auto_columns": null,
            "grid_auto_flow": null,
            "grid_auto_rows": null,
            "grid_column": null,
            "grid_gap": null,
            "grid_row": null,
            "grid_template_areas": null,
            "grid_template_columns": null,
            "grid_template_rows": null,
            "height": null,
            "justify_content": null,
            "justify_items": null,
            "left": null,
            "margin": null,
            "max_height": null,
            "max_width": null,
            "min_height": null,
            "min_width": null,
            "object_fit": null,
            "object_position": null,
            "order": null,
            "overflow": null,
            "overflow_x": null,
            "overflow_y": null,
            "padding": null,
            "right": null,
            "top": null,
            "visibility": null,
            "width": null
          }
        },
        "98534baeff194af7bb78da29d5366f4e": {
          "model_module": "@jupyter-widgets/controls",
          "model_name": "ProgressStyleModel",
          "model_module_version": "1.5.0",
          "state": {
            "_model_module": "@jupyter-widgets/controls",
            "_model_module_version": "1.5.0",
            "_model_name": "ProgressStyleModel",
            "_view_count": null,
            "_view_module": "@jupyter-widgets/base",
            "_view_module_version": "1.2.0",
            "_view_name": "StyleView",
            "bar_color": null,
            "description_width": ""
          }
        },
        "502dd34b65fe4e83a5d7cd4bd0cac467": {
          "model_module": "@jupyter-widgets/base",
          "model_name": "LayoutModel",
          "model_module_version": "1.2.0",
          "state": {
            "_model_module": "@jupyter-widgets/base",
            "_model_module_version": "1.2.0",
            "_model_name": "LayoutModel",
            "_view_count": null,
            "_view_module": "@jupyter-widgets/base",
            "_view_module_version": "1.2.0",
            "_view_name": "LayoutView",
            "align_content": null,
            "align_items": null,
            "align_self": null,
            "border": null,
            "bottom": null,
            "display": null,
            "flex": null,
            "flex_flow": null,
            "grid_area": null,
            "grid_auto_columns": null,
            "grid_auto_flow": null,
            "grid_auto_rows": null,
            "grid_column": null,
            "grid_gap": null,
            "grid_row": null,
            "grid_template_areas": null,
            "grid_template_columns": null,
            "grid_template_rows": null,
            "height": null,
            "justify_content": null,
            "justify_items": null,
            "left": null,
            "margin": null,
            "max_height": null,
            "max_width": null,
            "min_height": null,
            "min_width": null,
            "object_fit": null,
            "object_position": null,
            "order": null,
            "overflow": null,
            "overflow_x": null,
            "overflow_y": null,
            "padding": null,
            "right": null,
            "top": null,
            "visibility": null,
            "width": null
          }
        },
        "b545276ef2dd4f838c495e7414268042": {
          "model_module": "@jupyter-widgets/controls",
          "model_name": "DescriptionStyleModel",
          "model_module_version": "1.5.0",
          "state": {
            "_model_module": "@jupyter-widgets/controls",
            "_model_module_version": "1.5.0",
            "_model_name": "DescriptionStyleModel",
            "_view_count": null,
            "_view_module": "@jupyter-widgets/base",
            "_view_module_version": "1.2.0",
            "_view_name": "StyleView",
            "description_width": ""
          }
        },
        "fc41b2901e6b46289cbd1134159273cb": {
          "model_module": "@jupyter-widgets/controls",
          "model_name": "HBoxModel",
          "model_module_version": "1.5.0",
          "state": {
            "_dom_classes": [],
            "_model_module": "@jupyter-widgets/controls",
            "_model_module_version": "1.5.0",
            "_model_name": "HBoxModel",
            "_view_count": null,
            "_view_module": "@jupyter-widgets/controls",
            "_view_module_version": "1.5.0",
            "_view_name": "HBoxView",
            "box_style": "",
            "children": [
              "IPY_MODEL_3d45c639412340bdb749ccc17b435a52",
              "IPY_MODEL_a37492bd825f42b09086b45e76edaeb3",
              "IPY_MODEL_d8dbd59ca88c46dcab4e794fe7f566c9"
            ],
            "layout": "IPY_MODEL_e848ffe7698747188ae768c0eb4919a6"
          }
        },
        "3d45c639412340bdb749ccc17b435a52": {
          "model_module": "@jupyter-widgets/controls",
          "model_name": "HTMLModel",
          "model_module_version": "1.5.0",
          "state": {
            "_dom_classes": [],
            "_model_module": "@jupyter-widgets/controls",
            "_model_module_version": "1.5.0",
            "_model_name": "HTMLModel",
            "_view_count": null,
            "_view_module": "@jupyter-widgets/controls",
            "_view_module_version": "1.5.0",
            "_view_name": "HTMLView",
            "description": "",
            "description_tooltip": null,
            "layout": "IPY_MODEL_71511d4f04bc428f9f7a00cf962b649c",
            "placeholder": "​",
            "style": "IPY_MODEL_4a73ec148c9541f7971bc38d883a7934",
            "value": "Truncating train dataset: 100%"
          }
        },
        "a37492bd825f42b09086b45e76edaeb3": {
          "model_module": "@jupyter-widgets/controls",
          "model_name": "FloatProgressModel",
          "model_module_version": "1.5.0",
          "state": {
            "_dom_classes": [],
            "_model_module": "@jupyter-widgets/controls",
            "_model_module_version": "1.5.0",
            "_model_name": "FloatProgressModel",
            "_view_count": null,
            "_view_module": "@jupyter-widgets/controls",
            "_view_module_version": "1.5.0",
            "_view_name": "ProgressView",
            "bar_style": "success",
            "description": "",
            "description_tooltip": null,
            "layout": "IPY_MODEL_72250229c769466fb83f920696611990",
            "max": 19704,
            "min": 0,
            "orientation": "horizontal",
            "style": "IPY_MODEL_a9f5077905ed4ac6b30e291bce1e4372",
            "value": 19704
          }
        },
        "d8dbd59ca88c46dcab4e794fe7f566c9": {
          "model_module": "@jupyter-widgets/controls",
          "model_name": "HTMLModel",
          "model_module_version": "1.5.0",
          "state": {
            "_dom_classes": [],
            "_model_module": "@jupyter-widgets/controls",
            "_model_module_version": "1.5.0",
            "_model_name": "HTMLModel",
            "_view_count": null,
            "_view_module": "@jupyter-widgets/controls",
            "_view_module_version": "1.5.0",
            "_view_name": "HTMLView",
            "description": "",
            "description_tooltip": null,
            "layout": "IPY_MODEL_e12b9b27c37c402398c5780754eac53e",
            "placeholder": "​",
            "style": "IPY_MODEL_c151f83f77f84108bfdf15b9f45efc7a",
            "value": " 19704/19704 [00:00&lt;00:00, 61357.03 examples/s]"
          }
        },
        "e848ffe7698747188ae768c0eb4919a6": {
          "model_module": "@jupyter-widgets/base",
          "model_name": "LayoutModel",
          "model_module_version": "1.2.0",
          "state": {
            "_model_module": "@jupyter-widgets/base",
            "_model_module_version": "1.2.0",
            "_model_name": "LayoutModel",
            "_view_count": null,
            "_view_module": "@jupyter-widgets/base",
            "_view_module_version": "1.2.0",
            "_view_name": "LayoutView",
            "align_content": null,
            "align_items": null,
            "align_self": null,
            "border": null,
            "bottom": null,
            "display": null,
            "flex": null,
            "flex_flow": null,
            "grid_area": null,
            "grid_auto_columns": null,
            "grid_auto_flow": null,
            "grid_auto_rows": null,
            "grid_column": null,
            "grid_gap": null,
            "grid_row": null,
            "grid_template_areas": null,
            "grid_template_columns": null,
            "grid_template_rows": null,
            "height": null,
            "justify_content": null,
            "justify_items": null,
            "left": null,
            "margin": null,
            "max_height": null,
            "max_width": null,
            "min_height": null,
            "min_width": null,
            "object_fit": null,
            "object_position": null,
            "order": null,
            "overflow": null,
            "overflow_x": null,
            "overflow_y": null,
            "padding": null,
            "right": null,
            "top": null,
            "visibility": null,
            "width": null
          }
        },
        "71511d4f04bc428f9f7a00cf962b649c": {
          "model_module": "@jupyter-widgets/base",
          "model_name": "LayoutModel",
          "model_module_version": "1.2.0",
          "state": {
            "_model_module": "@jupyter-widgets/base",
            "_model_module_version": "1.2.0",
            "_model_name": "LayoutModel",
            "_view_count": null,
            "_view_module": "@jupyter-widgets/base",
            "_view_module_version": "1.2.0",
            "_view_name": "LayoutView",
            "align_content": null,
            "align_items": null,
            "align_self": null,
            "border": null,
            "bottom": null,
            "display": null,
            "flex": null,
            "flex_flow": null,
            "grid_area": null,
            "grid_auto_columns": null,
            "grid_auto_flow": null,
            "grid_auto_rows": null,
            "grid_column": null,
            "grid_gap": null,
            "grid_row": null,
            "grid_template_areas": null,
            "grid_template_columns": null,
            "grid_template_rows": null,
            "height": null,
            "justify_content": null,
            "justify_items": null,
            "left": null,
            "margin": null,
            "max_height": null,
            "max_width": null,
            "min_height": null,
            "min_width": null,
            "object_fit": null,
            "object_position": null,
            "order": null,
            "overflow": null,
            "overflow_x": null,
            "overflow_y": null,
            "padding": null,
            "right": null,
            "top": null,
            "visibility": null,
            "width": null
          }
        },
        "4a73ec148c9541f7971bc38d883a7934": {
          "model_module": "@jupyter-widgets/controls",
          "model_name": "DescriptionStyleModel",
          "model_module_version": "1.5.0",
          "state": {
            "_model_module": "@jupyter-widgets/controls",
            "_model_module_version": "1.5.0",
            "_model_name": "DescriptionStyleModel",
            "_view_count": null,
            "_view_module": "@jupyter-widgets/base",
            "_view_module_version": "1.2.0",
            "_view_name": "StyleView",
            "description_width": ""
          }
        },
        "72250229c769466fb83f920696611990": {
          "model_module": "@jupyter-widgets/base",
          "model_name": "LayoutModel",
          "model_module_version": "1.2.0",
          "state": {
            "_model_module": "@jupyter-widgets/base",
            "_model_module_version": "1.2.0",
            "_model_name": "LayoutModel",
            "_view_count": null,
            "_view_module": "@jupyter-widgets/base",
            "_view_module_version": "1.2.0",
            "_view_name": "LayoutView",
            "align_content": null,
            "align_items": null,
            "align_self": null,
            "border": null,
            "bottom": null,
            "display": null,
            "flex": null,
            "flex_flow": null,
            "grid_area": null,
            "grid_auto_columns": null,
            "grid_auto_flow": null,
            "grid_auto_rows": null,
            "grid_column": null,
            "grid_gap": null,
            "grid_row": null,
            "grid_template_areas": null,
            "grid_template_columns": null,
            "grid_template_rows": null,
            "height": null,
            "justify_content": null,
            "justify_items": null,
            "left": null,
            "margin": null,
            "max_height": null,
            "max_width": null,
            "min_height": null,
            "min_width": null,
            "object_fit": null,
            "object_position": null,
            "order": null,
            "overflow": null,
            "overflow_x": null,
            "overflow_y": null,
            "padding": null,
            "right": null,
            "top": null,
            "visibility": null,
            "width": null
          }
        },
        "a9f5077905ed4ac6b30e291bce1e4372": {
          "model_module": "@jupyter-widgets/controls",
          "model_name": "ProgressStyleModel",
          "model_module_version": "1.5.0",
          "state": {
            "_model_module": "@jupyter-widgets/controls",
            "_model_module_version": "1.5.0",
            "_model_name": "ProgressStyleModel",
            "_view_count": null,
            "_view_module": "@jupyter-widgets/base",
            "_view_module_version": "1.2.0",
            "_view_name": "StyleView",
            "bar_color": null,
            "description_width": ""
          }
        },
        "e12b9b27c37c402398c5780754eac53e": {
          "model_module": "@jupyter-widgets/base",
          "model_name": "LayoutModel",
          "model_module_version": "1.2.0",
          "state": {
            "_model_module": "@jupyter-widgets/base",
            "_model_module_version": "1.2.0",
            "_model_name": "LayoutModel",
            "_view_count": null,
            "_view_module": "@jupyter-widgets/base",
            "_view_module_version": "1.2.0",
            "_view_name": "LayoutView",
            "align_content": null,
            "align_items": null,
            "align_self": null,
            "border": null,
            "bottom": null,
            "display": null,
            "flex": null,
            "flex_flow": null,
            "grid_area": null,
            "grid_auto_columns": null,
            "grid_auto_flow": null,
            "grid_auto_rows": null,
            "grid_column": null,
            "grid_gap": null,
            "grid_row": null,
            "grid_template_areas": null,
            "grid_template_columns": null,
            "grid_template_rows": null,
            "height": null,
            "justify_content": null,
            "justify_items": null,
            "left": null,
            "margin": null,
            "max_height": null,
            "max_width": null,
            "min_height": null,
            "min_width": null,
            "object_fit": null,
            "object_position": null,
            "order": null,
            "overflow": null,
            "overflow_x": null,
            "overflow_y": null,
            "padding": null,
            "right": null,
            "top": null,
            "visibility": null,
            "width": null
          }
        },
        "c151f83f77f84108bfdf15b9f45efc7a": {
          "model_module": "@jupyter-widgets/controls",
          "model_name": "DescriptionStyleModel",
          "model_module_version": "1.5.0",
          "state": {
            "_model_module": "@jupyter-widgets/controls",
            "_model_module_version": "1.5.0",
            "_model_name": "DescriptionStyleModel",
            "_view_count": null,
            "_view_module": "@jupyter-widgets/base",
            "_view_module_version": "1.2.0",
            "_view_name": "StyleView",
            "description_width": ""
          }
        }
      }
    }
  },
  "cells": [
    {
      "cell_type": "markdown",
      "metadata": {
        "id": "view-in-github",
        "colab_type": "text"
      },
      "source": [
        "<a href=\"https://colab.research.google.com/github/christiejibaraki/CUREBench/blob/finetune-gpt-oss-20b/notebooks/3-finetune_gpt_oss_20b.ipynb\" target=\"_parent\"><img src=\"https://colab.research.google.com/assets/colab-badge.svg\" alt=\"Open In Colab\"/></a>"
      ]
    },
    {
      "cell_type": "markdown",
      "source": [
        "## Run CUREBench eval\n",
        "- run prediction\n",
        "- run eval"
      ],
      "metadata": {
        "id": "heZIt_VzT0JB"
      }
    },
    {
      "cell_type": "code",
      "source": [
        "!nvcc --version"
      ],
      "metadata": {
        "id": "tBz3IkJsT2Ee",
        "colab": {
          "base_uri": "https://localhost:8080/"
        },
        "outputId": "90756ff9-0940-42dd-9cfa-f6b9463287a3"
      },
      "execution_count": 1,
      "outputs": [
        {
          "output_type": "stream",
          "name": "stdout",
          "text": [
            "nvcc: NVIDIA (R) Cuda compiler driver\n",
            "Copyright (c) 2005-2024 NVIDIA Corporation\n",
            "Built on Thu_Jun__6_02:18:23_PDT_2024\n",
            "Cuda compilation tools, release 12.5, V12.5.82\n",
            "Build cuda_12.5.r12.5/compiler.34385749_0\n"
          ]
        }
      ]
    },
    {
      "cell_type": "code",
      "source": [
        "import os\n",
        "import sys\n",
        "import os.path\n",
        "import glob"
      ],
      "metadata": {
        "id": "pKdMRSj2AIe5"
      },
      "execution_count": 2,
      "outputs": []
    },
    {
      "cell_type": "code",
      "source": [
        "os.environ['BNB_CUDA_VERSION'] = '125'\n",
        "os.environ['PYTORCH_CUDA_ALLOC_CONF'] = 'expandable_segments:True'"
      ],
      "metadata": {
        "id": "gsO29AFhALPD"
      },
      "execution_count": 3,
      "outputs": []
    },
    {
      "cell_type": "markdown",
      "source": [
        "## Setup\n",
        "- Clone forked CUREBench repo onto local `content` folder (this is not persistent)\n",
        "- Create virtual environment and install packages\n",
        "  - Package installation takes about **5 min** ⏰\n",
        "- Add virtual environment's site-packages to notebook's system path"
      ],
      "metadata": {
        "id": "nVBGcBUGAPRT"
      }
    },
    {
      "cell_type": "code",
      "source": [
        "!git clone -b finetune-gpt-oss-20b https://github.com/christiejibaraki/CUREBench.git"
      ],
      "metadata": {
        "colab": {
          "base_uri": "https://localhost:8080/"
        },
        "id": "hWQg8HLHARKo",
        "outputId": "0376befa-107e-4193-dea1-86be6e50f453"
      },
      "execution_count": 4,
      "outputs": [
        {
          "output_type": "stream",
          "name": "stdout",
          "text": [
            "fatal: destination path 'CUREBench' already exists and is not an empty directory.\n"
          ]
        }
      ]
    },
    {
      "cell_type": "code",
      "source": [
        "%cd CUREBench"
      ],
      "metadata": {
        "colab": {
          "base_uri": "https://localhost:8080/"
        },
        "id": "vSxna_C1AWEy",
        "outputId": "67d9ebf4-945e-40e4-edca-6f0eebb619f3"
      },
      "execution_count": 5,
      "outputs": [
        {
          "output_type": "stream",
          "name": "stdout",
          "text": [
            "/content/CUREBench\n"
          ]
        }
      ]
    },
    {
      "cell_type": "code",
      "source": [
        "!git pull"
      ],
      "metadata": {
        "colab": {
          "base_uri": "https://localhost:8080/"
        },
        "id": "doxA-xFfAaVr",
        "outputId": "13986e6b-e617-43d1-aea8-83d851057771"
      },
      "execution_count": 6,
      "outputs": [
        {
          "output_type": "stream",
          "name": "stdout",
          "text": [
            "Already up to date.\n"
          ]
        }
      ]
    },
    {
      "cell_type": "code",
      "source": [
        "!pip install virtualenv"
      ],
      "metadata": {
        "colab": {
          "base_uri": "https://localhost:8080/"
        },
        "id": "6LJ9doypAbmE",
        "outputId": "b22da519-4f6f-4ce5-d221-ad19dad3c58e"
      },
      "execution_count": 7,
      "outputs": [
        {
          "output_type": "stream",
          "name": "stdout",
          "text": [
            "Requirement already satisfied: virtualenv in /usr/local/lib/python3.12/dist-packages (20.35.4)\n",
            "Requirement already satisfied: distlib<1,>=0.3.7 in /usr/local/lib/python3.12/dist-packages (from virtualenv) (0.4.0)\n",
            "Requirement already satisfied: filelock<4,>=3.12.2 in /usr/local/lib/python3.12/dist-packages (from virtualenv) (3.20.0)\n",
            "Requirement already satisfied: platformdirs<5,>=3.9.1 in /usr/local/lib/python3.12/dist-packages (from virtualenv) (4.5.0)\n"
          ]
        }
      ]
    },
    {
      "cell_type": "code",
      "source": [
        "!virtualenv env"
      ],
      "metadata": {
        "colab": {
          "base_uri": "https://localhost:8080/"
        },
        "id": "LQBzzKJ0Ad15",
        "outputId": "d7118803-5f23-4866-c6bd-c632a5088c21"
      },
      "execution_count": 8,
      "outputs": [
        {
          "output_type": "stream",
          "name": "stdout",
          "text": [
            "created virtual environment CPython3.12.12.final.0-64 in 228ms\n",
            "  creator CPython3Posix(dest=/content/CUREBench/env, clear=False, no_vcs_ignore=False, global=False)\n",
            "  seeder FromAppData(download=False, pip=bundle, via=copy, app_data_dir=/root/.local/share/virtualenv)\n",
            "    added seed packages: Brotli==1.1.0, PyJWT==2.10.1, accelerate==1.10.1, acres==0.5.0, admet_ai==1.2.0, aiofiles==24.1.0, aiohappyeyeballs==2.6.1, aiohttp==3.13.0, aiosignal==1.4.0, alabaster==1.0.0, annotated_types==0.7.0, anyio==4.11.0, attrs==25.4.0, authlib==1.6.5, azure_ai_documentintelligence==1.0.2, azure_core==1.36.0, azure_identity==1.25.1, babel==2.17.0, beautifulsoup4==4.14.2, bitsandbytes==0.48.1, blinker==1.9.0, cachetools==6.2.1, certifi==2025.10.5, cffi==2.0.0, charset_normalizer==3.4.4, chemfunc==1.0.12, chemprop==1.6.1, ci_info==0.3.0, click==8.3.0, cloudpickle==3.1.1, cobble==0.1.4, coloredlogs==15.0.1, configobj==5.0.9, configparser==7.2.0, contourpy==1.3.3, cryptography==46.0.3, cycler==0.12.1, cyclopts==3.24.0, datasets==4.3.0, defusedxml==0.7.1, descriptastorus==2.8.0, dill==0.4.0, distro==1.9.0, dnspython==2.8.0, docstring_parser==0.17.0, docutils==0.21.2, email_validator==2.3.0, epam_indigo==1.36.0, et_xmlfile==2.0.0, etelemetry==0.3.1, exceptiongroup==1.3.0, faiss_cpu==1.12.0, fastapi==0.119.0, fastmcp==2.12.4, ffmpy==0.6.4, filelock==3.20.0, fitz==0.0.1.dev2, flask==3.1.2, flatbuffers==25.9.23, fonttools==4.60.1, frozenlist==1.8.0, fsspec==2025.9.0, future==1.0.0, google_ai_generativelanguage==0.6.15, google_api_core==2.26.0, google_api_python_client==2.184.0, google_auth==2.41.1, google_auth_httplib2==0.2.0, google_genai==1.45.0, google_generativeai==0.8.5, googleapis_common_protos==1.70.0, gradio==5.49.1, gradio_client==1.13.3, graphql_core==3.2.6, greenlet==3.2.4, groovy==0.1.2, grpcio==1.75.1, grpcio_status==1.71.2, h11==0.16.0, hf_xet==1.1.10, httpcore==1.0.9, httplib2==0.31.0, httpx==0.28.1, httpx_sse==0.4.3, huggingface_hub==0.35.3, humanfriendly==10.0, hyperopt==0.2.7, idna==3.11, imagesize==1.4.1, isodate==0.7.2, itsdangerous==2.2.0, jinja2==3.1.6, jiter==0.11.0, joblib==1.5.2, jsonschema==4.25.1, jsonschema_path==0.3.4, jsonschema_specifications==2025.9.1, kernels==0.10.4, kiwisolver==1.4.9, lazy_object_proxy==1.12.0, looseversion==1.3.0, lxml==6.0.2, magika==0.6.2, mammoth==1.10.0, markdown_it_py==4.0.0, markdownify==1.2.0, markitdown==0.1.3, markupsafe==3.0.3, matplotlib==3.10.7, mcp==1.17.0, mdurl==0.1.2, more_itertools==10.8.0, mpmath==1.3.0, msal==1.34.0, msal_extensions==1.3.1, multidict==6.7.0, multiprocess==0.70.16, mypy_extensions==1.1.0, narwhals==2.10.1, nest_asyncio==1.6.0, networkx==3.5, nibabel==5.3.2, nipype==1.10.0, numpy==2.3.4, nvidia_cublas_cu12==12.8.4.1, nvidia_cuda_cupti_cu12==12.8.90, nvidia_cuda_nvrtc_cu12==12.8.93, nvidia_cuda_runtime_cu12==12.8.90, nvidia_cudnn_cu12==9.10.2.21, nvidia_cufft_cu12==11.3.3.83, nvidia_cufile_cu12==1.13.1.3, nvidia_curand_cu12==10.3.9.90, nvidia_cusolver_cu12==11.7.3.90, nvidia_cusparse_cu12==12.5.8.93, nvidia_cusparselt_cu12==0.7.1, nvidia_nccl_cu12==2.27.5, nvidia_nvjitlink_cu12==12.8.93, nvidia_nvshmem_cu12==3.3.20, nvidia_nvtx_cu12==12.8.90, olefile==0.47, onnxruntime==1.23.1, openai==2.4.0, openai_harmony==0.0.4, openapi_core==0.19.5, openapi_pydantic==0.5.1, openapi_schema_validator==0.6.3, openapi_spec_validator==0.7.2, openpyxl==3.1.5, orjson==3.11.4, packaging==25.0, pandas==2.3.3, pandas_flavor==0.7.0, parse==1.20.2, pathable==0.4.4, pathlib==1.0.1, pdfminer_six==20250506, pdfplumber==0.11.7, pillow==11.3.0, pip==25.3, playwright==1.55.0, plotly==6.3.1, propcache==0.4.1, proto_plus==1.26.1, protobuf==5.29.5, prov==2.1.1, psutil==7.1.0, puremagic==1.30, py4j==0.10.9.9, pyarrow==22.0.0, pyasn1==0.6.1, pyasn1_modules==0.4.2, pycparser==2.23, pydantic==2.11.10, pydantic_core==2.33.2, pydantic_settings==2.11.0, pydot==4.0.1, pydub==0.25.1, pyee==13.0.0, pygments==2.19.2, pyparsing==3.2.5, pypdfium2==4.30.0, pyperclip==1.11.0, python_dateutil==2.9.0.post0, python_dotenv==1.1.1, python_multipart==0.0.20, python_pptx==1.0.2, pytz==2025.2, pyxnat==1.6.3, pyyaml==6.0.3, rcsb_api==1.4.2, rdflib==7.2.1, rdkit==2025.9.1, referencing==0.36.2, regex==2025.9.18, requests==2.32.5, rfc3339_validator==0.1.4, rich==14.2.0, rich_rst==1.3.2, roman_numerals_py==3.1.0, rpds_py==0.27.1, rsa==4.9.1, ruff==0.14.3, rustworkx==0.17.1, safehttpx==0.1.7, safetensors==0.6.2, scikit_learn==1.7.2, scipy==1.16.2, semantic_version==2.10.0, sentence_transformers==5.1.1, setuptools==80.9.0, shellingham==1.5.4, simplejson==3.20.2, six==1.17.0, sniffio==1.3.1, snowballstemmer==3.0.1, soupsieve==2.8, speechrecognition==3.14.3, sphinx==8.2.3, sphinxcontrib_applehelp==2.0.0, sphinxcontrib_devhelp==2.0.0, sphinxcontrib_htmlhelp==2.1.0, sphinxcontrib_jsmath==1.0.1, sphinxcontrib_qthelp==2.0.0, sphinxcontrib_serializinghtml==2.0.0, sse_starlette==3.0.2, starlette==0.48.0, sympy==1.14.0, tenacity==9.1.2, tensorboardx==2.6.4, threadpoolctl==3.6.0, tokenizers==0.22.1, tomlkit==0.13.3, tooluniverse==1.0.9.1, torch==2.9.0, tqdm==4.67.1, trackio==0.7.0, traits==7.0.2, transformers==4.57.1, triton==3.5.0, trl==0.24.0, typed_argument_parser==1.11.0, typer==0.19.2, typing_extensions==4.15.0, typing_inspect==0.9.0, typing_inspection==0.4.2, tzdata==2025.2, uritemplate==4.2.0, urllib3==2.5.0, uvicorn==0.37.0, websockets==15.0.1, werkzeug==3.1.1, xarray==2025.10.1, xlrd==2.0.2, xlsxwriter==3.2.9, xmltodict==1.0.2, xxhash==3.6.0, yarl==1.22.0, youtube_transcript_api==1.0.3\n",
            "  activators BashActivator,CShellActivator,FishActivator,NushellActivator,PowerShellActivator,PythonActivator\n"
          ]
        }
      ]
    },
    {
      "cell_type": "code",
      "source": [
        "!./env/bin/pip list"
      ],
      "metadata": {
        "colab": {
          "base_uri": "https://localhost:8080/"
        },
        "id": "0HzYjETJAiuQ",
        "outputId": "2e6c445c-cc85-4883-d01c-fffe4585ff50"
      },
      "execution_count": 9,
      "outputs": [
        {
          "output_type": "stream",
          "name": "stdout",
          "text": [
            "Package                       Version\n",
            "----------------------------- -----------\n",
            "accelerate                    1.10.1\n",
            "acres                         0.5.0\n",
            "admet_ai                      1.2.0\n",
            "aiofiles                      24.1.0\n",
            "aiohappyeyeballs              2.6.1\n",
            "aiohttp                       3.13.0\n",
            "aiosignal                     1.4.0\n",
            "alabaster                     1.0.0\n",
            "annotated-types               0.7.0\n",
            "anyio                         4.11.0\n",
            "attrs                         25.4.0\n",
            "Authlib                       1.6.5\n",
            "azure-ai-documentintelligence 1.0.2\n",
            "azure-core                    1.36.0\n",
            "azure-identity                1.25.1\n",
            "babel                         2.17.0\n",
            "beautifulsoup4                4.14.2\n",
            "bitsandbytes                  0.48.1\n",
            "blinker                       1.9.0\n",
            "Brotli                        1.1.0\n",
            "cachetools                    6.2.1\n",
            "certifi                       2025.10.5\n",
            "cffi                          2.0.0\n",
            "charset-normalizer            3.4.4\n",
            "chemfunc                      1.0.12\n",
            "chemprop                      1.6.1\n",
            "ci-info                       0.3.0\n",
            "click                         8.3.0\n",
            "cloudpickle                   3.1.1\n",
            "cobble                        0.1.4\n",
            "coloredlogs                   15.0.1\n",
            "configobj                     5.0.9\n",
            "configparser                  7.2.0\n",
            "contourpy                     1.3.3\n",
            "cryptography                  46.0.3\n",
            "cycler                        0.12.1\n",
            "cyclopts                      3.24.0\n",
            "datasets                      4.3.0\n",
            "defusedxml                    0.7.1\n",
            "descriptastorus               2.8.0\n",
            "dill                          0.4.0\n",
            "distro                        1.9.0\n",
            "dnspython                     2.8.0\n",
            "docstring_parser              0.17.0\n",
            "docutils                      0.21.2\n",
            "email-validator               2.3.0\n",
            "epam-indigo                   1.36.0\n",
            "et_xmlfile                    2.0.0\n",
            "etelemetry                    0.3.1\n",
            "exceptiongroup                1.3.0\n",
            "faiss-cpu                     1.12.0\n",
            "fastapi                       0.119.0\n",
            "fastmcp                       2.12.4\n",
            "ffmpy                         0.6.4\n",
            "filelock                      3.20.0\n",
            "fitz                          0.0.1.dev2\n",
            "Flask                         3.1.2\n",
            "flatbuffers                   25.9.23\n",
            "fonttools                     4.60.1\n",
            "frozenlist                    1.8.0\n",
            "fsspec                        2025.9.0\n",
            "future                        1.0.0\n",
            "google-ai-generativelanguage  0.6.15\n",
            "google-api-core               2.26.0\n",
            "google-api-python-client      2.184.0\n",
            "google-auth                   2.41.1\n",
            "google-auth-httplib2          0.2.0\n",
            "google-genai                  1.45.0\n",
            "google-generativeai           0.8.5\n",
            "googleapis-common-protos      1.70.0\n",
            "gradio                        5.49.1\n",
            "gradio_client                 1.13.3\n",
            "graphql-core                  3.2.6\n",
            "greenlet                      3.2.4\n",
            "groovy                        0.1.2\n",
            "grpcio                        1.75.1\n",
            "grpcio-status                 1.71.2\n",
            "h11                           0.16.0\n",
            "hf-xet                        1.1.10\n",
            "httpcore                      1.0.9\n",
            "httplib2                      0.31.0\n",
            "httpx                         0.28.1\n",
            "httpx-sse                     0.4.3\n",
            "huggingface-hub               0.35.3\n",
            "humanfriendly                 10.0\n",
            "hyperopt                      0.2.7\n",
            "idna                          3.11\n",
            "imagesize                     1.4.1\n",
            "isodate                       0.7.2\n",
            "itsdangerous                  2.2.0\n",
            "Jinja2                        3.1.6\n",
            "jiter                         0.11.0\n",
            "joblib                        1.5.2\n",
            "jsonschema                    4.25.1\n",
            "jsonschema-path               0.3.4\n",
            "jsonschema-specifications     2025.9.1\n",
            "kernels                       0.10.4\n",
            "kiwisolver                    1.4.9\n",
            "lazy-object-proxy             1.12.0\n",
            "looseversion                  1.3.0\n",
            "lxml                          6.0.2\n",
            "magika                        0.6.2\n",
            "mammoth                       1.10.0\n",
            "markdown-it-py                4.0.0\n",
            "markdownify                   1.2.0\n",
            "markitdown                    0.1.3\n",
            "MarkupSafe                    3.0.3\n",
            "matplotlib                    3.10.7\n",
            "mcp                           1.17.0\n",
            "mdurl                         0.1.2\n",
            "more-itertools                10.8.0\n",
            "mpmath                        1.3.0\n",
            "msal                          1.34.0\n",
            "msal-extensions               1.3.1\n",
            "multidict                     6.7.0\n",
            "multiprocess                  0.70.16\n",
            "mypy_extensions               1.1.0\n",
            "narwhals                      2.10.1\n",
            "nest-asyncio                  1.6.0\n",
            "networkx                      3.5\n",
            "nibabel                       5.3.2\n",
            "nipype                        1.10.0\n",
            "numpy                         2.3.4\n",
            "nvidia-cublas-cu12            12.8.4.1\n",
            "nvidia-cuda-cupti-cu12        12.8.90\n",
            "nvidia-cuda-nvrtc-cu12        12.8.93\n",
            "nvidia-cuda-runtime-cu12      12.8.90\n",
            "nvidia-cudnn-cu12             9.10.2.21\n",
            "nvidia-cufft-cu12             11.3.3.83\n",
            "nvidia-cufile-cu12            1.13.1.3\n",
            "nvidia-curand-cu12            10.3.9.90\n",
            "nvidia-cusolver-cu12          11.7.3.90\n",
            "nvidia-cusparse-cu12          12.5.8.93\n",
            "nvidia-cusparselt-cu12        0.7.1\n",
            "nvidia-nccl-cu12              2.27.5\n",
            "nvidia-nvjitlink-cu12         12.8.93\n",
            "nvidia-nvshmem-cu12           3.3.20\n",
            "nvidia-nvtx-cu12              12.8.90\n",
            "olefile                       0.47\n",
            "onnxruntime                   1.23.1\n",
            "openai                        2.4.0\n",
            "openai-harmony                0.0.4\n",
            "openapi-core                  0.19.5\n",
            "openapi-pydantic              0.5.1\n",
            "openapi-schema-validator      0.6.3\n",
            "openapi-spec-validator        0.7.2\n",
            "openpyxl                      3.1.5\n",
            "orjson                        3.11.4\n",
            "packaging                     25.0\n",
            "pandas                        2.3.3\n",
            "pandas_flavor                 0.7.0\n",
            "parse                         1.20.2\n",
            "pathable                      0.4.4\n",
            "pathlib                       1.0.1\n",
            "pdfminer.six                  20250506\n",
            "pdfplumber                    0.11.7\n",
            "pillow                        11.3.0\n",
            "pip                           25.3\n",
            "playwright                    1.55.0\n",
            "plotly                        6.3.1\n",
            "propcache                     0.4.1\n",
            "proto-plus                    1.26.1\n",
            "protobuf                      5.29.5\n",
            "prov                          2.1.1\n",
            "psutil                        7.1.0\n",
            "puremagic                     1.30\n",
            "py4j                          0.10.9.9\n",
            "pyarrow                       22.0.0\n",
            "pyasn1                        0.6.1\n",
            "pyasn1_modules                0.4.2\n",
            "pycparser                     2.23\n",
            "pydantic                      2.11.10\n",
            "pydantic_core                 2.33.2\n",
            "pydantic-settings             2.11.0\n",
            "pydot                         4.0.1\n",
            "pydub                         0.25.1\n",
            "pyee                          13.0.0\n",
            "Pygments                      2.19.2\n",
            "PyJWT                         2.10.1\n",
            "pyparsing                     3.2.5\n",
            "pypdfium2                     4.30.0\n",
            "pyperclip                     1.11.0\n",
            "python-dateutil               2.9.0.post0\n",
            "python-dotenv                 1.1.1\n",
            "python-multipart              0.0.20\n",
            "python-pptx                   1.0.2\n",
            "pytz                          2025.2\n",
            "pyxnat                        1.6.3\n",
            "PyYAML                        6.0.3\n",
            "rcsb-api                      1.4.2\n",
            "rdflib                        7.2.1\n",
            "rdkit                         2025.9.1\n",
            "referencing                   0.36.2\n",
            "regex                         2025.9.18\n",
            "requests                      2.32.5\n",
            "rfc3339-validator             0.1.4\n",
            "rich                          14.2.0\n",
            "rich-rst                      1.3.2\n",
            "roman-numerals-py             3.1.0\n",
            "rpds-py                       0.27.1\n",
            "rsa                           4.9.1\n",
            "ruff                          0.14.3\n",
            "rustworkx                     0.17.1\n",
            "safehttpx                     0.1.7\n",
            "safetensors                   0.6.2\n",
            "scikit-learn                  1.7.2\n",
            "scipy                         1.16.2\n",
            "semantic-version              2.10.0\n",
            "sentence-transformers         5.1.1\n",
            "setuptools                    80.9.0\n",
            "shellingham                   1.5.4\n",
            "simplejson                    3.20.2\n",
            "six                           1.17.0\n",
            "sniffio                       1.3.1\n",
            "snowballstemmer               3.0.1\n",
            "soupsieve                     2.8\n",
            "SpeechRecognition             3.14.3\n",
            "Sphinx                        8.2.3\n",
            "sphinxcontrib-applehelp       2.0.0\n",
            "sphinxcontrib-devhelp         2.0.0\n",
            "sphinxcontrib-htmlhelp        2.1.0\n",
            "sphinxcontrib-jsmath          1.0.1\n",
            "sphinxcontrib-qthelp          2.0.0\n",
            "sphinxcontrib-serializinghtml 2.0.0\n",
            "sse-starlette                 3.0.2\n",
            "starlette                     0.48.0\n",
            "sympy                         1.14.0\n",
            "tenacity                      9.1.2\n",
            "tensorboardX                  2.6.4\n",
            "threadpoolctl                 3.6.0\n",
            "tokenizers                    0.22.1\n",
            "tomlkit                       0.13.3\n",
            "tooluniverse                  1.0.9.1\n",
            "torch                         2.9.0\n",
            "tqdm                          4.67.1\n",
            "trackio                       0.7.0\n",
            "traits                        7.0.2\n",
            "transformers                  4.57.1\n",
            "triton                        3.5.0\n",
            "trl                           0.24.0\n",
            "typed-argument-parser         1.11.0\n",
            "typer                         0.19.2\n",
            "typing_extensions             4.15.0\n",
            "typing-inspect                0.9.0\n",
            "typing-inspection             0.4.2\n",
            "tzdata                        2025.2\n",
            "uritemplate                   4.2.0\n",
            "urllib3                       2.5.0\n",
            "uvicorn                       0.37.0\n",
            "websockets                    15.0.1\n",
            "Werkzeug                      3.1.1\n",
            "xarray                        2025.10.1\n",
            "xlrd                          2.0.2\n",
            "xlsxwriter                    3.2.9\n",
            "xmltodict                     1.0.2\n",
            "xxhash                        3.6.0\n",
            "yarl                          1.22.0\n",
            "youtube-transcript-api        1.0.3\n"
          ]
        }
      ]
    },
    {
      "cell_type": "code",
      "source": [
        "!./env/bin/pip install -r requirements.txt"
      ],
      "metadata": {
        "id": "j-LWrnGuAlLS",
        "outputId": "cb146d03-ebbd-41a8-9ccf-4ccc8f09ba61",
        "colab": {
          "base_uri": "https://localhost:8080/"
        },
        "collapsed": true
      },
      "execution_count": 10,
      "outputs": [
        {
          "output_type": "stream",
          "name": "stdout",
          "text": [
            "Requirement already satisfied: accelerate==1.10.1 in ./env/lib/python3.12/site-packages (from -r requirements.txt (line 1)) (1.10.1)\n",
            "Requirement already satisfied: acres==0.5.0 in ./env/lib/python3.12/site-packages (from -r requirements.txt (line 2)) (0.5.0)\n",
            "Requirement already satisfied: admet_ai==1.2.0 in ./env/lib/python3.12/site-packages (from -r requirements.txt (line 3)) (1.2.0)\n",
            "Requirement already satisfied: aiohappyeyeballs==2.6.1 in ./env/lib/python3.12/site-packages (from -r requirements.txt (line 4)) (2.6.1)\n",
            "Requirement already satisfied: aiohttp==3.13.0 in ./env/lib/python3.12/site-packages (from -r requirements.txt (line 5)) (3.13.0)\n",
            "Requirement already satisfied: aiosignal==1.4.0 in ./env/lib/python3.12/site-packages (from -r requirements.txt (line 6)) (1.4.0)\n",
            "Requirement already satisfied: alabaster==1.0.0 in ./env/lib/python3.12/site-packages (from -r requirements.txt (line 7)) (1.0.0)\n",
            "Requirement already satisfied: annotated-types==0.7.0 in ./env/lib/python3.12/site-packages (from -r requirements.txt (line 8)) (0.7.0)\n",
            "Requirement already satisfied: anyio==4.11.0 in ./env/lib/python3.12/site-packages (from -r requirements.txt (line 9)) (4.11.0)\n",
            "Requirement already satisfied: attrs==25.4.0 in ./env/lib/python3.12/site-packages (from -r requirements.txt (line 10)) (25.4.0)\n",
            "Requirement already satisfied: Authlib==1.6.5 in ./env/lib/python3.12/site-packages (from -r requirements.txt (line 11)) (1.6.5)\n",
            "Requirement already satisfied: azure-ai-documentintelligence==1.0.2 in ./env/lib/python3.12/site-packages (from -r requirements.txt (line 12)) (1.0.2)\n",
            "Requirement already satisfied: azure-core==1.36.0 in ./env/lib/python3.12/site-packages (from -r requirements.txt (line 13)) (1.36.0)\n",
            "Requirement already satisfied: azure-identity==1.25.1 in ./env/lib/python3.12/site-packages (from -r requirements.txt (line 14)) (1.25.1)\n",
            "Requirement already satisfied: babel==2.17.0 in ./env/lib/python3.12/site-packages (from -r requirements.txt (line 15)) (2.17.0)\n",
            "Requirement already satisfied: beautifulsoup4==4.14.2 in ./env/lib/python3.12/site-packages (from -r requirements.txt (line 16)) (4.14.2)\n",
            "Requirement already satisfied: bitsandbytes==0.48.1 in ./env/lib/python3.12/site-packages (from -r requirements.txt (line 17)) (0.48.1)\n",
            "Requirement already satisfied: blinker==1.9.0 in ./env/lib/python3.12/site-packages (from -r requirements.txt (line 18)) (1.9.0)\n",
            "Requirement already satisfied: cachetools==6.2.1 in ./env/lib/python3.12/site-packages (from -r requirements.txt (line 19)) (6.2.1)\n",
            "Requirement already satisfied: certifi==2025.10.5 in ./env/lib/python3.12/site-packages (from -r requirements.txt (line 20)) (2025.10.5)\n",
            "Requirement already satisfied: cffi==2.0.0 in ./env/lib/python3.12/site-packages (from -r requirements.txt (line 21)) (2.0.0)\n",
            "Requirement already satisfied: charset-normalizer==3.4.4 in ./env/lib/python3.12/site-packages (from -r requirements.txt (line 22)) (3.4.4)\n",
            "Requirement already satisfied: chemfunc==1.0.12 in ./env/lib/python3.12/site-packages (from -r requirements.txt (line 23)) (1.0.12)\n",
            "Requirement already satisfied: chemprop==1.6.1 in ./env/lib/python3.12/site-packages (from -r requirements.txt (line 24)) (1.6.1)\n",
            "Requirement already satisfied: ci-info==0.3.0 in ./env/lib/python3.12/site-packages (from -r requirements.txt (line 25)) (0.3.0)\n",
            "Requirement already satisfied: click==8.3.0 in ./env/lib/python3.12/site-packages (from -r requirements.txt (line 26)) (8.3.0)\n",
            "Requirement already satisfied: cloudpickle==3.1.1 in ./env/lib/python3.12/site-packages (from -r requirements.txt (line 27)) (3.1.1)\n",
            "Requirement already satisfied: cobble==0.1.4 in ./env/lib/python3.12/site-packages (from -r requirements.txt (line 28)) (0.1.4)\n",
            "Requirement already satisfied: coloredlogs==15.0.1 in ./env/lib/python3.12/site-packages (from -r requirements.txt (line 29)) (15.0.1)\n",
            "Requirement already satisfied: configobj==5.0.9 in ./env/lib/python3.12/site-packages (from -r requirements.txt (line 30)) (5.0.9)\n",
            "Requirement already satisfied: configparser==7.2.0 in ./env/lib/python3.12/site-packages (from -r requirements.txt (line 31)) (7.2.0)\n",
            "Requirement already satisfied: contourpy==1.3.3 in ./env/lib/python3.12/site-packages (from -r requirements.txt (line 32)) (1.3.3)\n",
            "Requirement already satisfied: cryptography==46.0.3 in ./env/lib/python3.12/site-packages (from -r requirements.txt (line 33)) (46.0.3)\n",
            "Requirement already satisfied: cycler==0.12.1 in ./env/lib/python3.12/site-packages (from -r requirements.txt (line 34)) (0.12.1)\n",
            "Requirement already satisfied: cyclopts==3.24.0 in ./env/lib/python3.12/site-packages (from -r requirements.txt (line 35)) (3.24.0)\n",
            "Requirement already satisfied: defusedxml==0.7.1 in ./env/lib/python3.12/site-packages (from -r requirements.txt (line 36)) (0.7.1)\n",
            "Requirement already satisfied: descriptastorus==2.8.0 in ./env/lib/python3.12/site-packages (from -r requirements.txt (line 37)) (2.8.0)\n",
            "Requirement already satisfied: distro==1.9.0 in ./env/lib/python3.12/site-packages (from -r requirements.txt (line 38)) (1.9.0)\n",
            "Requirement already satisfied: dnspython==2.8.0 in ./env/lib/python3.12/site-packages (from -r requirements.txt (line 39)) (2.8.0)\n",
            "Requirement already satisfied: docstring_parser==0.17.0 in ./env/lib/python3.12/site-packages (from -r requirements.txt (line 40)) (0.17.0)\n",
            "Requirement already satisfied: docutils==0.21.2 in ./env/lib/python3.12/site-packages (from -r requirements.txt (line 41)) (0.21.2)\n",
            "Requirement already satisfied: email-validator==2.3.0 in ./env/lib/python3.12/site-packages (from -r requirements.txt (line 42)) (2.3.0)\n",
            "Requirement already satisfied: epam-indigo==1.36.0 in ./env/lib/python3.12/site-packages (from -r requirements.txt (line 43)) (1.36.0)\n",
            "Requirement already satisfied: et_xmlfile==2.0.0 in ./env/lib/python3.12/site-packages (from -r requirements.txt (line 44)) (2.0.0)\n",
            "Requirement already satisfied: etelemetry==0.3.1 in ./env/lib/python3.12/site-packages (from -r requirements.txt (line 45)) (0.3.1)\n",
            "Requirement already satisfied: exceptiongroup==1.3.0 in ./env/lib/python3.12/site-packages (from -r requirements.txt (line 46)) (1.3.0)\n",
            "Requirement already satisfied: faiss-cpu==1.12.0 in ./env/lib/python3.12/site-packages (from -r requirements.txt (line 47)) (1.12.0)\n",
            "Requirement already satisfied: fastapi==0.119.0 in ./env/lib/python3.12/site-packages (from -r requirements.txt (line 48)) (0.119.0)\n",
            "Requirement already satisfied: fastmcp==2.12.4 in ./env/lib/python3.12/site-packages (from -r requirements.txt (line 49)) (2.12.4)\n",
            "Requirement already satisfied: filelock==3.20.0 in ./env/lib/python3.12/site-packages (from -r requirements.txt (line 50)) (3.20.0)\n",
            "Requirement already satisfied: fitz==0.0.1.dev2 in ./env/lib/python3.12/site-packages (from -r requirements.txt (line 51)) (0.0.1.dev2)\n",
            "Requirement already satisfied: Flask==3.1.2 in ./env/lib/python3.12/site-packages (from -r requirements.txt (line 52)) (3.1.2)\n",
            "Requirement already satisfied: flatbuffers==25.9.23 in ./env/lib/python3.12/site-packages (from -r requirements.txt (line 53)) (25.9.23)\n",
            "Requirement already satisfied: fonttools==4.60.1 in ./env/lib/python3.12/site-packages (from -r requirements.txt (line 54)) (4.60.1)\n",
            "Requirement already satisfied: frozenlist==1.8.0 in ./env/lib/python3.12/site-packages (from -r requirements.txt (line 55)) (1.8.0)\n",
            "Requirement already satisfied: fsspec==2025.9.0 in ./env/lib/python3.12/site-packages (from -r requirements.txt (line 56)) (2025.9.0)\n",
            "Requirement already satisfied: future==1.0.0 in ./env/lib/python3.12/site-packages (from -r requirements.txt (line 57)) (1.0.0)\n",
            "Requirement already satisfied: google-ai-generativelanguage==0.6.15 in ./env/lib/python3.12/site-packages (from -r requirements.txt (line 58)) (0.6.15)\n",
            "Requirement already satisfied: google-api-core==2.26.0 in ./env/lib/python3.12/site-packages (from -r requirements.txt (line 59)) (2.26.0)\n",
            "Requirement already satisfied: google-api-python-client==2.184.0 in ./env/lib/python3.12/site-packages (from -r requirements.txt (line 60)) (2.184.0)\n",
            "Requirement already satisfied: google-auth==2.41.1 in ./env/lib/python3.12/site-packages (from -r requirements.txt (line 61)) (2.41.1)\n",
            "Requirement already satisfied: google-auth-httplib2==0.2.0 in ./env/lib/python3.12/site-packages (from -r requirements.txt (line 62)) (0.2.0)\n",
            "Requirement already satisfied: google-genai==1.45.0 in ./env/lib/python3.12/site-packages (from -r requirements.txt (line 63)) (1.45.0)\n",
            "Requirement already satisfied: google-generativeai==0.8.5 in ./env/lib/python3.12/site-packages (from -r requirements.txt (line 64)) (0.8.5)\n",
            "Requirement already satisfied: googleapis-common-protos==1.70.0 in ./env/lib/python3.12/site-packages (from -r requirements.txt (line 65)) (1.70.0)\n",
            "Requirement already satisfied: graphql-core==3.2.6 in ./env/lib/python3.12/site-packages (from -r requirements.txt (line 66)) (3.2.6)\n",
            "Requirement already satisfied: greenlet==3.2.4 in ./env/lib/python3.12/site-packages (from -r requirements.txt (line 67)) (3.2.4)\n",
            "Requirement already satisfied: grpcio==1.75.1 in ./env/lib/python3.12/site-packages (from -r requirements.txt (line 68)) (1.75.1)\n",
            "Requirement already satisfied: grpcio-status==1.71.2 in ./env/lib/python3.12/site-packages (from -r requirements.txt (line 69)) (1.71.2)\n",
            "Requirement already satisfied: h11==0.16.0 in ./env/lib/python3.12/site-packages (from -r requirements.txt (line 70)) (0.16.0)\n",
            "Requirement already satisfied: hf-xet==1.1.10 in ./env/lib/python3.12/site-packages (from -r requirements.txt (line 71)) (1.1.10)\n",
            "Requirement already satisfied: httpcore==1.0.9 in ./env/lib/python3.12/site-packages (from -r requirements.txt (line 72)) (1.0.9)\n",
            "Requirement already satisfied: httplib2==0.31.0 in ./env/lib/python3.12/site-packages (from -r requirements.txt (line 73)) (0.31.0)\n",
            "Requirement already satisfied: httpx==0.28.1 in ./env/lib/python3.12/site-packages (from -r requirements.txt (line 74)) (0.28.1)\n",
            "Requirement already satisfied: httpx-sse==0.4.3 in ./env/lib/python3.12/site-packages (from -r requirements.txt (line 75)) (0.4.3)\n",
            "Requirement already satisfied: huggingface-hub==0.35.3 in ./env/lib/python3.12/site-packages (from -r requirements.txt (line 76)) (0.35.3)\n",
            "Requirement already satisfied: humanfriendly==10.0 in ./env/lib/python3.12/site-packages (from -r requirements.txt (line 77)) (10.0)\n",
            "Requirement already satisfied: hyperopt==0.2.7 in ./env/lib/python3.12/site-packages (from -r requirements.txt (line 78)) (0.2.7)\n",
            "Requirement already satisfied: idna==3.11 in ./env/lib/python3.12/site-packages (from -r requirements.txt (line 79)) (3.11)\n",
            "Requirement already satisfied: imagesize==1.4.1 in ./env/lib/python3.12/site-packages (from -r requirements.txt (line 80)) (1.4.1)\n",
            "Requirement already satisfied: isodate==0.7.2 in ./env/lib/python3.12/site-packages (from -r requirements.txt (line 81)) (0.7.2)\n",
            "Requirement already satisfied: itsdangerous==2.2.0 in ./env/lib/python3.12/site-packages (from -r requirements.txt (line 82)) (2.2.0)\n",
            "Requirement already satisfied: Jinja2==3.1.6 in ./env/lib/python3.12/site-packages (from -r requirements.txt (line 83)) (3.1.6)\n",
            "Requirement already satisfied: jiter==0.11.0 in ./env/lib/python3.12/site-packages (from -r requirements.txt (line 84)) (0.11.0)\n",
            "Requirement already satisfied: joblib==1.5.2 in ./env/lib/python3.12/site-packages (from -r requirements.txt (line 85)) (1.5.2)\n",
            "Requirement already satisfied: jsonschema==4.25.1 in ./env/lib/python3.12/site-packages (from -r requirements.txt (line 86)) (4.25.1)\n",
            "Requirement already satisfied: jsonschema-path==0.3.4 in ./env/lib/python3.12/site-packages (from -r requirements.txt (line 87)) (0.3.4)\n",
            "Requirement already satisfied: jsonschema-specifications==2025.9.1 in ./env/lib/python3.12/site-packages (from -r requirements.txt (line 88)) (2025.9.1)\n",
            "Requirement already satisfied: kernels==0.10.4 in ./env/lib/python3.12/site-packages (from -r requirements.txt (line 89)) (0.10.4)\n",
            "Requirement already satisfied: kiwisolver==1.4.9 in ./env/lib/python3.12/site-packages (from -r requirements.txt (line 90)) (1.4.9)\n",
            "Requirement already satisfied: lazy-object-proxy==1.12.0 in ./env/lib/python3.12/site-packages (from -r requirements.txt (line 91)) (1.12.0)\n",
            "Requirement already satisfied: looseversion==1.3.0 in ./env/lib/python3.12/site-packages (from -r requirements.txt (line 92)) (1.3.0)\n",
            "Requirement already satisfied: lxml==6.0.2 in ./env/lib/python3.12/site-packages (from -r requirements.txt (line 93)) (6.0.2)\n",
            "Requirement already satisfied: magika==0.6.2 in ./env/lib/python3.12/site-packages (from -r requirements.txt (line 94)) (0.6.2)\n",
            "Requirement already satisfied: mammoth==1.10.0 in ./env/lib/python3.12/site-packages (from -r requirements.txt (line 95)) (1.10.0)\n",
            "Requirement already satisfied: markdown-it-py==4.0.0 in ./env/lib/python3.12/site-packages (from -r requirements.txt (line 96)) (4.0.0)\n",
            "Requirement already satisfied: markdownify==1.2.0 in ./env/lib/python3.12/site-packages (from -r requirements.txt (line 97)) (1.2.0)\n",
            "Requirement already satisfied: markitdown==0.1.3 in ./env/lib/python3.12/site-packages (from -r requirements.txt (line 98)) (0.1.3)\n",
            "Requirement already satisfied: MarkupSafe==3.0.3 in ./env/lib/python3.12/site-packages (from -r requirements.txt (line 99)) (3.0.3)\n",
            "Requirement already satisfied: matplotlib==3.10.7 in ./env/lib/python3.12/site-packages (from -r requirements.txt (line 100)) (3.10.7)\n",
            "Requirement already satisfied: mcp==1.17.0 in ./env/lib/python3.12/site-packages (from -r requirements.txt (line 101)) (1.17.0)\n",
            "Requirement already satisfied: mdurl==0.1.2 in ./env/lib/python3.12/site-packages (from -r requirements.txt (line 102)) (0.1.2)\n",
            "Requirement already satisfied: more-itertools==10.8.0 in ./env/lib/python3.12/site-packages (from -r requirements.txt (line 103)) (10.8.0)\n",
            "Requirement already satisfied: mpmath==1.3.0 in ./env/lib/python3.12/site-packages (from -r requirements.txt (line 104)) (1.3.0)\n",
            "Requirement already satisfied: msal==1.34.0 in ./env/lib/python3.12/site-packages (from -r requirements.txt (line 105)) (1.34.0)\n",
            "Requirement already satisfied: msal-extensions==1.3.1 in ./env/lib/python3.12/site-packages (from -r requirements.txt (line 106)) (1.3.1)\n",
            "Requirement already satisfied: multidict==6.7.0 in ./env/lib/python3.12/site-packages (from -r requirements.txt (line 107)) (6.7.0)\n",
            "Requirement already satisfied: mypy_extensions==1.1.0 in ./env/lib/python3.12/site-packages (from -r requirements.txt (line 108)) (1.1.0)\n",
            "Requirement already satisfied: nest-asyncio==1.6.0 in ./env/lib/python3.12/site-packages (from -r requirements.txt (line 109)) (1.6.0)\n",
            "Requirement already satisfied: networkx==3.5 in ./env/lib/python3.12/site-packages (from -r requirements.txt (line 110)) (3.5)\n",
            "Requirement already satisfied: nibabel==5.3.2 in ./env/lib/python3.12/site-packages (from -r requirements.txt (line 111)) (5.3.2)\n",
            "Requirement already satisfied: nipype==1.10.0 in ./env/lib/python3.12/site-packages (from -r requirements.txt (line 112)) (1.10.0)\n",
            "Requirement already satisfied: numpy==2.3.4 in ./env/lib/python3.12/site-packages (from -r requirements.txt (line 113)) (2.3.4)\n",
            "Requirement already satisfied: nvidia-cublas-cu12==12.8.4.1 in ./env/lib/python3.12/site-packages (from -r requirements.txt (line 114)) (12.8.4.1)\n",
            "Requirement already satisfied: nvidia-cuda-cupti-cu12==12.8.90 in ./env/lib/python3.12/site-packages (from -r requirements.txt (line 115)) (12.8.90)\n",
            "Requirement already satisfied: nvidia-cuda-nvrtc-cu12==12.8.93 in ./env/lib/python3.12/site-packages (from -r requirements.txt (line 116)) (12.8.93)\n",
            "Requirement already satisfied: nvidia-cuda-runtime-cu12==12.8.90 in ./env/lib/python3.12/site-packages (from -r requirements.txt (line 117)) (12.8.90)\n",
            "Requirement already satisfied: nvidia-cudnn-cu12==9.10.2.21 in ./env/lib/python3.12/site-packages (from -r requirements.txt (line 118)) (9.10.2.21)\n",
            "Requirement already satisfied: nvidia-cufft-cu12==11.3.3.83 in ./env/lib/python3.12/site-packages (from -r requirements.txt (line 119)) (11.3.3.83)\n",
            "Requirement already satisfied: nvidia-cufile-cu12==1.13.1.3 in ./env/lib/python3.12/site-packages (from -r requirements.txt (line 120)) (1.13.1.3)\n",
            "Requirement already satisfied: nvidia-curand-cu12==10.3.9.90 in ./env/lib/python3.12/site-packages (from -r requirements.txt (line 121)) (10.3.9.90)\n",
            "Requirement already satisfied: nvidia-cusolver-cu12==11.7.3.90 in ./env/lib/python3.12/site-packages (from -r requirements.txt (line 122)) (11.7.3.90)\n",
            "Requirement already satisfied: nvidia-cusparse-cu12==12.5.8.93 in ./env/lib/python3.12/site-packages (from -r requirements.txt (line 123)) (12.5.8.93)\n",
            "Requirement already satisfied: nvidia-cusparselt-cu12==0.7.1 in ./env/lib/python3.12/site-packages (from -r requirements.txt (line 124)) (0.7.1)\n",
            "Requirement already satisfied: nvidia-nccl-cu12==2.27.5 in ./env/lib/python3.12/site-packages (from -r requirements.txt (line 125)) (2.27.5)\n",
            "Requirement already satisfied: nvidia-nvjitlink-cu12==12.8.93 in ./env/lib/python3.12/site-packages (from -r requirements.txt (line 126)) (12.8.93)\n",
            "Requirement already satisfied: nvidia-nvshmem-cu12==3.3.20 in ./env/lib/python3.12/site-packages (from -r requirements.txt (line 127)) (3.3.20)\n",
            "Requirement already satisfied: nvidia-nvtx-cu12==12.8.90 in ./env/lib/python3.12/site-packages (from -r requirements.txt (line 128)) (12.8.90)\n",
            "Requirement already satisfied: olefile==0.47 in ./env/lib/python3.12/site-packages (from -r requirements.txt (line 129)) (0.47)\n",
            "Requirement already satisfied: onnxruntime==1.23.1 in ./env/lib/python3.12/site-packages (from -r requirements.txt (line 130)) (1.23.1)\n",
            "Requirement already satisfied: openai==2.4.0 in ./env/lib/python3.12/site-packages (from -r requirements.txt (line 131)) (2.4.0)\n",
            "Requirement already satisfied: openai-harmony==0.0.4 in ./env/lib/python3.12/site-packages (from -r requirements.txt (line 132)) (0.0.4)\n",
            "Requirement already satisfied: openapi-core==0.19.5 in ./env/lib/python3.12/site-packages (from -r requirements.txt (line 133)) (0.19.5)\n",
            "Requirement already satisfied: openapi-pydantic==0.5.1 in ./env/lib/python3.12/site-packages (from -r requirements.txt (line 134)) (0.5.1)\n",
            "Requirement already satisfied: openapi-schema-validator==0.6.3 in ./env/lib/python3.12/site-packages (from -r requirements.txt (line 135)) (0.6.3)\n",
            "Requirement already satisfied: openapi-spec-validator==0.7.2 in ./env/lib/python3.12/site-packages (from -r requirements.txt (line 136)) (0.7.2)\n",
            "Requirement already satisfied: openpyxl==3.1.5 in ./env/lib/python3.12/site-packages (from -r requirements.txt (line 137)) (3.1.5)\n",
            "Requirement already satisfied: packaging==25.0 in ./env/lib/python3.12/site-packages (from -r requirements.txt (line 138)) (25.0)\n",
            "Requirement already satisfied: pandas==2.3.3 in ./env/lib/python3.12/site-packages (from -r requirements.txt (line 139)) (2.3.3)\n",
            "Requirement already satisfied: pandas_flavor==0.7.0 in ./env/lib/python3.12/site-packages (from -r requirements.txt (line 140)) (0.7.0)\n",
            "Requirement already satisfied: parse==1.20.2 in ./env/lib/python3.12/site-packages (from -r requirements.txt (line 141)) (1.20.2)\n",
            "Requirement already satisfied: pathable==0.4.4 in ./env/lib/python3.12/site-packages (from -r requirements.txt (line 142)) (0.4.4)\n",
            "Requirement already satisfied: pathlib==1.0.1 in ./env/lib/python3.12/site-packages (from -r requirements.txt (line 143)) (1.0.1)\n",
            "Requirement already satisfied: pdfminer.six==20250506 in ./env/lib/python3.12/site-packages (from -r requirements.txt (line 144)) (20250506)\n",
            "Requirement already satisfied: pdfplumber==0.11.7 in ./env/lib/python3.12/site-packages (from -r requirements.txt (line 145)) (0.11.7)\n",
            "Collecting pillow==12.0.0 (from -r requirements.txt (line 146))\n",
            "  Using cached pillow-12.0.0-cp312-cp312-manylinux_2_27_x86_64.manylinux_2_28_x86_64.whl.metadata (8.8 kB)\n",
            "Requirement already satisfied: playwright==1.55.0 in ./env/lib/python3.12/site-packages (from -r requirements.txt (line 147)) (1.55.0)\n",
            "Requirement already satisfied: propcache==0.4.1 in ./env/lib/python3.12/site-packages (from -r requirements.txt (line 148)) (0.4.1)\n",
            "Requirement already satisfied: proto-plus==1.26.1 in ./env/lib/python3.12/site-packages (from -r requirements.txt (line 149)) (1.26.1)\n",
            "Requirement already satisfied: protobuf==5.29.5 in ./env/lib/python3.12/site-packages (from -r requirements.txt (line 150)) (5.29.5)\n",
            "Requirement already satisfied: prov==2.1.1 in ./env/lib/python3.12/site-packages (from -r requirements.txt (line 151)) (2.1.1)\n",
            "Requirement already satisfied: psutil==7.1.0 in ./env/lib/python3.12/site-packages (from -r requirements.txt (line 152)) (7.1.0)\n",
            "Requirement already satisfied: puremagic==1.30 in ./env/lib/python3.12/site-packages (from -r requirements.txt (line 153)) (1.30)\n",
            "Requirement already satisfied: py4j==0.10.9.9 in ./env/lib/python3.12/site-packages (from -r requirements.txt (line 154)) (0.10.9.9)\n",
            "Requirement already satisfied: pyasn1==0.6.1 in ./env/lib/python3.12/site-packages (from -r requirements.txt (line 155)) (0.6.1)\n",
            "Requirement already satisfied: pyasn1_modules==0.4.2 in ./env/lib/python3.12/site-packages (from -r requirements.txt (line 156)) (0.4.2)\n",
            "Requirement already satisfied: pycparser==2.23 in ./env/lib/python3.12/site-packages (from -r requirements.txt (line 157)) (2.23)\n",
            "Collecting pydantic==2.12.2 (from -r requirements.txt (line 158))\n",
            "  Using cached pydantic-2.12.2-py3-none-any.whl.metadata (85 kB)\n",
            "Requirement already satisfied: pydantic-settings==2.11.0 in ./env/lib/python3.12/site-packages (from -r requirements.txt (line 159)) (2.11.0)\n",
            "Collecting pydantic_core==2.41.4 (from -r requirements.txt (line 160))\n",
            "  Using cached pydantic_core-2.41.4-cp312-cp312-manylinux_2_17_x86_64.manylinux2014_x86_64.whl.metadata (7.3 kB)\n",
            "Requirement already satisfied: pydot==4.0.1 in ./env/lib/python3.12/site-packages (from -r requirements.txt (line 161)) (4.0.1)\n",
            "Requirement already satisfied: pydub==0.25.1 in ./env/lib/python3.12/site-packages (from -r requirements.txt (line 162)) (0.25.1)\n",
            "Requirement already satisfied: pyee==13.0.0 in ./env/lib/python3.12/site-packages (from -r requirements.txt (line 163)) (13.0.0)\n",
            "Requirement already satisfied: Pygments==2.19.2 in ./env/lib/python3.12/site-packages (from -r requirements.txt (line 164)) (2.19.2)\n",
            "Requirement already satisfied: PyJWT==2.10.1 in ./env/lib/python3.12/site-packages (from -r requirements.txt (line 165)) (2.10.1)\n",
            "Requirement already satisfied: pyparsing==3.2.5 in ./env/lib/python3.12/site-packages (from -r requirements.txt (line 166)) (3.2.5)\n",
            "Requirement already satisfied: pypdfium2==4.30.0 in ./env/lib/python3.12/site-packages (from -r requirements.txt (line 167)) (4.30.0)\n",
            "Requirement already satisfied: pyperclip==1.11.0 in ./env/lib/python3.12/site-packages (from -r requirements.txt (line 168)) (1.11.0)\n",
            "Requirement already satisfied: python-dateutil==2.9.0.post0 in ./env/lib/python3.12/site-packages (from -r requirements.txt (line 169)) (2.9.0.post0)\n",
            "Requirement already satisfied: python-dotenv==1.1.1 in ./env/lib/python3.12/site-packages (from -r requirements.txt (line 170)) (1.1.1)\n",
            "Requirement already satisfied: python-multipart==0.0.20 in ./env/lib/python3.12/site-packages (from -r requirements.txt (line 171)) (0.0.20)\n",
            "Requirement already satisfied: python-pptx==1.0.2 in ./env/lib/python3.12/site-packages (from -r requirements.txt (line 172)) (1.0.2)\n",
            "Requirement already satisfied: pytz==2025.2 in ./env/lib/python3.12/site-packages (from -r requirements.txt (line 173)) (2025.2)\n",
            "Requirement already satisfied: pyxnat==1.6.3 in ./env/lib/python3.12/site-packages (from -r requirements.txt (line 174)) (1.6.3)\n",
            "Requirement already satisfied: PyYAML==6.0.3 in ./env/lib/python3.12/site-packages (from -r requirements.txt (line 175)) (6.0.3)\n",
            "Requirement already satisfied: rcsb-api==1.4.2 in ./env/lib/python3.12/site-packages (from -r requirements.txt (line 176)) (1.4.2)\n",
            "Requirement already satisfied: rdflib==7.2.1 in ./env/lib/python3.12/site-packages (from -r requirements.txt (line 177)) (7.2.1)\n",
            "Requirement already satisfied: rdkit==2025.9.1 in ./env/lib/python3.12/site-packages (from -r requirements.txt (line 178)) (2025.9.1)\n",
            "Requirement already satisfied: referencing==0.36.2 in ./env/lib/python3.12/site-packages (from -r requirements.txt (line 179)) (0.36.2)\n",
            "Requirement already satisfied: regex==2025.9.18 in ./env/lib/python3.12/site-packages (from -r requirements.txt (line 180)) (2025.9.18)\n",
            "Requirement already satisfied: requests==2.32.5 in ./env/lib/python3.12/site-packages (from -r requirements.txt (line 181)) (2.32.5)\n",
            "Requirement already satisfied: rfc3339-validator==0.1.4 in ./env/lib/python3.12/site-packages (from -r requirements.txt (line 182)) (0.1.4)\n",
            "Requirement already satisfied: rich==14.2.0 in ./env/lib/python3.12/site-packages (from -r requirements.txt (line 183)) (14.2.0)\n",
            "Requirement already satisfied: rich-rst==1.3.2 in ./env/lib/python3.12/site-packages (from -r requirements.txt (line 184)) (1.3.2)\n",
            "Requirement already satisfied: roman-numerals-py==3.1.0 in ./env/lib/python3.12/site-packages (from -r requirements.txt (line 185)) (3.1.0)\n",
            "Requirement already satisfied: rpds-py==0.27.1 in ./env/lib/python3.12/site-packages (from -r requirements.txt (line 186)) (0.27.1)\n",
            "Requirement already satisfied: rsa==4.9.1 in ./env/lib/python3.12/site-packages (from -r requirements.txt (line 187)) (4.9.1)\n",
            "Requirement already satisfied: rustworkx==0.17.1 in ./env/lib/python3.12/site-packages (from -r requirements.txt (line 188)) (0.17.1)\n",
            "Requirement already satisfied: safetensors==0.6.2 in ./env/lib/python3.12/site-packages (from -r requirements.txt (line 189)) (0.6.2)\n",
            "Requirement already satisfied: scikit-learn==1.7.2 in ./env/lib/python3.12/site-packages (from -r requirements.txt (line 190)) (1.7.2)\n",
            "Requirement already satisfied: scipy==1.16.2 in ./env/lib/python3.12/site-packages (from -r requirements.txt (line 191)) (1.16.2)\n",
            "Requirement already satisfied: sentence-transformers==5.1.1 in ./env/lib/python3.12/site-packages (from -r requirements.txt (line 192)) (5.1.1)\n",
            "Requirement already satisfied: setuptools==80.9.0 in ./env/lib/python3.12/site-packages (from -r requirements.txt (line 193)) (80.9.0)\n",
            "Requirement already satisfied: shellingham==1.5.4 in ./env/lib/python3.12/site-packages (from -r requirements.txt (line 194)) (1.5.4)\n",
            "Requirement already satisfied: simplejson==3.20.2 in ./env/lib/python3.12/site-packages (from -r requirements.txt (line 195)) (3.20.2)\n",
            "Requirement already satisfied: six==1.17.0 in ./env/lib/python3.12/site-packages (from -r requirements.txt (line 196)) (1.17.0)\n",
            "Requirement already satisfied: sniffio==1.3.1 in ./env/lib/python3.12/site-packages (from -r requirements.txt (line 197)) (1.3.1)\n",
            "Requirement already satisfied: snowballstemmer==3.0.1 in ./env/lib/python3.12/site-packages (from -r requirements.txt (line 198)) (3.0.1)\n",
            "Requirement already satisfied: soupsieve==2.8 in ./env/lib/python3.12/site-packages (from -r requirements.txt (line 199)) (2.8)\n",
            "Requirement already satisfied: SpeechRecognition==3.14.3 in ./env/lib/python3.12/site-packages (from -r requirements.txt (line 200)) (3.14.3)\n",
            "Requirement already satisfied: Sphinx==8.2.3 in ./env/lib/python3.12/site-packages (from -r requirements.txt (line 201)) (8.2.3)\n",
            "Requirement already satisfied: sphinxcontrib-applehelp==2.0.0 in ./env/lib/python3.12/site-packages (from -r requirements.txt (line 202)) (2.0.0)\n",
            "Requirement already satisfied: sphinxcontrib-devhelp==2.0.0 in ./env/lib/python3.12/site-packages (from -r requirements.txt (line 203)) (2.0.0)\n",
            "Requirement already satisfied: sphinxcontrib-htmlhelp==2.1.0 in ./env/lib/python3.12/site-packages (from -r requirements.txt (line 204)) (2.1.0)\n",
            "Requirement already satisfied: sphinxcontrib-jsmath==1.0.1 in ./env/lib/python3.12/site-packages (from -r requirements.txt (line 205)) (1.0.1)\n",
            "Requirement already satisfied: sphinxcontrib-qthelp==2.0.0 in ./env/lib/python3.12/site-packages (from -r requirements.txt (line 206)) (2.0.0)\n",
            "Requirement already satisfied: sphinxcontrib-serializinghtml==2.0.0 in ./env/lib/python3.12/site-packages (from -r requirements.txt (line 207)) (2.0.0)\n",
            "Requirement already satisfied: sse-starlette==3.0.2 in ./env/lib/python3.12/site-packages (from -r requirements.txt (line 208)) (3.0.2)\n",
            "Requirement already satisfied: starlette==0.48.0 in ./env/lib/python3.12/site-packages (from -r requirements.txt (line 209)) (0.48.0)\n",
            "Requirement already satisfied: sympy==1.14.0 in ./env/lib/python3.12/site-packages (from -r requirements.txt (line 210)) (1.14.0)\n",
            "Requirement already satisfied: tenacity==9.1.2 in ./env/lib/python3.12/site-packages (from -r requirements.txt (line 211)) (9.1.2)\n",
            "Requirement already satisfied: tensorboardX==2.6.4 in ./env/lib/python3.12/site-packages (from -r requirements.txt (line 212)) (2.6.4)\n",
            "Requirement already satisfied: threadpoolctl==3.6.0 in ./env/lib/python3.12/site-packages (from -r requirements.txt (line 213)) (3.6.0)\n",
            "Requirement already satisfied: tokenizers==0.22.1 in ./env/lib/python3.12/site-packages (from -r requirements.txt (line 214)) (0.22.1)\n",
            "Requirement already satisfied: tooluniverse==1.0.9.1 in ./env/lib/python3.12/site-packages (from -r requirements.txt (line 215)) (1.0.9.1)\n",
            "Requirement already satisfied: torch==2.9.0 in ./env/lib/python3.12/site-packages (from -r requirements.txt (line 216)) (2.9.0)\n",
            "Requirement already satisfied: tqdm==4.67.1 in ./env/lib/python3.12/site-packages (from -r requirements.txt (line 217)) (4.67.1)\n",
            "Requirement already satisfied: traits==7.0.2 in ./env/lib/python3.12/site-packages (from -r requirements.txt (line 218)) (7.0.2)\n",
            "Requirement already satisfied: transformers==4.57.1 in ./env/lib/python3.12/site-packages (from -r requirements.txt (line 219)) (4.57.1)\n",
            "Requirement already satisfied: triton==3.5.0 in ./env/lib/python3.12/site-packages (from -r requirements.txt (line 220)) (3.5.0)\n",
            "Requirement already satisfied: typed-argument-parser==1.11.0 in ./env/lib/python3.12/site-packages (from -r requirements.txt (line 221)) (1.11.0)\n",
            "Requirement already satisfied: typer==0.19.2 in ./env/lib/python3.12/site-packages (from -r requirements.txt (line 222)) (0.19.2)\n",
            "Requirement already satisfied: typing-inspect==0.9.0 in ./env/lib/python3.12/site-packages (from -r requirements.txt (line 223)) (0.9.0)\n",
            "Requirement already satisfied: typing-inspection==0.4.2 in ./env/lib/python3.12/site-packages (from -r requirements.txt (line 224)) (0.4.2)\n",
            "Requirement already satisfied: typing_extensions==4.15.0 in ./env/lib/python3.12/site-packages (from -r requirements.txt (line 225)) (4.15.0)\n",
            "Requirement already satisfied: tzdata==2025.2 in ./env/lib/python3.12/site-packages (from -r requirements.txt (line 226)) (2025.2)\n",
            "Requirement already satisfied: uritemplate==4.2.0 in ./env/lib/python3.12/site-packages (from -r requirements.txt (line 227)) (4.2.0)\n",
            "Requirement already satisfied: urllib3==2.5.0 in ./env/lib/python3.12/site-packages (from -r requirements.txt (line 228)) (2.5.0)\n",
            "Requirement already satisfied: uvicorn==0.37.0 in ./env/lib/python3.12/site-packages (from -r requirements.txt (line 229)) (0.37.0)\n",
            "Requirement already satisfied: websockets==15.0.1 in ./env/lib/python3.12/site-packages (from -r requirements.txt (line 230)) (15.0.1)\n",
            "Requirement already satisfied: Werkzeug==3.1.1 in ./env/lib/python3.12/site-packages (from -r requirements.txt (line 231)) (3.1.1)\n",
            "Requirement already satisfied: xarray==2025.10.1 in ./env/lib/python3.12/site-packages (from -r requirements.txt (line 232)) (2025.10.1)\n",
            "Requirement already satisfied: xlrd==2.0.2 in ./env/lib/python3.12/site-packages (from -r requirements.txt (line 233)) (2.0.2)\n",
            "Requirement already satisfied: xlsxwriter==3.2.9 in ./env/lib/python3.12/site-packages (from -r requirements.txt (line 234)) (3.2.9)\n",
            "Requirement already satisfied: xmltodict==1.0.2 in ./env/lib/python3.12/site-packages (from -r requirements.txt (line 235)) (1.0.2)\n",
            "Requirement already satisfied: yarl==1.22.0 in ./env/lib/python3.12/site-packages (from -r requirements.txt (line 236)) (1.22.0)\n",
            "Requirement already satisfied: youtube-transcript-api==1.0.3 in ./env/lib/python3.12/site-packages (from -r requirements.txt (line 237)) (1.0.3)\n",
            "Using cached pydantic-2.12.2-py3-none-any.whl (460 kB)\n",
            "Using cached pillow-12.0.0-cp312-cp312-manylinux_2_27_x86_64.manylinux_2_28_x86_64.whl (7.0 MB)\n",
            "Using cached pydantic_core-2.41.4-cp312-cp312-manylinux_2_17_x86_64.manylinux2014_x86_64.whl (2.1 MB)\n",
            "Installing collected packages: pydantic_core, pillow, pydantic\n",
            "\u001b[2K  Attempting uninstall: pydantic_core\n",
            "\u001b[2K    Found existing installation: pydantic_core 2.33.2\n",
            "\u001b[2K    Uninstalling pydantic_core-2.33.2:\n",
            "\u001b[2K      Successfully uninstalled pydantic_core-2.33.2\n",
            "\u001b[2K  Attempting uninstall: pillow\n",
            "\u001b[2K    Found existing installation: pillow 11.3.0\n",
            "\u001b[2K    Uninstalling pillow-11.3.0:\n",
            "\u001b[2K      Successfully uninstalled pillow-11.3.0\n",
            "\u001b[2K  Attempting uninstall: pydantic\n",
            "\u001b[2K    Found existing installation: pydantic 2.11.10\n",
            "\u001b[2K    Uninstalling pydantic-2.11.10:\n",
            "\u001b[2K      Successfully uninstalled pydantic-2.11.10\n",
            "\u001b[2K   \u001b[90m━━━━━━━━━━━━━━━━━━━━━━━━━━━━━━━━━━━━━━━━\u001b[0m \u001b[32m3/3\u001b[0m [pydantic]\n",
            "\u001b[1A\u001b[2K\u001b[31mERROR: pip's dependency resolver does not currently take into account all the packages that are installed. This behaviour is the source of the following dependency conflicts.\n",
            "gradio 5.49.1 requires pillow<12.0,>=8.0, but you have pillow 12.0.0 which is incompatible.\n",
            "gradio 5.49.1 requires pydantic<2.12,>=2.0, but you have pydantic 2.12.2 which is incompatible.\n",
            "trackio 0.7.0 requires pillow<12.0.0, but you have pillow 12.0.0 which is incompatible.\u001b[0m\u001b[31m\n",
            "\u001b[0mSuccessfully installed pillow-12.0.0 pydantic-2.12.2 pydantic_core-2.41.4\n"
          ]
        }
      ]
    },
    {
      "cell_type": "code",
      "source": [
        "!./env/bin/pip install trl"
      ],
      "metadata": {
        "collapsed": true,
        "id": "tpHsPUXefU48",
        "outputId": "764160f9-90cc-4ed7-fc01-d5a58ea7ac2e",
        "colab": {
          "base_uri": "https://localhost:8080/"
        }
      },
      "execution_count": 11,
      "outputs": [
        {
          "output_type": "stream",
          "name": "stdout",
          "text": [
            "Requirement already satisfied: trl in ./env/lib/python3.12/site-packages (0.24.0)\n",
            "Requirement already satisfied: accelerate>=1.4.0 in ./env/lib/python3.12/site-packages (from trl) (1.10.1)\n",
            "Requirement already satisfied: datasets>=3.0.0 in ./env/lib/python3.12/site-packages (from trl) (4.3.0)\n",
            "Requirement already satisfied: transformers>=4.56.1 in ./env/lib/python3.12/site-packages (from trl) (4.57.1)\n",
            "Requirement already satisfied: numpy<3.0.0,>=1.17 in ./env/lib/python3.12/site-packages (from accelerate>=1.4.0->trl) (2.3.4)\n",
            "Requirement already satisfied: packaging>=20.0 in ./env/lib/python3.12/site-packages (from accelerate>=1.4.0->trl) (25.0)\n",
            "Requirement already satisfied: psutil in ./env/lib/python3.12/site-packages (from accelerate>=1.4.0->trl) (7.1.0)\n",
            "Requirement already satisfied: pyyaml in ./env/lib/python3.12/site-packages (from accelerate>=1.4.0->trl) (6.0.3)\n",
            "Requirement already satisfied: torch>=2.0.0 in ./env/lib/python3.12/site-packages (from accelerate>=1.4.0->trl) (2.9.0)\n",
            "Requirement already satisfied: huggingface_hub>=0.21.0 in ./env/lib/python3.12/site-packages (from accelerate>=1.4.0->trl) (0.35.3)\n",
            "Requirement already satisfied: safetensors>=0.4.3 in ./env/lib/python3.12/site-packages (from accelerate>=1.4.0->trl) (0.6.2)\n",
            "Requirement already satisfied: filelock in ./env/lib/python3.12/site-packages (from datasets>=3.0.0->trl) (3.20.0)\n",
            "Requirement already satisfied: pyarrow>=21.0.0 in ./env/lib/python3.12/site-packages (from datasets>=3.0.0->trl) (22.0.0)\n",
            "Requirement already satisfied: dill<0.4.1,>=0.3.0 in ./env/lib/python3.12/site-packages (from datasets>=3.0.0->trl) (0.4.0)\n",
            "Requirement already satisfied: pandas in ./env/lib/python3.12/site-packages (from datasets>=3.0.0->trl) (2.3.3)\n",
            "Requirement already satisfied: requests>=2.32.2 in ./env/lib/python3.12/site-packages (from datasets>=3.0.0->trl) (2.32.5)\n",
            "Requirement already satisfied: httpx<1.0.0 in ./env/lib/python3.12/site-packages (from datasets>=3.0.0->trl) (0.28.1)\n",
            "Requirement already satisfied: tqdm>=4.66.3 in ./env/lib/python3.12/site-packages (from datasets>=3.0.0->trl) (4.67.1)\n",
            "Requirement already satisfied: xxhash in ./env/lib/python3.12/site-packages (from datasets>=3.0.0->trl) (3.6.0)\n",
            "Requirement already satisfied: multiprocess<0.70.17 in ./env/lib/python3.12/site-packages (from datasets>=3.0.0->trl) (0.70.16)\n",
            "Requirement already satisfied: fsspec<=2025.9.0,>=2023.1.0 in ./env/lib/python3.12/site-packages (from fsspec[http]<=2025.9.0,>=2023.1.0->datasets>=3.0.0->trl) (2025.9.0)\n",
            "Requirement already satisfied: aiohttp!=4.0.0a0,!=4.0.0a1 in ./env/lib/python3.12/site-packages (from fsspec[http]<=2025.9.0,>=2023.1.0->datasets>=3.0.0->trl) (3.13.0)\n",
            "Requirement already satisfied: anyio in ./env/lib/python3.12/site-packages (from httpx<1.0.0->datasets>=3.0.0->trl) (4.11.0)\n",
            "Requirement already satisfied: certifi in ./env/lib/python3.12/site-packages (from httpx<1.0.0->datasets>=3.0.0->trl) (2025.10.5)\n",
            "Requirement already satisfied: httpcore==1.* in ./env/lib/python3.12/site-packages (from httpx<1.0.0->datasets>=3.0.0->trl) (1.0.9)\n",
            "Requirement already satisfied: idna in ./env/lib/python3.12/site-packages (from httpx<1.0.0->datasets>=3.0.0->trl) (3.11)\n",
            "Requirement already satisfied: h11>=0.16 in ./env/lib/python3.12/site-packages (from httpcore==1.*->httpx<1.0.0->datasets>=3.0.0->trl) (0.16.0)\n",
            "Requirement already satisfied: typing-extensions>=3.7.4.3 in ./env/lib/python3.12/site-packages (from huggingface_hub>=0.21.0->accelerate>=1.4.0->trl) (4.15.0)\n",
            "Requirement already satisfied: hf-xet<2.0.0,>=1.1.3 in ./env/lib/python3.12/site-packages (from huggingface_hub>=0.21.0->accelerate>=1.4.0->trl) (1.1.10)\n",
            "Requirement already satisfied: aiohappyeyeballs>=2.5.0 in ./env/lib/python3.12/site-packages (from aiohttp!=4.0.0a0,!=4.0.0a1->fsspec[http]<=2025.9.0,>=2023.1.0->datasets>=3.0.0->trl) (2.6.1)\n",
            "Requirement already satisfied: aiosignal>=1.4.0 in ./env/lib/python3.12/site-packages (from aiohttp!=4.0.0a0,!=4.0.0a1->fsspec[http]<=2025.9.0,>=2023.1.0->datasets>=3.0.0->trl) (1.4.0)\n",
            "Requirement already satisfied: attrs>=17.3.0 in ./env/lib/python3.12/site-packages (from aiohttp!=4.0.0a0,!=4.0.0a1->fsspec[http]<=2025.9.0,>=2023.1.0->datasets>=3.0.0->trl) (25.4.0)\n",
            "Requirement already satisfied: frozenlist>=1.1.1 in ./env/lib/python3.12/site-packages (from aiohttp!=4.0.0a0,!=4.0.0a1->fsspec[http]<=2025.9.0,>=2023.1.0->datasets>=3.0.0->trl) (1.8.0)\n",
            "Requirement already satisfied: multidict<7.0,>=4.5 in ./env/lib/python3.12/site-packages (from aiohttp!=4.0.0a0,!=4.0.0a1->fsspec[http]<=2025.9.0,>=2023.1.0->datasets>=3.0.0->trl) (6.7.0)\n",
            "Requirement already satisfied: propcache>=0.2.0 in ./env/lib/python3.12/site-packages (from aiohttp!=4.0.0a0,!=4.0.0a1->fsspec[http]<=2025.9.0,>=2023.1.0->datasets>=3.0.0->trl) (0.4.1)\n",
            "Requirement already satisfied: yarl<2.0,>=1.17.0 in ./env/lib/python3.12/site-packages (from aiohttp!=4.0.0a0,!=4.0.0a1->fsspec[http]<=2025.9.0,>=2023.1.0->datasets>=3.0.0->trl) (1.22.0)\n",
            "Requirement already satisfied: charset_normalizer<4,>=2 in ./env/lib/python3.12/site-packages (from requests>=2.32.2->datasets>=3.0.0->trl) (3.4.4)\n",
            "Requirement already satisfied: urllib3<3,>=1.21.1 in ./env/lib/python3.12/site-packages (from requests>=2.32.2->datasets>=3.0.0->trl) (2.5.0)\n",
            "Requirement already satisfied: setuptools in ./env/lib/python3.12/site-packages (from torch>=2.0.0->accelerate>=1.4.0->trl) (80.9.0)\n",
            "Requirement already satisfied: sympy>=1.13.3 in ./env/lib/python3.12/site-packages (from torch>=2.0.0->accelerate>=1.4.0->trl) (1.14.0)\n",
            "Requirement already satisfied: networkx>=2.5.1 in ./env/lib/python3.12/site-packages (from torch>=2.0.0->accelerate>=1.4.0->trl) (3.5)\n",
            "Requirement already satisfied: jinja2 in ./env/lib/python3.12/site-packages (from torch>=2.0.0->accelerate>=1.4.0->trl) (3.1.6)\n",
            "Requirement already satisfied: nvidia-cuda-nvrtc-cu12==12.8.93 in ./env/lib/python3.12/site-packages (from torch>=2.0.0->accelerate>=1.4.0->trl) (12.8.93)\n",
            "Requirement already satisfied: nvidia-cuda-runtime-cu12==12.8.90 in ./env/lib/python3.12/site-packages (from torch>=2.0.0->accelerate>=1.4.0->trl) (12.8.90)\n",
            "Requirement already satisfied: nvidia-cuda-cupti-cu12==12.8.90 in ./env/lib/python3.12/site-packages (from torch>=2.0.0->accelerate>=1.4.0->trl) (12.8.90)\n",
            "Requirement already satisfied: nvidia-cudnn-cu12==9.10.2.21 in ./env/lib/python3.12/site-packages (from torch>=2.0.0->accelerate>=1.4.0->trl) (9.10.2.21)\n",
            "Requirement already satisfied: nvidia-cublas-cu12==12.8.4.1 in ./env/lib/python3.12/site-packages (from torch>=2.0.0->accelerate>=1.4.0->trl) (12.8.4.1)\n",
            "Requirement already satisfied: nvidia-cufft-cu12==11.3.3.83 in ./env/lib/python3.12/site-packages (from torch>=2.0.0->accelerate>=1.4.0->trl) (11.3.3.83)\n",
            "Requirement already satisfied: nvidia-curand-cu12==10.3.9.90 in ./env/lib/python3.12/site-packages (from torch>=2.0.0->accelerate>=1.4.0->trl) (10.3.9.90)\n",
            "Requirement already satisfied: nvidia-cusolver-cu12==11.7.3.90 in ./env/lib/python3.12/site-packages (from torch>=2.0.0->accelerate>=1.4.0->trl) (11.7.3.90)\n",
            "Requirement already satisfied: nvidia-cusparse-cu12==12.5.8.93 in ./env/lib/python3.12/site-packages (from torch>=2.0.0->accelerate>=1.4.0->trl) (12.5.8.93)\n",
            "Requirement already satisfied: nvidia-cusparselt-cu12==0.7.1 in ./env/lib/python3.12/site-packages (from torch>=2.0.0->accelerate>=1.4.0->trl) (0.7.1)\n",
            "Requirement already satisfied: nvidia-nccl-cu12==2.27.5 in ./env/lib/python3.12/site-packages (from torch>=2.0.0->accelerate>=1.4.0->trl) (2.27.5)\n",
            "Requirement already satisfied: nvidia-nvshmem-cu12==3.3.20 in ./env/lib/python3.12/site-packages (from torch>=2.0.0->accelerate>=1.4.0->trl) (3.3.20)\n",
            "Requirement already satisfied: nvidia-nvtx-cu12==12.8.90 in ./env/lib/python3.12/site-packages (from torch>=2.0.0->accelerate>=1.4.0->trl) (12.8.90)\n",
            "Requirement already satisfied: nvidia-nvjitlink-cu12==12.8.93 in ./env/lib/python3.12/site-packages (from torch>=2.0.0->accelerate>=1.4.0->trl) (12.8.93)\n",
            "Requirement already satisfied: nvidia-cufile-cu12==1.13.1.3 in ./env/lib/python3.12/site-packages (from torch>=2.0.0->accelerate>=1.4.0->trl) (1.13.1.3)\n",
            "Requirement already satisfied: triton==3.5.0 in ./env/lib/python3.12/site-packages (from torch>=2.0.0->accelerate>=1.4.0->trl) (3.5.0)\n",
            "Requirement already satisfied: mpmath<1.4,>=1.1.0 in ./env/lib/python3.12/site-packages (from sympy>=1.13.3->torch>=2.0.0->accelerate>=1.4.0->trl) (1.3.0)\n",
            "Requirement already satisfied: regex!=2019.12.17 in ./env/lib/python3.12/site-packages (from transformers>=4.56.1->trl) (2025.9.18)\n",
            "Requirement already satisfied: tokenizers<=0.23.0,>=0.22.0 in ./env/lib/python3.12/site-packages (from transformers>=4.56.1->trl) (0.22.1)\n",
            "Requirement already satisfied: sniffio>=1.1 in ./env/lib/python3.12/site-packages (from anyio->httpx<1.0.0->datasets>=3.0.0->trl) (1.3.1)\n",
            "Requirement already satisfied: MarkupSafe>=2.0 in ./env/lib/python3.12/site-packages (from jinja2->torch>=2.0.0->accelerate>=1.4.0->trl) (3.0.3)\n",
            "Requirement already satisfied: python-dateutil>=2.8.2 in ./env/lib/python3.12/site-packages (from pandas->datasets>=3.0.0->trl) (2.9.0.post0)\n",
            "Requirement already satisfied: pytz>=2020.1 in ./env/lib/python3.12/site-packages (from pandas->datasets>=3.0.0->trl) (2025.2)\n",
            "Requirement already satisfied: tzdata>=2022.7 in ./env/lib/python3.12/site-packages (from pandas->datasets>=3.0.0->trl) (2025.2)\n",
            "Requirement already satisfied: six>=1.5 in ./env/lib/python3.12/site-packages (from python-dateutil>=2.8.2->pandas->datasets>=3.0.0->trl) (1.17.0)\n"
          ]
        }
      ]
    },
    {
      "cell_type": "code",
      "source": [
        "!./env/bin/pip install trackio"
      ],
      "metadata": {
        "collapsed": true,
        "id": "JX2eDA57glEX",
        "outputId": "93e07f9f-3622-4831-90f3-eddc183e7609",
        "colab": {
          "base_uri": "https://localhost:8080/"
        }
      },
      "execution_count": 12,
      "outputs": [
        {
          "output_type": "stream",
          "name": "stdout",
          "text": [
            "Requirement already satisfied: trackio in ./env/lib/python3.12/site-packages (0.7.0)\n",
            "Requirement already satisfied: gradio<6.0.0,>=5.48.0 in ./env/lib/python3.12/site-packages (from gradio[oauth]<6.0.0,>=5.48.0->trackio) (5.49.1)\n",
            "Requirement already satisfied: huggingface-hub<1.0.0 in ./env/lib/python3.12/site-packages (from trackio) (0.35.3)\n",
            "Requirement already satisfied: numpy<3.0.0 in ./env/lib/python3.12/site-packages (from trackio) (2.3.4)\n",
            "Requirement already satisfied: orjson<4.0.0,>=3.0 in ./env/lib/python3.12/site-packages (from trackio) (3.11.4)\n",
            "Requirement already satisfied: pandas<3.0.0 in ./env/lib/python3.12/site-packages (from trackio) (2.3.3)\n",
            "Collecting pillow<12.0.0 (from trackio)\n",
            "  Using cached pillow-11.3.0-cp312-cp312-manylinux_2_27_x86_64.manylinux_2_28_x86_64.whl.metadata (9.0 kB)\n",
            "Requirement already satisfied: plotly<7.0.0,>=6.0.0 in ./env/lib/python3.12/site-packages (from trackio) (6.3.1)\n",
            "Requirement already satisfied: pydub<1.0.0 in ./env/lib/python3.12/site-packages (from trackio) (0.25.1)\n",
            "Requirement already satisfied: aiofiles<25.0,>=22.0 in ./env/lib/python3.12/site-packages (from gradio<6.0.0,>=5.48.0->gradio[oauth]<6.0.0,>=5.48.0->trackio) (24.1.0)\n",
            "Requirement already satisfied: anyio<5.0,>=3.0 in ./env/lib/python3.12/site-packages (from gradio<6.0.0,>=5.48.0->gradio[oauth]<6.0.0,>=5.48.0->trackio) (4.11.0)\n",
            "Requirement already satisfied: brotli>=1.1.0 in ./env/lib/python3.12/site-packages (from gradio<6.0.0,>=5.48.0->gradio[oauth]<6.0.0,>=5.48.0->trackio) (1.1.0)\n",
            "Requirement already satisfied: fastapi<1.0,>=0.115.2 in ./env/lib/python3.12/site-packages (from gradio<6.0.0,>=5.48.0->gradio[oauth]<6.0.0,>=5.48.0->trackio) (0.119.0)\n",
            "Requirement already satisfied: ffmpy in ./env/lib/python3.12/site-packages (from gradio<6.0.0,>=5.48.0->gradio[oauth]<6.0.0,>=5.48.0->trackio) (0.6.4)\n",
            "Requirement already satisfied: gradio-client==1.13.3 in ./env/lib/python3.12/site-packages (from gradio<6.0.0,>=5.48.0->gradio[oauth]<6.0.0,>=5.48.0->trackio) (1.13.3)\n",
            "Requirement already satisfied: groovy~=0.1 in ./env/lib/python3.12/site-packages (from gradio<6.0.0,>=5.48.0->gradio[oauth]<6.0.0,>=5.48.0->trackio) (0.1.2)\n",
            "Requirement already satisfied: httpx<1.0,>=0.24.1 in ./env/lib/python3.12/site-packages (from gradio<6.0.0,>=5.48.0->gradio[oauth]<6.0.0,>=5.48.0->trackio) (0.28.1)\n",
            "Requirement already satisfied: jinja2<4.0 in ./env/lib/python3.12/site-packages (from gradio<6.0.0,>=5.48.0->gradio[oauth]<6.0.0,>=5.48.0->trackio) (3.1.6)\n",
            "Requirement already satisfied: markupsafe<4.0,>=2.0 in ./env/lib/python3.12/site-packages (from gradio<6.0.0,>=5.48.0->gradio[oauth]<6.0.0,>=5.48.0->trackio) (3.0.3)\n",
            "Requirement already satisfied: packaging in ./env/lib/python3.12/site-packages (from gradio<6.0.0,>=5.48.0->gradio[oauth]<6.0.0,>=5.48.0->trackio) (25.0)\n",
            "Collecting pydantic<2.12,>=2.0 (from gradio<6.0.0,>=5.48.0->gradio[oauth]<6.0.0,>=5.48.0->trackio)\n",
            "  Using cached pydantic-2.11.10-py3-none-any.whl.metadata (68 kB)\n",
            "Requirement already satisfied: python-multipart>=0.0.18 in ./env/lib/python3.12/site-packages (from gradio<6.0.0,>=5.48.0->gradio[oauth]<6.0.0,>=5.48.0->trackio) (0.0.20)\n",
            "Requirement already satisfied: pyyaml<7.0,>=5.0 in ./env/lib/python3.12/site-packages (from gradio<6.0.0,>=5.48.0->gradio[oauth]<6.0.0,>=5.48.0->trackio) (6.0.3)\n",
            "Requirement already satisfied: ruff>=0.9.3 in ./env/lib/python3.12/site-packages (from gradio<6.0.0,>=5.48.0->gradio[oauth]<6.0.0,>=5.48.0->trackio) (0.14.3)\n",
            "Requirement already satisfied: safehttpx<0.2.0,>=0.1.6 in ./env/lib/python3.12/site-packages (from gradio<6.0.0,>=5.48.0->gradio[oauth]<6.0.0,>=5.48.0->trackio) (0.1.7)\n",
            "Requirement already satisfied: semantic-version~=2.0 in ./env/lib/python3.12/site-packages (from gradio<6.0.0,>=5.48.0->gradio[oauth]<6.0.0,>=5.48.0->trackio) (2.10.0)\n",
            "Requirement already satisfied: starlette<1.0,>=0.40.0 in ./env/lib/python3.12/site-packages (from gradio<6.0.0,>=5.48.0->gradio[oauth]<6.0.0,>=5.48.0->trackio) (0.48.0)\n",
            "Requirement already satisfied: tomlkit<0.14.0,>=0.12.0 in ./env/lib/python3.12/site-packages (from gradio<6.0.0,>=5.48.0->gradio[oauth]<6.0.0,>=5.48.0->trackio) (0.13.3)\n",
            "Requirement already satisfied: typer<1.0,>=0.12 in ./env/lib/python3.12/site-packages (from gradio<6.0.0,>=5.48.0->gradio[oauth]<6.0.0,>=5.48.0->trackio) (0.19.2)\n",
            "Requirement already satisfied: typing-extensions~=4.0 in ./env/lib/python3.12/site-packages (from gradio<6.0.0,>=5.48.0->gradio[oauth]<6.0.0,>=5.48.0->trackio) (4.15.0)\n",
            "Requirement already satisfied: uvicorn>=0.14.0 in ./env/lib/python3.12/site-packages (from gradio<6.0.0,>=5.48.0->gradio[oauth]<6.0.0,>=5.48.0->trackio) (0.37.0)\n",
            "Requirement already satisfied: fsspec in ./env/lib/python3.12/site-packages (from gradio-client==1.13.3->gradio<6.0.0,>=5.48.0->gradio[oauth]<6.0.0,>=5.48.0->trackio) (2025.9.0)\n",
            "Requirement already satisfied: websockets<16.0,>=13.0 in ./env/lib/python3.12/site-packages (from gradio-client==1.13.3->gradio<6.0.0,>=5.48.0->gradio[oauth]<6.0.0,>=5.48.0->trackio) (15.0.1)\n",
            "Requirement already satisfied: idna>=2.8 in ./env/lib/python3.12/site-packages (from anyio<5.0,>=3.0->gradio<6.0.0,>=5.48.0->gradio[oauth]<6.0.0,>=5.48.0->trackio) (3.11)\n",
            "Requirement already satisfied: sniffio>=1.1 in ./env/lib/python3.12/site-packages (from anyio<5.0,>=3.0->gradio<6.0.0,>=5.48.0->gradio[oauth]<6.0.0,>=5.48.0->trackio) (1.3.1)\n",
            "Requirement already satisfied: authlib in ./env/lib/python3.12/site-packages (from gradio[oauth]<6.0.0,>=5.48.0->trackio) (1.6.5)\n",
            "Requirement already satisfied: itsdangerous in ./env/lib/python3.12/site-packages (from gradio[oauth]<6.0.0,>=5.48.0->trackio) (2.2.0)\n",
            "Requirement already satisfied: certifi in ./env/lib/python3.12/site-packages (from httpx<1.0,>=0.24.1->gradio<6.0.0,>=5.48.0->gradio[oauth]<6.0.0,>=5.48.0->trackio) (2025.10.5)\n",
            "Requirement already satisfied: httpcore==1.* in ./env/lib/python3.12/site-packages (from httpx<1.0,>=0.24.1->gradio<6.0.0,>=5.48.0->gradio[oauth]<6.0.0,>=5.48.0->trackio) (1.0.9)\n",
            "Requirement already satisfied: h11>=0.16 in ./env/lib/python3.12/site-packages (from httpcore==1.*->httpx<1.0,>=0.24.1->gradio<6.0.0,>=5.48.0->gradio[oauth]<6.0.0,>=5.48.0->trackio) (0.16.0)\n",
            "Requirement already satisfied: filelock in ./env/lib/python3.12/site-packages (from huggingface-hub<1.0.0->trackio) (3.20.0)\n",
            "Requirement already satisfied: requests in ./env/lib/python3.12/site-packages (from huggingface-hub<1.0.0->trackio) (2.32.5)\n",
            "Requirement already satisfied: tqdm>=4.42.1 in ./env/lib/python3.12/site-packages (from huggingface-hub<1.0.0->trackio) (4.67.1)\n",
            "Requirement already satisfied: hf-xet<2.0.0,>=1.1.3 in ./env/lib/python3.12/site-packages (from huggingface-hub<1.0.0->trackio) (1.1.10)\n",
            "Requirement already satisfied: python-dateutil>=2.8.2 in ./env/lib/python3.12/site-packages (from pandas<3.0.0->trackio) (2.9.0.post0)\n",
            "Requirement already satisfied: pytz>=2020.1 in ./env/lib/python3.12/site-packages (from pandas<3.0.0->trackio) (2025.2)\n",
            "Requirement already satisfied: tzdata>=2022.7 in ./env/lib/python3.12/site-packages (from pandas<3.0.0->trackio) (2025.2)\n",
            "Requirement already satisfied: narwhals>=1.15.1 in ./env/lib/python3.12/site-packages (from plotly<7.0.0,>=6.0.0->trackio) (2.10.1)\n",
            "Requirement already satisfied: annotated-types>=0.6.0 in ./env/lib/python3.12/site-packages (from pydantic<2.12,>=2.0->gradio<6.0.0,>=5.48.0->gradio[oauth]<6.0.0,>=5.48.0->trackio) (0.7.0)\n",
            "Collecting pydantic-core==2.33.2 (from pydantic<2.12,>=2.0->gradio<6.0.0,>=5.48.0->gradio[oauth]<6.0.0,>=5.48.0->trackio)\n",
            "  Using cached pydantic_core-2.33.2-cp312-cp312-manylinux_2_17_x86_64.manylinux2014_x86_64.whl.metadata (6.8 kB)\n",
            "Requirement already satisfied: typing-inspection>=0.4.0 in ./env/lib/python3.12/site-packages (from pydantic<2.12,>=2.0->gradio<6.0.0,>=5.48.0->gradio[oauth]<6.0.0,>=5.48.0->trackio) (0.4.2)\n",
            "Requirement already satisfied: click>=8.0.0 in ./env/lib/python3.12/site-packages (from typer<1.0,>=0.12->gradio<6.0.0,>=5.48.0->gradio[oauth]<6.0.0,>=5.48.0->trackio) (8.3.0)\n",
            "Requirement already satisfied: shellingham>=1.3.0 in ./env/lib/python3.12/site-packages (from typer<1.0,>=0.12->gradio<6.0.0,>=5.48.0->gradio[oauth]<6.0.0,>=5.48.0->trackio) (1.5.4)\n",
            "Requirement already satisfied: rich>=10.11.0 in ./env/lib/python3.12/site-packages (from typer<1.0,>=0.12->gradio<6.0.0,>=5.48.0->gradio[oauth]<6.0.0,>=5.48.0->trackio) (14.2.0)\n",
            "Requirement already satisfied: six>=1.5 in ./env/lib/python3.12/site-packages (from python-dateutil>=2.8.2->pandas<3.0.0->trackio) (1.17.0)\n",
            "Requirement already satisfied: markdown-it-py>=2.2.0 in ./env/lib/python3.12/site-packages (from rich>=10.11.0->typer<1.0,>=0.12->gradio<6.0.0,>=5.48.0->gradio[oauth]<6.0.0,>=5.48.0->trackio) (4.0.0)\n",
            "Requirement already satisfied: pygments<3.0.0,>=2.13.0 in ./env/lib/python3.12/site-packages (from rich>=10.11.0->typer<1.0,>=0.12->gradio<6.0.0,>=5.48.0->gradio[oauth]<6.0.0,>=5.48.0->trackio) (2.19.2)\n",
            "Requirement already satisfied: mdurl~=0.1 in ./env/lib/python3.12/site-packages (from markdown-it-py>=2.2.0->rich>=10.11.0->typer<1.0,>=0.12->gradio<6.0.0,>=5.48.0->gradio[oauth]<6.0.0,>=5.48.0->trackio) (0.1.2)\n",
            "Requirement already satisfied: cryptography in ./env/lib/python3.12/site-packages (from authlib->gradio[oauth]<6.0.0,>=5.48.0->trackio) (46.0.3)\n",
            "Requirement already satisfied: cffi>=2.0.0 in ./env/lib/python3.12/site-packages (from cryptography->authlib->gradio[oauth]<6.0.0,>=5.48.0->trackio) (2.0.0)\n",
            "Requirement already satisfied: pycparser in ./env/lib/python3.12/site-packages (from cffi>=2.0.0->cryptography->authlib->gradio[oauth]<6.0.0,>=5.48.0->trackio) (2.23)\n",
            "Requirement already satisfied: charset_normalizer<4,>=2 in ./env/lib/python3.12/site-packages (from requests->huggingface-hub<1.0.0->trackio) (3.4.4)\n",
            "Requirement already satisfied: urllib3<3,>=1.21.1 in ./env/lib/python3.12/site-packages (from requests->huggingface-hub<1.0.0->trackio) (2.5.0)\n",
            "Using cached pillow-11.3.0-cp312-cp312-manylinux_2_27_x86_64.manylinux_2_28_x86_64.whl (6.6 MB)\n",
            "Using cached pydantic-2.11.10-py3-none-any.whl (444 kB)\n",
            "Using cached pydantic_core-2.33.2-cp312-cp312-manylinux_2_17_x86_64.manylinux2014_x86_64.whl (2.0 MB)\n",
            "Installing collected packages: pydantic-core, pillow, pydantic\n",
            "\u001b[2K  Attempting uninstall: pydantic-core\n",
            "\u001b[2K    Found existing installation: pydantic_core 2.41.4\n",
            "\u001b[2K    Uninstalling pydantic_core-2.41.4:\n",
            "\u001b[2K      Successfully uninstalled pydantic_core-2.41.4\n",
            "\u001b[2K  Attempting uninstall: pillow\n",
            "\u001b[2K    Found existing installation: pillow 12.0.0\n",
            "\u001b[2K    Uninstalling pillow-12.0.0:\n",
            "\u001b[2K      Successfully uninstalled pillow-12.0.0\n",
            "\u001b[2K  Attempting uninstall: pydantic\n",
            "\u001b[2K    Found existing installation: pydantic 2.12.2\n",
            "\u001b[2K    Uninstalling pydantic-2.12.2:\n",
            "\u001b[2K      Successfully uninstalled pydantic-2.12.2\n",
            "\u001b[2K   \u001b[90m━━━━━━━━━━━━━━━━━━━━━━━━━━━━━━━━━━━━━━━━\u001b[0m \u001b[32m3/3\u001b[0m [pydantic]\n",
            "\u001b[1A\u001b[2KSuccessfully installed pillow-11.3.0 pydantic-2.11.10 pydantic-core-2.33.2\n"
          ]
        }
      ]
    },
    {
      "cell_type": "code",
      "source": [
        "# get sit packages path and add to sys.path\n",
        "lib_path = glob.glob('./env/lib/python*')[0]\n",
        "env_path = os.path.join(lib_path, 'site-packages')\n",
        "if env_path not in sys.path:\n",
        "    sys.path.append(env_path)\n",
        "    print(f\"Successfully added {env_path} to sys.path.\")\n",
        "else:\n",
        "    print(f\"{env_path} already in sys.path.\")"
      ],
      "metadata": {
        "id": "-ZUMoBzSGNhR",
        "colab": {
          "base_uri": "https://localhost:8080/"
        },
        "outputId": "b3f8fd36-2c00-4b4f-bb19-2631612a7df1"
      },
      "execution_count": 13,
      "outputs": [
        {
          "output_type": "stream",
          "name": "stdout",
          "text": [
            "Successfully added ./env/lib/python3.12/site-packages to sys.path.\n"
          ]
        }
      ]
    },
    {
      "cell_type": "markdown",
      "source": [
        "### load dataset"
      ],
      "metadata": {
        "id": "bKMKk16yBZRP"
      }
    },
    {
      "cell_type": "code",
      "source": [
        "from datasets import load_dataset\n",
        "\n",
        "ds = load_dataset(\"FreedomIntelligence/medical-o1-reasoning-SFT\", \"en\")"
      ],
      "metadata": {
        "id": "5f0NMOq0Bb6e"
      },
      "execution_count": 14,
      "outputs": []
    },
    {
      "cell_type": "code",
      "source": [
        "ds"
      ],
      "metadata": {
        "id": "1ECtW_dRBikX",
        "outputId": "702050f1-8069-4fff-9d2f-8eabc3bec3c1",
        "colab": {
          "base_uri": "https://localhost:8080/"
        }
      },
      "execution_count": 15,
      "outputs": [
        {
          "output_type": "execute_result",
          "data": {
            "text/plain": [
              "DatasetDict({\n",
              "    train: Dataset({\n",
              "        features: ['Question', 'Complex_CoT', 'Response'],\n",
              "        num_rows: 19704\n",
              "    })\n",
              "})"
            ]
          },
          "metadata": {},
          "execution_count": 15
        }
      ]
    },
    {
      "cell_type": "code",
      "source": [
        "train_data = ds['train']"
      ],
      "metadata": {
        "id": "AY0CMi43B5Eo"
      },
      "execution_count": 16,
      "outputs": []
    },
    {
      "cell_type": "code",
      "source": [
        "train_data[0]"
      ],
      "metadata": {
        "id": "iHww9cLLE-XE",
        "outputId": "8d680c59-c739-40b6-a04b-1f7bf011323a",
        "colab": {
          "base_uri": "https://localhost:8080/"
        }
      },
      "execution_count": 17,
      "outputs": [
        {
          "output_type": "execute_result",
          "data": {
            "text/plain": [
              "{'Question': 'Given the symptoms of sudden weakness in the left arm and leg, recent long-distance travel, and the presence of swollen and tender right lower leg, what specific cardiac abnormality is most likely to be found upon further evaluation that could explain these findings?',\n",
              " 'Complex_CoT': \"Okay, let's see what's going on here. We've got sudden weakness in the person's left arm and leg - and that screams something neuro-related, maybe a stroke?\\n\\nBut wait, there's more. The right lower leg is swollen and tender, which is like waving a big flag for deep vein thrombosis, especially after a long flight or sitting around a lot.\\n\\nSo, now I'm thinking, how could a clot in the leg end up causing issues like weakness or stroke symptoms?\\n\\nOh, right! There's this thing called a paradoxical embolism. It can happen if there's some kind of short circuit in the heart - like a hole that shouldn't be there.\\n\\nLet's put this together: if a blood clot from the leg somehow travels to the left side of the heart, it could shoot off to the brain and cause that sudden weakness by blocking blood flow there.\\n\\nHmm, but how would the clot get from the right side of the heart to the left without going through the lungs and getting filtered out?\\n\\nHere's where our cardiac anomaly comes in: a patent foramen ovale or PFO. That's like a sneaky little shortcut in the heart between the right and left atria.\\n\\nAnd it's actually pretty common, found in about a quarter of adults, which definitely makes it the top suspect here.\\n\\nSo with all these pieces - long travel, leg clot, sudden weakness - a PFO fits the bill perfectly, letting a clot cross over and cause all this.\\n\\nEverything fits together pretty neatly, so I'd bet PFO is the heart issue waiting to be discovered. Yeah, that really clicks into place!\",\n",
              " 'Response': 'The specific cardiac abnormality most likely to be found in this scenario is a patent foramen ovale (PFO). This condition could allow a blood clot from the venous system, such as one from a deep vein thrombosis in the leg, to bypass the lungs and pass directly into the arterial circulation. This can occur when the clot moves from the right atrium to the left atrium through the PFO. Once in the arterial system, the clot can travel to the brain, potentially causing an embolic stroke, which would explain the sudden weakness in the left arm and leg. The connection between the recent travel, which increases the risk of deep vein thrombosis, and the neurological symptoms suggests the presence of a PFO facilitating a paradoxical embolism.'}"
            ]
          },
          "metadata": {},
          "execution_count": 17
        }
      ]
    },
    {
      "cell_type": "markdown",
      "source": [
        "**system identity**"
      ],
      "metadata": {
        "id": "JrA7IfsFWy1A"
      }
    },
    {
      "cell_type": "code",
      "source": [
        "import json\n",
        "from core.eval_framework import system_identity\n",
        "print(system_identity)"
      ],
      "metadata": {
        "colab": {
          "base_uri": "https://localhost:8080/"
        },
        "id": "ZRr_YilKWv8D",
        "outputId": "95fdac34-d137-4dfe-f46a-0ea4fb7bda9a"
      },
      "execution_count": 18,
      "outputs": [
        {
          "output_type": "stream",
          "name": "stdout",
          "text": [
            "\n",
            "You are an expert medical assistant specializing in answering questions.\n",
            "\n",
            "**Your communication MUST strictly adhere to the Harmony channels:**\n",
            "1.  **analysis:** Use this for all internal Chain-of-Thought (CoT), clinical reasoning, and factual processing. This content is for internal use only.\n",
            "2.  **final:** Use this channel for the final output intended for the user.\n",
            "\n",
            "**Output Rule is Conditional:**\n",
            "* **If the input is a Multiple-Choice Question (MCQ):** Your output MUST be a single, valid JSON object containing only the selected answer letter.\n",
            "    * **Format:** `{\"answer\": \"<LETTER>\"}` (e.g., `{\"answer\": \"A\"}`)\n",
            "* **If the input is an Open-Ended Question:** Your output MUST be a detailed, coherent narrative response.\n",
            "\n",
            "**Instruction:** Generate a complete response. The final output must use the 'final' channel and adhere to the conditional format rule.\n"
          ]
        }
      ]
    },
    {
      "cell_type": "markdown",
      "source": [
        "**convert single data example to harmony format**"
      ],
      "metadata": {
        "id": "D_BrotuhXVGt"
      }
    },
    {
      "cell_type": "code",
      "source": [
        "def convert_to_harmony_format(data_item, system_prompt):\n",
        "    \"\"\"\n",
        "    Convert a single data item to OpenAI Harmony format.\n",
        "\n",
        "    Args:\n",
        "        data_item: Dictionary with 'Question', 'Complex_CoT', and 'Response' keys\n",
        "        system_prompt: System identity string\n",
        "\n",
        "    Returns:\n",
        "        Dictionary with 'messages' key containing the conversation\n",
        "    \"\"\"\n",
        "    messages = [\n",
        "        {'role': 'system',\n",
        "            'content': system_prompt,\n",
        "            'thinking': None},\n",
        "        {'role': 'user',\n",
        "            'content': data_item['Question'],\n",
        "            'thinking': None},\n",
        "        {'role': 'assistant',\n",
        "            'content': data_item['Response'],\n",
        "            'thinking': data_item['Complex_CoT']}\n",
        "    ]\n",
        "    return {'messages': messages}"
      ],
      "metadata": {
        "id": "QH-SuMppXbya"
      },
      "execution_count": 19,
      "outputs": []
    },
    {
      "cell_type": "code",
      "source": [
        "converted_example = convert_to_harmony_format(train_data[0], system_identity)\n",
        "print(json.dumps(converted_example, indent=2))"
      ],
      "metadata": {
        "colab": {
          "base_uri": "https://localhost:8080/"
        },
        "id": "cXb-uku3X_Kv",
        "outputId": "6cd6d553-227e-4642-9a3a-f35c48b16ffe"
      },
      "execution_count": 20,
      "outputs": [
        {
          "output_type": "stream",
          "name": "stdout",
          "text": [
            "{\n",
            "  \"messages\": [\n",
            "    {\n",
            "      \"role\": \"system\",\n",
            "      \"content\": \"\\nYou are an expert medical assistant specializing in answering questions.\\n\\n**Your communication MUST strictly adhere to the Harmony channels:**\\n1.  **analysis:** Use this for all internal Chain-of-Thought (CoT), clinical reasoning, and factual processing. This content is for internal use only.\\n2.  **final:** Use this channel for the final output intended for the user.\\n\\n**Output Rule is Conditional:**\\n* **If the input is a Multiple-Choice Question (MCQ):** Your output MUST be a single, valid JSON object containing only the selected answer letter.\\n    * **Format:** `{\\\"answer\\\": \\\"<LETTER>\\\"}` (e.g., `{\\\"answer\\\": \\\"A\\\"}`)\\n* **If the input is an Open-Ended Question:** Your output MUST be a detailed, coherent narrative response.\\n\\n**Instruction:** Generate a complete response. The final output must use the 'final' channel and adhere to the conditional format rule.\",\n",
            "      \"thinking\": null\n",
            "    },\n",
            "    {\n",
            "      \"role\": \"user\",\n",
            "      \"content\": \"Given the symptoms of sudden weakness in the left arm and leg, recent long-distance travel, and the presence of swollen and tender right lower leg, what specific cardiac abnormality is most likely to be found upon further evaluation that could explain these findings?\",\n",
            "      \"thinking\": null\n",
            "    },\n",
            "    {\n",
            "      \"role\": \"assistant\",\n",
            "      \"content\": \"The specific cardiac abnormality most likely to be found in this scenario is a patent foramen ovale (PFO). This condition could allow a blood clot from the venous system, such as one from a deep vein thrombosis in the leg, to bypass the lungs and pass directly into the arterial circulation. This can occur when the clot moves from the right atrium to the left atrium through the PFO. Once in the arterial system, the clot can travel to the brain, potentially causing an embolic stroke, which would explain the sudden weakness in the left arm and leg. The connection between the recent travel, which increases the risk of deep vein thrombosis, and the neurological symptoms suggests the presence of a PFO facilitating a paradoxical embolism.\",\n",
            "      \"thinking\": \"Okay, let's see what's going on here. We've got sudden weakness in the person's left arm and leg - and that screams something neuro-related, maybe a stroke?\\n\\nBut wait, there's more. The right lower leg is swollen and tender, which is like waving a big flag for deep vein thrombosis, especially after a long flight or sitting around a lot.\\n\\nSo, now I'm thinking, how could a clot in the leg end up causing issues like weakness or stroke symptoms?\\n\\nOh, right! There's this thing called a paradoxical embolism. It can happen if there's some kind of short circuit in the heart - like a hole that shouldn't be there.\\n\\nLet's put this together: if a blood clot from the leg somehow travels to the left side of the heart, it could shoot off to the brain and cause that sudden weakness by blocking blood flow there.\\n\\nHmm, but how would the clot get from the right side of the heart to the left without going through the lungs and getting filtered out?\\n\\nHere's where our cardiac anomaly comes in: a patent foramen ovale or PFO. That's like a sneaky little shortcut in the heart between the right and left atria.\\n\\nAnd it's actually pretty common, found in about a quarter of adults, which definitely makes it the top suspect here.\\n\\nSo with all these pieces - long travel, leg clot, sudden weakness - a PFO fits the bill perfectly, letting a clot cross over and cause all this.\\n\\nEverything fits together pretty neatly, so I'd bet PFO is the heart issue waiting to be discovered. Yeah, that really clicks into place!\"\n",
            "    }\n",
            "  ]\n",
            "}\n"
          ]
        }
      ]
    },
    {
      "cell_type": "markdown",
      "source": [
        "**convert training data**"
      ],
      "metadata": {
        "id": "sHb1vUtbYhfs"
      }
    },
    {
      "cell_type": "code",
      "source": [
        "formatted_training_data = [convert_to_harmony_format(item, system_identity) for item in train_data]"
      ],
      "metadata": {
        "id": "gklbuSoFYg9f"
      },
      "execution_count": 21,
      "outputs": []
    },
    {
      "cell_type": "code",
      "source": [
        "from transformers import AutoTokenizer\n",
        "\n",
        "tokenizer = AutoTokenizer.from_pretrained(\"openai/gpt-oss-20b\")"
      ],
      "metadata": {
        "id": "K0z0qAZGElWh"
      },
      "execution_count": 22,
      "outputs": []
    },
    {
      "cell_type": "code",
      "source": [
        "formatted_training_data[0]"
      ],
      "metadata": {
        "colab": {
          "base_uri": "https://localhost:8080/"
        },
        "id": "L4MooCN3ak8X",
        "outputId": "8e7b1d13-145c-45c8-a4d7-20765664604a"
      },
      "execution_count": 23,
      "outputs": [
        {
          "output_type": "execute_result",
          "data": {
            "text/plain": [
              "{'messages': [{'role': 'system',\n",
              "   'content': '\\nYou are an expert medical assistant specializing in answering questions.\\n\\n**Your communication MUST strictly adhere to the Harmony channels:**\\n1.  **analysis:** Use this for all internal Chain-of-Thought (CoT), clinical reasoning, and factual processing. This content is for internal use only.\\n2.  **final:** Use this channel for the final output intended for the user.\\n\\n**Output Rule is Conditional:**\\n* **If the input is a Multiple-Choice Question (MCQ):** Your output MUST be a single, valid JSON object containing only the selected answer letter.\\n    * **Format:** `{\"answer\": \"<LETTER>\"}` (e.g., `{\"answer\": \"A\"}`)\\n* **If the input is an Open-Ended Question:** Your output MUST be a detailed, coherent narrative response.\\n\\n**Instruction:** Generate a complete response. The final output must use the \\'final\\' channel and adhere to the conditional format rule.',\n",
              "   'thinking': None},\n",
              "  {'role': 'user',\n",
              "   'content': 'Given the symptoms of sudden weakness in the left arm and leg, recent long-distance travel, and the presence of swollen and tender right lower leg, what specific cardiac abnormality is most likely to be found upon further evaluation that could explain these findings?',\n",
              "   'thinking': None},\n",
              "  {'role': 'assistant',\n",
              "   'content': 'The specific cardiac abnormality most likely to be found in this scenario is a patent foramen ovale (PFO). This condition could allow a blood clot from the venous system, such as one from a deep vein thrombosis in the leg, to bypass the lungs and pass directly into the arterial circulation. This can occur when the clot moves from the right atrium to the left atrium through the PFO. Once in the arterial system, the clot can travel to the brain, potentially causing an embolic stroke, which would explain the sudden weakness in the left arm and leg. The connection between the recent travel, which increases the risk of deep vein thrombosis, and the neurological symptoms suggests the presence of a PFO facilitating a paradoxical embolism.',\n",
              "   'thinking': \"Okay, let's see what's going on here. We've got sudden weakness in the person's left arm and leg - and that screams something neuro-related, maybe a stroke?\\n\\nBut wait, there's more. The right lower leg is swollen and tender, which is like waving a big flag for deep vein thrombosis, especially after a long flight or sitting around a lot.\\n\\nSo, now I'm thinking, how could a clot in the leg end up causing issues like weakness or stroke symptoms?\\n\\nOh, right! There's this thing called a paradoxical embolism. It can happen if there's some kind of short circuit in the heart - like a hole that shouldn't be there.\\n\\nLet's put this together: if a blood clot from the leg somehow travels to the left side of the heart, it could shoot off to the brain and cause that sudden weakness by blocking blood flow there.\\n\\nHmm, but how would the clot get from the right side of the heart to the left without going through the lungs and getting filtered out?\\n\\nHere's where our cardiac anomaly comes in: a patent foramen ovale or PFO. That's like a sneaky little shortcut in the heart between the right and left atria.\\n\\nAnd it's actually pretty common, found in about a quarter of adults, which definitely makes it the top suspect here.\\n\\nSo with all these pieces - long travel, leg clot, sudden weakness - a PFO fits the bill perfectly, letting a clot cross over and cause all this.\\n\\nEverything fits together pretty neatly, so I'd bet PFO is the heart issue waiting to be discovered. Yeah, that really clicks into place!\"}]}"
            ]
          },
          "metadata": {},
          "execution_count": 23
        }
      ]
    },
    {
      "cell_type": "code",
      "source": [
        "conversation = tokenizer.apply_chat_template(formatted_training_data[0]['messages'], tokenize=False)\n",
        "print(conversation)"
      ],
      "metadata": {
        "colab": {
          "base_uri": "https://localhost:8080/"
        },
        "id": "Av5KaDohY5tZ",
        "outputId": "e2c25fde-7020-4e12-d7e4-5ad024009651"
      },
      "execution_count": 24,
      "outputs": [
        {
          "output_type": "stream",
          "name": "stdout",
          "text": [
            "<|start|>system<|message|>You are ChatGPT, a large language model trained by OpenAI.\n",
            "Knowledge cutoff: 2024-06\n",
            "Current date: 2025-10-31\n",
            "\n",
            "Reasoning: medium\n",
            "\n",
            "# Valid channels: analysis, commentary, final. Channel must be included for every message.<|end|><|start|>developer<|message|># Instructions\n",
            "\n",
            "\n",
            "You are an expert medical assistant specializing in answering questions.\n",
            "\n",
            "**Your communication MUST strictly adhere to the Harmony channels:**\n",
            "1.  **analysis:** Use this for all internal Chain-of-Thought (CoT), clinical reasoning, and factual processing. This content is for internal use only.\n",
            "2.  **final:** Use this channel for the final output intended for the user.\n",
            "\n",
            "**Output Rule is Conditional:**\n",
            "* **If the input is a Multiple-Choice Question (MCQ):** Your output MUST be a single, valid JSON object containing only the selected answer letter.\n",
            "    * **Format:** `{\"answer\": \"<LETTER>\"}` (e.g., `{\"answer\": \"A\"}`)\n",
            "* **If the input is an Open-Ended Question:** Your output MUST be a detailed, coherent narrative response.\n",
            "\n",
            "**Instruction:** Generate a complete response. The final output must use the 'final' channel and adhere to the conditional format rule.\n",
            "\n",
            "<|end|><|start|>user<|message|>Given the symptoms of sudden weakness in the left arm and leg, recent long-distance travel, and the presence of swollen and tender right lower leg, what specific cardiac abnormality is most likely to be found upon further evaluation that could explain these findings?<|end|><|start|>assistant<|channel|>analysis<|message|>Okay, let's see what's going on here. We've got sudden weakness in the person's left arm and leg - and that screams something neuro-related, maybe a stroke?\n",
            "\n",
            "But wait, there's more. The right lower leg is swollen and tender, which is like waving a big flag for deep vein thrombosis, especially after a long flight or sitting around a lot.\n",
            "\n",
            "So, now I'm thinking, how could a clot in the leg end up causing issues like weakness or stroke symptoms?\n",
            "\n",
            "Oh, right! There's this thing called a paradoxical embolism. It can happen if there's some kind of short circuit in the heart - like a hole that shouldn't be there.\n",
            "\n",
            "Let's put this together: if a blood clot from the leg somehow travels to the left side of the heart, it could shoot off to the brain and cause that sudden weakness by blocking blood flow there.\n",
            "\n",
            "Hmm, but how would the clot get from the right side of the heart to the left without going through the lungs and getting filtered out?\n",
            "\n",
            "Here's where our cardiac anomaly comes in: a patent foramen ovale or PFO. That's like a sneaky little shortcut in the heart between the right and left atria.\n",
            "\n",
            "And it's actually pretty common, found in about a quarter of adults, which definitely makes it the top suspect here.\n",
            "\n",
            "So with all these pieces - long travel, leg clot, sudden weakness - a PFO fits the bill perfectly, letting a clot cross over and cause all this.\n",
            "\n",
            "Everything fits together pretty neatly, so I'd bet PFO is the heart issue waiting to be discovered. Yeah, that really clicks into place!<|end|><|start|>assistant<|channel|>final<|message|>The specific cardiac abnormality most likely to be found in this scenario is a patent foramen ovale (PFO). This condition could allow a blood clot from the venous system, such as one from a deep vein thrombosis in the leg, to bypass the lungs and pass directly into the arterial circulation. This can occur when the clot moves from the right atrium to the left atrium through the PFO. Once in the arterial system, the clot can travel to the brain, potentially causing an embolic stroke, which would explain the sudden weakness in the left arm and leg. The connection between the recent travel, which increases the risk of deep vein thrombosis, and the neurological symptoms suggests the presence of a PFO facilitating a paradoxical embolism.<|return|>\n"
          ]
        }
      ]
    },
    {
      "cell_type": "markdown",
      "source": [
        "### finetune setup"
      ],
      "metadata": {
        "id": "xOKzITs-Em2U"
      }
    },
    {
      "cell_type": "code",
      "source": [
        "import torch\n",
        "from transformers import AutoModelForCausalLM, Mxfp4Config\n",
        "\n",
        "quantization_config = Mxfp4Config(dequantize=True)\n",
        "model_kwargs = dict(\n",
        "    attn_implementation=\"eager\",\n",
        "    torch_dtype=torch.bfloat16,\n",
        "    quantization_config=quantization_config,\n",
        "    use_cache=False,\n",
        "    device_map=\"auto\",\n",
        ")\n",
        "\n",
        "model = AutoModelForCausalLM.from_pretrained(\"openai/gpt-oss-20b\", **model_kwargs)"
      ],
      "metadata": {
        "colab": {
          "base_uri": "https://localhost:8080/",
          "height": 176,
          "referenced_widgets": [
            "541e3f2dbece4764b3dc7d754a97f6fc",
            "b2c8d016afab48b3941969ded4df0709",
            "537a519ed5df4f0f8a24c21c4014cc97",
            "7893a0abd3e544dfabb00f9b0ada8183",
            "9034c2e0c3b949ad97d57b94e96277ec",
            "e2369db7161843b1831ef6f031f2ef36",
            "03cd7d65d3d74488ab593661829981b7",
            "6872ddc84cb64fff9bbb32afd51f8902",
            "3788858fe95d4d8082ebe7ed690dcc49",
            "6ded09f4832f4a8bbdc5556d6acc44ae",
            "8dbc1228d95545fbadaabb341a33bd4f"
          ]
        },
        "id": "J2wcXdX2buyq",
        "outputId": "05ef6307-dc30-4788-dee0-d30bec9c3837"
      },
      "execution_count": 25,
      "outputs": [
        {
          "output_type": "stream",
          "name": "stderr",
          "text": [
            "`torch_dtype` is deprecated! Use `dtype` instead!\n",
            "WARNING:bitsandbytes.cextension:WARNING: BNB_CUDA_VERSION=125 environment variable detected; loading libbitsandbytes_cuda125.so.\n",
            "This can be used to load a bitsandbytes version built with a CUDA version that is different from the PyTorch CUDA version.\n",
            "If this was unintended set the BNB_CUDA_VERSION variable to an empty string: export BNB_CUDA_VERSION=\n",
            "\n"
          ]
        },
        {
          "output_type": "display_data",
          "data": {
            "text/plain": [
              "Loading checkpoint shards:   0%|          | 0/3 [00:00<?, ?it/s]"
            ],
            "application/vnd.jupyter.widget-view+json": {
              "version_major": 2,
              "version_minor": 0,
              "model_id": "541e3f2dbece4764b3dc7d754a97f6fc"
            }
          },
          "metadata": {}
        },
        {
          "output_type": "stream",
          "name": "stderr",
          "text": [
            "WARNING:accelerate.big_modeling:Some parameters are on the meta device because they were offloaded to the cpu.\n"
          ]
        }
      ]
    },
    {
      "cell_type": "markdown",
      "source": [
        "### finetune with LoRA"
      ],
      "metadata": {
        "id": "_mgCtsQ7fEhj"
      }
    },
    {
      "cell_type": "code",
      "source": [
        "from peft import LoraConfig, get_peft_model\n",
        "\n",
        "peft_config = LoraConfig(\n",
        "    r=8,\n",
        "    lora_alpha=16,\n",
        "    target_modules=\"all-linear\",\n",
        "    target_parameters=[\n",
        "        \"7.mlp.experts.gate_up_proj\",\n",
        "        \"7.mlp.experts.down_proj\",\n",
        "        \"15.mlp.experts.gate_up_proj\",\n",
        "        \"15.mlp.experts.down_proj\",\n",
        "        \"23.mlp.experts.gate_up_proj\",\n",
        "        \"23.mlp.experts.down_proj\",\n",
        "    ],\n",
        ")\n",
        "peft_model = get_peft_model(model, peft_config)\n",
        "peft_model.print_trainable_parameters()"
      ],
      "metadata": {
        "id": "an3l94GvexNr",
        "outputId": "57ec26a7-d5dc-45dc-d074-7f0d4c560ce6",
        "colab": {
          "base_uri": "https://localhost:8080/"
        }
      },
      "execution_count": 26,
      "outputs": [
        {
          "output_type": "stream",
          "name": "stdout",
          "text": [
            "trainable params: 15,040,512 || all params: 20,929,797,696 || trainable%: 0.0719\n"
          ]
        },
        {
          "output_type": "stream",
          "name": "stderr",
          "text": [
            "/usr/local/lib/python3.12/dist-packages/peft/tuners/lora/layer.py:159: UserWarning: Unsupported layer type '<class 'transformers.models.gpt_oss.modeling_gpt_oss.GptOssExperts'>' encountered, proceed at your own risk.\n",
            "  warnings.warn(\n"
          ]
        }
      ]
    },
    {
      "cell_type": "code",
      "source": [
        "from trl import SFTConfig\n",
        "\n",
        "training_args = SFTConfig(\n",
        "    learning_rate=2e-4,\n",
        "    gradient_checkpointing=True,\n",
        "    num_train_epochs=1,\n",
        "    logging_steps=1,\n",
        "    per_device_train_batch_size=4,\n",
        "    gradient_accumulation_steps=4,\n",
        "    max_length=2048,\n",
        "    warmup_ratio=0.03,\n",
        "    lr_scheduler_type=\"cosine_with_min_lr\",\n",
        "    lr_scheduler_kwargs={\"min_lr_rate\": 0.1},\n",
        "    output_dir=\"gpt-oss-20b-medical-reasoner\",\n",
        "    report_to=\"trackio\",\n",
        "    push_to_hub=True,\n",
        ")"
      ],
      "metadata": {
        "id": "13pWxfJTfRHU"
      },
      "execution_count": 27,
      "outputs": []
    },
    {
      "cell_type": "code",
      "source": [
        "from trl import SFTTrainer\n",
        "from datasets import Dataset\n",
        "\n",
        "# Convert your list to HF Dataset\n",
        "training_data_formatted = Dataset.from_list(formatted_training_data)\n",
        "\n",
        "trainer = SFTTrainer(\n",
        "    model=peft_model,\n",
        "    args=training_args,\n",
        "    train_dataset=training_data_formatted,\n",
        "    processing_class=tokenizer,\n",
        ")\n",
        "trainer.train()"
      ],
      "metadata": {
        "id": "xyPsPboNfcUe",
        "outputId": "7aefdf85-4263-477e-b6d2-d96fcb53b602",
        "colab": {
          "base_uri": "https://localhost:8080/",
          "height": 1000,
          "referenced_widgets": [
            "5a6985effe8f47a68b1176b051b50f14",
            "c309a10360a5486ca0109d0fd4ac6074",
            "ef403691d92946b4997d17e82ee63aa6",
            "e0c188076a2a43868f84ec19f21d3c2c",
            "524c2debc1c5440b9975ec46581ea2fc",
            "626079cb446d48ce893f0735033d070a",
            "bfb8742375624142820a2c057692f70b",
            "4f4a3e04fb154d6a85d312f9a64f7ee2",
            "98534baeff194af7bb78da29d5366f4e",
            "502dd34b65fe4e83a5d7cd4bd0cac467",
            "b545276ef2dd4f838c495e7414268042",
            "fc41b2901e6b46289cbd1134159273cb",
            "3d45c639412340bdb749ccc17b435a52",
            "a37492bd825f42b09086b45e76edaeb3",
            "d8dbd59ca88c46dcab4e794fe7f566c9",
            "e848ffe7698747188ae768c0eb4919a6",
            "71511d4f04bc428f9f7a00cf962b649c",
            "4a73ec148c9541f7971bc38d883a7934",
            "72250229c769466fb83f920696611990",
            "a9f5077905ed4ac6b30e291bce1e4372",
            "e12b9b27c37c402398c5780754eac53e",
            "c151f83f77f84108bfdf15b9f45efc7a"
          ]
        }
      },
      "execution_count": 28,
      "outputs": [
        {
          "output_type": "display_data",
          "data": {
            "text/plain": [
              "Tokenizing train dataset:   0%|          | 0/19704 [00:00<?, ? examples/s]"
            ],
            "application/vnd.jupyter.widget-view+json": {
              "version_major": 2,
              "version_minor": 0,
              "model_id": "5a6985effe8f47a68b1176b051b50f14"
            }
          },
          "metadata": {}
        },
        {
          "output_type": "display_data",
          "data": {
            "text/plain": [
              "Truncating train dataset:   0%|          | 0/19704 [00:00<?, ? examples/s]"
            ],
            "application/vnd.jupyter.widget-view+json": {
              "version_major": 2,
              "version_minor": 0,
              "model_id": "fc41b2901e6b46289cbd1134159273cb"
            }
          },
          "metadata": {}
        },
        {
          "output_type": "stream",
          "name": "stderr",
          "text": [
            "The model is already on multiple devices. Skipping the move to device specified in `args`.\n",
            "The tokenizer has new PAD/BOS/EOS tokens that differ from the model config and generation config. The model config and generation config were aligned accordingly, being updated with the tokenizer's values. Updated tokens: {'bos_token_id': 199998}.\n"
          ]
        },
        {
          "output_type": "stream",
          "name": "stdout",
          "text": [
            "* Trackio project initialized: huggingface\n",
            "* Trackio metrics will be synced to Hugging Face Dataset: cibaraki/trackio-dataset\n",
            "* Creating new space: https://huggingface.co/spaces/cibaraki/trackio\n",
            "* View dashboard by going to: https://cibaraki-trackio.hf.space/\n"
          ]
        },
        {
          "output_type": "display_data",
          "data": {
            "text/plain": [
              "<IPython.core.display.HTML object>"
            ],
            "text/html": [
              "<div><iframe src=\"https://cibaraki-trackio.hf.space/\" width=\"100%\" height=\"1000px\" allow=\"autoplay; camera; microphone; clipboard-read; clipboard-write;\" frameborder=\"0\" allowfullscreen></iframe></div>"
            ]
          },
          "metadata": {}
        },
        {
          "output_type": "stream",
          "name": "stdout",
          "text": [
            "* Created new run: cibaraki-1761953180\n"
          ]
        },
        {
          "output_type": "error",
          "ename": "OutOfMemoryError",
          "evalue": "CUDA out of memory. Tried to allocate 2.85 GiB. GPU 0 has a total capacity of 39.56 GiB of which 2.55 GiB is free. Process 179908 has 37.00 GiB memory in use. Of the allocated memory 36.40 GiB is allocated by PyTorch, and 102.82 MiB is reserved by PyTorch but unallocated. If reserved but unallocated memory is large try setting PYTORCH_CUDA_ALLOC_CONF=expandable_segments:True to avoid fragmentation.  See documentation for Memory Management  (https://pytorch.org/docs/stable/notes/cuda.html#environment-variables)",
          "traceback": [
            "\u001b[0;31m---------------------------------------------------------------------------\u001b[0m",
            "\u001b[0;31mOutOfMemoryError\u001b[0m                          Traceback (most recent call last)",
            "\u001b[0;32m/tmp/ipython-input-812736743.py\u001b[0m in \u001b[0;36m<cell line: 0>\u001b[0;34m()\u001b[0m\n\u001b[1;32m     11\u001b[0m     \u001b[0mprocessing_class\u001b[0m\u001b[0;34m=\u001b[0m\u001b[0mtokenizer\u001b[0m\u001b[0;34m,\u001b[0m\u001b[0;34m\u001b[0m\u001b[0;34m\u001b[0m\u001b[0m\n\u001b[1;32m     12\u001b[0m )\n\u001b[0;32m---> 13\u001b[0;31m \u001b[0mtrainer\u001b[0m\u001b[0;34m.\u001b[0m\u001b[0mtrain\u001b[0m\u001b[0;34m(\u001b[0m\u001b[0;34m)\u001b[0m\u001b[0;34m\u001b[0m\u001b[0;34m\u001b[0m\u001b[0m\n\u001b[0m",
            "\u001b[0;32m/usr/local/lib/python3.12/dist-packages/transformers/trainer.py\u001b[0m in \u001b[0;36mtrain\u001b[0;34m(self, resume_from_checkpoint, trial, ignore_keys_for_eval, **kwargs)\u001b[0m\n\u001b[1;32m   2314\u001b[0m                 \u001b[0;31m# Disable progress bars when uploading models during checkpoints to avoid polluting stdout\u001b[0m\u001b[0;34m\u001b[0m\u001b[0;34m\u001b[0m\u001b[0m\n\u001b[1;32m   2315\u001b[0m                 \u001b[0mhf_hub_utils\u001b[0m\u001b[0;34m.\u001b[0m\u001b[0mdisable_progress_bars\u001b[0m\u001b[0;34m(\u001b[0m\u001b[0;34m)\u001b[0m\u001b[0;34m\u001b[0m\u001b[0;34m\u001b[0m\u001b[0m\n\u001b[0;32m-> 2316\u001b[0;31m                 return inner_training_loop(\n\u001b[0m\u001b[1;32m   2317\u001b[0m                     \u001b[0margs\u001b[0m\u001b[0;34m=\u001b[0m\u001b[0margs\u001b[0m\u001b[0;34m,\u001b[0m\u001b[0;34m\u001b[0m\u001b[0;34m\u001b[0m\u001b[0m\n\u001b[1;32m   2318\u001b[0m                     \u001b[0mresume_from_checkpoint\u001b[0m\u001b[0;34m=\u001b[0m\u001b[0mresume_from_checkpoint\u001b[0m\u001b[0;34m,\u001b[0m\u001b[0;34m\u001b[0m\u001b[0;34m\u001b[0m\u001b[0m\n",
            "\u001b[0;32m/usr/local/lib/python3.12/dist-packages/transformers/trainer.py\u001b[0m in \u001b[0;36m_inner_training_loop\u001b[0;34m(self, batch_size, args, resume_from_checkpoint, trial, ignore_keys_for_eval)\u001b[0m\n\u001b[1;32m   2672\u001b[0m                     )\n\u001b[1;32m   2673\u001b[0m                     \u001b[0;32mwith\u001b[0m \u001b[0mcontext\u001b[0m\u001b[0;34m(\u001b[0m\u001b[0;34m)\u001b[0m\u001b[0;34m:\u001b[0m\u001b[0;34m\u001b[0m\u001b[0;34m\u001b[0m\u001b[0m\n\u001b[0;32m-> 2674\u001b[0;31m                         \u001b[0mtr_loss_step\u001b[0m \u001b[0;34m=\u001b[0m \u001b[0mself\u001b[0m\u001b[0;34m.\u001b[0m\u001b[0mtraining_step\u001b[0m\u001b[0;34m(\u001b[0m\u001b[0mmodel\u001b[0m\u001b[0;34m,\u001b[0m \u001b[0minputs\u001b[0m\u001b[0;34m,\u001b[0m \u001b[0mnum_items_in_batch\u001b[0m\u001b[0;34m)\u001b[0m\u001b[0;34m\u001b[0m\u001b[0;34m\u001b[0m\u001b[0m\n\u001b[0m\u001b[1;32m   2675\u001b[0m \u001b[0;34m\u001b[0m\u001b[0m\n\u001b[1;32m   2676\u001b[0m                     if (\n",
            "\u001b[0;32m/content/CUREBench/env/lib/python3.12/site-packages/trl/trainer/sft_trainer.py\u001b[0m in \u001b[0;36mtraining_step\u001b[0;34m(self, *args, **kwargs)\u001b[0m\n\u001b[1;32m   1183\u001b[0m     \u001b[0;32mdef\u001b[0m \u001b[0mtraining_step\u001b[0m\u001b[0;34m(\u001b[0m\u001b[0mself\u001b[0m\u001b[0;34m,\u001b[0m \u001b[0;34m*\u001b[0m\u001b[0margs\u001b[0m\u001b[0;34m,\u001b[0m \u001b[0;34m**\u001b[0m\u001b[0mkwargs\u001b[0m\u001b[0;34m)\u001b[0m\u001b[0;34m:\u001b[0m\u001b[0;34m\u001b[0m\u001b[0;34m\u001b[0m\u001b[0m\n\u001b[1;32m   1184\u001b[0m         \u001b[0;32mwith\u001b[0m \u001b[0mself\u001b[0m\u001b[0;34m.\u001b[0m\u001b[0mmaybe_activation_offload_context\u001b[0m\u001b[0;34m:\u001b[0m\u001b[0;34m\u001b[0m\u001b[0;34m\u001b[0m\u001b[0m\n\u001b[0;32m-> 1185\u001b[0;31m             \u001b[0;32mreturn\u001b[0m \u001b[0msuper\u001b[0m\u001b[0;34m(\u001b[0m\u001b[0;34m)\u001b[0m\u001b[0;34m.\u001b[0m\u001b[0mtraining_step\u001b[0m\u001b[0;34m(\u001b[0m\u001b[0;34m*\u001b[0m\u001b[0margs\u001b[0m\u001b[0;34m,\u001b[0m \u001b[0;34m**\u001b[0m\u001b[0mkwargs\u001b[0m\u001b[0;34m)\u001b[0m\u001b[0;34m\u001b[0m\u001b[0;34m\u001b[0m\u001b[0m\n\u001b[0m\u001b[1;32m   1186\u001b[0m \u001b[0;34m\u001b[0m\u001b[0m\n\u001b[1;32m   1187\u001b[0m     \u001b[0;32mdef\u001b[0m \u001b[0mlog\u001b[0m\u001b[0;34m(\u001b[0m\u001b[0mself\u001b[0m\u001b[0;34m,\u001b[0m \u001b[0mlogs\u001b[0m\u001b[0;34m:\u001b[0m \u001b[0mdict\u001b[0m\u001b[0;34m[\u001b[0m\u001b[0mstr\u001b[0m\u001b[0;34m,\u001b[0m \u001b[0mfloat\u001b[0m\u001b[0;34m]\u001b[0m\u001b[0;34m,\u001b[0m \u001b[0mstart_time\u001b[0m\u001b[0;34m:\u001b[0m \u001b[0mOptional\u001b[0m\u001b[0;34m[\u001b[0m\u001b[0mfloat\u001b[0m\u001b[0;34m]\u001b[0m \u001b[0;34m=\u001b[0m \u001b[0;32mNone\u001b[0m\u001b[0;34m)\u001b[0m \u001b[0;34m->\u001b[0m \u001b[0;32mNone\u001b[0m\u001b[0;34m:\u001b[0m\u001b[0;34m\u001b[0m\u001b[0;34m\u001b[0m\u001b[0m\n",
            "\u001b[0;32m/usr/local/lib/python3.12/dist-packages/transformers/trainer.py\u001b[0m in \u001b[0;36mtraining_step\u001b[0;34m(self, model, inputs, num_items_in_batch)\u001b[0m\n\u001b[1;32m   4018\u001b[0m \u001b[0;34m\u001b[0m\u001b[0m\n\u001b[1;32m   4019\u001b[0m             \u001b[0;32mwith\u001b[0m \u001b[0mself\u001b[0m\u001b[0;34m.\u001b[0m\u001b[0mcompute_loss_context_manager\u001b[0m\u001b[0;34m(\u001b[0m\u001b[0;34m)\u001b[0m\u001b[0;34m:\u001b[0m\u001b[0;34m\u001b[0m\u001b[0;34m\u001b[0m\u001b[0m\n\u001b[0;32m-> 4020\u001b[0;31m                 \u001b[0mloss\u001b[0m \u001b[0;34m=\u001b[0m \u001b[0mself\u001b[0m\u001b[0;34m.\u001b[0m\u001b[0mcompute_loss\u001b[0m\u001b[0;34m(\u001b[0m\u001b[0mmodel\u001b[0m\u001b[0;34m,\u001b[0m \u001b[0minputs\u001b[0m\u001b[0;34m,\u001b[0m \u001b[0mnum_items_in_batch\u001b[0m\u001b[0;34m=\u001b[0m\u001b[0mnum_items_in_batch\u001b[0m\u001b[0;34m)\u001b[0m\u001b[0;34m\u001b[0m\u001b[0;34m\u001b[0m\u001b[0m\n\u001b[0m\u001b[1;32m   4021\u001b[0m \u001b[0;34m\u001b[0m\u001b[0m\n\u001b[1;32m   4022\u001b[0m             \u001b[0;32mdel\u001b[0m \u001b[0minputs\u001b[0m\u001b[0;34m\u001b[0m\u001b[0;34m\u001b[0m\u001b[0m\n",
            "\u001b[0;32m/content/CUREBench/env/lib/python3.12/site-packages/trl/trainer/sft_trainer.py\u001b[0m in \u001b[0;36mcompute_loss\u001b[0;34m(self, model, inputs, return_outputs, num_items_in_batch)\u001b[0m\n\u001b[1;32m   1096\u001b[0m         \u001b[0;31m# If not set, defaults from model config and may warn since cache isn't compatible with gradient checkpointing\u001b[0m\u001b[0;34m\u001b[0m\u001b[0;34m\u001b[0m\u001b[0m\n\u001b[1;32m   1097\u001b[0m         \u001b[0minputs\u001b[0m\u001b[0;34m[\u001b[0m\u001b[0;34m\"use_cache\"\u001b[0m\u001b[0;34m]\u001b[0m \u001b[0;34m=\u001b[0m \u001b[0;32mFalse\u001b[0m\u001b[0;34m\u001b[0m\u001b[0;34m\u001b[0m\u001b[0m\n\u001b[0;32m-> 1098\u001b[0;31m         (loss, outputs) = super().compute_loss(\n\u001b[0m\u001b[1;32m   1099\u001b[0m             \u001b[0mmodel\u001b[0m\u001b[0;34m,\u001b[0m \u001b[0minputs\u001b[0m\u001b[0;34m,\u001b[0m \u001b[0mreturn_outputs\u001b[0m\u001b[0;34m=\u001b[0m\u001b[0;32mTrue\u001b[0m\u001b[0;34m,\u001b[0m \u001b[0mnum_items_in_batch\u001b[0m\u001b[0;34m=\u001b[0m\u001b[0mnum_items_in_batch\u001b[0m\u001b[0;34m\u001b[0m\u001b[0;34m\u001b[0m\u001b[0m\n\u001b[1;32m   1100\u001b[0m         )\n",
            "\u001b[0;32m/usr/local/lib/python3.12/dist-packages/transformers/trainer.py\u001b[0m in \u001b[0;36mcompute_loss\u001b[0;34m(self, model, inputs, return_outputs, num_items_in_batch)\u001b[0m\n\u001b[1;32m   4108\u001b[0m                 \u001b[0mkwargs\u001b[0m\u001b[0;34m[\u001b[0m\u001b[0;34m\"num_items_in_batch\"\u001b[0m\u001b[0;34m]\u001b[0m \u001b[0;34m=\u001b[0m \u001b[0mnum_items_in_batch\u001b[0m\u001b[0;34m\u001b[0m\u001b[0;34m\u001b[0m\u001b[0m\n\u001b[1;32m   4109\u001b[0m             \u001b[0minputs\u001b[0m \u001b[0;34m=\u001b[0m \u001b[0;34m{\u001b[0m\u001b[0;34m**\u001b[0m\u001b[0minputs\u001b[0m\u001b[0;34m,\u001b[0m \u001b[0;34m**\u001b[0m\u001b[0mkwargs\u001b[0m\u001b[0;34m}\u001b[0m\u001b[0;34m\u001b[0m\u001b[0;34m\u001b[0m\u001b[0m\n\u001b[0;32m-> 4110\u001b[0;31m         \u001b[0moutputs\u001b[0m \u001b[0;34m=\u001b[0m \u001b[0mmodel\u001b[0m\u001b[0;34m(\u001b[0m\u001b[0;34m**\u001b[0m\u001b[0minputs\u001b[0m\u001b[0;34m)\u001b[0m\u001b[0;34m\u001b[0m\u001b[0;34m\u001b[0m\u001b[0m\n\u001b[0m\u001b[1;32m   4111\u001b[0m         \u001b[0;31m# Save past state if it exists\u001b[0m\u001b[0;34m\u001b[0m\u001b[0;34m\u001b[0m\u001b[0m\n\u001b[1;32m   4112\u001b[0m         \u001b[0;31m# TODO: this needs to be fixed and made cleaner later.\u001b[0m\u001b[0;34m\u001b[0m\u001b[0;34m\u001b[0m\u001b[0m\n",
            "\u001b[0;32m/usr/local/lib/python3.12/dist-packages/torch/nn/modules/module.py\u001b[0m in \u001b[0;36m_wrapped_call_impl\u001b[0;34m(self, *args, **kwargs)\u001b[0m\n\u001b[1;32m   1771\u001b[0m             \u001b[0;32mreturn\u001b[0m \u001b[0mself\u001b[0m\u001b[0;34m.\u001b[0m\u001b[0m_compiled_call_impl\u001b[0m\u001b[0;34m(\u001b[0m\u001b[0;34m*\u001b[0m\u001b[0margs\u001b[0m\u001b[0;34m,\u001b[0m \u001b[0;34m**\u001b[0m\u001b[0mkwargs\u001b[0m\u001b[0;34m)\u001b[0m  \u001b[0;31m# type: ignore[misc]\u001b[0m\u001b[0;34m\u001b[0m\u001b[0;34m\u001b[0m\u001b[0m\n\u001b[1;32m   1772\u001b[0m         \u001b[0;32melse\u001b[0m\u001b[0;34m:\u001b[0m\u001b[0;34m\u001b[0m\u001b[0;34m\u001b[0m\u001b[0m\n\u001b[0;32m-> 1773\u001b[0;31m             \u001b[0;32mreturn\u001b[0m \u001b[0mself\u001b[0m\u001b[0;34m.\u001b[0m\u001b[0m_call_impl\u001b[0m\u001b[0;34m(\u001b[0m\u001b[0;34m*\u001b[0m\u001b[0margs\u001b[0m\u001b[0;34m,\u001b[0m \u001b[0;34m**\u001b[0m\u001b[0mkwargs\u001b[0m\u001b[0;34m)\u001b[0m\u001b[0;34m\u001b[0m\u001b[0;34m\u001b[0m\u001b[0m\n\u001b[0m\u001b[1;32m   1774\u001b[0m \u001b[0;34m\u001b[0m\u001b[0m\n\u001b[1;32m   1775\u001b[0m     \u001b[0;31m# torchrec tests the code consistency with the following code\u001b[0m\u001b[0;34m\u001b[0m\u001b[0;34m\u001b[0m\u001b[0m\n",
            "\u001b[0;32m/usr/local/lib/python3.12/dist-packages/torch/nn/modules/module.py\u001b[0m in \u001b[0;36m_call_impl\u001b[0;34m(self, *args, **kwargs)\u001b[0m\n\u001b[1;32m   1782\u001b[0m                 \u001b[0;32mor\u001b[0m \u001b[0m_global_backward_pre_hooks\u001b[0m \u001b[0;32mor\u001b[0m \u001b[0m_global_backward_hooks\u001b[0m\u001b[0;34m\u001b[0m\u001b[0;34m\u001b[0m\u001b[0m\n\u001b[1;32m   1783\u001b[0m                 or _global_forward_hooks or _global_forward_pre_hooks):\n\u001b[0;32m-> 1784\u001b[0;31m             \u001b[0;32mreturn\u001b[0m \u001b[0mforward_call\u001b[0m\u001b[0;34m(\u001b[0m\u001b[0;34m*\u001b[0m\u001b[0margs\u001b[0m\u001b[0;34m,\u001b[0m \u001b[0;34m**\u001b[0m\u001b[0mkwargs\u001b[0m\u001b[0;34m)\u001b[0m\u001b[0;34m\u001b[0m\u001b[0;34m\u001b[0m\u001b[0m\n\u001b[0m\u001b[1;32m   1785\u001b[0m \u001b[0;34m\u001b[0m\u001b[0m\n\u001b[1;32m   1786\u001b[0m         \u001b[0mresult\u001b[0m \u001b[0;34m=\u001b[0m \u001b[0;32mNone\u001b[0m\u001b[0;34m\u001b[0m\u001b[0;34m\u001b[0m\u001b[0m\n",
            "\u001b[0;32m/usr/local/lib/python3.12/dist-packages/accelerate/utils/operations.py\u001b[0m in \u001b[0;36mforward\u001b[0;34m(*args, **kwargs)\u001b[0m\n\u001b[1;32m    817\u001b[0m \u001b[0;34m\u001b[0m\u001b[0m\n\u001b[1;32m    818\u001b[0m     \u001b[0;32mdef\u001b[0m \u001b[0mforward\u001b[0m\u001b[0;34m(\u001b[0m\u001b[0;34m*\u001b[0m\u001b[0margs\u001b[0m\u001b[0;34m,\u001b[0m \u001b[0;34m**\u001b[0m\u001b[0mkwargs\u001b[0m\u001b[0;34m)\u001b[0m\u001b[0;34m:\u001b[0m\u001b[0;34m\u001b[0m\u001b[0;34m\u001b[0m\u001b[0m\n\u001b[0;32m--> 819\u001b[0;31m         \u001b[0;32mreturn\u001b[0m \u001b[0mmodel_forward\u001b[0m\u001b[0;34m(\u001b[0m\u001b[0;34m*\u001b[0m\u001b[0margs\u001b[0m\u001b[0;34m,\u001b[0m \u001b[0;34m**\u001b[0m\u001b[0mkwargs\u001b[0m\u001b[0;34m)\u001b[0m\u001b[0;34m\u001b[0m\u001b[0;34m\u001b[0m\u001b[0m\n\u001b[0m\u001b[1;32m    820\u001b[0m \u001b[0;34m\u001b[0m\u001b[0m\n\u001b[1;32m    821\u001b[0m     \u001b[0;31m# To act like a decorator so that it can be popped when doing `extract_model_from_parallel`\u001b[0m\u001b[0;34m\u001b[0m\u001b[0;34m\u001b[0m\u001b[0m\n",
            "\u001b[0;32m/usr/local/lib/python3.12/dist-packages/accelerate/utils/operations.py\u001b[0m in \u001b[0;36m__call__\u001b[0;34m(self, *args, **kwargs)\u001b[0m\n\u001b[1;32m    805\u001b[0m \u001b[0;34m\u001b[0m\u001b[0m\n\u001b[1;32m    806\u001b[0m     \u001b[0;32mdef\u001b[0m \u001b[0m__call__\u001b[0m\u001b[0;34m(\u001b[0m\u001b[0mself\u001b[0m\u001b[0;34m,\u001b[0m \u001b[0;34m*\u001b[0m\u001b[0margs\u001b[0m\u001b[0;34m,\u001b[0m \u001b[0;34m**\u001b[0m\u001b[0mkwargs\u001b[0m\u001b[0;34m)\u001b[0m\u001b[0;34m:\u001b[0m\u001b[0;34m\u001b[0m\u001b[0;34m\u001b[0m\u001b[0m\n\u001b[0;32m--> 807\u001b[0;31m         \u001b[0;32mreturn\u001b[0m \u001b[0mconvert_to_fp32\u001b[0m\u001b[0;34m(\u001b[0m\u001b[0mself\u001b[0m\u001b[0;34m.\u001b[0m\u001b[0mmodel_forward\u001b[0m\u001b[0;34m(\u001b[0m\u001b[0;34m*\u001b[0m\u001b[0margs\u001b[0m\u001b[0;34m,\u001b[0m \u001b[0;34m**\u001b[0m\u001b[0mkwargs\u001b[0m\u001b[0;34m)\u001b[0m\u001b[0;34m)\u001b[0m\u001b[0;34m\u001b[0m\u001b[0;34m\u001b[0m\u001b[0m\n\u001b[0m\u001b[1;32m    808\u001b[0m \u001b[0;34m\u001b[0m\u001b[0m\n\u001b[1;32m    809\u001b[0m     \u001b[0;32mdef\u001b[0m \u001b[0m__getstate__\u001b[0m\u001b[0;34m(\u001b[0m\u001b[0mself\u001b[0m\u001b[0;34m)\u001b[0m\u001b[0;34m:\u001b[0m\u001b[0;34m\u001b[0m\u001b[0;34m\u001b[0m\u001b[0m\n",
            "\u001b[0;32m/usr/local/lib/python3.12/dist-packages/torch/amp/autocast_mode.py\u001b[0m in \u001b[0;36mdecorate_autocast\u001b[0;34m(*args, **kwargs)\u001b[0m\n\u001b[1;32m     42\u001b[0m     \u001b[0;32mdef\u001b[0m \u001b[0mdecorate_autocast\u001b[0m\u001b[0;34m(\u001b[0m\u001b[0;34m*\u001b[0m\u001b[0margs\u001b[0m\u001b[0;34m,\u001b[0m \u001b[0;34m**\u001b[0m\u001b[0mkwargs\u001b[0m\u001b[0;34m)\u001b[0m\u001b[0;34m:\u001b[0m\u001b[0;34m\u001b[0m\u001b[0;34m\u001b[0m\u001b[0m\n\u001b[1;32m     43\u001b[0m         \u001b[0;32mwith\u001b[0m \u001b[0mautocast_instance\u001b[0m\u001b[0;34m:\u001b[0m\u001b[0;34m\u001b[0m\u001b[0;34m\u001b[0m\u001b[0m\n\u001b[0;32m---> 44\u001b[0;31m             \u001b[0;32mreturn\u001b[0m \u001b[0mfunc\u001b[0m\u001b[0;34m(\u001b[0m\u001b[0;34m*\u001b[0m\u001b[0margs\u001b[0m\u001b[0;34m,\u001b[0m \u001b[0;34m**\u001b[0m\u001b[0mkwargs\u001b[0m\u001b[0;34m)\u001b[0m\u001b[0;34m\u001b[0m\u001b[0;34m\u001b[0m\u001b[0m\n\u001b[0m\u001b[1;32m     45\u001b[0m \u001b[0;34m\u001b[0m\u001b[0m\n\u001b[1;32m     46\u001b[0m     \u001b[0mdecorate_autocast\u001b[0m\u001b[0;34m.\u001b[0m\u001b[0m__script_unsupported\u001b[0m \u001b[0;34m=\u001b[0m \u001b[0;34m\"@autocast() decorator is not supported in script mode\"\u001b[0m  \u001b[0;31m# type: ignore[attr-defined]\u001b[0m\u001b[0;34m\u001b[0m\u001b[0;34m\u001b[0m\u001b[0m\n",
            "\u001b[0;32m/usr/local/lib/python3.12/dist-packages/peft/peft_model.py\u001b[0m in \u001b[0;36mforward\u001b[0;34m(self, *args, **kwargs)\u001b[0m\n\u001b[1;32m    879\u001b[0m         \u001b[0;32mwith\u001b[0m \u001b[0mself\u001b[0m\u001b[0;34m.\u001b[0m\u001b[0m_enable_peft_forward_hooks\u001b[0m\u001b[0;34m(\u001b[0m\u001b[0;34m*\u001b[0m\u001b[0margs\u001b[0m\u001b[0;34m,\u001b[0m \u001b[0;34m**\u001b[0m\u001b[0mkwargs\u001b[0m\u001b[0;34m)\u001b[0m\u001b[0;34m:\u001b[0m\u001b[0;34m\u001b[0m\u001b[0;34m\u001b[0m\u001b[0m\n\u001b[1;32m    880\u001b[0m             \u001b[0mkwargs\u001b[0m \u001b[0;34m=\u001b[0m \u001b[0;34m{\u001b[0m\u001b[0mk\u001b[0m\u001b[0;34m:\u001b[0m \u001b[0mv\u001b[0m \u001b[0;32mfor\u001b[0m \u001b[0mk\u001b[0m\u001b[0;34m,\u001b[0m \u001b[0mv\u001b[0m \u001b[0;32min\u001b[0m \u001b[0mkwargs\u001b[0m\u001b[0;34m.\u001b[0m\u001b[0mitems\u001b[0m\u001b[0;34m(\u001b[0m\u001b[0;34m)\u001b[0m \u001b[0;32mif\u001b[0m \u001b[0mk\u001b[0m \u001b[0;32mnot\u001b[0m \u001b[0;32min\u001b[0m \u001b[0mself\u001b[0m\u001b[0;34m.\u001b[0m\u001b[0mspecial_peft_forward_args\u001b[0m\u001b[0;34m}\u001b[0m\u001b[0;34m\u001b[0m\u001b[0;34m\u001b[0m\u001b[0m\n\u001b[0;32m--> 881\u001b[0;31m             \u001b[0;32mreturn\u001b[0m \u001b[0mself\u001b[0m\u001b[0;34m.\u001b[0m\u001b[0mget_base_model\u001b[0m\u001b[0;34m(\u001b[0m\u001b[0;34m)\u001b[0m\u001b[0;34m(\u001b[0m\u001b[0;34m*\u001b[0m\u001b[0margs\u001b[0m\u001b[0;34m,\u001b[0m \u001b[0;34m**\u001b[0m\u001b[0mkwargs\u001b[0m\u001b[0;34m)\u001b[0m\u001b[0;34m\u001b[0m\u001b[0;34m\u001b[0m\u001b[0m\n\u001b[0m\u001b[1;32m    882\u001b[0m \u001b[0;34m\u001b[0m\u001b[0m\n\u001b[1;32m    883\u001b[0m     \u001b[0;32mdef\u001b[0m \u001b[0mgenerate\u001b[0m\u001b[0;34m(\u001b[0m\u001b[0mself\u001b[0m\u001b[0;34m,\u001b[0m \u001b[0;34m*\u001b[0m\u001b[0margs\u001b[0m\u001b[0;34m,\u001b[0m \u001b[0;34m**\u001b[0m\u001b[0mkwargs\u001b[0m\u001b[0;34m)\u001b[0m\u001b[0;34m:\u001b[0m\u001b[0;34m\u001b[0m\u001b[0;34m\u001b[0m\u001b[0m\n",
            "\u001b[0;32m/usr/local/lib/python3.12/dist-packages/torch/nn/modules/module.py\u001b[0m in \u001b[0;36m_wrapped_call_impl\u001b[0;34m(self, *args, **kwargs)\u001b[0m\n\u001b[1;32m   1771\u001b[0m             \u001b[0;32mreturn\u001b[0m \u001b[0mself\u001b[0m\u001b[0;34m.\u001b[0m\u001b[0m_compiled_call_impl\u001b[0m\u001b[0;34m(\u001b[0m\u001b[0;34m*\u001b[0m\u001b[0margs\u001b[0m\u001b[0;34m,\u001b[0m \u001b[0;34m**\u001b[0m\u001b[0mkwargs\u001b[0m\u001b[0;34m)\u001b[0m  \u001b[0;31m# type: ignore[misc]\u001b[0m\u001b[0;34m\u001b[0m\u001b[0;34m\u001b[0m\u001b[0m\n\u001b[1;32m   1772\u001b[0m         \u001b[0;32melse\u001b[0m\u001b[0;34m:\u001b[0m\u001b[0;34m\u001b[0m\u001b[0;34m\u001b[0m\u001b[0m\n\u001b[0;32m-> 1773\u001b[0;31m             \u001b[0;32mreturn\u001b[0m \u001b[0mself\u001b[0m\u001b[0;34m.\u001b[0m\u001b[0m_call_impl\u001b[0m\u001b[0;34m(\u001b[0m\u001b[0;34m*\u001b[0m\u001b[0margs\u001b[0m\u001b[0;34m,\u001b[0m \u001b[0;34m**\u001b[0m\u001b[0mkwargs\u001b[0m\u001b[0;34m)\u001b[0m\u001b[0;34m\u001b[0m\u001b[0;34m\u001b[0m\u001b[0m\n\u001b[0m\u001b[1;32m   1774\u001b[0m \u001b[0;34m\u001b[0m\u001b[0m\n\u001b[1;32m   1775\u001b[0m     \u001b[0;31m# torchrec tests the code consistency with the following code\u001b[0m\u001b[0;34m\u001b[0m\u001b[0;34m\u001b[0m\u001b[0m\n",
            "\u001b[0;32m/usr/local/lib/python3.12/dist-packages/torch/nn/modules/module.py\u001b[0m in \u001b[0;36m_call_impl\u001b[0;34m(self, *args, **kwargs)\u001b[0m\n\u001b[1;32m   1782\u001b[0m                 \u001b[0;32mor\u001b[0m \u001b[0m_global_backward_pre_hooks\u001b[0m \u001b[0;32mor\u001b[0m \u001b[0m_global_backward_hooks\u001b[0m\u001b[0;34m\u001b[0m\u001b[0;34m\u001b[0m\u001b[0m\n\u001b[1;32m   1783\u001b[0m                 or _global_forward_hooks or _global_forward_pre_hooks):\n\u001b[0;32m-> 1784\u001b[0;31m             \u001b[0;32mreturn\u001b[0m \u001b[0mforward_call\u001b[0m\u001b[0;34m(\u001b[0m\u001b[0;34m*\u001b[0m\u001b[0margs\u001b[0m\u001b[0;34m,\u001b[0m \u001b[0;34m**\u001b[0m\u001b[0mkwargs\u001b[0m\u001b[0;34m)\u001b[0m\u001b[0;34m\u001b[0m\u001b[0;34m\u001b[0m\u001b[0m\n\u001b[0m\u001b[1;32m   1785\u001b[0m \u001b[0;34m\u001b[0m\u001b[0m\n\u001b[1;32m   1786\u001b[0m         \u001b[0mresult\u001b[0m \u001b[0;34m=\u001b[0m \u001b[0;32mNone\u001b[0m\u001b[0;34m\u001b[0m\u001b[0;34m\u001b[0m\u001b[0m\n",
            "\u001b[0;32m/usr/local/lib/python3.12/dist-packages/accelerate/hooks.py\u001b[0m in \u001b[0;36mnew_forward\u001b[0;34m(module, *args, **kwargs)\u001b[0m\n\u001b[1;32m    173\u001b[0m                 \u001b[0moutput\u001b[0m \u001b[0;34m=\u001b[0m \u001b[0mmodule\u001b[0m\u001b[0;34m.\u001b[0m\u001b[0m_old_forward\u001b[0m\u001b[0;34m(\u001b[0m\u001b[0;34m*\u001b[0m\u001b[0margs\u001b[0m\u001b[0;34m,\u001b[0m \u001b[0;34m**\u001b[0m\u001b[0mkwargs\u001b[0m\u001b[0;34m)\u001b[0m\u001b[0;34m\u001b[0m\u001b[0;34m\u001b[0m\u001b[0m\n\u001b[1;32m    174\u001b[0m         \u001b[0;32melse\u001b[0m\u001b[0;34m:\u001b[0m\u001b[0;34m\u001b[0m\u001b[0;34m\u001b[0m\u001b[0m\n\u001b[0;32m--> 175\u001b[0;31m             \u001b[0moutput\u001b[0m \u001b[0;34m=\u001b[0m \u001b[0mmodule\u001b[0m\u001b[0;34m.\u001b[0m\u001b[0m_old_forward\u001b[0m\u001b[0;34m(\u001b[0m\u001b[0;34m*\u001b[0m\u001b[0margs\u001b[0m\u001b[0;34m,\u001b[0m \u001b[0;34m**\u001b[0m\u001b[0mkwargs\u001b[0m\u001b[0;34m)\u001b[0m\u001b[0;34m\u001b[0m\u001b[0;34m\u001b[0m\u001b[0m\n\u001b[0m\u001b[1;32m    176\u001b[0m         \u001b[0;32mreturn\u001b[0m \u001b[0mmodule\u001b[0m\u001b[0;34m.\u001b[0m\u001b[0m_hf_hook\u001b[0m\u001b[0;34m.\u001b[0m\u001b[0mpost_forward\u001b[0m\u001b[0;34m(\u001b[0m\u001b[0mmodule\u001b[0m\u001b[0;34m,\u001b[0m \u001b[0moutput\u001b[0m\u001b[0;34m)\u001b[0m\u001b[0;34m\u001b[0m\u001b[0;34m\u001b[0m\u001b[0m\n\u001b[1;32m    177\u001b[0m \u001b[0;34m\u001b[0m\u001b[0m\n",
            "\u001b[0;32m/usr/local/lib/python3.12/dist-packages/transformers/utils/generic.py\u001b[0m in \u001b[0;36mwrapper\u001b[0;34m(self, *args, **kwargs)\u001b[0m\n\u001b[1;32m    916\u001b[0m         \u001b[0;32mif\u001b[0m \u001b[0mreturn_dict_passed\u001b[0m \u001b[0;32mis\u001b[0m \u001b[0;32mnot\u001b[0m \u001b[0;32mNone\u001b[0m\u001b[0;34m:\u001b[0m\u001b[0;34m\u001b[0m\u001b[0;34m\u001b[0m\u001b[0m\n\u001b[1;32m    917\u001b[0m             \u001b[0mreturn_dict\u001b[0m \u001b[0;34m=\u001b[0m \u001b[0mreturn_dict_passed\u001b[0m\u001b[0;34m\u001b[0m\u001b[0;34m\u001b[0m\u001b[0m\n\u001b[0;32m--> 918\u001b[0;31m         \u001b[0moutput\u001b[0m \u001b[0;34m=\u001b[0m \u001b[0mfunc\u001b[0m\u001b[0;34m(\u001b[0m\u001b[0mself\u001b[0m\u001b[0;34m,\u001b[0m \u001b[0;34m*\u001b[0m\u001b[0margs\u001b[0m\u001b[0;34m,\u001b[0m \u001b[0;34m**\u001b[0m\u001b[0mkwargs\u001b[0m\u001b[0;34m)\u001b[0m\u001b[0;34m\u001b[0m\u001b[0;34m\u001b[0m\u001b[0m\n\u001b[0m\u001b[1;32m    919\u001b[0m         \u001b[0;32mif\u001b[0m \u001b[0;32mnot\u001b[0m \u001b[0mreturn_dict\u001b[0m \u001b[0;32mand\u001b[0m \u001b[0;32mnot\u001b[0m \u001b[0misinstance\u001b[0m\u001b[0;34m(\u001b[0m\u001b[0moutput\u001b[0m\u001b[0;34m,\u001b[0m \u001b[0mtuple\u001b[0m\u001b[0;34m)\u001b[0m\u001b[0;34m:\u001b[0m\u001b[0;34m\u001b[0m\u001b[0;34m\u001b[0m\u001b[0m\n\u001b[1;32m    920\u001b[0m             \u001b[0moutput\u001b[0m \u001b[0;34m=\u001b[0m \u001b[0moutput\u001b[0m\u001b[0;34m.\u001b[0m\u001b[0mto_tuple\u001b[0m\u001b[0;34m(\u001b[0m\u001b[0;34m)\u001b[0m\u001b[0;34m\u001b[0m\u001b[0;34m\u001b[0m\u001b[0m\n",
            "\u001b[0;32m/usr/local/lib/python3.12/dist-packages/transformers/models/gpt_oss/modeling_gpt_oss.py\u001b[0m in \u001b[0;36mforward\u001b[0;34m(self, input_ids, attention_mask, position_ids, past_key_values, inputs_embeds, labels, use_cache, output_router_logits, cache_position, logits_to_keep, **kwargs)\u001b[0m\n\u001b[1;32m    685\u001b[0m         \u001b[0mloss\u001b[0m \u001b[0;34m=\u001b[0m \u001b[0;32mNone\u001b[0m\u001b[0;34m\u001b[0m\u001b[0;34m\u001b[0m\u001b[0m\n\u001b[1;32m    686\u001b[0m         \u001b[0;32mif\u001b[0m \u001b[0mlabels\u001b[0m \u001b[0;32mis\u001b[0m \u001b[0;32mnot\u001b[0m \u001b[0;32mNone\u001b[0m\u001b[0;34m:\u001b[0m\u001b[0;34m\u001b[0m\u001b[0;34m\u001b[0m\u001b[0m\n\u001b[0;32m--> 687\u001b[0;31m             \u001b[0mloss\u001b[0m \u001b[0;34m=\u001b[0m \u001b[0mself\u001b[0m\u001b[0;34m.\u001b[0m\u001b[0mloss_function\u001b[0m\u001b[0;34m(\u001b[0m\u001b[0mlogits\u001b[0m\u001b[0;34m,\u001b[0m \u001b[0mlabels\u001b[0m\u001b[0;34m,\u001b[0m \u001b[0mself\u001b[0m\u001b[0;34m.\u001b[0m\u001b[0mvocab_size\u001b[0m\u001b[0;34m,\u001b[0m \u001b[0;34m**\u001b[0m\u001b[0mkwargs\u001b[0m\u001b[0;34m)\u001b[0m\u001b[0;34m\u001b[0m\u001b[0;34m\u001b[0m\u001b[0m\n\u001b[0m\u001b[1;32m    688\u001b[0m \u001b[0;34m\u001b[0m\u001b[0m\n\u001b[1;32m    689\u001b[0m         \u001b[0maux_loss\u001b[0m \u001b[0;34m=\u001b[0m \u001b[0;32mNone\u001b[0m\u001b[0;34m\u001b[0m\u001b[0;34m\u001b[0m\u001b[0m\n",
            "\u001b[0;32m/usr/local/lib/python3.12/dist-packages/transformers/loss/loss_utils.py\u001b[0m in \u001b[0;36mForCausalLMLoss\u001b[0;34m(logits, labels, vocab_size, num_items_in_batch, ignore_index, shift_labels, **kwargs)\u001b[0m\n\u001b[1;32m     53\u001b[0m ) -> torch.Tensor:\n\u001b[1;32m     54\u001b[0m     \u001b[0;31m# Upcast to float if we need to compute the loss to avoid potential precision issues\u001b[0m\u001b[0;34m\u001b[0m\u001b[0;34m\u001b[0m\u001b[0m\n\u001b[0;32m---> 55\u001b[0;31m     \u001b[0mlogits\u001b[0m \u001b[0;34m=\u001b[0m \u001b[0mlogits\u001b[0m\u001b[0;34m.\u001b[0m\u001b[0mfloat\u001b[0m\u001b[0;34m(\u001b[0m\u001b[0;34m)\u001b[0m\u001b[0;34m\u001b[0m\u001b[0;34m\u001b[0m\u001b[0m\n\u001b[0m\u001b[1;32m     56\u001b[0m \u001b[0;34m\u001b[0m\u001b[0m\n\u001b[1;32m     57\u001b[0m     \u001b[0;32mif\u001b[0m \u001b[0mshift_labels\u001b[0m \u001b[0;32mis\u001b[0m \u001b[0;32mNone\u001b[0m\u001b[0;34m:\u001b[0m\u001b[0;34m\u001b[0m\u001b[0;34m\u001b[0m\u001b[0m\n",
            "\u001b[0;31mOutOfMemoryError\u001b[0m: CUDA out of memory. Tried to allocate 2.85 GiB. GPU 0 has a total capacity of 39.56 GiB of which 2.55 GiB is free. Process 179908 has 37.00 GiB memory in use. Of the allocated memory 36.40 GiB is allocated by PyTorch, and 102.82 MiB is reserved by PyTorch but unallocated. If reserved but unallocated memory is large try setting PYTORCH_CUDA_ALLOC_CONF=expandable_segments:True to avoid fragmentation.  See documentation for Memory Management  (https://pytorch.org/docs/stable/notes/cuda.html#environment-variables)"
          ]
        }
      ]
    },
    {
      "cell_type": "markdown",
      "source": [
        "### load curebench val dataset"
      ],
      "metadata": {
        "id": "j5E-XOoOIZvk"
      }
    },
    {
      "cell_type": "code",
      "source": [
        "import pandas as pd\n",
        "from typing import Dict, List\n",
        "from torch.utils.data import DataLoader\n",
        "from dataset_utils import build_dataset\n",
        "from core.eval_framework import GPTOSS20BModel\n",
        "from openai_harmony import load_harmony_encoding"
      ],
      "metadata": {
        "id": "eQggp7Tyy9em"
      },
      "execution_count": null,
      "outputs": []
    },
    {
      "cell_type": "code",
      "source": [
        "def load_dataset_by_config(config_path):\n",
        "  # load config file to get dataset info\n",
        "  config = json.load(open(config_path, 'r')) if config_path else {}\n",
        "  if 'dataset' in config:\n",
        "      dataset_config = config['dataset']\n",
        "      dataset_name = dataset_config.get('dataset_name', 'treatment')\n",
        "  print(f\"\\nconfig file: {config_path}\\ncontents:\\n{dataset_config}\")\n",
        "  dataset_path = dataset_config.get(\"dataset_path\")\n",
        "\n",
        "  # build dataset\n",
        "  dataset = build_dataset(\n",
        "        dataset_config.get(\"dataset_path\"),\n",
        "    )\n",
        "  dataloader = DataLoader(dataset, batch_size=1, shuffle=False)\n",
        "  dataset_list = []\n",
        "\n",
        "  for batch in dataloader:\n",
        "      question_type = batch[0][0]\n",
        "\n",
        "      if question_type == \"multi_choice\":\n",
        "          dataset_list.append({\n",
        "              \"question_type\": batch[0][0],\n",
        "              \"id\": batch[1][0],\n",
        "              \"question\": batch[2][0],\n",
        "              \"answer\": batch[3][0],\n",
        "          })\n",
        "      elif question_type == \"open_ended_multi_choice\":\n",
        "          dataset_list.append({\n",
        "              \"question_type\": batch[0][0],\n",
        "              \"id\": batch[1][0],\n",
        "              \"question\": batch[2][0],\n",
        "              \"answer\": batch[3][0],\n",
        "              \"meta_question\": batch[4][0],\n",
        "          })\n",
        "      elif question_type == \"open_ended\":\n",
        "          dataset_list.append({\n",
        "              \"question_type\": batch[0][0],\n",
        "              \"id\": batch[1][0],\n",
        "              \"question\": batch[2][0],\n",
        "              \"answer\": batch[3][0],\n",
        "          })\n",
        "  return dataset_list"
      ],
      "metadata": {
        "id": "P9qxYT2WvrDM"
      },
      "execution_count": null,
      "outputs": []
    },
    {
      "cell_type": "code",
      "source": [
        "val_data_config_path= \"metadata_config_val.json\"\n",
        "val_data_list = load_dataset_by_config(val_data_config_path)"
      ],
      "metadata": {
        "id": "UmI4azpfyw8_"
      },
      "execution_count": null,
      "outputs": []
    },
    {
      "cell_type": "code",
      "source": [
        "dataset = val_data_list[:10]"
      ],
      "metadata": {
        "id": "HTQWJ4Jyy_x4"
      },
      "execution_count": null,
      "outputs": []
    },
    {
      "cell_type": "code",
      "source": [
        "dataset"
      ],
      "metadata": {
        "id": "BbFxmOdqzfml"
      },
      "execution_count": null,
      "outputs": []
    },
    {
      "cell_type": "code",
      "source": [
        "example = dataset[3]\n",
        "print(example)"
      ],
      "metadata": {
        "id": "IEWvl_g5zhkv"
      },
      "execution_count": null,
      "outputs": []
    },
    {
      "cell_type": "code",
      "source": [
        "question = example[\"question\"]\n",
        "question_type = example[\"question_type\"]"
      ],
      "metadata": {
        "id": "ESBzddyLz0f2"
      },
      "execution_count": null,
      "outputs": []
    },
    {
      "cell_type": "code",
      "source": [
        "# Format prompt\n",
        "if question_type == \"multi_choice\":\n",
        "    prompt = f\"The following is a multiple choice question about medicine. Answer with a valid json containing the letter corresponding to the correct answer.\\n\\nQuestion: {question}\\n\\nAnswer:\"\n",
        "elif question_type == \"open_ended_multi_choice\" or question_type == \"open_ended\":\n",
        "    prompt = f\"The following is an open-ended question about medicine. Provide a comprehensive answer.\\n\\nQuestion: {question}\\n\\nAnswer:\""
      ],
      "metadata": {
        "id": "wRD2Ls3B0Ofm"
      },
      "execution_count": null,
      "outputs": []
    },
    {
      "cell_type": "code",
      "source": [
        "print(f\"prompt: {prompt}\")"
      ],
      "metadata": {
        "id": "ixUNZP7V0V1M"
      },
      "execution_count": null,
      "outputs": []
    }
  ]
}