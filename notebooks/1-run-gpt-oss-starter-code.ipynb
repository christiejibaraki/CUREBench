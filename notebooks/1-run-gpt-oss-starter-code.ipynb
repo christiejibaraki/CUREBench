{
  "nbformat": 4,
  "nbformat_minor": 0,
  "metadata": {
    "colab": {
      "provenance": [],
      "authorship_tag": "ABX9TyOJjayyPeI1dAtamzYvtPDs",
      "include_colab_link": true
    },
    "kernelspec": {
      "name": "python3",
      "display_name": "Python 3"
    },
    "language_info": {
      "name": "python"
    }
  },
  "cells": [
    {
      "cell_type": "markdown",
      "metadata": {
        "id": "view-in-github",
        "colab_type": "text"
      },
      "source": [
        "<a href=\"https://colab.research.google.com/github/christiejibaraki/CUREBench/blob/main/notebooks/1_run_starter_code.ipynb\" target=\"_parent\"><img src=\"https://colab.research.google.com/assets/colab-badge.svg\" alt=\"Open In Colab\"/></a>"
      ]
    },
    {
      "cell_type": "markdown",
      "source": [
        "- OpenAI GPT-OSS-20B open-weight reasnoing model trained with Harmony response format\n",
        "  - 20.9B params, 3.6B active per token\n",
        "  - Mixture-of-Experts (MoE) transformer\n",
        "  - `bitsandbytes` enables 8-bit quantization so GPT-OSS-20B can run on 16GB GPU"
      ],
      "metadata": {
        "id": "heZIt_VzT0JB"
      }
    },
    {
      "cell_type": "code",
      "source": [],
      "metadata": {
        "id": "tBz3IkJsT2Ee"
      },
      "execution_count": null,
      "outputs": []
    }
  ]
}
