{
  "nbformat": 4,
  "nbformat_minor": 0,
  "metadata": {
    "colab": {
      "provenance": [],
      "authorship_tag": "ABX9TyOdtw6E27aO6ur7k4TpHP3C",
      "include_colab_link": true
    },
    "kernelspec": {
      "name": "python3",
      "display_name": "Python 3"
    },
    "language_info": {
      "name": "python"
    }
  },
  "cells": [
    {
      "cell_type": "markdown",
      "metadata": {
        "id": "view-in-github",
        "colab_type": "text"
      },
      "source": [
        "<a href=\"https://colab.research.google.com/github/christiejibaraki/CUREBench/blob/main/notebooks/1-inspect_datasets.ipynb\" target=\"_parent\"><img src=\"https://colab.research.google.com/assets/colab-badge.svg\" alt=\"Open In Colab\"/></a>"
      ]
    },
    {
      "cell_type": "markdown",
      "source": [
        "# Inspect provided datasets\n",
        "- curebench_testset_phase1.jsonl\n",
        "- curebench_valset_pharse1.jsonl"
      ],
      "metadata": {
        "id": "heZIt_VzT0JB"
      }
    },
    {
      "cell_type": "markdown",
      "source": [
        "### basic setup\n",
        "- clone repo\n",
        "- DO NOT BUILD THE ENVIRONMENT FROM `requirements.txt` it will take too long ❌"
      ],
      "metadata": {
        "id": "lnIlkcI0t-vw"
      }
    },
    {
      "cell_type": "code",
      "source": [
        "!git clone https://github.com/christiejibaraki/CUREBench.git"
      ],
      "metadata": {
        "id": "is3uyhuzucO6",
        "outputId": "4794c4cb-2247-447a-e719-8ca6583fcb74",
        "colab": {
          "base_uri": "https://localhost:8080/"
        }
      },
      "execution_count": 2,
      "outputs": [
        {
          "output_type": "stream",
          "name": "stdout",
          "text": [
            "Cloning into 'CUREBench'...\n",
            "remote: Enumerating objects: 133, done.\u001b[K\n",
            "remote: Counting objects: 100% (113/113), done.\u001b[K\n",
            "remote: Compressing objects: 100% (96/96), done.\u001b[K\n",
            "remote: Total 133 (delta 58), reused 36 (delta 16), pack-reused 20 (from 1)\u001b[K\n",
            "Receiving objects: 100% (133/133), 2.84 MiB | 14.63 MiB/s, done.\n",
            "Resolving deltas: 100% (58/58), done.\n"
          ]
        }
      ]
    },
    {
      "cell_type": "code",
      "source": [
        "%cd CUREBench"
      ],
      "metadata": {
        "id": "DTSIe-8vud-S",
        "outputId": "41e329a0-ffb0-4e8e-db08-836374f1c3c0",
        "colab": {
          "base_uri": "https://localhost:8080/"
        }
      },
      "execution_count": 3,
      "outputs": [
        {
          "output_type": "stream",
          "name": "stdout",
          "text": [
            "/content/CUREBench\n"
          ]
        }
      ]
    },
    {
      "cell_type": "code",
      "source": [
        "import os\n",
        "import json\n",
        "from typing import Dict, List\n",
        "from torch.utils.data import DataLoader\n",
        "from dataset_utils import build_dataset\n",
        "from core.eval_framework import load_and_merge_config, create_metadata_parser"
      ],
      "metadata": {
        "id": "tBz3IkJsT2Ee"
      },
      "execution_count": 13,
      "outputs": []
    },
    {
      "cell_type": "code",
      "source": [
        "# load config file to get dataset info\n",
        "config_path= \"metadata_config_test.json\"\n",
        "config = json.load(open(config_path, 'r')) if config_path else {}\n",
        "if 'dataset' in config:\n",
        "    dataset_config = config['dataset']\n",
        "    dataset_name = dataset_config.get('dataset_name', 'treatment')\n",
        "print(f\"config file: {config_path}\\ncontents:\\n{dataset_config}\")"
      ],
      "metadata": {
        "id": "g1yuIRDJutw3",
        "outputId": "644ae5a0-4024-4f92-d6a0-51cd814fb66c",
        "colab": {
          "base_uri": "https://localhost:8080/"
        }
      },
      "execution_count": 16,
      "outputs": [
        {
          "output_type": "stream",
          "name": "stdout",
          "text": [
            "config file: metadata_config_test.json\n",
            "contents:\n",
            "{'dataset_name': 'cure_bench_phase1_test', 'dataset_path': 'resources/curebench_testset_phase1.jsonl', 'description': 'CureBench 2025 test questions'}\n"
          ]
        }
      ]
    },
    {
      "cell_type": "code",
      "source": [
        "dataset_path = dataset_config.get(\"dataset_path\")\n",
        "print(f\"dataset_path: {dataset_path}\")\n"
      ],
      "metadata": {
        "id": "SseO24jRvxUH",
        "outputId": "800ef40e-ed3c-4764-8299-24c84bb436f5",
        "colab": {
          "base_uri": "https://localhost:8080/"
        }
      },
      "execution_count": 18,
      "outputs": [
        {
          "output_type": "stream",
          "name": "stdout",
          "text": [
            "dataset_path: resources/curebench_testset_phase1.jsonl\n"
          ]
        }
      ]
    },
    {
      "cell_type": "code",
      "source": [
        "dataset = build_dataset(\n",
        "        dataset_config.get(\"dataset_path\"),\n",
        "    )"
      ],
      "metadata": {
        "id": "PJ0CjKOnxYha",
        "outputId": "8b7d64dd-085f-42ce-cd58-957068bf12e3",
        "colab": {
          "base_uri": "https://localhost:8080/"
        }
      },
      "execution_count": 19,
      "outputs": [
        {
          "output_type": "stream",
          "name": "stdout",
          "text": [
            "dataset_path: resources/curebench_testset_phase1.jsonl\n",
            "CureBenchDataset initialized with 2079 examples\n"
          ]
        }
      ]
    },
    {
      "cell_type": "code",
      "source": [
        "dataloader = DataLoader(dataset, batch_size=1, shuffle=False)\n",
        "dataset_list = []\n",
        "\n",
        "for batch in dataloader:\n",
        "    question_type = batch[0][0]\n",
        "\n",
        "    if question_type == \"multi_choice\":\n",
        "        dataset_list.append({\n",
        "            \"question_type\": batch[0][0],\n",
        "            \"id\": batch[1][0],\n",
        "            \"question\": batch[2][0],\n",
        "            \"answer\": batch[3][0],\n",
        "        })\n",
        "    elif question_type == \"open_ended_multi_choice\":\n",
        "        dataset_list.append({\n",
        "            \"question_type\": batch[0][0],\n",
        "            \"id\": batch[1][0],\n",
        "            \"question\": batch[2][0],\n",
        "            \"answer\": batch[3][0],\n",
        "            \"meta_question\": batch[4][0],\n",
        "        })\n",
        "    elif question_type == \"open_ended\":\n",
        "        dataset_list.append({\n",
        "            \"question_type\": batch[0][0],\n",
        "            \"id\": batch[1][0],\n",
        "            \"question\": batch[2][0],\n",
        "            \"answer\": batch[3][0],\n",
        "        })"
      ],
      "metadata": {
        "id": "yA0ivMUpxenM"
      },
      "execution_count": 20,
      "outputs": []
    },
    {
      "cell_type": "code",
      "source": [
        "print(dataset_list[0])"
      ],
      "metadata": {
        "id": "XKZuviDIyE3w",
        "outputId": "11def17f-264b-4a7f-910b-12e2d4456f93",
        "colab": {
          "base_uri": "https://localhost:8080/"
        }
      },
      "execution_count": 22,
      "outputs": [
        {
          "output_type": "stream",
          "name": "stdout",
          "text": [
            "{'question_type': 'open_ended_multi_choice', 'id': 'qHBAJ2T5cs5U', 'question': 'A 10-year-old child diagnosed with juvenile rheumatoid arthritis (JRA) requires treatment. Genetic testing reveals the child is a poor CYP2C9 metabolizer. Which drug is the most appropriate for this patient?', 'answer': '', 'meta_question': \"The following is a multiple choice question about medicine and the agent's open-ended answer to the question. Convert the agent's answer to the final answer format using the corresponding option label, e.g., 'A', 'B', 'C', 'D', 'E' or 'None'. \\n\\nQuestion: A 10-year-old child diagnosed with juvenile rheumatoid arthritis (JRA) requires treatment. Genetic testing reveals the child is a poor CYP2C9 metabolizer. Which drug is the most appropriate for this patient?\\nA: Celecoxib 200 mg\\nB: First Aid Direct Chewable Aspirin\\nC: Florexa\\nD: None of the above\\n\\n\"}\n"
          ]
        }
      ]
    }
  ]
}